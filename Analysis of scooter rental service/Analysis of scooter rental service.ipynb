{
 "cells": [
  {
   "cell_type": "markdown",
   "id": "cf766589",
   "metadata": {},
   "source": [
    "# Исследование поездок на самокате пользователей из разных городов\n",
    "\n",
    "Нам передали данные сервиса аренды самокатов GoFast — информацию о пользователях из нескольких городов, их поездках, ниличии подписки. Необходимо проанализировать полученные данные и проверить гипотезы, которые могут помочь бизнесу вырасти. Нужно проанализировать данные о пользователях с подпиской и без, и выяснить, действительно ли пользователи с платной подпиской приносят бизнесу более высокую прибыль.\n",
    "\n",
    "Для анализа у нас есть три набора данных: о пользователях, их поездках и подписках."
   ]
  },
  {
   "cell_type": "markdown",
   "id": "6b985c2f",
   "metadata": {},
   "source": [
    "Для выполнения этой задачи в данном проекте нужно выполнить несколько шагов: \n",
    "1. необходимо проанализировать датафреймы, изучить общую информацию и найти проблемные места в данных;\n",
    "2. произвести предобработку данных -  устранить найденные в них ошибки и неточности;\n",
    "3. произвести исследовательский анализ - проанализировать основные факторы, котрые имеют влияние на месячную выручку сервиса, и как они отличаются для пользователей с платной подпиской и без;\n",
    "4. создать новые датафреймы, которые помогут нам в решении поставленной задачи;\n",
    "5. рассчитать среднемесячную выручку по месяцам;\n",
    "6. проверить выдвинутые гипотезы;\n",
    "7. помочь отделу маркетинга с решением задач для продвижения сервиса; \n",
    "8. сделать выводы по полученным результатам."
   ]
  },
  {
   "cell_type": "code",
   "execution_count": 1,
   "id": "72576667",
   "metadata": {},
   "outputs": [],
   "source": [
    "import pandas as pd\n",
    "import numpy as np\n",
    "import matplotlib.pyplot as plt\n",
    "from scipy import stats as st\n",
    "from scipy.stats import binom\n",
    "from math import sqrt"
   ]
  },
  {
   "cell_type": "markdown",
   "id": "c42cbe00",
   "metadata": {},
   "source": [
    "#### Шаг 2. Предобработка данных"
   ]
  },
  {
   "cell_type": "code",
   "execution_count": 2,
   "id": "eff9f206",
   "metadata": {
    "scrolled": true
   },
   "outputs": [
    {
     "data": {
      "text/html": [
       "<div>\n",
       "<style scoped>\n",
       "    .dataframe tbody tr th:only-of-type {\n",
       "        vertical-align: middle;\n",
       "    }\n",
       "\n",
       "    .dataframe tbody tr th {\n",
       "        vertical-align: top;\n",
       "    }\n",
       "\n",
       "    .dataframe thead th {\n",
       "        text-align: right;\n",
       "    }\n",
       "</style>\n",
       "<table border=\"1\" class=\"dataframe\">\n",
       "  <thead>\n",
       "    <tr style=\"text-align: right;\">\n",
       "      <th></th>\n",
       "      <th>user_id</th>\n",
       "      <th>name</th>\n",
       "      <th>age</th>\n",
       "      <th>city</th>\n",
       "      <th>subscription_type</th>\n",
       "    </tr>\n",
       "  </thead>\n",
       "  <tbody>\n",
       "    <tr>\n",
       "      <th>0</th>\n",
       "      <td>1</td>\n",
       "      <td>Кира</td>\n",
       "      <td>22</td>\n",
       "      <td>Тюмень</td>\n",
       "      <td>ultra</td>\n",
       "    </tr>\n",
       "    <tr>\n",
       "      <th>1</th>\n",
       "      <td>2</td>\n",
       "      <td>Станислав</td>\n",
       "      <td>31</td>\n",
       "      <td>Омск</td>\n",
       "      <td>ultra</td>\n",
       "    </tr>\n",
       "    <tr>\n",
       "      <th>2</th>\n",
       "      <td>3</td>\n",
       "      <td>Алексей</td>\n",
       "      <td>20</td>\n",
       "      <td>Москва</td>\n",
       "      <td>ultra</td>\n",
       "    </tr>\n",
       "    <tr>\n",
       "      <th>3</th>\n",
       "      <td>4</td>\n",
       "      <td>Константин</td>\n",
       "      <td>26</td>\n",
       "      <td>Ростов-на-Дону</td>\n",
       "      <td>ultra</td>\n",
       "    </tr>\n",
       "    <tr>\n",
       "      <th>4</th>\n",
       "      <td>5</td>\n",
       "      <td>Адель</td>\n",
       "      <td>28</td>\n",
       "      <td>Омск</td>\n",
       "      <td>ultra</td>\n",
       "    </tr>\n",
       "  </tbody>\n",
       "</table>\n",
       "</div>"
      ],
      "text/plain": [
       "   user_id        name  age            city subscription_type\n",
       "0        1        Кира   22          Тюмень             ultra\n",
       "1        2   Станислав   31            Омск             ultra\n",
       "2        3     Алексей   20          Москва             ultra\n",
       "3        4  Константин   26  Ростов-на-Дону             ultra\n",
       "4        5       Адель   28            Омск             ultra"
      ]
     },
     "metadata": {},
     "output_type": "display_data"
    },
    {
     "data": {
      "text/html": [
       "<div>\n",
       "<style scoped>\n",
       "    .dataframe tbody tr th:only-of-type {\n",
       "        vertical-align: middle;\n",
       "    }\n",
       "\n",
       "    .dataframe tbody tr th {\n",
       "        vertical-align: top;\n",
       "    }\n",
       "\n",
       "    .dataframe thead th {\n",
       "        text-align: right;\n",
       "    }\n",
       "</style>\n",
       "<table border=\"1\" class=\"dataframe\">\n",
       "  <thead>\n",
       "    <tr style=\"text-align: right;\">\n",
       "      <th></th>\n",
       "      <th>user_id</th>\n",
       "      <th>distance</th>\n",
       "      <th>duration</th>\n",
       "      <th>date</th>\n",
       "    </tr>\n",
       "  </thead>\n",
       "  <tbody>\n",
       "    <tr>\n",
       "      <th>0</th>\n",
       "      <td>1</td>\n",
       "      <td>4409.919140</td>\n",
       "      <td>25.599769</td>\n",
       "      <td>2021-01-01</td>\n",
       "    </tr>\n",
       "    <tr>\n",
       "      <th>1</th>\n",
       "      <td>1</td>\n",
       "      <td>2617.592153</td>\n",
       "      <td>15.816871</td>\n",
       "      <td>2021-01-18</td>\n",
       "    </tr>\n",
       "    <tr>\n",
       "      <th>2</th>\n",
       "      <td>1</td>\n",
       "      <td>754.159807</td>\n",
       "      <td>6.232113</td>\n",
       "      <td>2021-04-20</td>\n",
       "    </tr>\n",
       "    <tr>\n",
       "      <th>3</th>\n",
       "      <td>1</td>\n",
       "      <td>2694.783254</td>\n",
       "      <td>18.511000</td>\n",
       "      <td>2021-08-11</td>\n",
       "    </tr>\n",
       "    <tr>\n",
       "      <th>4</th>\n",
       "      <td>1</td>\n",
       "      <td>4028.687306</td>\n",
       "      <td>26.265803</td>\n",
       "      <td>2021-08-28</td>\n",
       "    </tr>\n",
       "  </tbody>\n",
       "</table>\n",
       "</div>"
      ],
      "text/plain": [
       "   user_id     distance   duration        date\n",
       "0        1  4409.919140  25.599769  2021-01-01\n",
       "1        1  2617.592153  15.816871  2021-01-18\n",
       "2        1   754.159807   6.232113  2021-04-20\n",
       "3        1  2694.783254  18.511000  2021-08-11\n",
       "4        1  4028.687306  26.265803  2021-08-28"
      ]
     },
     "metadata": {},
     "output_type": "display_data"
    },
    {
     "data": {
      "text/html": [
       "<div>\n",
       "<style scoped>\n",
       "    .dataframe tbody tr th:only-of-type {\n",
       "        vertical-align: middle;\n",
       "    }\n",
       "\n",
       "    .dataframe tbody tr th {\n",
       "        vertical-align: top;\n",
       "    }\n",
       "\n",
       "    .dataframe thead th {\n",
       "        text-align: right;\n",
       "    }\n",
       "</style>\n",
       "<table border=\"1\" class=\"dataframe\">\n",
       "  <thead>\n",
       "    <tr style=\"text-align: right;\">\n",
       "      <th></th>\n",
       "      <th>subscription_type</th>\n",
       "      <th>minute_price</th>\n",
       "      <th>start_ride_price</th>\n",
       "      <th>subscription_fee</th>\n",
       "    </tr>\n",
       "  </thead>\n",
       "  <tbody>\n",
       "    <tr>\n",
       "      <th>0</th>\n",
       "      <td>free</td>\n",
       "      <td>8</td>\n",
       "      <td>50</td>\n",
       "      <td>0</td>\n",
       "    </tr>\n",
       "    <tr>\n",
       "      <th>1</th>\n",
       "      <td>ultra</td>\n",
       "      <td>6</td>\n",
       "      <td>0</td>\n",
       "      <td>199</td>\n",
       "    </tr>\n",
       "  </tbody>\n",
       "</table>\n",
       "</div>"
      ],
      "text/plain": [
       "  subscription_type  minute_price  start_ride_price  subscription_fee\n",
       "0              free             8                50                 0\n",
       "1             ultra             6                 0               199"
      ]
     },
     "metadata": {},
     "output_type": "display_data"
    }
   ],
   "source": [
    "users = pd.read_csv('/datasets/users_go.csv')\n",
    "display(users.head())\n",
    "rides = pd.read_csv('/datasets/rides_go.csv')\n",
    "display(rides.head())\n",
    "subscriptions = pd.read_csv('/datasets/subscriptions_go.csv')\n",
    "display(subscriptions.head())"
   ]
  },
  {
   "cell_type": "code",
   "execution_count": 3,
   "id": "bdd6049f",
   "metadata": {},
   "outputs": [
    {
     "name": "stdout",
     "output_type": "stream",
     "text": [
      "<class 'pandas.core.frame.DataFrame'>\n",
      "RangeIndex: 1565 entries, 0 to 1564\n",
      "Data columns (total 5 columns):\n",
      " #   Column             Non-Null Count  Dtype \n",
      "---  ------             --------------  ----- \n",
      " 0   user_id            1565 non-null   int64 \n",
      " 1   name               1565 non-null   object\n",
      " 2   age                1565 non-null   int64 \n",
      " 3   city               1565 non-null   object\n",
      " 4   subscription_type  1565 non-null   object\n",
      "dtypes: int64(2), object(3)\n",
      "memory usage: 61.3+ KB\n"
     ]
    }
   ],
   "source": [
    "users.info()"
   ]
  },
  {
   "cell_type": "code",
   "execution_count": 4,
   "id": "8fe2893f",
   "metadata": {},
   "outputs": [
    {
     "name": "stdout",
     "output_type": "stream",
     "text": [
      "<class 'pandas.core.frame.DataFrame'>\n",
      "RangeIndex: 18068 entries, 0 to 18067\n",
      "Data columns (total 4 columns):\n",
      " #   Column    Non-Null Count  Dtype  \n",
      "---  ------    --------------  -----  \n",
      " 0   user_id   18068 non-null  int64  \n",
      " 1   distance  18068 non-null  float64\n",
      " 2   duration  18068 non-null  float64\n",
      " 3   date      18068 non-null  object \n",
      "dtypes: float64(2), int64(1), object(1)\n",
      "memory usage: 564.8+ KB\n"
     ]
    }
   ],
   "source": [
    "rides.info()"
   ]
  },
  {
   "cell_type": "code",
   "execution_count": 5,
   "id": "6adef377",
   "metadata": {},
   "outputs": [
    {
     "name": "stdout",
     "output_type": "stream",
     "text": [
      "<class 'pandas.core.frame.DataFrame'>\n",
      "RangeIndex: 2 entries, 0 to 1\n",
      "Data columns (total 4 columns):\n",
      " #   Column             Non-Null Count  Dtype \n",
      "---  ------             --------------  ----- \n",
      " 0   subscription_type  2 non-null      object\n",
      " 1   minute_price       2 non-null      int64 \n",
      " 2   start_ride_price   2 non-null      int64 \n",
      " 3   subscription_fee   2 non-null      int64 \n",
      "dtypes: int64(3), object(1)\n",
      "memory usage: 192.0+ bytes\n"
     ]
    }
   ],
   "source": [
    "subscriptions.info()"
   ]
  },
  {
   "cell_type": "code",
   "execution_count": 6,
   "id": "855ecc82",
   "metadata": {},
   "outputs": [
    {
     "name": "stdout",
     "output_type": "stream",
     "text": [
      "Количество явных дубликатов в датафрейме users: 31\n",
      "Количество явных дубликатов в датафрейме rides: 0\n",
      "Количество явных дубликатов в датафрейме subscriptions: 0\n"
     ]
    }
   ],
   "source": [
    "#найдём количество дубликатов\n",
    "dataframes = {'users': users, 'rides': rides, 'subscriptions': subscriptions}\n",
    "\n",
    "for name, df in dataframes.items():\n",
    "    print(f'Количество явных дубликатов в датафрейме {name}:', df.duplicated().sum())\n",
    "#print ('Количество явных дубликатов в первом датафрейме:', users.duplicated().sum())\n",
    "#print('Количество явных дубликатов во втором датафрейме:', rides.duplicated().sum())\n",
    "#print('Количество явных дубликатов в третьем датафрейме:', subscriptions.duplicated().sum())"
   ]
  },
  {
   "cell_type": "code",
   "execution_count": null,
   "id": "bb1976bc",
   "metadata": {},
   "outputs": [],
   "source": []
  },
  {
   "cell_type": "code",
   "execution_count": 7,
   "id": "cb9385e8",
   "metadata": {},
   "outputs": [],
   "source": [
    "#plt.figure(figsize=(10, 5))\n",
    "#subscriptions.hist();"
   ]
  },
  {
   "cell_type": "code",
   "execution_count": null,
   "id": "9f3dbe1e",
   "metadata": {},
   "outputs": [],
   "source": []
  },
  {
   "cell_type": "markdown",
   "id": "d0d8879b",
   "metadata": {},
   "source": [
    "# ***Вывод:***"
   ]
  },
  {
   "cell_type": "markdown",
   "id": "f8c2b378",
   "metadata": {},
   "source": [
    "В первом датафрейме **users** представлены данные о пользователях: их идентификационном номере, имени, возрасте, городе и типе подписки.\n",
    "В датафрейме 1565 строк и 5 столбцов, ни в одном столбце нет пропущенных значений. В датефрейме присутствует 31 явный дубликат.\n",
    "\n",
    "Во втром датафрейме **rides** представлена информация о поездках: идентификационный номер пользователя, расстояние, длительность поездок и их даты.\n",
    "В датефрейме 18068 строк, 4 столбца. Ни в одном из столбцов нет пропущенных значений. Явных дубликатов нет. При анализе гистограммы можно сказать, что в столбце 'duration' могут быть аномальные значения.\n",
    "\n",
    "В третьем датафрейме **subscriptions** содержится информация о подписке: есть ли она у пользователя или нет, сколько стоит подписка, сколько стоит минута поездки с подпиской и без, и сколько стоит начало поезки с подпиской и без. \n",
    "В датафрейме 2 строки и 4 столбца. Пропусков и явных дубликатов в датафрейме нет."
   ]
  },
  {
   "cell_type": "markdown",
   "id": "e95ebca7",
   "metadata": {},
   "source": [
    "#### Шаг 2. Предобработка данных"
   ]
  },
  {
   "cell_type": "markdown",
   "id": "79ac5555",
   "metadata": {},
   "source": [
    "##### Приведём данные к правильному типу и округлим значения"
   ]
  },
  {
   "cell_type": "code",
   "execution_count": 8,
   "id": "af6d202c",
   "metadata": {},
   "outputs": [],
   "source": [
    "# приведём столбец к правильному типу\n",
    "rides['date'] = pd.to_datetime(rides['date'], format='%Y-%m-%dT%H:%M:%S')"
   ]
  },
  {
   "cell_type": "code",
   "execution_count": 9,
   "id": "d2a7c6df",
   "metadata": {},
   "outputs": [],
   "source": [
    "rides['distance'] = rides['distance'].round(2)\n",
    "rides['duration'] = rides['duration'].round(2)\n",
    "#rides['duration'] = np.ceil(rides['duration'])"
   ]
  },
  {
   "cell_type": "code",
   "execution_count": 10,
   "id": "538a535e",
   "metadata": {},
   "outputs": [],
   "source": [
    "# добавим новый столбец в датафрейм rides\n",
    "rides['month'] = rides['date'].dt.month"
   ]
  },
  {
   "cell_type": "code",
   "execution_count": null,
   "id": "20a2de74",
   "metadata": {},
   "outputs": [],
   "source": []
  },
  {
   "cell_type": "markdown",
   "id": "4d8fb134",
   "metadata": {},
   "source": [
    "##### Работа с дубликатами"
   ]
  },
  {
   "cell_type": "markdown",
   "id": "3cb5f80d",
   "metadata": {},
   "source": [
    "Ранее мы выяснили, что в датафрейме users у нас присутствует 31 дубликат.  \n",
    "С помощью метода drop_duplicates() избавимся от явных дубликатов в датафрейме."
   ]
  },
  {
   "cell_type": "code",
   "execution_count": 11,
   "id": "f390ec07",
   "metadata": {},
   "outputs": [],
   "source": [
    "users = users.drop_duplicates()"
   ]
  },
  {
   "cell_type": "code",
   "execution_count": 12,
   "id": "71f48d13",
   "metadata": {},
   "outputs": [
    {
     "name": "stdout",
     "output_type": "stream",
     "text": [
      "<class 'pandas.core.frame.DataFrame'>\n",
      "Int64Index: 1534 entries, 0 to 1533\n",
      "Data columns (total 5 columns):\n",
      " #   Column             Non-Null Count  Dtype \n",
      "---  ------             --------------  ----- \n",
      " 0   user_id            1534 non-null   int64 \n",
      " 1   name               1534 non-null   object\n",
      " 2   age                1534 non-null   int64 \n",
      " 3   city               1534 non-null   object\n",
      " 4   subscription_type  1534 non-null   object\n",
      "dtypes: int64(2), object(3)\n",
      "memory usage: 71.9+ KB\n"
     ]
    }
   ],
   "source": [
    "# проверим произведённые изменения\n",
    "users.info()"
   ]
  },
  {
   "cell_type": "code",
   "execution_count": 13,
   "id": "2feb5f4f",
   "metadata": {},
   "outputs": [
    {
     "name": "stdout",
     "output_type": "stream",
     "text": [
      "Количество явных дубликатов в первом датафрейме: 0\n"
     ]
    }
   ],
   "source": [
    "print ('Количество явных дубликатов в первом датафрейме:', users.duplicated().sum())"
   ]
  },
  {
   "cell_type": "markdown",
   "id": "8d465fee",
   "metadata": {},
   "source": [
    "После удаления дубликатов в датафрейме осталось 1534 строки. Явных дубликатов не осталось.  \n",
    "В двух других датафреймах дубликатов не было.  \n",
    "Пропущенных значений в датафреймах нет."
   ]
  },
  {
   "cell_type": "markdown",
   "id": "69eb3834",
   "metadata": {},
   "source": [
    "##### Проверка на неявные дубликаты"
   ]
  },
  {
   "cell_type": "markdown",
   "id": "a1ef0b0a",
   "metadata": {},
   "source": [
    "Проверим столбцы, где возможно обнаружить неявные дубликаты:"
   ]
  },
  {
   "cell_type": "code",
   "execution_count": 14,
   "id": "2d5096c2",
   "metadata": {},
   "outputs": [
    {
     "name": "stdout",
     "output_type": "stream",
     "text": [
      "['Агата' 'Аделина' 'Адель' 'Айдар' 'Александр' 'Александра' 'Алексей'\n",
      " 'Алина' 'Алиса' 'Алия' 'Алла' 'Альберт' 'Альбина' 'Алёна' 'Амалия'\n",
      " 'Амина' 'Амир' 'Анастасия' 'Анатолий' 'Ангелина' 'Андрей' 'Анжелика'\n",
      " 'Анна' 'Антон' 'Антонина' 'Ариана' 'Арина' 'Арсен' 'Арсений' 'Артемий'\n",
      " 'Артур' 'Артём' 'Богдан' 'Борис' 'Вадим' 'Валентина' 'Валерий' 'Валерия'\n",
      " 'Варвара' 'Василий' 'Василина' 'Василиса' 'Вера' 'Вероника' 'Виктор'\n",
      " 'Виктория' 'Виолетта' 'Виталий' 'Виталина' 'Влад' 'Влада' 'Владимир'\n",
      " 'Владислав' 'Владислава' 'Всеволод' 'Вячеслав' 'Галина' 'Георгий'\n",
      " 'Герман' 'Глеб' 'Гордей' 'Григорий' 'Давид' 'Дамир' 'Даниил' 'Данил'\n",
      " 'Данила' 'Даниэль' 'Дарина' 'Дарья' 'Демид' 'Денис' 'Диана' 'Дмитрий'\n",
      " 'Ева' 'Евгений' 'Евгения' 'Егор' 'Екатерина' 'Елена' 'Елизавета' 'Елисей'\n",
      " 'Есения' 'Жанна' 'Зарина' 'Захар' 'Злата' 'Иван' 'Игнат' 'Игорь' 'Ильдар'\n",
      " 'Илья' 'Инна' 'Ирина' 'Камилла' 'Карина' 'Каролина' 'Кира' 'Кирилл'\n",
      " 'Константин' 'Кристина' 'Ксения' 'Лариса' 'Лев' 'Леонид' 'Лиана' 'Лидия'\n",
      " 'Лилия' 'Любовь' 'Людмила' 'Мадина' 'Майя' 'Макар' 'Максим' 'Марат'\n",
      " 'Маргарита' 'Марина' 'Мария' 'Марк' 'Марсель' 'Матвей' 'Мелания' 'Милана'\n",
      " 'Милена' 'Мирон' 'Мирослав' 'Мирослава' 'Михаил' 'Назар' 'Наталия'\n",
      " 'Наталья' 'Наташа' 'Нелли' 'Ника' 'Никита' 'Николай' 'Нина' 'Одиссей'\n",
      " 'Оксана' 'Олег' 'Олеся' 'Ольга' 'Павел' 'Петр' 'Платон' 'Полина' 'Радмир'\n",
      " 'Рамиль' 'Регина' 'Роберт' 'Родион' 'Роман' 'Ростислав' 'Руслан' 'Рустам'\n",
      " 'Савелий' 'Самир' 'Самира' 'Светлана' 'Святогор' 'Святослав' 'Семен'\n",
      " 'Сергей' 'Снежана' 'София' 'Софья' 'Станислав' 'Степан' 'Стефания'\n",
      " 'Таисия' 'Тамара' 'Тамерлан' 'Татьяна' 'Тимофей' 'Тимур' 'Тихон' 'Ульяна'\n",
      " 'Федор' 'Эвелина' 'Эдуард' 'Элина' 'Эльвира' 'Эльмира' 'Эмилия' 'Эмиль'\n",
      " 'Юлиана' 'Юлия' 'Юрий' 'Ян' 'Яна' 'Яромир' 'Ярослав' 'Ярослава' 'Ясмина']\n"
     ]
    }
   ],
   "source": [
    "print(users['name'].sort_values().unique())"
   ]
  },
  {
   "cell_type": "code",
   "execution_count": 15,
   "id": "947460b1",
   "metadata": {},
   "outputs": [
    {
     "name": "stdout",
     "output_type": "stream",
     "text": [
      "      user_id     name  age            city subscription_type\n",
      "301       302  Наталия   27  Ростов-на-Дону             ultra\n",
      "326       327   Наташа   24       Краснодар             ultra\n",
      "356       357  Наталья   30            Сочи             ultra\n",
      "417       418   Наташа   26       Краснодар             ultra\n",
      "480       481   Наташа   24          Тюмень             ultra\n",
      "659       660   Наташа   26            Омск             ultra\n",
      "800       801  Наталия   22            Сочи              free\n",
      "809       810  Наталья   24  Ростов-на-Дону              free\n",
      "885       886   Наташа   22          Тюмень              free\n",
      "895       896  Наталия   31            Омск              free\n",
      "952       953   Наташа   26  Ростов-на-Дону              free\n",
      "953       954  Наталия   20            Омск              free\n",
      "985       986   Наташа   30    Екатеринбург              free\n",
      "1023     1024   Наташа   21          Москва              free\n",
      "1076     1077   Наташа   22  Ростов-на-Дону              free\n",
      "1131     1132  Наталия   20          Москва              free\n",
      "1209     1210  Наталья   24          Москва              free\n",
      "1297     1298  Наталья   20          Москва              free\n",
      "1336     1337  Наталья   23            Сочи              free\n",
      "1385     1386   Наташа   26    Екатеринбург              free\n",
      "1387     1388   Наташа   31          Москва              free\n",
      "1494     1495  Наталия   27            Омск              free\n"
     ]
    }
   ],
   "source": [
    "# Проверим, нет ли совпадений по именам Наташа, Наталья и Наталия:\n",
    "print(users.query('name==(\"Наташа\",\"Наталья\", \"Наталия\")'))"
   ]
  },
  {
   "cell_type": "markdown",
   "id": "396f65f8",
   "metadata": {},
   "source": [
    "Неявных дубликатов в этом столбце не обнаружено"
   ]
  },
  {
   "cell_type": "code",
   "execution_count": 16,
   "id": "ecfff576",
   "metadata": {},
   "outputs": [
    {
     "name": "stdout",
     "output_type": "stream",
     "text": [
      "[12 13 14 15 16 17 18 19 20 21 22 23 24 25 26 27 28 29 30 31 32 33 34 35\n",
      " 36 37 38 39 43]\n"
     ]
    }
   ],
   "source": [
    "print(users['age'].sort_values().unique())"
   ]
  },
  {
   "cell_type": "markdown",
   "id": "62ac838c",
   "metadata": {},
   "source": [
    "Неявных дубликатов не обнаружено"
   ]
  },
  {
   "cell_type": "code",
   "execution_count": 17,
   "id": "c228e63f",
   "metadata": {},
   "outputs": [
    {
     "name": "stdout",
     "output_type": "stream",
     "text": [
      "['Екатеринбург' 'Краснодар' 'Москва' 'Омск' 'Пятигорск' 'Ростов-на-Дону'\n",
      " 'Сочи' 'Тюмень']\n"
     ]
    }
   ],
   "source": [
    "print(users['city'].sort_values().unique())"
   ]
  },
  {
   "cell_type": "markdown",
   "id": "cbc406ef",
   "metadata": {},
   "source": [
    "Неявных дубликатов не обнаружено"
   ]
  },
  {
   "cell_type": "code",
   "execution_count": null,
   "id": "d3c3bcda",
   "metadata": {},
   "outputs": [],
   "source": []
  },
  {
   "cell_type": "markdown",
   "id": "56aa836e",
   "metadata": {},
   "source": [
    "  # ***Вывод:***"
   ]
  },
  {
   "cell_type": "markdown",
   "id": "037fe538",
   "metadata": {},
   "source": [
    "Предобработка данных была выполнена - данные в каждом датафрейме были изучены на предмет ошибок, пропусков, дубликатов (явных и неявных). \n",
    "\n",
    "* В датафрейме **users** были удалены явные дубликаты в столбце 'user_id' (31 дубликат). В результате, в датафрейме осталось 1534 строки;\n",
    "\n",
    "\n",
    "* В датафрейме **rides** были проведены следующие изменения:\n",
    "   - столбец 'date' приведён к правильному формату;\n",
    "   - добавлен новый столбец 'month', содержащий в себе порядковый номер месяца совершения поездки;\n",
    "   - значения в столбце 'distance' были округлены до двух знаков после запятой; \n",
    "   - значения в столбце 'duration' были округлены до двух знаков после запятой;\n",
    "   \n",
    "   \n",
    "* В датафрейме **subscriptions** предобработка данных не потребовалась.\n",
    "\n",
    "\n",
    "Данные были приведены к подходящему формату. Дубликатов в датафреймах не осталось.\n"
   ]
  },
  {
   "cell_type": "code",
   "execution_count": null,
   "id": "abbf1e9b",
   "metadata": {},
   "outputs": [],
   "source": []
  },
  {
   "cell_type": "markdown",
   "id": "212593c7",
   "metadata": {},
   "source": [
    "#### Шаг 3. Исследовательский анализ данных"
   ]
  },
  {
   "cell_type": "markdown",
   "id": "9fb9c288",
   "metadata": {},
   "source": [
    "##### Частота встречаемости городов"
   ]
  },
  {
   "cell_type": "code",
   "execution_count": 18,
   "id": "e3a4274c",
   "metadata": {},
   "outputs": [
    {
     "data": {
      "text/plain": [
       "Пятигорск         219\n",
       "Екатеринбург      204\n",
       "Ростов-на-Дону    198\n",
       "Краснодар         193\n",
       "Сочи              189\n",
       "Омск              183\n",
       "Тюмень            180\n",
       "Москва            168\n",
       "Name: city, dtype: int64"
      ]
     },
     "execution_count": 18,
     "metadata": {},
     "output_type": "execute_result"
    }
   ],
   "source": [
    "# частота встречаемости городов\n",
    "users['city'].value_counts()"
   ]
  },
  {
   "cell_type": "code",
   "execution_count": 19,
   "id": "6a1b9de3",
   "metadata": {},
   "outputs": [],
   "source": [
    "city = users.pivot_table(index= 'city', values = 'user_id', aggfunc='count')"
   ]
  },
  {
   "cell_type": "code",
   "execution_count": 20,
   "id": "a7886c35",
   "metadata": {},
   "outputs": [],
   "source": [
    "city['percentage'] = (city['user_id'] / city['user_id'].sum()) * 100"
   ]
  },
  {
   "cell_type": "code",
   "execution_count": 21,
   "id": "787f4c2f",
   "metadata": {},
   "outputs": [
    {
     "data": {
      "text/html": [
       "<div>\n",
       "<style scoped>\n",
       "    .dataframe tbody tr th:only-of-type {\n",
       "        vertical-align: middle;\n",
       "    }\n",
       "\n",
       "    .dataframe tbody tr th {\n",
       "        vertical-align: top;\n",
       "    }\n",
       "\n",
       "    .dataframe thead th {\n",
       "        text-align: right;\n",
       "    }\n",
       "</style>\n",
       "<table border=\"1\" class=\"dataframe\">\n",
       "  <thead>\n",
       "    <tr style=\"text-align: right;\">\n",
       "      <th></th>\n",
       "      <th>user_id</th>\n",
       "      <th>percentage</th>\n",
       "    </tr>\n",
       "    <tr>\n",
       "      <th>city</th>\n",
       "      <th></th>\n",
       "      <th></th>\n",
       "    </tr>\n",
       "  </thead>\n",
       "  <tbody>\n",
       "    <tr>\n",
       "      <th>Пятигорск</th>\n",
       "      <td>219</td>\n",
       "      <td>14.28</td>\n",
       "    </tr>\n",
       "    <tr>\n",
       "      <th>Екатеринбург</th>\n",
       "      <td>204</td>\n",
       "      <td>13.30</td>\n",
       "    </tr>\n",
       "    <tr>\n",
       "      <th>Ростов-на-Дону</th>\n",
       "      <td>198</td>\n",
       "      <td>12.91</td>\n",
       "    </tr>\n",
       "    <tr>\n",
       "      <th>Краснодар</th>\n",
       "      <td>193</td>\n",
       "      <td>12.58</td>\n",
       "    </tr>\n",
       "    <tr>\n",
       "      <th>Сочи</th>\n",
       "      <td>189</td>\n",
       "      <td>12.32</td>\n",
       "    </tr>\n",
       "    <tr>\n",
       "      <th>Омск</th>\n",
       "      <td>183</td>\n",
       "      <td>11.93</td>\n",
       "    </tr>\n",
       "    <tr>\n",
       "      <th>Тюмень</th>\n",
       "      <td>180</td>\n",
       "      <td>11.73</td>\n",
       "    </tr>\n",
       "    <tr>\n",
       "      <th>Москва</th>\n",
       "      <td>168</td>\n",
       "      <td>10.95</td>\n",
       "    </tr>\n",
       "  </tbody>\n",
       "</table>\n",
       "</div>"
      ],
      "text/plain": [
       "                user_id  percentage\n",
       "city                               \n",
       "Пятигорск           219       14.28\n",
       "Екатеринбург        204       13.30\n",
       "Ростов-на-Дону      198       12.91\n",
       "Краснодар           193       12.58\n",
       "Сочи                189       12.32\n",
       "Омск                183       11.93\n",
       "Тюмень              180       11.73\n",
       "Москва              168       10.95"
      ]
     },
     "metadata": {},
     "output_type": "display_data"
    }
   ],
   "source": [
    "city = city.sort_values(by='user_id', ascending= False)\n",
    "display(city.round(2))"
   ]
  },
  {
   "cell_type": "code",
   "execution_count": 22,
   "id": "dc82de1f",
   "metadata": {},
   "outputs": [],
   "source": [
    "city = city.reset_index()"
   ]
  },
  {
   "cell_type": "code",
   "execution_count": 23,
   "id": "ca57ca17",
   "metadata": {},
   "outputs": [],
   "source": [
    "city = city.sort_values(by='user_id')"
   ]
  },
  {
   "cell_type": "code",
   "execution_count": 24,
   "id": "df330f1a",
   "metadata": {},
   "outputs": [
    {
     "data": {
      "image/png": "[encoded data removed]",
      "text/plain": [
       "<Figure size 720x432 with 1 Axes>"
      ]
     },
     "metadata": {
      "needs_background": "light"
     },
     "output_type": "display_data"
    }
   ],
   "source": [
    "plt.figure(figsize=(10, 6))\n",
    "plt.barh(city['city'], city['user_id'])\n",
    "plt.xlabel('Количество пользователей')\n",
    "plt.ylabel('Город')\n",
    "plt.title('Наиболее часто встречающиеся города');"
   ]
  },
  {
   "cell_type": "markdown",
   "id": "6a426ff7",
   "metadata": {},
   "source": [
    "***Вывод:***"
   ]
  },
  {
   "cell_type": "markdown",
   "id": "636f5e78",
   "metadata": {},
   "source": [
    "На графике видно, что наибольшеее количество пользователей сервиса арендуют самокаты в Пятигорске. На втором месте по количесву пользователей - Екатеринбург. Далее идут Ростов - на - Дону, Краснодар, Сочи, Омск и Тюмень. Несмотря на то, что Москва самый крупный из всех город, именно там меньше всего пользователей данного сервиса. Возможно, это связано с тем, что в москве большая конкуренция и у сервиса мало точек проката в городе. А возможно, сервис более ориентирован на другие регионы (южные и восточные).  "
   ]
  },
  {
   "cell_type": "code",
   "execution_count": null,
   "id": "e129d375",
   "metadata": {},
   "outputs": [],
   "source": []
  },
  {
   "cell_type": "markdown",
   "id": "df0eeb82",
   "metadata": {},
   "source": [
    "##### Соотношение пользователей с подпиской и без"
   ]
  },
  {
   "cell_type": "code",
   "execution_count": 25,
   "id": "521d8685",
   "metadata": {},
   "outputs": [
    {
     "name": "stdout",
     "output_type": "stream",
     "text": [
      "                   user_id\n",
      "subscription_type         \n",
      "free                   835\n",
      "ultra                  699\n"
     ]
    }
   ],
   "source": [
    "subscription = users.pivot_table(index= 'subscription_type', values = 'user_id', aggfunc='count')\n",
    "print(subscription)"
   ]
  },
  {
   "cell_type": "code",
   "execution_count": 26,
   "id": "17736fde",
   "metadata": {},
   "outputs": [
    {
     "data": {
      "text/html": [
       "<div>\n",
       "<style scoped>\n",
       "    .dataframe tbody tr th:only-of-type {\n",
       "        vertical-align: middle;\n",
       "    }\n",
       "\n",
       "    .dataframe tbody tr th {\n",
       "        vertical-align: top;\n",
       "    }\n",
       "\n",
       "    .dataframe thead th {\n",
       "        text-align: right;\n",
       "    }\n",
       "</style>\n",
       "<table border=\"1\" class=\"dataframe\">\n",
       "  <thead>\n",
       "    <tr style=\"text-align: right;\">\n",
       "      <th></th>\n",
       "      <th>user_id</th>\n",
       "      <th>percentage</th>\n",
       "    </tr>\n",
       "    <tr>\n",
       "      <th>subscription_type</th>\n",
       "      <th></th>\n",
       "      <th></th>\n",
       "    </tr>\n",
       "  </thead>\n",
       "  <tbody>\n",
       "    <tr>\n",
       "      <th>free</th>\n",
       "      <td>835</td>\n",
       "      <td>54.43</td>\n",
       "    </tr>\n",
       "    <tr>\n",
       "      <th>ultra</th>\n",
       "      <td>699</td>\n",
       "      <td>45.57</td>\n",
       "    </tr>\n",
       "  </tbody>\n",
       "</table>\n",
       "</div>"
      ],
      "text/plain": [
       "                   user_id  percentage\n",
       "subscription_type                     \n",
       "free                   835       54.43\n",
       "ultra                  699       45.57"
      ]
     },
     "metadata": {},
     "output_type": "display_data"
    }
   ],
   "source": [
    "subscription['percentage'] = (subscription['user_id'] / subscription['user_id'].sum()) * 100\n",
    "display(subscription.round(2))"
   ]
  },
  {
   "cell_type": "code",
   "execution_count": 27,
   "id": "7517cba1",
   "metadata": {},
   "outputs": [
    {
     "data": {
      "image/png": "[encoded data removed]",
      "text/plain": [
       "<Figure size 576x576 with 1 Axes>"
      ]
     },
     "metadata": {},
     "output_type": "display_data"
    }
   ],
   "source": [
    "plt.figure(figsize=(8, 8))\n",
    "plt.pie(\n",
    "    subscription['user_id'], \n",
    "    labels=subscription.index, \n",
    "    autopct='%1.1f%%',\n",
    "    startangle=90,\n",
    ")\n",
    "plt.title('Соотношение пользователей с подпиской и без')\n",
    "plt.legend(subscription.index, title=\"Тип подписки\", loc=\"best\");"
   ]
  },
  {
   "cell_type": "markdown",
   "id": "64fdd078",
   "metadata": {},
   "source": [
    "***Вывод:***"
   ]
  },
  {
   "cell_type": "markdown",
   "id": "a44661c4",
   "metadata": {},
   "source": [
    "В таблице и на круговой диаграмме видно, что пользователей без подписки больше, чем пользователей с подпиской. Больше половины пользователей (54,4 %) не пользуются подпиской. И чуть меньше половины (46,4 %) используют платную подписку."
   ]
  },
  {
   "cell_type": "code",
   "execution_count": null,
   "id": "b8b2e484",
   "metadata": {},
   "outputs": [],
   "source": []
  },
  {
   "cell_type": "markdown",
   "id": "09ceae4a",
   "metadata": {},
   "source": [
    "##### Возраст пользователей"
   ]
  },
  {
   "cell_type": "code",
   "execution_count": 28,
   "id": "c3e67690",
   "metadata": {},
   "outputs": [
    {
     "name": "stdout",
     "output_type": "stream",
     "text": [
      "     user_id\n",
      "age         \n",
      "12         4\n",
      "13         8\n",
      "14         9\n",
      "15        13\n",
      "16        19\n",
      "17        26\n",
      "18        46\n",
      "19        47\n",
      "20        71\n",
      "21        93\n",
      "22       119\n",
      "23       129\n",
      "24       132\n",
      "25       145\n",
      "26       131\n",
      "27       119\n",
      "28       112\n",
      "29        68\n",
      "30        68\n",
      "31        48\n",
      "32        41\n",
      "33        39\n",
      "34        19\n",
      "35        15\n",
      "36         6\n",
      "37         2\n",
      "38         3\n",
      "39         1\n",
      "43         1\n"
     ]
    }
   ],
   "source": [
    "age = users.pivot_table(index= 'age', values = 'user_id', aggfunc='count')\n",
    "print(age)"
   ]
  },
  {
   "cell_type": "code",
   "execution_count": 29,
   "id": "04765153",
   "metadata": {},
   "outputs": [
    {
     "data": {
      "image/png": "[encoded data removed]",
      "text/plain": [
       "<Figure size 720x360 with 1 Axes>"
      ]
     },
     "metadata": {
      "needs_background": "light"
     },
     "output_type": "display_data"
    }
   ],
   "source": [
    "plt.figure(figsize=(10, 5))\n",
    "plt.hist(age.index, weights=age['user_id'], bins=30)\n",
    "plt.grid(True)\n",
    "plt.xlabel('Возраст')\n",
    "plt.ylabel('Количество пользователей')\n",
    "plt.title('Возраст пользователей');"
   ]
  },
  {
   "cell_type": "code",
   "execution_count": 30,
   "id": "c421696b",
   "metadata": {},
   "outputs": [
    {
     "data": {
      "text/plain": [
       "count    1534.000000\n",
       "mean       24.903520\n",
       "std         4.572367\n",
       "min        12.000000\n",
       "25%        22.000000\n",
       "50%        25.000000\n",
       "75%        28.000000\n",
       "max        43.000000\n",
       "Name: age, dtype: float64"
      ]
     },
     "execution_count": 30,
     "metadata": {},
     "output_type": "execute_result"
    }
   ],
   "source": [
    "users['age'].describe()"
   ]
  },
  {
   "cell_type": "markdown",
   "id": "116a602c",
   "metadata": {},
   "source": [
    "***Вывод:***"
   ]
  },
  {
   "cell_type": "markdown",
   "id": "7d072707",
   "metadata": {},
   "source": [
    "Услугами данного сервиса проката самокатов пользуются люди в возрасте от 12 до 43 лет. Средний возраст пользователей составляет 25 лет, что совпадает с медианным возрастом, который также составляет 25 лет. Возраст, который среди пользователей встречается чаще всего - тоже составляет 25 лет. 75% пользователей не старше 28 лет. Распределение среднего возраста пользователей близок к нормальному распределению."
   ]
  },
  {
   "cell_type": "code",
   "execution_count": null,
   "id": "7ed1ac8c",
   "metadata": {},
   "outputs": [],
   "source": []
  },
  {
   "cell_type": "markdown",
   "id": "3f017d76",
   "metadata": {},
   "source": [
    "##### Расстояние, которое пользователь преодолел за одну поездку"
   ]
  },
  {
   "cell_type": "code",
   "execution_count": 31,
   "id": "3f089f83",
   "metadata": {},
   "outputs": [
    {
     "data": {
      "text/plain": [
       "count    18068.000000\n",
       "mean      3070.659992\n",
       "std       1116.831222\n",
       "min          0.860000\n",
       "25%       2543.227500\n",
       "50%       3133.610000\n",
       "75%       3776.220000\n",
       "max       7211.010000\n",
       "Name: distance, dtype: float64"
      ]
     },
     "execution_count": 31,
     "metadata": {},
     "output_type": "execute_result"
    }
   ],
   "source": [
    "rides['distance'].describe()"
   ]
  },
  {
   "cell_type": "code",
   "execution_count": 32,
   "id": "2baaedfb",
   "metadata": {},
   "outputs": [
    {
     "data": {
      "image/png": "[encoded data removed]",
      "text/plain": [
       "<Figure size 720x360 with 1 Axes>"
      ]
     },
     "metadata": {
      "needs_background": "light"
     },
     "output_type": "display_data"
    }
   ],
   "source": [
    "plt.figure(figsize=(10, 5))\n",
    "rides['distance'].hist(bins=100)\n",
    "plt.xlabel('Расстояние (м)')\n",
    "plt.ylabel('Количество поездок')\n",
    "plt.title('Расстояние, которое проехал пользователь за одну поездку')\n",
    "plt.grid(True);"
   ]
  },
  {
   "cell_type": "code",
   "execution_count": 33,
   "id": "51cd49a5",
   "metadata": {},
   "outputs": [
    {
     "data": {
      "image/png": "[encoded data removed]",
      "text/plain": [
       "<Figure size 720x360 with 1 Axes>"
      ]
     },
     "metadata": {
      "needs_background": "light"
     },
     "output_type": "display_data"
    }
   ],
   "source": [
    "plt.figure(figsize=(10, 5))\n",
    "rides['distance'].hist(bins=100, range = (0,1500))\n",
    "plt.xlabel('Расстояние (м)')\n",
    "plt.ylabel('Количество поездок')\n",
    "plt.title('Расстояние, которое проехал пользователь за одну поездку (от 0 до 1500 метров)')\n",
    "plt.grid(True);"
   ]
  },
  {
   "cell_type": "code",
   "execution_count": 34,
   "id": "20531f1f",
   "metadata": {},
   "outputs": [
    {
     "data": {
      "image/png": "[encoded data removed]",
      "text/plain": [
       "<Figure size 720x360 with 1 Axes>"
      ]
     },
     "metadata": {
      "needs_background": "light"
     },
     "output_type": "display_data"
    }
   ],
   "source": [
    "plt.figure(figsize=(10, 5))\n",
    "rides['distance'].hist(bins=100, range = (1500,7000))\n",
    "plt.xlabel('Расстояние (м)')\n",
    "plt.ylabel('Количество поездок')\n",
    "plt.title('Расстояние, которое проехал пользователь за одну поездку (от 1500 до 7000 метров)')\n",
    "plt.grid(True);"
   ]
  },
  {
   "cell_type": "code",
   "execution_count": 111,
   "id": "c08b67a0",
   "metadata": {},
   "outputs": [
    {
     "data": {
      "text/html": [
       "<div>\n",
       "<style scoped>\n",
       "    .dataframe tbody tr th:only-of-type {\n",
       "        vertical-align: middle;\n",
       "    }\n",
       "\n",
       "    .dataframe tbody tr th {\n",
       "        vertical-align: top;\n",
       "    }\n",
       "\n",
       "    .dataframe thead th {\n",
       "        text-align: right;\n",
       "    }\n",
       "</style>\n",
       "<table border=\"1\" class=\"dataframe\">\n",
       "  <thead>\n",
       "    <tr style=\"text-align: right;\">\n",
       "      <th></th>\n",
       "      <th>user_id</th>\n",
       "      <th>distance</th>\n",
       "      <th>duration</th>\n",
       "      <th>month</th>\n",
       "    </tr>\n",
       "  </thead>\n",
       "  <tbody>\n",
       "    <tr>\n",
       "      <th>count</th>\n",
       "      <td>1796.000000</td>\n",
       "      <td>1796.000000</td>\n",
       "      <td>1796.000000</td>\n",
       "      <td>1796.000000</td>\n",
       "    </tr>\n",
       "    <tr>\n",
       "      <th>mean</th>\n",
       "      <td>926.052895</td>\n",
       "      <td>703.889722</td>\n",
       "      <td>10.170278</td>\n",
       "      <td>6.540646</td>\n",
       "    </tr>\n",
       "    <tr>\n",
       "      <th>std</th>\n",
       "      <td>413.258205</td>\n",
       "      <td>368.353620</td>\n",
       "      <td>3.956316</td>\n",
       "      <td>3.507098</td>\n",
       "    </tr>\n",
       "    <tr>\n",
       "      <th>min</th>\n",
       "      <td>1.000000</td>\n",
       "      <td>0.860000</td>\n",
       "      <td>2.040000</td>\n",
       "      <td>1.000000</td>\n",
       "    </tr>\n",
       "    <tr>\n",
       "      <th>25%</th>\n",
       "      <td>674.500000</td>\n",
       "      <td>414.315000</td>\n",
       "      <td>6.920000</td>\n",
       "      <td>3.000000</td>\n",
       "    </tr>\n",
       "    <tr>\n",
       "      <th>50%</th>\n",
       "      <td>982.000000</td>\n",
       "      <td>687.535000</td>\n",
       "      <td>10.095000</td>\n",
       "      <td>7.000000</td>\n",
       "    </tr>\n",
       "    <tr>\n",
       "      <th>75%</th>\n",
       "      <td>1258.000000</td>\n",
       "      <td>985.435000</td>\n",
       "      <td>13.460000</td>\n",
       "      <td>10.000000</td>\n",
       "    </tr>\n",
       "    <tr>\n",
       "      <th>max</th>\n",
       "      <td>1534.000000</td>\n",
       "      <td>1499.570000</td>\n",
       "      <td>20.460000</td>\n",
       "      <td>12.000000</td>\n",
       "    </tr>\n",
       "  </tbody>\n",
       "</table>\n",
       "</div>"
      ],
      "text/plain": [
       "           user_id     distance     duration        month\n",
       "count  1796.000000  1796.000000  1796.000000  1796.000000\n",
       "mean    926.052895   703.889722    10.170278     6.540646\n",
       "std     413.258205   368.353620     3.956316     3.507098\n",
       "min       1.000000     0.860000     2.040000     1.000000\n",
       "25%     674.500000   414.315000     6.920000     3.000000\n",
       "50%     982.000000   687.535000    10.095000     7.000000\n",
       "75%    1258.000000   985.435000    13.460000    10.000000\n",
       "max    1534.000000  1499.570000    20.460000    12.000000"
      ]
     },
     "execution_count": 111,
     "metadata": {},
     "output_type": "execute_result"
    }
   ],
   "source": [
    "rides_short = rides.loc[rides['distance']<=1500]\n",
    "rides_short.describe()"
   ]
  },
  {
   "cell_type": "code",
   "execution_count": 110,
   "id": "3e436c5b",
   "metadata": {},
   "outputs": [
    {
     "data": {
      "text/html": [
       "<div>\n",
       "<style scoped>\n",
       "    .dataframe tbody tr th:only-of-type {\n",
       "        vertical-align: middle;\n",
       "    }\n",
       "\n",
       "    .dataframe tbody tr th {\n",
       "        vertical-align: top;\n",
       "    }\n",
       "\n",
       "    .dataframe thead th {\n",
       "        text-align: right;\n",
       "    }\n",
       "</style>\n",
       "<table border=\"1\" class=\"dataframe\">\n",
       "  <thead>\n",
       "    <tr style=\"text-align: right;\">\n",
       "      <th></th>\n",
       "      <th>user_id</th>\n",
       "      <th>distance</th>\n",
       "      <th>duration</th>\n",
       "      <th>month</th>\n",
       "    </tr>\n",
       "  </thead>\n",
       "  <tbody>\n",
       "    <tr>\n",
       "      <th>count</th>\n",
       "      <td>16272.000000</td>\n",
       "      <td>16272.000000</td>\n",
       "      <td>16272.000000</td>\n",
       "      <td>16272.000000</td>\n",
       "    </tr>\n",
       "    <tr>\n",
       "      <th>mean</th>\n",
       "      <td>833.688729</td>\n",
       "      <td>3331.889061</td>\n",
       "      <td>18.647691</td>\n",
       "      <td>6.480826</td>\n",
       "    </tr>\n",
       "    <tr>\n",
       "      <th>std</th>\n",
       "      <td>436.080907</td>\n",
       "      <td>826.722589</td>\n",
       "      <td>5.685551</td>\n",
       "      <td>3.429689</td>\n",
       "    </tr>\n",
       "    <tr>\n",
       "      <th>min</th>\n",
       "      <td>1.000000</td>\n",
       "      <td>1502.430000</td>\n",
       "      <td>0.500000</td>\n",
       "      <td>1.000000</td>\n",
       "    </tr>\n",
       "    <tr>\n",
       "      <th>25%</th>\n",
       "      <td>470.000000</td>\n",
       "      <td>2742.580000</td>\n",
       "      <td>14.590000</td>\n",
       "      <td>4.000000</td>\n",
       "    </tr>\n",
       "    <tr>\n",
       "      <th>50%</th>\n",
       "      <td>878.000000</td>\n",
       "      <td>3239.970000</td>\n",
       "      <td>18.390000</td>\n",
       "      <td>6.000000</td>\n",
       "    </tr>\n",
       "    <tr>\n",
       "      <th>75%</th>\n",
       "      <td>1207.000000</td>\n",
       "      <td>3874.557500</td>\n",
       "      <td>22.210000</td>\n",
       "      <td>9.000000</td>\n",
       "    </tr>\n",
       "    <tr>\n",
       "      <th>max</th>\n",
       "      <td>1534.000000</td>\n",
       "      <td>7211.010000</td>\n",
       "      <td>40.820000</td>\n",
       "      <td>12.000000</td>\n",
       "    </tr>\n",
       "  </tbody>\n",
       "</table>\n",
       "</div>"
      ],
      "text/plain": [
       "            user_id      distance      duration         month\n",
       "count  16272.000000  16272.000000  16272.000000  16272.000000\n",
       "mean     833.688729   3331.889061     18.647691      6.480826\n",
       "std      436.080907    826.722589      5.685551      3.429689\n",
       "min        1.000000   1502.430000      0.500000      1.000000\n",
       "25%      470.000000   2742.580000     14.590000      4.000000\n",
       "50%      878.000000   3239.970000     18.390000      6.000000\n",
       "75%     1207.000000   3874.557500     22.210000      9.000000\n",
       "max     1534.000000   7211.010000     40.820000     12.000000"
      ]
     },
     "execution_count": 110,
     "metadata": {},
     "output_type": "execute_result"
    }
   ],
   "source": [
    "rides_long = rides.loc[rides['distance']>1500]\n",
    "rides_long.describe()"
   ]
  },
  {
   "cell_type": "markdown",
   "id": "d05c9e2b",
   "metadata": {},
   "source": [
    "***Вывод:***"
   ]
  },
  {
   "cell_type": "markdown",
   "id": "51a623c7",
   "metadata": {},
   "source": [
    "Минимальное расстояние одной поездки составляет менее 1 метра, максимальное - 7211 метров. В среднем пользователи за одну поездку проезжали 3070 метров. Медиана находится чуть дальше, и составляет 3 133 метра.  \n",
    "На гистограмме можно наблюдать два пика: крупный в районе 3100 метров, и второй, меньший пик в районе 700 метров. Наличие двух пиков может указывать на то, что существует два сценария использования приложения: группа пользователей проезжает до 1500 метров (в среднем 700 метров), и вторая группа, которая совершает более длительные поездки - от 1500 до 7211 метров(в среднем 3331 метр). С этими двумя группами пользователей можно работать по-разному, используя для каждой свои маркетинговые приёмы."
   ]
  },
  {
   "cell_type": "code",
   "execution_count": null,
   "id": "84006d81",
   "metadata": {},
   "outputs": [],
   "source": []
  },
  {
   "cell_type": "markdown",
   "id": "5164b1c0",
   "metadata": {},
   "source": [
    "##### Продолжительность поездок"
   ]
  },
  {
   "cell_type": "code",
   "execution_count": 35,
   "id": "a754d0b5",
   "metadata": {},
   "outputs": [
    {
     "data": {
      "text/plain": [
       "count    18068.000000\n",
       "mean        17.805017\n",
       "std          6.091071\n",
       "min          0.500000\n",
       "25%         13.600000\n",
       "50%         17.680000\n",
       "75%         21.722500\n",
       "max         40.820000\n",
       "Name: duration, dtype: float64"
      ]
     },
     "execution_count": 35,
     "metadata": {},
     "output_type": "execute_result"
    }
   ],
   "source": [
    "rides['duration'].describe()"
   ]
  },
  {
   "cell_type": "code",
   "execution_count": 36,
   "id": "2dd9c0a5",
   "metadata": {},
   "outputs": [
    {
     "data": {
      "image/png": "[encoded data removed]",
      "text/plain": [
       "<Figure size 720x360 with 1 Axes>"
      ]
     },
     "metadata": {
      "needs_background": "light"
     },
     "output_type": "display_data"
    }
   ],
   "source": [
    "plt.figure(figsize=(10, 5))\n",
    "plt.scatter(rides['duration'], rides['distance'], alpha=0.5)\n",
    "plt.xlabel('Время поездки (минуты)')\n",
    "plt.ylabel('Расстояние поездки (метры)')\n",
    "plt.title('Взаимосвязь между временем и расстоянием поездки')\n",
    "plt.show()"
   ]
  },
  {
   "cell_type": "code",
   "execution_count": 37,
   "id": "d6dc7579",
   "metadata": {},
   "outputs": [
    {
     "data": {
      "image/png": "[encoded data removed]",
      "text/plain": [
       "<Figure size 720x360 with 1 Axes>"
      ]
     },
     "metadata": {
      "needs_background": "light"
     },
     "output_type": "display_data"
    }
   ],
   "source": [
    "plt.figure(figsize=(10, 5))\n",
    "rides['duration'].hist(bins=41)\n",
    "plt.xlabel('Продолжительность (мин)')\n",
    "plt.ylabel('Количество поездок')\n",
    "plt.title('Продолжительность поездок')\n",
    "plt.grid(True);"
   ]
  },
  {
   "cell_type": "markdown",
   "id": "48fb0dbf",
   "metadata": {},
   "source": [
    "Большой вопрос вызывает большое количество поездок короче 1 минуты. Их стоит рассмотреть более подробно. "
   ]
  },
  {
   "cell_type": "code",
   "execution_count": 38,
   "id": "95285bfd",
   "metadata": {},
   "outputs": [
    {
     "name": "stdout",
     "output_type": "stream",
     "text": [
      "95\n"
     ]
    }
   ],
   "source": [
    "short_rides = rides[rides['duration'] < 1]\n",
    "print(len(short_rides))"
   ]
  },
  {
   "cell_type": "code",
   "execution_count": 39,
   "id": "d1a8fd6a",
   "metadata": {},
   "outputs": [
    {
     "data": {
      "text/plain": [
       "count      95.000000\n",
       "mean     5113.176737\n",
       "std       658.254223\n",
       "min      4030.310000\n",
       "25%      4611.510000\n",
       "50%      5052.770000\n",
       "75%      5488.460000\n",
       "max      7211.010000\n",
       "Name: distance, dtype: float64"
      ]
     },
     "execution_count": 39,
     "metadata": {},
     "output_type": "execute_result"
    }
   ],
   "source": [
    "short_rides['distance'].describe()"
   ]
  },
  {
   "cell_type": "markdown",
   "id": "704bf974",
   "metadata": {},
   "source": [
    "Изучив данные по по поедкам короче 1 минуты, мы видим, что средняя дистанция, которую проехали пользователи за это время составляет 5113 метров (около 5 километров), а минимальная - 4030 метров (4 километра), что никак не может соответствовать действительности."
   ]
  },
  {
   "cell_type": "code",
   "execution_count": 40,
   "id": "48b1df27",
   "metadata": {},
   "outputs": [
    {
     "data": {
      "image/png": "[encoded data removed]",
      "text/plain": [
       "<Figure size 720x360 with 1 Axes>"
      ]
     },
     "metadata": {
      "needs_background": "light"
     },
     "output_type": "display_data"
    }
   ],
   "source": [
    "plt.figure(figsize=(10, 5))\n",
    "plt.scatter(short_rides['duration'], short_rides['distance'], alpha=0.5)\n",
    "plt.xlabel('Время поездки (минуты)')\n",
    "plt.ylabel('Расстояние поездки (метры)')\n",
    "plt.title('Взаимосвязь между временем и расстоянием поездки у коротких поездок')\n",
    "plt.show()"
   ]
  },
  {
   "cell_type": "code",
   "execution_count": 41,
   "id": "e8f57cb5",
   "metadata": {},
   "outputs": [
    {
     "data": {
      "image/png": "[encoded data removed]",
      "text/plain": [
       "<Figure size 432x288 with 1 Axes>"
      ]
     },
     "metadata": {
      "needs_background": "light"
     },
     "output_type": "display_data"
    }
   ],
   "source": [
    "short_rides = rides[rides['duration'] < 2] \n",
    "plt.hist(short_rides['distance'], bins=30)\n",
    "plt.xlabel('Расстояние поездки (м)')\n",
    "plt.ylabel('Количество поездок')\n",
    "plt.title('Распределение расстояний для поездок менее 2 минут')\n",
    "plt.show()"
   ]
  },
  {
   "cell_type": "markdown",
   "id": "a580c708",
   "metadata": {},
   "source": [
    "На графиках видно, что что все короткие поездки были совершены за время 0,5 минут, а максимальное расстояние, которое проехали пользователи, составило 7211 метров. Проехать 7 километров за пол секунды невозможно, да и само время поездки в пол секунды тоже вызывает вопросы. Скорее всего, речь идёт об техническом сбое программы на самокатах (неправильная фиксация времени) или же об ошибке при выгрузке данных. На этот вопрос компании стоит обратить дополнительное внимание."
   ]
  },
  {
   "cell_type": "code",
   "execution_count": 42,
   "id": "fae3339d",
   "metadata": {},
   "outputs": [],
   "source": [
    "rides_n = rides[rides['duration'] > 1]"
   ]
  },
  {
   "cell_type": "code",
   "execution_count": 43,
   "id": "350044d9",
   "metadata": {},
   "outputs": [
    {
     "data": {
      "text/plain": [
       "count    17973.000000\n",
       "mean      3059.863849\n",
       "std       1108.814623\n",
       "min          0.860000\n",
       "25%       2538.840000\n",
       "50%       3129.030000\n",
       "75%       3762.640000\n",
       "max       7066.000000\n",
       "Name: distance, dtype: float64"
      ]
     },
     "execution_count": 43,
     "metadata": {},
     "output_type": "execute_result"
    }
   ],
   "source": [
    "rides_n['distance'].describe()"
   ]
  },
  {
   "cell_type": "code",
   "execution_count": 44,
   "id": "2c59b8ca",
   "metadata": {},
   "outputs": [
    {
     "data": {
      "text/plain": [
       "count    17973.000000\n",
       "mean        17.896486\n",
       "std          5.975444\n",
       "min          2.040000\n",
       "25%         13.670000\n",
       "50%         17.710000\n",
       "75%         21.750000\n",
       "max         40.820000\n",
       "Name: duration, dtype: float64"
      ]
     },
     "execution_count": 44,
     "metadata": {},
     "output_type": "execute_result"
    }
   ],
   "source": [
    "rides_n['duration'].describe()"
   ]
  },
  {
   "cell_type": "markdown",
   "id": "cd28f8a7",
   "metadata": {},
   "source": [
    "Без учёта аномально коротких поездок среднее время одной поездки составило 17,89 минут, а среднее расстояние - 3059 метров (было 3070 метров). "
   ]
  },
  {
   "cell_type": "markdown",
   "id": "86c21177",
   "metadata": {},
   "source": [
    "***Вывод:***"
   ]
  },
  {
   "cell_type": "markdown",
   "id": "b2096e36",
   "metadata": {},
   "source": [
    "Продолжительность поездок варьируется в пределах от 1 минуты до 41 минуты. Среднее и медианное значения приктически совпадают и составляют около 18 минут. Две трети пользователей (75%) использовали самокат в пределах 22 минут. Стоит обратить внимание на выделяющиеся значения в районе 1-2 минут - таких коротких поездок оказалось 95. С учётом более детального анализа коротких поездок (до 1 минуты) было выявлено, что все 95 поездок были совершены за время 0,5 минут, а максимальное зафиксированное расстояние составило 7211 метров. Проехать 7 километров за пол секунды невозможно, да и само время поездки в пол секунды тоже вызывает вопросы. Скорее всего, речь идёт об техническом сбое программы на самокатах (неправильная фиксация времени) или же об ошибке при выгрузке данных. На этот вопрос компании стоит обратить дополнительное внимание."
   ]
  },
  {
   "cell_type": "markdown",
   "id": "b8606c92",
   "metadata": {},
   "source": [
    "# ***Вывод:***"
   ]
  },
  {
   "cell_type": "markdown",
   "id": "c2d457a2",
   "metadata": {},
   "source": [
    "Больше всего сервис популярен в Пятигорске, Екатеринбурге и Ростове-на-Дону, а менее всего - в Омске, Тюмени и Москве. В основном, на первых позициях списка расположены южные города, где сезон проката самокатов дольше. Исключение совставляет город Екатеринбург, находящийся на втором месте. Возможно, это связано с тем, что Екатеринбург - довольно крупный город (второй из представленных после Москвы по численности населения), и самокат там является достаточно популярным видом транспорта благодаря своей доступности, удобству и скорости передвижения.\n",
    "\n",
    "Больше половины пользователей (54,4%) пользуюся сервисом без платной подписки. Платную подписку используют 45,6% пользователей.\n",
    "\n",
    "Услугами сервиса пользуются люди от 12 до 43 лет, а средний возраст пользователя составляет 25 лет. Этот же возраст является и модой, и медианой. В целом можно сказать, что сервис проката самокатов более популярен у молодых людей - две трети пользователей не старше 28 лет.\n",
    "\n",
    "Минимальное расстояние одной поездки составляет менее 1 метра, максимальное - чуть больше 7 километров (7211 метров). В среднем пользователи за одну поездку проезжали около 3 километров (3070 метров). Наличие двух пиков даёт повод предположить, что существует два сценария использования приложения: группа пользователей проезжает до 1500 метров (в среднем 700 метров), и вторая группа, которая совершает более длительные поездки - от 1500 до 7211 метров(в среднем 3331 метр). С этими двумя группами пользователей можно работать по-разному, используя для каждой свои маркетинговые приёмы.\n",
    "\n",
    "При построении гистограммы можно наблюдать два пика: крупный в районе 3100 метров, и второй, меньший пик в районе 700 метров. \n",
    "\n",
    "Продолжительность поездок находится в пределах от 1 минуты до 41 минуты. Среднее и медианное значения приктически совпадают и составляют около 18 минут. Две трети пользователей (75%) использовали самокат в пределах 22 минут, что вполне соотносится с тем, что две трети поездок находились в пределах 3776 метров. Стоит обратить внимание на выделяющиеся значения в районе 1-2 минут - таких коротких поездок оказалось 95. С учётом более детального анализа было выявлено, что все короткие поездки были совершены за  однаковое время 0,5 минут, а максимальное зафиксированное расстояние составило 7211 метров. Проехать 7 километров за пол секунды невозможно, да и само время поездки в пол секунды тоже вызывает вопросы. Скорее всего, речь идёт об техническом сбое программы на самокатах (неправильная фиксация времени) или же об ошибке при выгрузке данных. На этот вопрос компании стоит обратить дополнительное внимание."
   ]
  },
  {
   "cell_type": "code",
   "execution_count": null,
   "id": "3c563bdf",
   "metadata": {},
   "outputs": [],
   "source": []
  },
  {
   "cell_type": "markdown",
   "id": "4ef51331",
   "metadata": {},
   "source": [
    "#### Шаг 4. Объединение данных"
   ]
  },
  {
   "cell_type": "markdown",
   "id": "d474a6be",
   "metadata": {},
   "source": [
    "##### Объединение данных в один датафрейм"
   ]
  },
  {
   "cell_type": "code",
   "execution_count": 45,
   "id": "16c185a8",
   "metadata": {},
   "outputs": [],
   "source": [
    "total = users.merge(rides, on = 'user_id')\n",
    "total = total.merge(subscriptions, on = 'subscription_type')"
   ]
  },
  {
   "cell_type": "code",
   "execution_count": 46,
   "id": "efae67b9",
   "metadata": {
    "scrolled": true
   },
   "outputs": [
    {
     "data": {
      "text/html": [
       "<div>\n",
       "<style scoped>\n",
       "    .dataframe tbody tr th:only-of-type {\n",
       "        vertical-align: middle;\n",
       "    }\n",
       "\n",
       "    .dataframe tbody tr th {\n",
       "        vertical-align: top;\n",
       "    }\n",
       "\n",
       "    .dataframe thead th {\n",
       "        text-align: right;\n",
       "    }\n",
       "</style>\n",
       "<table border=\"1\" class=\"dataframe\">\n",
       "  <thead>\n",
       "    <tr style=\"text-align: right;\">\n",
       "      <th></th>\n",
       "      <th>user_id</th>\n",
       "      <th>name</th>\n",
       "      <th>age</th>\n",
       "      <th>city</th>\n",
       "      <th>subscription_type</th>\n",
       "      <th>distance</th>\n",
       "      <th>duration</th>\n",
       "      <th>date</th>\n",
       "      <th>month</th>\n",
       "      <th>minute_price</th>\n",
       "      <th>start_ride_price</th>\n",
       "      <th>subscription_fee</th>\n",
       "    </tr>\n",
       "  </thead>\n",
       "  <tbody>\n",
       "    <tr>\n",
       "      <th>0</th>\n",
       "      <td>1</td>\n",
       "      <td>Кира</td>\n",
       "      <td>22</td>\n",
       "      <td>Тюмень</td>\n",
       "      <td>ultra</td>\n",
       "      <td>4409.92</td>\n",
       "      <td>25.60</td>\n",
       "      <td>2021-01-01</td>\n",
       "      <td>1</td>\n",
       "      <td>6</td>\n",
       "      <td>0</td>\n",
       "      <td>199</td>\n",
       "    </tr>\n",
       "    <tr>\n",
       "      <th>1</th>\n",
       "      <td>1</td>\n",
       "      <td>Кира</td>\n",
       "      <td>22</td>\n",
       "      <td>Тюмень</td>\n",
       "      <td>ultra</td>\n",
       "      <td>2617.59</td>\n",
       "      <td>15.82</td>\n",
       "      <td>2021-01-18</td>\n",
       "      <td>1</td>\n",
       "      <td>6</td>\n",
       "      <td>0</td>\n",
       "      <td>199</td>\n",
       "    </tr>\n",
       "    <tr>\n",
       "      <th>2</th>\n",
       "      <td>1</td>\n",
       "      <td>Кира</td>\n",
       "      <td>22</td>\n",
       "      <td>Тюмень</td>\n",
       "      <td>ultra</td>\n",
       "      <td>754.16</td>\n",
       "      <td>6.23</td>\n",
       "      <td>2021-04-20</td>\n",
       "      <td>4</td>\n",
       "      <td>6</td>\n",
       "      <td>0</td>\n",
       "      <td>199</td>\n",
       "    </tr>\n",
       "    <tr>\n",
       "      <th>3</th>\n",
       "      <td>1</td>\n",
       "      <td>Кира</td>\n",
       "      <td>22</td>\n",
       "      <td>Тюмень</td>\n",
       "      <td>ultra</td>\n",
       "      <td>2694.78</td>\n",
       "      <td>18.51</td>\n",
       "      <td>2021-08-11</td>\n",
       "      <td>8</td>\n",
       "      <td>6</td>\n",
       "      <td>0</td>\n",
       "      <td>199</td>\n",
       "    </tr>\n",
       "    <tr>\n",
       "      <th>4</th>\n",
       "      <td>1</td>\n",
       "      <td>Кира</td>\n",
       "      <td>22</td>\n",
       "      <td>Тюмень</td>\n",
       "      <td>ultra</td>\n",
       "      <td>4028.69</td>\n",
       "      <td>26.27</td>\n",
       "      <td>2021-08-28</td>\n",
       "      <td>8</td>\n",
       "      <td>6</td>\n",
       "      <td>0</td>\n",
       "      <td>199</td>\n",
       "    </tr>\n",
       "    <tr>\n",
       "      <th>...</th>\n",
       "      <td>...</td>\n",
       "      <td>...</td>\n",
       "      <td>...</td>\n",
       "      <td>...</td>\n",
       "      <td>...</td>\n",
       "      <td>...</td>\n",
       "      <td>...</td>\n",
       "      <td>...</td>\n",
       "      <td>...</td>\n",
       "      <td>...</td>\n",
       "      <td>...</td>\n",
       "      <td>...</td>\n",
       "    </tr>\n",
       "    <tr>\n",
       "      <th>18063</th>\n",
       "      <td>1534</td>\n",
       "      <td>Альберт</td>\n",
       "      <td>25</td>\n",
       "      <td>Краснодар</td>\n",
       "      <td>free</td>\n",
       "      <td>3781.10</td>\n",
       "      <td>19.82</td>\n",
       "      <td>2021-11-04</td>\n",
       "      <td>11</td>\n",
       "      <td>8</td>\n",
       "      <td>50</td>\n",
       "      <td>0</td>\n",
       "    </tr>\n",
       "    <tr>\n",
       "      <th>18064</th>\n",
       "      <td>1534</td>\n",
       "      <td>Альберт</td>\n",
       "      <td>25</td>\n",
       "      <td>Краснодар</td>\n",
       "      <td>free</td>\n",
       "      <td>2840.42</td>\n",
       "      <td>21.41</td>\n",
       "      <td>2021-11-16</td>\n",
       "      <td>11</td>\n",
       "      <td>8</td>\n",
       "      <td>50</td>\n",
       "      <td>0</td>\n",
       "    </tr>\n",
       "    <tr>\n",
       "      <th>18065</th>\n",
       "      <td>1534</td>\n",
       "      <td>Альберт</td>\n",
       "      <td>25</td>\n",
       "      <td>Краснодар</td>\n",
       "      <td>free</td>\n",
       "      <td>3826.19</td>\n",
       "      <td>18.44</td>\n",
       "      <td>2021-11-18</td>\n",
       "      <td>11</td>\n",
       "      <td>8</td>\n",
       "      <td>50</td>\n",
       "      <td>0</td>\n",
       "    </tr>\n",
       "    <tr>\n",
       "      <th>18066</th>\n",
       "      <td>1534</td>\n",
       "      <td>Альберт</td>\n",
       "      <td>25</td>\n",
       "      <td>Краснодар</td>\n",
       "      <td>free</td>\n",
       "      <td>2902.31</td>\n",
       "      <td>16.67</td>\n",
       "      <td>2021-11-27</td>\n",
       "      <td>11</td>\n",
       "      <td>8</td>\n",
       "      <td>50</td>\n",
       "      <td>0</td>\n",
       "    </tr>\n",
       "    <tr>\n",
       "      <th>18067</th>\n",
       "      <td>1534</td>\n",
       "      <td>Альберт</td>\n",
       "      <td>25</td>\n",
       "      <td>Краснодар</td>\n",
       "      <td>free</td>\n",
       "      <td>2371.71</td>\n",
       "      <td>15.89</td>\n",
       "      <td>2021-12-29</td>\n",
       "      <td>12</td>\n",
       "      <td>8</td>\n",
       "      <td>50</td>\n",
       "      <td>0</td>\n",
       "    </tr>\n",
       "  </tbody>\n",
       "</table>\n",
       "<p>18068 rows × 12 columns</p>\n",
       "</div>"
      ],
      "text/plain": [
       "       user_id     name  age       city subscription_type  distance  duration  \\\n",
       "0            1     Кира   22     Тюмень             ultra   4409.92     25.60   \n",
       "1            1     Кира   22     Тюмень             ultra   2617.59     15.82   \n",
       "2            1     Кира   22     Тюмень             ultra    754.16      6.23   \n",
       "3            1     Кира   22     Тюмень             ultra   2694.78     18.51   \n",
       "4            1     Кира   22     Тюмень             ultra   4028.69     26.27   \n",
       "...        ...      ...  ...        ...               ...       ...       ...   \n",
       "18063     1534  Альберт   25  Краснодар              free   3781.10     19.82   \n",
       "18064     1534  Альберт   25  Краснодар              free   2840.42     21.41   \n",
       "18065     1534  Альберт   25  Краснодар              free   3826.19     18.44   \n",
       "18066     1534  Альберт   25  Краснодар              free   2902.31     16.67   \n",
       "18067     1534  Альберт   25  Краснодар              free   2371.71     15.89   \n",
       "\n",
       "            date  month  minute_price  start_ride_price  subscription_fee  \n",
       "0     2021-01-01      1             6                 0               199  \n",
       "1     2021-01-18      1             6                 0               199  \n",
       "2     2021-04-20      4             6                 0               199  \n",
       "3     2021-08-11      8             6                 0               199  \n",
       "4     2021-08-28      8             6                 0               199  \n",
       "...          ...    ...           ...               ...               ...  \n",
       "18063 2021-11-04     11             8                50                 0  \n",
       "18064 2021-11-16     11             8                50                 0  \n",
       "18065 2021-11-18     11             8                50                 0  \n",
       "18066 2021-11-27     11             8                50                 0  \n",
       "18067 2021-12-29     12             8                50                 0  \n",
       "\n",
       "[18068 rows x 12 columns]"
      ]
     },
     "metadata": {},
     "output_type": "display_data"
    }
   ],
   "source": [
    "display(total)"
   ]
  },
  {
   "cell_type": "code",
   "execution_count": 47,
   "id": "1020da25",
   "metadata": {},
   "outputs": [
    {
     "name": "stdout",
     "output_type": "stream",
     "text": [
      "Количество явных дубликатов в новом датафрейме: 0\n"
     ]
    }
   ],
   "source": [
    "# проверим новый датафрейм на наличие дубликатов \n",
    "print ('Количество явных дубликатов в новом датафрейме:', total.duplicated().sum())"
   ]
  },
  {
   "cell_type": "code",
   "execution_count": 48,
   "id": "afc7d15c",
   "metadata": {},
   "outputs": [
    {
     "name": "stdout",
     "output_type": "stream",
     "text": [
      "Количество уникальных пользователей в первоначальном датафрейме: 1534\n",
      "Количество уникальных пользователей в новом датайрейме: 1534\n"
     ]
    }
   ],
   "source": [
    "print('Количество уникальных пользователей в первоначальном датафрейме:', len(users['user_id'].unique()))\n",
    "print('Количество уникальных пользователей в новом датайрейме:', len(total['user_id'].unique()))"
   ]
  },
  {
   "cell_type": "markdown",
   "id": "78370bd2",
   "metadata": {},
   "source": []
  },
  {
   "cell_type": "code",
   "execution_count": 49,
   "id": "f1e9a419",
   "metadata": {},
   "outputs": [
    {
     "name": "stdout",
     "output_type": "stream",
     "text": [
      "<class 'pandas.core.frame.DataFrame'>\n",
      "Int64Index: 18068 entries, 0 to 18067\n",
      "Data columns (total 12 columns):\n",
      " #   Column             Non-Null Count  Dtype         \n",
      "---  ------             --------------  -----         \n",
      " 0   user_id            18068 non-null  int64         \n",
      " 1   name               18068 non-null  object        \n",
      " 2   age                18068 non-null  int64         \n",
      " 3   city               18068 non-null  object        \n",
      " 4   subscription_type  18068 non-null  object        \n",
      " 5   distance           18068 non-null  float64       \n",
      " 6   duration           18068 non-null  float64       \n",
      " 7   date               18068 non-null  datetime64[ns]\n",
      " 8   month              18068 non-null  int64         \n",
      " 9   minute_price       18068 non-null  int64         \n",
      " 10  start_ride_price   18068 non-null  int64         \n",
      " 11  subscription_fee   18068 non-null  int64         \n",
      "dtypes: datetime64[ns](1), float64(2), int64(6), object(3)\n",
      "memory usage: 1.8+ MB\n"
     ]
    }
   ],
   "source": [
    "total.info()"
   ]
  },
  {
   "cell_type": "markdown",
   "id": "799cf204",
   "metadata": {},
   "source": [
    "***Вывод:***"
   ]
  },
  {
   "cell_type": "markdown",
   "id": "b1e73404",
   "metadata": {},
   "source": [
    "На данном шаге мы соединили три отдельных датафрейма в один общий. В новом датафрейме - 18 068 строк и 12 столбцов. Дубликатов и пропусков обнаружено не было. Количество уникальных пользователей сохранилось."
   ]
  },
  {
   "cell_type": "code",
   "execution_count": null,
   "id": "70927dfb",
   "metadata": {},
   "outputs": [],
   "source": []
  },
  {
   "cell_type": "markdown",
   "id": "8e2035f3",
   "metadata": {},
   "source": [
    "##### Создание новых датафреймов"
   ]
  },
  {
   "cell_type": "markdown",
   "id": "5ac9a2cd",
   "metadata": {},
   "source": [
    "###### Создание датафрейма с данными пользователей без подписки "
   ]
  },
  {
   "cell_type": "code",
   "execution_count": 50,
   "id": "8a14ce02",
   "metadata": {},
   "outputs": [
    {
     "data": {
      "text/html": [
       "<div>\n",
       "<style scoped>\n",
       "    .dataframe tbody tr th:only-of-type {\n",
       "        vertical-align: middle;\n",
       "    }\n",
       "\n",
       "    .dataframe tbody tr th {\n",
       "        vertical-align: top;\n",
       "    }\n",
       "\n",
       "    .dataframe thead th {\n",
       "        text-align: right;\n",
       "    }\n",
       "</style>\n",
       "<table border=\"1\" class=\"dataframe\">\n",
       "  <thead>\n",
       "    <tr style=\"text-align: right;\">\n",
       "      <th></th>\n",
       "      <th>user_id</th>\n",
       "      <th>name</th>\n",
       "      <th>age</th>\n",
       "      <th>city</th>\n",
       "      <th>subscription_type</th>\n",
       "      <th>distance</th>\n",
       "      <th>duration</th>\n",
       "      <th>date</th>\n",
       "      <th>month</th>\n",
       "      <th>minute_price</th>\n",
       "      <th>start_ride_price</th>\n",
       "      <th>subscription_fee</th>\n",
       "    </tr>\n",
       "  </thead>\n",
       "  <tbody>\n",
       "    <tr>\n",
       "      <th>6500</th>\n",
       "      <td>700</td>\n",
       "      <td>Айдар</td>\n",
       "      <td>22</td>\n",
       "      <td>Омск</td>\n",
       "      <td>free</td>\n",
       "      <td>2515.69</td>\n",
       "      <td>14.94</td>\n",
       "      <td>2021-01-02</td>\n",
       "      <td>1</td>\n",
       "      <td>8</td>\n",
       "      <td>50</td>\n",
       "      <td>0</td>\n",
       "    </tr>\n",
       "    <tr>\n",
       "      <th>6501</th>\n",
       "      <td>700</td>\n",
       "      <td>Айдар</td>\n",
       "      <td>22</td>\n",
       "      <td>Омск</td>\n",
       "      <td>free</td>\n",
       "      <td>846.93</td>\n",
       "      <td>16.23</td>\n",
       "      <td>2021-02-01</td>\n",
       "      <td>2</td>\n",
       "      <td>8</td>\n",
       "      <td>50</td>\n",
       "      <td>0</td>\n",
       "    </tr>\n",
       "    <tr>\n",
       "      <th>6502</th>\n",
       "      <td>700</td>\n",
       "      <td>Айдар</td>\n",
       "      <td>22</td>\n",
       "      <td>Омск</td>\n",
       "      <td>free</td>\n",
       "      <td>4004.43</td>\n",
       "      <td>20.02</td>\n",
       "      <td>2021-02-04</td>\n",
       "      <td>2</td>\n",
       "      <td>8</td>\n",
       "      <td>50</td>\n",
       "      <td>0</td>\n",
       "    </tr>\n",
       "    <tr>\n",
       "      <th>6503</th>\n",
       "      <td>700</td>\n",
       "      <td>Айдар</td>\n",
       "      <td>22</td>\n",
       "      <td>Омск</td>\n",
       "      <td>free</td>\n",
       "      <td>1205.91</td>\n",
       "      <td>9.78</td>\n",
       "      <td>2021-02-10</td>\n",
       "      <td>2</td>\n",
       "      <td>8</td>\n",
       "      <td>50</td>\n",
       "      <td>0</td>\n",
       "    </tr>\n",
       "    <tr>\n",
       "      <th>6504</th>\n",
       "      <td>700</td>\n",
       "      <td>Айдар</td>\n",
       "      <td>22</td>\n",
       "      <td>Омск</td>\n",
       "      <td>free</td>\n",
       "      <td>3047.38</td>\n",
       "      <td>17.43</td>\n",
       "      <td>2021-02-14</td>\n",
       "      <td>2</td>\n",
       "      <td>8</td>\n",
       "      <td>50</td>\n",
       "      <td>0</td>\n",
       "    </tr>\n",
       "    <tr>\n",
       "      <th>...</th>\n",
       "      <td>...</td>\n",
       "      <td>...</td>\n",
       "      <td>...</td>\n",
       "      <td>...</td>\n",
       "      <td>...</td>\n",
       "      <td>...</td>\n",
       "      <td>...</td>\n",
       "      <td>...</td>\n",
       "      <td>...</td>\n",
       "      <td>...</td>\n",
       "      <td>...</td>\n",
       "      <td>...</td>\n",
       "    </tr>\n",
       "    <tr>\n",
       "      <th>18063</th>\n",
       "      <td>1534</td>\n",
       "      <td>Альберт</td>\n",
       "      <td>25</td>\n",
       "      <td>Краснодар</td>\n",
       "      <td>free</td>\n",
       "      <td>3781.10</td>\n",
       "      <td>19.82</td>\n",
       "      <td>2021-11-04</td>\n",
       "      <td>11</td>\n",
       "      <td>8</td>\n",
       "      <td>50</td>\n",
       "      <td>0</td>\n",
       "    </tr>\n",
       "    <tr>\n",
       "      <th>18064</th>\n",
       "      <td>1534</td>\n",
       "      <td>Альберт</td>\n",
       "      <td>25</td>\n",
       "      <td>Краснодар</td>\n",
       "      <td>free</td>\n",
       "      <td>2840.42</td>\n",
       "      <td>21.41</td>\n",
       "      <td>2021-11-16</td>\n",
       "      <td>11</td>\n",
       "      <td>8</td>\n",
       "      <td>50</td>\n",
       "      <td>0</td>\n",
       "    </tr>\n",
       "    <tr>\n",
       "      <th>18065</th>\n",
       "      <td>1534</td>\n",
       "      <td>Альберт</td>\n",
       "      <td>25</td>\n",
       "      <td>Краснодар</td>\n",
       "      <td>free</td>\n",
       "      <td>3826.19</td>\n",
       "      <td>18.44</td>\n",
       "      <td>2021-11-18</td>\n",
       "      <td>11</td>\n",
       "      <td>8</td>\n",
       "      <td>50</td>\n",
       "      <td>0</td>\n",
       "    </tr>\n",
       "    <tr>\n",
       "      <th>18066</th>\n",
       "      <td>1534</td>\n",
       "      <td>Альберт</td>\n",
       "      <td>25</td>\n",
       "      <td>Краснодар</td>\n",
       "      <td>free</td>\n",
       "      <td>2902.31</td>\n",
       "      <td>16.67</td>\n",
       "      <td>2021-11-27</td>\n",
       "      <td>11</td>\n",
       "      <td>8</td>\n",
       "      <td>50</td>\n",
       "      <td>0</td>\n",
       "    </tr>\n",
       "    <tr>\n",
       "      <th>18067</th>\n",
       "      <td>1534</td>\n",
       "      <td>Альберт</td>\n",
       "      <td>25</td>\n",
       "      <td>Краснодар</td>\n",
       "      <td>free</td>\n",
       "      <td>2371.71</td>\n",
       "      <td>15.89</td>\n",
       "      <td>2021-12-29</td>\n",
       "      <td>12</td>\n",
       "      <td>8</td>\n",
       "      <td>50</td>\n",
       "      <td>0</td>\n",
       "    </tr>\n",
       "  </tbody>\n",
       "</table>\n",
       "<p>11568 rows × 12 columns</p>\n",
       "</div>"
      ],
      "text/plain": [
       "       user_id     name  age       city subscription_type  distance  duration  \\\n",
       "6500       700    Айдар   22       Омск              free   2515.69     14.94   \n",
       "6501       700    Айдар   22       Омск              free    846.93     16.23   \n",
       "6502       700    Айдар   22       Омск              free   4004.43     20.02   \n",
       "6503       700    Айдар   22       Омск              free   1205.91      9.78   \n",
       "6504       700    Айдар   22       Омск              free   3047.38     17.43   \n",
       "...        ...      ...  ...        ...               ...       ...       ...   \n",
       "18063     1534  Альберт   25  Краснодар              free   3781.10     19.82   \n",
       "18064     1534  Альберт   25  Краснодар              free   2840.42     21.41   \n",
       "18065     1534  Альберт   25  Краснодар              free   3826.19     18.44   \n",
       "18066     1534  Альберт   25  Краснодар              free   2902.31     16.67   \n",
       "18067     1534  Альберт   25  Краснодар              free   2371.71     15.89   \n",
       "\n",
       "            date  month  minute_price  start_ride_price  subscription_fee  \n",
       "6500  2021-01-02      1             8                50                 0  \n",
       "6501  2021-02-01      2             8                50                 0  \n",
       "6502  2021-02-04      2             8                50                 0  \n",
       "6503  2021-02-10      2             8                50                 0  \n",
       "6504  2021-02-14      2             8                50                 0  \n",
       "...          ...    ...           ...               ...               ...  \n",
       "18063 2021-11-04     11             8                50                 0  \n",
       "18064 2021-11-16     11             8                50                 0  \n",
       "18065 2021-11-18     11             8                50                 0  \n",
       "18066 2021-11-27     11             8                50                 0  \n",
       "18067 2021-12-29     12             8                50                 0  \n",
       "\n",
       "[11568 rows x 12 columns]"
      ]
     },
     "metadata": {},
     "output_type": "display_data"
    }
   ],
   "source": [
    "users_free = total[total['subscription_type']=='free']\n",
    "display(users_free)"
   ]
  },
  {
   "cell_type": "markdown",
   "id": "49a95523",
   "metadata": {},
   "source": [
    "###### Создание датафрейма с данными пользователей с платной подпиской"
   ]
  },
  {
   "cell_type": "code",
   "execution_count": 51,
   "id": "348bfaf1",
   "metadata": {},
   "outputs": [
    {
     "data": {
      "text/html": [
       "<div>\n",
       "<style scoped>\n",
       "    .dataframe tbody tr th:only-of-type {\n",
       "        vertical-align: middle;\n",
       "    }\n",
       "\n",
       "    .dataframe tbody tr th {\n",
       "        vertical-align: top;\n",
       "    }\n",
       "\n",
       "    .dataframe thead th {\n",
       "        text-align: right;\n",
       "    }\n",
       "</style>\n",
       "<table border=\"1\" class=\"dataframe\">\n",
       "  <thead>\n",
       "    <tr style=\"text-align: right;\">\n",
       "      <th></th>\n",
       "      <th>user_id</th>\n",
       "      <th>name</th>\n",
       "      <th>age</th>\n",
       "      <th>city</th>\n",
       "      <th>subscription_type</th>\n",
       "      <th>distance</th>\n",
       "      <th>duration</th>\n",
       "      <th>date</th>\n",
       "      <th>month</th>\n",
       "      <th>minute_price</th>\n",
       "      <th>start_ride_price</th>\n",
       "      <th>subscription_fee</th>\n",
       "    </tr>\n",
       "  </thead>\n",
       "  <tbody>\n",
       "    <tr>\n",
       "      <th>0</th>\n",
       "      <td>1</td>\n",
       "      <td>Кира</td>\n",
       "      <td>22</td>\n",
       "      <td>Тюмень</td>\n",
       "      <td>ultra</td>\n",
       "      <td>4409.92</td>\n",
       "      <td>25.60</td>\n",
       "      <td>2021-01-01</td>\n",
       "      <td>1</td>\n",
       "      <td>6</td>\n",
       "      <td>0</td>\n",
       "      <td>199</td>\n",
       "    </tr>\n",
       "    <tr>\n",
       "      <th>1</th>\n",
       "      <td>1</td>\n",
       "      <td>Кира</td>\n",
       "      <td>22</td>\n",
       "      <td>Тюмень</td>\n",
       "      <td>ultra</td>\n",
       "      <td>2617.59</td>\n",
       "      <td>15.82</td>\n",
       "      <td>2021-01-18</td>\n",
       "      <td>1</td>\n",
       "      <td>6</td>\n",
       "      <td>0</td>\n",
       "      <td>199</td>\n",
       "    </tr>\n",
       "    <tr>\n",
       "      <th>2</th>\n",
       "      <td>1</td>\n",
       "      <td>Кира</td>\n",
       "      <td>22</td>\n",
       "      <td>Тюмень</td>\n",
       "      <td>ultra</td>\n",
       "      <td>754.16</td>\n",
       "      <td>6.23</td>\n",
       "      <td>2021-04-20</td>\n",
       "      <td>4</td>\n",
       "      <td>6</td>\n",
       "      <td>0</td>\n",
       "      <td>199</td>\n",
       "    </tr>\n",
       "    <tr>\n",
       "      <th>3</th>\n",
       "      <td>1</td>\n",
       "      <td>Кира</td>\n",
       "      <td>22</td>\n",
       "      <td>Тюмень</td>\n",
       "      <td>ultra</td>\n",
       "      <td>2694.78</td>\n",
       "      <td>18.51</td>\n",
       "      <td>2021-08-11</td>\n",
       "      <td>8</td>\n",
       "      <td>6</td>\n",
       "      <td>0</td>\n",
       "      <td>199</td>\n",
       "    </tr>\n",
       "    <tr>\n",
       "      <th>4</th>\n",
       "      <td>1</td>\n",
       "      <td>Кира</td>\n",
       "      <td>22</td>\n",
       "      <td>Тюмень</td>\n",
       "      <td>ultra</td>\n",
       "      <td>4028.69</td>\n",
       "      <td>26.27</td>\n",
       "      <td>2021-08-28</td>\n",
       "      <td>8</td>\n",
       "      <td>6</td>\n",
       "      <td>0</td>\n",
       "      <td>199</td>\n",
       "    </tr>\n",
       "    <tr>\n",
       "      <th>...</th>\n",
       "      <td>...</td>\n",
       "      <td>...</td>\n",
       "      <td>...</td>\n",
       "      <td>...</td>\n",
       "      <td>...</td>\n",
       "      <td>...</td>\n",
       "      <td>...</td>\n",
       "      <td>...</td>\n",
       "      <td>...</td>\n",
       "      <td>...</td>\n",
       "      <td>...</td>\n",
       "      <td>...</td>\n",
       "    </tr>\n",
       "    <tr>\n",
       "      <th>6495</th>\n",
       "      <td>699</td>\n",
       "      <td>Оксана</td>\n",
       "      <td>22</td>\n",
       "      <td>Москва</td>\n",
       "      <td>ultra</td>\n",
       "      <td>3973.05</td>\n",
       "      <td>24.67</td>\n",
       "      <td>2021-08-29</td>\n",
       "      <td>8</td>\n",
       "      <td>6</td>\n",
       "      <td>0</td>\n",
       "      <td>199</td>\n",
       "    </tr>\n",
       "    <tr>\n",
       "      <th>6496</th>\n",
       "      <td>699</td>\n",
       "      <td>Оксана</td>\n",
       "      <td>22</td>\n",
       "      <td>Москва</td>\n",
       "      <td>ultra</td>\n",
       "      <td>3288.70</td>\n",
       "      <td>15.89</td>\n",
       "      <td>2021-09-12</td>\n",
       "      <td>9</td>\n",
       "      <td>6</td>\n",
       "      <td>0</td>\n",
       "      <td>199</td>\n",
       "    </tr>\n",
       "    <tr>\n",
       "      <th>6497</th>\n",
       "      <td>699</td>\n",
       "      <td>Оксана</td>\n",
       "      <td>22</td>\n",
       "      <td>Москва</td>\n",
       "      <td>ultra</td>\n",
       "      <td>3076.16</td>\n",
       "      <td>14.39</td>\n",
       "      <td>2021-09-26</td>\n",
       "      <td>9</td>\n",
       "      <td>6</td>\n",
       "      <td>0</td>\n",
       "      <td>199</td>\n",
       "    </tr>\n",
       "    <tr>\n",
       "      <th>6498</th>\n",
       "      <td>699</td>\n",
       "      <td>Оксана</td>\n",
       "      <td>22</td>\n",
       "      <td>Москва</td>\n",
       "      <td>ultra</td>\n",
       "      <td>4707.85</td>\n",
       "      <td>15.84</td>\n",
       "      <td>2021-10-17</td>\n",
       "      <td>10</td>\n",
       "      <td>6</td>\n",
       "      <td>0</td>\n",
       "      <td>199</td>\n",
       "    </tr>\n",
       "    <tr>\n",
       "      <th>6499</th>\n",
       "      <td>699</td>\n",
       "      <td>Оксана</td>\n",
       "      <td>22</td>\n",
       "      <td>Москва</td>\n",
       "      <td>ultra</td>\n",
       "      <td>3202.89</td>\n",
       "      <td>25.22</td>\n",
       "      <td>2021-12-03</td>\n",
       "      <td>12</td>\n",
       "      <td>6</td>\n",
       "      <td>0</td>\n",
       "      <td>199</td>\n",
       "    </tr>\n",
       "  </tbody>\n",
       "</table>\n",
       "<p>6500 rows × 12 columns</p>\n",
       "</div>"
      ],
      "text/plain": [
       "      user_id    name  age    city subscription_type  distance  duration  \\\n",
       "0           1    Кира   22  Тюмень             ultra   4409.92     25.60   \n",
       "1           1    Кира   22  Тюмень             ultra   2617.59     15.82   \n",
       "2           1    Кира   22  Тюмень             ultra    754.16      6.23   \n",
       "3           1    Кира   22  Тюмень             ultra   2694.78     18.51   \n",
       "4           1    Кира   22  Тюмень             ultra   4028.69     26.27   \n",
       "...       ...     ...  ...     ...               ...       ...       ...   \n",
       "6495      699  Оксана   22  Москва             ultra   3973.05     24.67   \n",
       "6496      699  Оксана   22  Москва             ultra   3288.70     15.89   \n",
       "6497      699  Оксана   22  Москва             ultra   3076.16     14.39   \n",
       "6498      699  Оксана   22  Москва             ultra   4707.85     15.84   \n",
       "6499      699  Оксана   22  Москва             ultra   3202.89     25.22   \n",
       "\n",
       "           date  month  minute_price  start_ride_price  subscription_fee  \n",
       "0    2021-01-01      1             6                 0               199  \n",
       "1    2021-01-18      1             6                 0               199  \n",
       "2    2021-04-20      4             6                 0               199  \n",
       "3    2021-08-11      8             6                 0               199  \n",
       "4    2021-08-28      8             6                 0               199  \n",
       "...         ...    ...           ...               ...               ...  \n",
       "6495 2021-08-29      8             6                 0               199  \n",
       "6496 2021-09-12      9             6                 0               199  \n",
       "6497 2021-09-26      9             6                 0               199  \n",
       "6498 2021-10-17     10             6                 0               199  \n",
       "6499 2021-12-03     12             6                 0               199  \n",
       "\n",
       "[6500 rows x 12 columns]"
      ]
     },
     "metadata": {},
     "output_type": "display_data"
    }
   ],
   "source": [
    "users_ultra = total[total['subscription_type']=='ultra']\n",
    "display(users_ultra)"
   ]
  },
  {
   "cell_type": "code",
   "execution_count": 52,
   "id": "37730dee",
   "metadata": {},
   "outputs": [
    {
     "name": "stdout",
     "output_type": "stream",
     "text": [
      "Суммарная длина двух новых датафреймов: 18068\n"
     ]
    }
   ],
   "source": [
    "print('Суммарная длина двух новых датафреймов:',len(users_free) + len(users_ultra))"
   ]
  },
  {
   "cell_type": "markdown",
   "id": "73643396",
   "metadata": {},
   "source": [
    "Суммарное количество строк двух новых датафреймов составляет 18 068 строк, что равно количеству строк изначального датафрейма. Датафреймы были розделены корректно."
   ]
  },
  {
   "cell_type": "code",
   "execution_count": null,
   "id": "846370c6",
   "metadata": {},
   "outputs": [],
   "source": []
  },
  {
   "cell_type": "markdown",
   "id": "a86d5d28",
   "metadata": {},
   "source": [
    "##### Визуализация информации"
   ]
  },
  {
   "cell_type": "markdown",
   "id": "c0a5bc1d",
   "metadata": {},
   "source": [
    "###### Пользователи без подписки"
   ]
  },
  {
   "cell_type": "code",
   "execution_count": 53,
   "id": "9dcc8538",
   "metadata": {},
   "outputs": [
    {
     "data": {
      "text/plain": [
       "count    11568.000000\n",
       "mean      3045.495284\n",
       "std       1246.173810\n",
       "min          0.860000\n",
       "25%       2366.560000\n",
       "50%       3114.650000\n",
       "75%       3905.695000\n",
       "max       7211.010000\n",
       "Name: distance, dtype: float64"
      ]
     },
     "execution_count": 53,
     "metadata": {},
     "output_type": "execute_result"
    }
   ],
   "source": [
    "users_free['distance'].describe()"
   ]
  },
  {
   "cell_type": "code",
   "execution_count": 54,
   "id": "0e6359b6",
   "metadata": {},
   "outputs": [
    {
     "data": {
      "image/png": "[encoded data removed]",
      "text/plain": [
       "<Figure size 720x360 with 1 Axes>"
      ]
     },
     "metadata": {
      "needs_background": "light"
     },
     "output_type": "display_data"
    }
   ],
   "source": [
    "plt.figure(figsize=(10, 5))\n",
    "users_free['distance'].hist(bins=100)\n",
    "plt.xlabel('Расстояние (м)')\n",
    "plt.ylabel('Количество пользователей')\n",
    "plt.title('Расстояние одной поездки пользователей без подписки')\n",
    "plt.grid(True);"
   ]
  },
  {
   "cell_type": "code",
   "execution_count": 55,
   "id": "109db3ef",
   "metadata": {},
   "outputs": [
    {
     "data": {
      "text/plain": [
       "count    11568.000000\n",
       "mean        17.390900\n",
       "std          6.326821\n",
       "min          0.500000\n",
       "25%         12.960000\n",
       "50%         17.330000\n",
       "75%         21.592500\n",
       "max         34.950000\n",
       "Name: duration, dtype: float64"
      ]
     },
     "execution_count": 55,
     "metadata": {},
     "output_type": "execute_result"
    }
   ],
   "source": [
    "users_free['duration'].describe()"
   ]
  },
  {
   "cell_type": "code",
   "execution_count": 56,
   "id": "758a1833",
   "metadata": {},
   "outputs": [
    {
     "data": {
      "image/png": "[encoded data removed]",
      "text/plain": [
       "<Figure size 720x360 with 1 Axes>"
      ]
     },
     "metadata": {
      "needs_background": "light"
     },
     "output_type": "display_data"
    }
   ],
   "source": [
    "plt.figure(figsize=(10, 5))\n",
    "users_free['duration'].hist(bins=100)\n",
    "plt.xlabel('Продолжительность (мин)')\n",
    "plt.ylabel('Количество пользователей')\n",
    "plt.title('Продолжительность поездок пользователей без подписок')\n",
    "plt.grid(True);"
   ]
  },
  {
   "cell_type": "code",
   "execution_count": null,
   "id": "b4975ea8",
   "metadata": {},
   "outputs": [],
   "source": []
  },
  {
   "cell_type": "markdown",
   "id": "7a50c0f1",
   "metadata": {},
   "source": [
    "###### Пользователи с подпиской"
   ]
  },
  {
   "cell_type": "code",
   "execution_count": 57,
   "id": "04aeeea9",
   "metadata": {},
   "outputs": [
    {
     "data": {
      "text/plain": [
       "count    6500.000000\n",
       "mean     3115.445431\n",
       "std       836.895369\n",
       "min       244.210000\n",
       "25%      2785.447500\n",
       "50%      3148.640000\n",
       "75%      3560.577500\n",
       "max      5699.770000\n",
       "Name: distance, dtype: float64"
      ]
     },
     "execution_count": 57,
     "metadata": {},
     "output_type": "execute_result"
    }
   ],
   "source": [
    "users_ultra['distance'].describe()"
   ]
  },
  {
   "cell_type": "code",
   "execution_count": 58,
   "id": "8514d204",
   "metadata": {},
   "outputs": [
    {
     "data": {
      "image/png": "[encoded data removed]",
      "text/plain": [
       "<Figure size 720x360 with 1 Axes>"
      ]
     },
     "metadata": {
      "needs_background": "light"
     },
     "output_type": "display_data"
    }
   ],
   "source": [
    "plt.figure(figsize=(10, 5))\n",
    "users_ultra['distance'].hist(bins=100)\n",
    "plt.xlabel('Расстояние (м)')\n",
    "plt.ylabel('Количество пользователей')\n",
    "plt.title('Расстояние одной поездки пользователей с подпиской')\n",
    "plt.grid(True);"
   ]
  },
  {
   "cell_type": "code",
   "execution_count": 59,
   "id": "637f1c3b",
   "metadata": {},
   "outputs": [
    {
     "data": {
      "text/plain": [
       "count    6500.000000\n",
       "mean       18.542017\n",
       "std         5.572065\n",
       "min         3.760000\n",
       "25%        14.527500\n",
       "50%        18.180000\n",
       "75%        21.880000\n",
       "max        40.820000\n",
       "Name: duration, dtype: float64"
      ]
     },
     "execution_count": 59,
     "metadata": {},
     "output_type": "execute_result"
    }
   ],
   "source": [
    "users_ultra['duration'].describe()"
   ]
  },
  {
   "cell_type": "code",
   "execution_count": 60,
   "id": "37c5511c",
   "metadata": {},
   "outputs": [
    {
     "data": {
      "image/png": "[encoded data removed]",
      "text/plain": [
       "<Figure size 720x360 with 1 Axes>"
      ]
     },
     "metadata": {
      "needs_background": "light"
     },
     "output_type": "display_data"
    }
   ],
   "source": [
    "plt.figure(figsize=(10, 5))\n",
    "users_ultra['duration'].hist(bins=100)\n",
    "plt.xlabel('Продолжительность (мин)')\n",
    "plt.ylabel('Количество пользователей')\n",
    "plt.title('Продолжительность поездок пользователей без подписок')\n",
    "plt.grid(True);"
   ]
  },
  {
   "cell_type": "code",
   "execution_count": null,
   "id": "e368d075",
   "metadata": {},
   "outputs": [],
   "source": []
  },
  {
   "cell_type": "markdown",
   "id": "e967c530",
   "metadata": {},
   "source": [
    "###### Общие графики"
   ]
  },
  {
   "cell_type": "code",
   "execution_count": 61,
   "id": "b516778b",
   "metadata": {},
   "outputs": [
    {
     "data": {
      "image/png": "[encoded data removed]",
      "text/plain": [
       "<Figure size 720x360 with 1 Axes>"
      ]
     },
     "metadata": {
      "needs_background": "light"
     },
     "output_type": "display_data"
    }
   ],
   "source": [
    "median_free = users_free['distance'].median()\n",
    "median_ultra = users_ultra['distance'].median()\n",
    "mean_free = users_free['distance'].mean()\n",
    "mean_ultra = users_ultra['distance'].mean()\n",
    "\n",
    "\n",
    "plt.figure(figsize=(10, 5))\n",
    "plt.hist(users_free['distance'], bins=100, alpha=0.7, label='Free') \n",
    "plt.hist(users_ultra['distance'], bins=100, alpha=0.7, label='Ultra')\n",
    "\n",
    "plt.axvline(median_free, color='purple', linestyle='dashed', linewidth=2, label=f'Median Free: {median_free:.2f}')\n",
    "plt.axvline(median_ultra, color='orange', linestyle='dashed', linewidth=2, label=f'Median Ultra: {median_ultra:.2f}')\n",
    "\n",
    "plt.axvline(mean_free, color='blue', linestyle='solid', linewidth=2, label=f'Mean Free: {mean_free:.2f}')\n",
    "plt.axvline(mean_ultra, color='red', linestyle='solid', linewidth=2, label=f'Mean Ultra: {mean_ultra:.2f}')\n",
    "\n",
    "plt.legend()\n",
    "\n",
    "plt.xlabel('Расстояние (м)')\n",
    "plt.ylabel('Количество поездок')\n",
    "plt.title('Количество поездок в зависимости от расстояния');"
   ]
  },
  {
   "cell_type": "code",
   "execution_count": 62,
   "id": "9b5eb88a",
   "metadata": {},
   "outputs": [
    {
     "data": {
      "image/png": "[encoded data removed]",
      "text/plain": [
       "<Figure size 720x360 with 1 Axes>"
      ]
     },
     "metadata": {
      "needs_background": "light"
     },
     "output_type": "display_data"
    }
   ],
   "source": [
    "median_free_duration = users_free['duration'].median()\n",
    "median_ultra_duration = users_ultra['duration'].median()\n",
    "mean_free_duration = users_free['duration'].mean()\n",
    "mean_ultra_duration = users_ultra['duration'].mean()\n",
    "\n",
    "\n",
    "plt.figure(figsize=(10, 5))\n",
    "plt.hist(users_free['duration'], bins=50, alpha=0.7, label='Free') \n",
    "plt.hist(users_ultra['duration'], bins=50, alpha=0.7, label='Ultra')\n",
    "\n",
    "plt.axvline(median_free_duration, color='purple', linestyle='dashed', linewidth=2, label=f'Median Free: {median_free_duration:.2f}')\n",
    "plt.axvline(median_ultra_duration, color='orange', linestyle='dashed', linewidth=2, label=f'Median Ultra: {median_ultra_duration:.2f}')\n",
    "\n",
    "plt.axvline(mean_free_duration, color='blue', linestyle='solid', linewidth=2, label=f'Mean Free: {mean_free_duration:.2f}')\n",
    "plt.axvline(mean_ultra_duration, color='red', linestyle='solid', linewidth=2, label=f'Mean Ultra: {mean_ultra_duration:.2f}')\n",
    "\n",
    "plt.legend()\n",
    "\n",
    "plt.xlabel('Время (мин)')\n",
    "plt.ylabel('Количество поездок')\n",
    "plt.title('Количество поездок в зависимости от их продолжительности');"
   ]
  },
  {
   "cell_type": "markdown",
   "id": "2d70f9f4",
   "metadata": {},
   "source": [
    "# ***Вывод:***"
   ]
  },
  {
   "cell_type": "markdown",
   "id": "4c203cc4",
   "metadata": {},
   "source": [
    "Поездок без подписки было совершено почти в два раза больше, чем с подписками (11568 и 6500 соответственно).\n",
    "\n",
    "Среднее расстояние, которое проезжали пользователи без подписки меньше,чем у пользователей с подпиской (3045 и 3115 метров), однако пользователи без подписки совершали более длительные поездки (максимальное расстояние - 7211 метров), у пользователей с подпиской максимальное расстояние составляет 5699 метров. На графике можно видеть и то, что пользователи без подписок совершали много очень коротких поездок (до 1 метра), тогда как минимальное значение с подпиской - 244 метра. Первый (маленький) пик у пользователей без подписки находится в районе 600 метров, когда у пользователей с подпиской - в районе 1000 метров.\n",
    "\n",
    "В среднем пользователи с платной подпиской проводили в поездке больше времени, чем пользователи без подписки (18,54 и 17,39 минут соответственно). Так же на графике видно, что пользователи без подписки совершили много коротких поездок. Эта проблема характерна именно для пользователей без платной подписки, и компании следует провести более подробный анализ этой категории пользователей, и выяснить, является ли причиной технический сбой, или проблема заключается в чём-то ином. Пользователи с платной подпиской наоборот, совершали более длительные поездки (самая долгая длилась около 40 минут), а самая длинная у пользователей без подписки - 35 минут.\n",
    "\n",
    "В целом можно сказать, что пользователи с платной подпиской совершали более длинные и долгие поездки, чем пользователи без подписки."
   ]
  },
  {
   "cell_type": "code",
   "execution_count": null,
   "id": "f8f903c3",
   "metadata": {},
   "outputs": [],
   "source": []
  },
  {
   "cell_type": "markdown",
   "id": "402d620f",
   "metadata": {},
   "source": [
    "#### Шаг 5. Подсчёт выручки"
   ]
  },
  {
   "cell_type": "markdown",
   "id": "5b06b7d4",
   "metadata": {},
   "source": [
    "##### Создание нового датафрейма с агрегированными данными о поездках"
   ]
  },
  {
   "cell_type": "code",
   "execution_count": 63,
   "id": "5e784434",
   "metadata": {},
   "outputs": [],
   "source": [
    "total['duration'] = np.ceil(total['duration'])"
   ]
  },
  {
   "cell_type": "code",
   "execution_count": 64,
   "id": "53049e0a",
   "metadata": {
    "scrolled": true
   },
   "outputs": [
    {
     "data": {
      "text/html": [
       "<div>\n",
       "<style scoped>\n",
       "    .dataframe tbody tr th:only-of-type {\n",
       "        vertical-align: middle;\n",
       "    }\n",
       "\n",
       "    .dataframe tbody tr th {\n",
       "        vertical-align: top;\n",
       "    }\n",
       "\n",
       "    .dataframe thead th {\n",
       "        text-align: right;\n",
       "    }\n",
       "</style>\n",
       "<table border=\"1\" class=\"dataframe\">\n",
       "  <thead>\n",
       "    <tr style=\"text-align: right;\">\n",
       "      <th></th>\n",
       "      <th></th>\n",
       "      <th>count</th>\n",
       "      <th>distance</th>\n",
       "      <th>duration</th>\n",
       "      <th>minute_price</th>\n",
       "      <th>start_ride_price</th>\n",
       "      <th>subscription_fee</th>\n",
       "    </tr>\n",
       "    <tr>\n",
       "      <th>user_id</th>\n",
       "      <th>month</th>\n",
       "      <th></th>\n",
       "      <th></th>\n",
       "      <th></th>\n",
       "      <th></th>\n",
       "      <th></th>\n",
       "      <th></th>\n",
       "    </tr>\n",
       "  </thead>\n",
       "  <tbody>\n",
       "    <tr>\n",
       "      <th rowspan=\"5\" valign=\"top\">1</th>\n",
       "      <th>1</th>\n",
       "      <td>2</td>\n",
       "      <td>7027.51</td>\n",
       "      <td>42.0</td>\n",
       "      <td>6</td>\n",
       "      <td>0</td>\n",
       "      <td>199</td>\n",
       "    </tr>\n",
       "    <tr>\n",
       "      <th>4</th>\n",
       "      <td>1</td>\n",
       "      <td>754.16</td>\n",
       "      <td>7.0</td>\n",
       "      <td>6</td>\n",
       "      <td>0</td>\n",
       "      <td>199</td>\n",
       "    </tr>\n",
       "    <tr>\n",
       "      <th>8</th>\n",
       "      <td>2</td>\n",
       "      <td>6723.47</td>\n",
       "      <td>46.0</td>\n",
       "      <td>6</td>\n",
       "      <td>0</td>\n",
       "      <td>199</td>\n",
       "    </tr>\n",
       "    <tr>\n",
       "      <th>10</th>\n",
       "      <td>2</td>\n",
       "      <td>5809.91</td>\n",
       "      <td>32.0</td>\n",
       "      <td>6</td>\n",
       "      <td>0</td>\n",
       "      <td>199</td>\n",
       "    </tr>\n",
       "    <tr>\n",
       "      <th>11</th>\n",
       "      <td>3</td>\n",
       "      <td>7003.50</td>\n",
       "      <td>56.0</td>\n",
       "      <td>6</td>\n",
       "      <td>0</td>\n",
       "      <td>199</td>\n",
       "    </tr>\n",
       "    <tr>\n",
       "      <th>...</th>\n",
       "      <th>...</th>\n",
       "      <td>...</td>\n",
       "      <td>...</td>\n",
       "      <td>...</td>\n",
       "      <td>...</td>\n",
       "      <td>...</td>\n",
       "      <td>...</td>\n",
       "    </tr>\n",
       "    <tr>\n",
       "      <th rowspan=\"5\" valign=\"top\">1534</th>\n",
       "      <th>6</th>\n",
       "      <td>2</td>\n",
       "      <td>3409.47</td>\n",
       "      <td>26.0</td>\n",
       "      <td>8</td>\n",
       "      <td>50</td>\n",
       "      <td>0</td>\n",
       "    </tr>\n",
       "    <tr>\n",
       "      <th>8</th>\n",
       "      <td>2</td>\n",
       "      <td>7622.45</td>\n",
       "      <td>48.0</td>\n",
       "      <td>8</td>\n",
       "      <td>50</td>\n",
       "      <td>0</td>\n",
       "    </tr>\n",
       "    <tr>\n",
       "      <th>9</th>\n",
       "      <td>1</td>\n",
       "      <td>4928.17</td>\n",
       "      <td>23.0</td>\n",
       "      <td>8</td>\n",
       "      <td>50</td>\n",
       "      <td>0</td>\n",
       "    </tr>\n",
       "    <tr>\n",
       "      <th>11</th>\n",
       "      <td>4</td>\n",
       "      <td>13350.02</td>\n",
       "      <td>78.0</td>\n",
       "      <td>8</td>\n",
       "      <td>50</td>\n",
       "      <td>0</td>\n",
       "    </tr>\n",
       "    <tr>\n",
       "      <th>12</th>\n",
       "      <td>1</td>\n",
       "      <td>2371.71</td>\n",
       "      <td>16.0</td>\n",
       "      <td>8</td>\n",
       "      <td>50</td>\n",
       "      <td>0</td>\n",
       "    </tr>\n",
       "  </tbody>\n",
       "</table>\n",
       "<p>11331 rows × 6 columns</p>\n",
       "</div>"
      ],
      "text/plain": [
       "               count  distance  duration  minute_price  start_ride_price  \\\n",
       "user_id month                                                              \n",
       "1       1          2   7027.51      42.0             6                 0   \n",
       "        4          1    754.16       7.0             6                 0   \n",
       "        8          2   6723.47      46.0             6                 0   \n",
       "        10         2   5809.91      32.0             6                 0   \n",
       "        11         3   7003.50      56.0             6                 0   \n",
       "...              ...       ...       ...           ...               ...   \n",
       "1534    6          2   3409.47      26.0             8                50   \n",
       "        8          2   7622.45      48.0             8                50   \n",
       "        9          1   4928.17      23.0             8                50   \n",
       "        11         4  13350.02      78.0             8                50   \n",
       "        12         1   2371.71      16.0             8                50   \n",
       "\n",
       "               subscription_fee  \n",
       "user_id month                    \n",
       "1       1                   199  \n",
       "        4                   199  \n",
       "        8                   199  \n",
       "        10                  199  \n",
       "        11                  199  \n",
       "...                         ...  \n",
       "1534    6                     0  \n",
       "        8                     0  \n",
       "        9                     0  \n",
       "        11                    0  \n",
       "        12                    0  \n",
       "\n",
       "[11331 rows x 6 columns]"
      ]
     },
     "metadata": {},
     "output_type": "display_data"
    }
   ],
   "source": [
    "revenue = total.pivot_table(\n",
    "    index=('user_id', 'month'),\n",
    "    values=('distance', 'duration', 'minute_price','start_ride_price', 'subscription_fee'),\n",
    "    aggfunc=({'distance': {'count','sum'}, 'duration': 'sum', 'minute_price': 'mean', \n",
    "              'start_ride_price': 'mean', 'subscription_fee': 'mean'})\n",
    ")\n",
    "\n",
    "revenue.columns = ['count', 'distance','duration', 'minute_price', 'start_ride_price', 'subscription_fee']\n",
    "display(revenue)\n"
   ]
  },
  {
   "cell_type": "raw",
   "id": "bf71fae8",
   "metadata": {},
   "source": []
  },
  {
   "cell_type": "code",
   "execution_count": 65,
   "id": "3d53506b",
   "metadata": {},
   "outputs": [
    {
     "name": "stdout",
     "output_type": "stream",
     "text": [
      "<class 'pandas.core.frame.DataFrame'>\n",
      "MultiIndex: 11331 entries, (1, 1) to (1534, 12)\n",
      "Data columns (total 6 columns):\n",
      " #   Column            Non-Null Count  Dtype  \n",
      "---  ------            --------------  -----  \n",
      " 0   count             11331 non-null  int64  \n",
      " 1   distance          11331 non-null  float64\n",
      " 2   duration          11331 non-null  float64\n",
      " 3   minute_price      11331 non-null  int64  \n",
      " 4   start_ride_price  11331 non-null  int64  \n",
      " 5   subscription_fee  11331 non-null  int64  \n",
      "dtypes: float64(2), int64(4)\n",
      "memory usage: 576.5 KB\n"
     ]
    }
   ],
   "source": [
    "revenue.info()"
   ]
  },
  {
   "cell_type": "code",
   "execution_count": 66,
   "id": "cc58d49b",
   "metadata": {},
   "outputs": [
    {
     "data": {
      "text/plain": [
       "1"
      ]
     },
     "execution_count": 66,
     "metadata": {},
     "output_type": "execute_result"
    }
   ],
   "source": [
    "revenue.duplicated().sum()"
   ]
  },
  {
   "cell_type": "code",
   "execution_count": 67,
   "id": "105cde2c",
   "metadata": {},
   "outputs": [
    {
     "name": "stdout",
     "output_type": "stream",
     "text": [
      "Дубликаты:\n",
      "               count  distance  duration  minute_price  start_ride_price  \\\n",
      "user_id month                                                              \n",
      "1015    12         1   2595.29      12.0             8                50   \n",
      "1219    12         1   2595.29      12.0             8                50   \n",
      "\n",
      "               subscription_fee  \n",
      "user_id month                    \n",
      "1015    12                    0  \n",
      "1219    12                    0  \n"
     ]
    }
   ],
   "source": [
    "duplicates = revenue[revenue.duplicated(keep=False)]\n",
    "\n",
    "print(\"Дубликаты:\")\n",
    "print(duplicates)"
   ]
  },
  {
   "cell_type": "markdown",
   "id": "ae7100fa",
   "metadata": {},
   "source": [
    "Был создан новый датайрейм, с данными, сгруппированными по пользователю и месяцам. В новом датайрейме получилось 11331 строк и 6 столбцов. Метод duplicated() показал, что в датафрейме присутствуетдубликат, однако, при более подродном рассмотрении оказалось, что это не  так: пользователи имеют разный 'user_id', а идентичность показателей связана с округлением продолжительности поездкт до следующего целого числа."
   ]
  },
  {
   "cell_type": "code",
   "execution_count": null,
   "id": "7526470b",
   "metadata": {},
   "outputs": [],
   "source": []
  },
  {
   "cell_type": "code",
   "execution_count": 68,
   "id": "2b1f6dec",
   "metadata": {},
   "outputs": [],
   "source": [
    "revenue['revenue_per_month'] = (\n",
    "    revenue['start_ride_price'] * revenue['count'] + \n",
    "    revenue['minute_price'] * revenue['duration'] + revenue['subscription_fee']\n",
    ")"
   ]
  },
  {
   "cell_type": "code",
   "execution_count": 69,
   "id": "888eda10",
   "metadata": {},
   "outputs": [
    {
     "data": {
      "text/html": [
       "<div>\n",
       "<style scoped>\n",
       "    .dataframe tbody tr th:only-of-type {\n",
       "        vertical-align: middle;\n",
       "    }\n",
       "\n",
       "    .dataframe tbody tr th {\n",
       "        vertical-align: top;\n",
       "    }\n",
       "\n",
       "    .dataframe thead th {\n",
       "        text-align: right;\n",
       "    }\n",
       "</style>\n",
       "<table border=\"1\" class=\"dataframe\">\n",
       "  <thead>\n",
       "    <tr style=\"text-align: right;\">\n",
       "      <th></th>\n",
       "      <th></th>\n",
       "      <th>count</th>\n",
       "      <th>distance</th>\n",
       "      <th>duration</th>\n",
       "      <th>minute_price</th>\n",
       "      <th>start_ride_price</th>\n",
       "      <th>subscription_fee</th>\n",
       "      <th>revenue_per_month</th>\n",
       "    </tr>\n",
       "    <tr>\n",
       "      <th>user_id</th>\n",
       "      <th>month</th>\n",
       "      <th></th>\n",
       "      <th></th>\n",
       "      <th></th>\n",
       "      <th></th>\n",
       "      <th></th>\n",
       "      <th></th>\n",
       "      <th></th>\n",
       "    </tr>\n",
       "  </thead>\n",
       "  <tbody>\n",
       "    <tr>\n",
       "      <th rowspan=\"5\" valign=\"top\">1</th>\n",
       "      <th>1</th>\n",
       "      <td>2</td>\n",
       "      <td>7027.51</td>\n",
       "      <td>42.0</td>\n",
       "      <td>6</td>\n",
       "      <td>0</td>\n",
       "      <td>199</td>\n",
       "      <td>451.0</td>\n",
       "    </tr>\n",
       "    <tr>\n",
       "      <th>4</th>\n",
       "      <td>1</td>\n",
       "      <td>754.16</td>\n",
       "      <td>7.0</td>\n",
       "      <td>6</td>\n",
       "      <td>0</td>\n",
       "      <td>199</td>\n",
       "      <td>241.0</td>\n",
       "    </tr>\n",
       "    <tr>\n",
       "      <th>8</th>\n",
       "      <td>2</td>\n",
       "      <td>6723.47</td>\n",
       "      <td>46.0</td>\n",
       "      <td>6</td>\n",
       "      <td>0</td>\n",
       "      <td>199</td>\n",
       "      <td>475.0</td>\n",
       "    </tr>\n",
       "    <tr>\n",
       "      <th>10</th>\n",
       "      <td>2</td>\n",
       "      <td>5809.91</td>\n",
       "      <td>32.0</td>\n",
       "      <td>6</td>\n",
       "      <td>0</td>\n",
       "      <td>199</td>\n",
       "      <td>391.0</td>\n",
       "    </tr>\n",
       "    <tr>\n",
       "      <th>11</th>\n",
       "      <td>3</td>\n",
       "      <td>7003.50</td>\n",
       "      <td>56.0</td>\n",
       "      <td>6</td>\n",
       "      <td>0</td>\n",
       "      <td>199</td>\n",
       "      <td>535.0</td>\n",
       "    </tr>\n",
       "    <tr>\n",
       "      <th>...</th>\n",
       "      <th>...</th>\n",
       "      <td>...</td>\n",
       "      <td>...</td>\n",
       "      <td>...</td>\n",
       "      <td>...</td>\n",
       "      <td>...</td>\n",
       "      <td>...</td>\n",
       "      <td>...</td>\n",
       "    </tr>\n",
       "    <tr>\n",
       "      <th rowspan=\"5\" valign=\"top\">1534</th>\n",
       "      <th>6</th>\n",
       "      <td>2</td>\n",
       "      <td>3409.47</td>\n",
       "      <td>26.0</td>\n",
       "      <td>8</td>\n",
       "      <td>50</td>\n",
       "      <td>0</td>\n",
       "      <td>308.0</td>\n",
       "    </tr>\n",
       "    <tr>\n",
       "      <th>8</th>\n",
       "      <td>2</td>\n",
       "      <td>7622.45</td>\n",
       "      <td>48.0</td>\n",
       "      <td>8</td>\n",
       "      <td>50</td>\n",
       "      <td>0</td>\n",
       "      <td>484.0</td>\n",
       "    </tr>\n",
       "    <tr>\n",
       "      <th>9</th>\n",
       "      <td>1</td>\n",
       "      <td>4928.17</td>\n",
       "      <td>23.0</td>\n",
       "      <td>8</td>\n",
       "      <td>50</td>\n",
       "      <td>0</td>\n",
       "      <td>234.0</td>\n",
       "    </tr>\n",
       "    <tr>\n",
       "      <th>11</th>\n",
       "      <td>4</td>\n",
       "      <td>13350.02</td>\n",
       "      <td>78.0</td>\n",
       "      <td>8</td>\n",
       "      <td>50</td>\n",
       "      <td>0</td>\n",
       "      <td>824.0</td>\n",
       "    </tr>\n",
       "    <tr>\n",
       "      <th>12</th>\n",
       "      <td>1</td>\n",
       "      <td>2371.71</td>\n",
       "      <td>16.0</td>\n",
       "      <td>8</td>\n",
       "      <td>50</td>\n",
       "      <td>0</td>\n",
       "      <td>178.0</td>\n",
       "    </tr>\n",
       "  </tbody>\n",
       "</table>\n",
       "<p>11331 rows × 7 columns</p>\n",
       "</div>"
      ],
      "text/plain": [
       "               count  distance  duration  minute_price  start_ride_price  \\\n",
       "user_id month                                                              \n",
       "1       1          2   7027.51      42.0             6                 0   \n",
       "        4          1    754.16       7.0             6                 0   \n",
       "        8          2   6723.47      46.0             6                 0   \n",
       "        10         2   5809.91      32.0             6                 0   \n",
       "        11         3   7003.50      56.0             6                 0   \n",
       "...              ...       ...       ...           ...               ...   \n",
       "1534    6          2   3409.47      26.0             8                50   \n",
       "        8          2   7622.45      48.0             8                50   \n",
       "        9          1   4928.17      23.0             8                50   \n",
       "        11         4  13350.02      78.0             8                50   \n",
       "        12         1   2371.71      16.0             8                50   \n",
       "\n",
       "               subscription_fee  revenue_per_month  \n",
       "user_id month                                       \n",
       "1       1                   199              451.0  \n",
       "        4                   199              241.0  \n",
       "        8                   199              475.0  \n",
       "        10                  199              391.0  \n",
       "        11                  199              535.0  \n",
       "...                         ...                ...  \n",
       "1534    6                     0              308.0  \n",
       "        8                     0              484.0  \n",
       "        9                     0              234.0  \n",
       "        11                    0              824.0  \n",
       "        12                    0              178.0  \n",
       "\n",
       "[11331 rows x 7 columns]"
      ]
     },
     "metadata": {},
     "output_type": "display_data"
    }
   ],
   "source": [
    "display(revenue)"
   ]
  },
  {
   "cell_type": "code",
   "execution_count": 70,
   "id": "3f3457fe",
   "metadata": {},
   "outputs": [
    {
     "name": "stdout",
     "output_type": "stream",
     "text": [
      "Общая выручка за год составила: 3877893.0\n"
     ]
    }
   ],
   "source": [
    "print('Общая выручка за год составила:', revenue['revenue_per_month'].sum())"
   ]
  },
  {
   "cell_type": "code",
   "execution_count": null,
   "id": "c5cc24f6",
   "metadata": {},
   "outputs": [],
   "source": []
  },
  {
   "cell_type": "markdown",
   "id": "69937ef0",
   "metadata": {},
   "source": [
    "В датафрейм был добавлен новый столбец 'revenue_per_month' с расчётом помесячной выручки, которую принёс каждый пользователь. Общая выручка составили 3 877 893 рубля."
   ]
  },
  {
   "cell_type": "markdown",
   "id": "89ad6386",
   "metadata": {},
   "source": [
    "# ***Вывод:***"
   ]
  },
  {
   "cell_type": "markdown",
   "id": "f18ae0a6",
   "metadata": {},
   "source": [
    "Был созднан новый датафрейм revenue, который содержит агрегированные данные о поездках (суммарное расстояние, количество поездок  и время для каждого пользователя). В датафрейме получилось 11331 строка и 6 столбцов. Далее был добавлен ещё один столбец с помесячной выручкой от каждого пользователя. Суммарная выручка составила 3 877 893 рубля."
   ]
  },
  {
   "cell_type": "markdown",
   "id": "41545ac0",
   "metadata": {},
   "source": [
    "#### Шаг 6. Проверка гипотез"
   ]
  },
  {
   "cell_type": "markdown",
   "id": "b56b5c0d",
   "metadata": {},
   "source": [
    "В этом шаге нужно будет проверить 3 гипотезы:\n",
    "1. пользователи с подпиской тратят больше времени на поездки, чем пользователи без;\n",
    "2. среднее расстояние, которое проезжают за одну поездку пользователи с подпиской не превышает 3130 метров;\n",
    "3. помесячная выручка от пользователей с подпиской по месяцам будет выше, чем выручка от пользователей без подписки"
   ]
  },
  {
   "cell_type": "markdown",
   "id": "b3137af1",
   "metadata": {},
   "source": [
    "##### Проверка гипотезы, что пользователи с подпиской тратят больше времени на поездки."
   ]
  },
  {
   "cell_type": "markdown",
   "id": "f385b51e",
   "metadata": {},
   "source": [
    "Необходимо проверить следующие гипотезы:  \n",
    "H0: Пользователи с подпиской и без подписки тратят одинаковое время на поездки;  \n",
    "H1: Пользователи с подпиской тратят больше времени на поездки.\n",
    "\n",
    "Нужно сравнить две независимые выборки, для этого будем использовать метод ttest_ind(). В качестве альтернативной гипотезы мы проверяем, что пользователи с подпиской тратят больше времени на поездки, чем пользователи без подписки. Это односторонний (правосторонний) тест.    \n",
    "Уровень статистической значимости примем равным 5%."
   ]
  },
  {
   "cell_type": "code",
   "execution_count": 80,
   "id": "fca32615",
   "metadata": {},
   "outputs": [
    {
     "name": "stdout",
     "output_type": "stream",
     "text": [
      "p-значение: 1.274138957151199e-34\n",
      "Отвергаем нулевую гипотезу\n"
     ]
    }
   ],
   "source": [
    "alpha = 0.05\n",
    "\n",
    "results = st.ttest_ind(users_ultra['duration'], users_free['duration'], alternative='greater')\n",
    "\n",
    "print('p-значение:', results.pvalue)\n",
    "\n",
    "if results.pvalue < alpha:\n",
    "    print('Отвергаем нулевую гипотезу')\n",
    "else:\n",
    "    print('Не получилось отвергнуть нулевую гипотезу') \n",
    "    "
   ]
  },
  {
   "cell_type": "code",
   "execution_count": 81,
   "id": "8333e9c9",
   "metadata": {},
   "outputs": [
    {
     "name": "stdout",
     "output_type": "stream",
     "text": [
      "Среднее время поезки пользователей с подпиской: 18.542016923076922\n",
      "Среднее время поездки пользователей без подписки: 17.390899896265562\n"
     ]
    }
   ],
   "source": [
    "print('Среднее время поезки пользователей с подпиской:', users_ultra['duration'].mean())\n",
    "print('Среднее время поездки пользователей без подписки:', users_free['duration'].mean()) "
   ]
  },
  {
   "cell_type": "markdown",
   "id": "356b0c01",
   "metadata": {},
   "source": [
    "По результатам теста мы можем отвергнуть нулевую гипотезу, и можем предположить, что пользователи с подпиской действительно тратят больше времени на поездки чем те, у кого подписки нет (при данном уровне значимости в 5%)."
   ]
  },
  {
   "cell_type": "code",
   "execution_count": null,
   "id": "ab1c81c7",
   "metadata": {},
   "outputs": [],
   "source": []
  },
  {
   "cell_type": "markdown",
   "id": "40262dda",
   "metadata": {},
   "source": [
    "##### Проверка гипотезы, что среднее расстояние за одну поездку с подпиской не превышает 3130 метров"
   ]
  },
  {
   "cell_type": "markdown",
   "id": "d9f39f0c",
   "metadata": {},
   "source": [
    "H0: Среднее расстояние за одну поезку с подпиской равно 3130 метров;  \n",
    "H1: Среднее расстояние за одну поездку с подпиской больше 3130 метров.  \n",
    "\n",
    "Здесь нужно сравнить выборку с заданным числом. Для этого будем использоат метод ttest_1samp(). Будем проверять альтернативную теорию о том, что пользователи проезжают больше заданного числа, это односторонний (правосторонний) тест.  \n",
    "Уровень статистической значимости примен равным 5%."
   ]
  },
  {
   "cell_type": "code",
   "execution_count": 82,
   "id": "db319d11",
   "metadata": {},
   "outputs": [
    {
     "name": "stdout",
     "output_type": "stream",
     "text": [
      "p-значение: 0.9195362605842414\n",
      "Не получилось отвергнуть нулевую гипотезу\n"
     ]
    }
   ],
   "source": [
    "alpha = 0.05\n",
    "\n",
    "opt_distance = 3130\n",
    "results = st.ttest_1samp(users_ultra['distance'], opt_distance, alternative='greater')\n",
    "\n",
    "print('p-значение:', results.pvalue)\n",
    "\n",
    "if results.pvalue < alpha:\n",
    "    print('Отвергаем нулевую гипотезу')\n",
    "else:\n",
    "    print('Не получилось отвергнуть нулевую гипотезу')"
   ]
  },
  {
   "cell_type": "code",
   "execution_count": 83,
   "id": "dcaeae00",
   "metadata": {},
   "outputs": [
    {
     "name": "stdout",
     "output_type": "stream",
     "text": [
      "Среднее расстояние, которое проехали пользователи с платной подпиской: 3115.45\n"
     ]
    }
   ],
   "source": [
    "print('Среднее расстояние, которое проехали пользователи с платной подпиской:', round(users_ultra['distance'].mean(),2))"
   ]
  },
  {
   "cell_type": "code",
   "execution_count": null,
   "id": "36f7eb31",
   "metadata": {},
   "outputs": [],
   "source": []
  },
  {
   "cell_type": "markdown",
   "id": "41378fb5",
   "metadata": {},
   "source": [
    "С помощью теста не удалось отвергнуть нулевую гипотезу, а значит, можно предположить, что среднее расстояние за одну поезку у пользователей с подпиской действительно не превышает оптимальное расстояние в 3130 метров (при заданном уровне значимости в 5%)."
   ]
  },
  {
   "cell_type": "code",
   "execution_count": null,
   "id": "b383fa97",
   "metadata": {},
   "outputs": [],
   "source": []
  },
  {
   "cell_type": "markdown",
   "id": "bc8acf9e",
   "metadata": {},
   "source": [
    "##### Проверка гипотезы, что помесячная выручка по месяцам от пользователей с подпиской будет выше, чем выручка от пользователей без подписки ."
   ]
  },
  {
   "cell_type": "markdown",
   "id": "5405a549",
   "metadata": {},
   "source": [
    "H0: Помесячная выручка по месяцам от пользователей с подпиской равна выручке от пользователей без подписки;  \n",
    "H1: Помесячная выручка от пользователей с подпиской больше, чем от пользователей без подписки.\n",
    "\n",
    "В этом задании снова нужно сравнить между собой две независимые выборки. Для этого будем использовать метод ttest_ind(). В качестве альтернативной гипотезы проверяем, что пользователи с подпиской приносят больше прибыли, чем пользователи без подписки. Это односторонний (правосторонний) тест.  \n",
    "Уровень статистической значимости примем равным 5%."
   ]
  },
  {
   "cell_type": "code",
   "execution_count": 74,
   "id": "f03f8af8",
   "metadata": {},
   "outputs": [
    {
     "name": "stdout",
     "output_type": "stream",
     "text": [
      "p-значение: 1.8164914860049708e-31\n",
      "Отвергаем нулевую гипотезу\n"
     ]
    }
   ],
   "source": [
    "alpha = 0.05\n",
    "\n",
    "results = st.ttest_ind(\n",
    "    revenue.loc[revenue['subscription_fee']>0, 'revenue_per_month'], \n",
    "    revenue.loc[revenue['subscription_fee']==0, 'revenue_per_month'], alternative='greater')\n",
    "\n",
    "print('p-значение:', results.pvalue)\n",
    "\n",
    "if results.pvalue < alpha:\n",
    "    print('Отвергаем нулевую гипотезу')\n",
    "else:\n",
    "    print('Не получилось отвергнуть нулевую гипотезу') "
   ]
  },
  {
   "cell_type": "markdown",
   "id": "793bc11f",
   "metadata": {},
   "source": [
    "По результатам теста мы можем отвергнуть нулевую гипотезу, и можем предположить, что помесячная выручка от пользователей с подпиской действительно выше, чем от пользователей без подписки (при данном уровне значимости в 5%)."
   ]
  },
  {
   "cell_type": "code",
   "execution_count": 106,
   "id": "7201c6b6",
   "metadata": {},
   "outputs": [
    {
     "data": {
      "text/html": [
       "<div>\n",
       "<style scoped>\n",
       "    .dataframe tbody tr th:only-of-type {\n",
       "        vertical-align: middle;\n",
       "    }\n",
       "\n",
       "    .dataframe tbody tr th {\n",
       "        vertical-align: top;\n",
       "    }\n",
       "\n",
       "    .dataframe thead th {\n",
       "        text-align: right;\n",
       "    }\n",
       "</style>\n",
       "<table border=\"1\" class=\"dataframe\">\n",
       "  <thead>\n",
       "    <tr style=\"text-align: right;\">\n",
       "      <th></th>\n",
       "      <th>free</th>\n",
       "      <th>ultra</th>\n",
       "    </tr>\n",
       "    <tr>\n",
       "      <th>month</th>\n",
       "      <th></th>\n",
       "      <th></th>\n",
       "    </tr>\n",
       "  </thead>\n",
       "  <tbody>\n",
       "    <tr>\n",
       "      <th>1</th>\n",
       "      <td>323.016667</td>\n",
       "      <td>369.446154</td>\n",
       "    </tr>\n",
       "    <tr>\n",
       "      <th>2</th>\n",
       "      <td>313.406427</td>\n",
       "      <td>351.830508</td>\n",
       "    </tr>\n",
       "    <tr>\n",
       "      <th>3</th>\n",
       "      <td>336.687050</td>\n",
       "      <td>360.045455</td>\n",
       "    </tr>\n",
       "    <tr>\n",
       "      <th>4</th>\n",
       "      <td>335.591320</td>\n",
       "      <td>367.112299</td>\n",
       "    </tr>\n",
       "    <tr>\n",
       "      <th>5</th>\n",
       "      <td>328.094241</td>\n",
       "      <td>368.377778</td>\n",
       "    </tr>\n",
       "    <tr>\n",
       "      <th>6</th>\n",
       "      <td>326.098472</td>\n",
       "      <td>361.346734</td>\n",
       "    </tr>\n",
       "    <tr>\n",
       "      <th>7</th>\n",
       "      <td>329.163701</td>\n",
       "      <td>367.800000</td>\n",
       "    </tr>\n",
       "    <tr>\n",
       "      <th>8</th>\n",
       "      <td>331.107965</td>\n",
       "      <td>360.703125</td>\n",
       "    </tr>\n",
       "    <tr>\n",
       "      <th>9</th>\n",
       "      <td>335.646447</td>\n",
       "      <td>364.295775</td>\n",
       "    </tr>\n",
       "    <tr>\n",
       "      <th>10</th>\n",
       "      <td>330.426230</td>\n",
       "      <td>359.903226</td>\n",
       "    </tr>\n",
       "    <tr>\n",
       "      <th>11</th>\n",
       "      <td>322.587387</td>\n",
       "      <td>357.423729</td>\n",
       "    </tr>\n",
       "    <tr>\n",
       "      <th>12</th>\n",
       "      <td>330.559322</td>\n",
       "      <td>362.961219</td>\n",
       "    </tr>\n",
       "  </tbody>\n",
       "</table>\n",
       "</div>"
      ],
      "text/plain": [
       "             free       ultra\n",
       "month                        \n",
       "1      323.016667  369.446154\n",
       "2      313.406427  351.830508\n",
       "3      336.687050  360.045455\n",
       "4      335.591320  367.112299\n",
       "5      328.094241  368.377778\n",
       "6      326.098472  361.346734\n",
       "7      329.163701  367.800000\n",
       "8      331.107965  360.703125\n",
       "9      335.646447  364.295775\n",
       "10     330.426230  359.903226\n",
       "11     322.587387  357.423729\n",
       "12     330.559322  362.961219"
      ]
     },
     "metadata": {},
     "output_type": "display_data"
    }
   ],
   "source": [
    "revenue_month = revenue.pivot_table(index='month', values='revenue_per_month', columns='subscription_fee')\n",
    "revenue_month.columns=['free','ultra']\n",
    "display(revenue_month)"
   ]
  },
  {
   "cell_type": "markdown",
   "id": "466f67f6",
   "metadata": {},
   "source": [
    "В таблице можно увидеть, что среднемесячная выручка от пользователей с платной подпиской действительно выше, чем от пользователей без подписки."
   ]
  },
  {
   "cell_type": "markdown",
   "id": "77aadd7c",
   "metadata": {},
   "source": [
    "##### Ответ на вопрос"
   ]
  },
  {
   "cell_type": "markdown",
   "id": "314015ec",
   "metadata": {},
   "source": [
    "Для проверки этой гипотезы нам понадобился бы тест для сравнения двух зависимых выборок. Для этих выборок переменная измеряется дважды для одних и тех же объектов. В даннном случае это пара измерений для каждого пользователя - до и после проведения изменения. В Python для проведения этого теста существует специальный метод scipy.stats.ttest_rel(), которому в качестве аргументов передаются обе выборки (до и после изменений). "
   ]
  },
  {
   "cell_type": "code",
   "execution_count": null,
   "id": "76bdeb04",
   "metadata": {},
   "outputs": [],
   "source": []
  },
  {
   "cell_type": "markdown",
   "id": "43d1f78b",
   "metadata": {},
   "source": [
    "# ***Вывод:***"
   ]
  },
  {
   "cell_type": "markdown",
   "id": "ad20cab4",
   "metadata": {},
   "source": [
    "По проверенным гипотезам можно сделать следующие выводы:\n",
    "1. При проверки первой гипотезы о том, что пользователи с платной подпиской в среднем совершают более длительные по времени поездки, после проведения теста мы можем отвергнуть нулевую гипотезу, и предположить, что пользователи с подпиской действительно тратят больше времени на поездки чем те, у кого подписки нет. Это нам подтверждает и метод describe(), применённый к анализирумым столбцам: среднее время поздки пользователей с платной подпиской составляет 18,54 минуты, а у пользователей без подписки - 17,з9 минут.  \n",
    "\n",
    "\n",
    "2. При проверке гипотезы о том, что пользователи с платной подпиской в среднем проезжают меньше заданного оптимального расстояния, по результатам теста нам не удалось отвергнуть нулевую гипотезу, и можно предположить, что среднее расстояние за одну поезку у пользователей с подпиской действительно не превышает оптимальное расстояние в 3130 метров. Подтверждение можно получить, и использовав метод describe(): среднее расстояние, которое проезжали пользователи с платной подпиской составляет 3115,44 метра, что меньше данного в услолвии оптимального значения (3130 метров).\n",
    "\n",
    "\n",
    "3. При проверке третьей гипотезы о том, что помесячная выручка от пользователей с платной подпиской больше, чем от пользователей без подписки, результаты теста показали, что мы можем отвергнуть нулевую гипотезу, и предположить, что помесячная выручка от пользователей с подпиской действительно выше, чем от пользователей без подписки. "
   ]
  },
  {
   "cell_type": "code",
   "execution_count": null,
   "id": "e1faa1ec",
   "metadata": {},
   "outputs": [],
   "source": []
  },
  {
   "cell_type": "markdown",
   "id": "61213c5e",
   "metadata": {},
   "source": [
    "#### Шаг 7. Распределения"
   ]
  },
  {
   "cell_type": "markdown",
   "id": "284eaf01",
   "metadata": {},
   "source": [
    "##### Определение минимального числа промокодов"
   ]
  },
  {
   "cell_type": "markdown",
   "id": "3ccc9feb",
   "metadata": {},
   "source": [
    "Отделу маркетинга была поставлена задача провестии акцию с раздачей промокодов на один бесплатный месяц подписки, с целью, чтобы хотя бы 100 клиентов по истечению пробного м есяца подписку продлили.\n",
    "Необходимо найти минимальное количество промокодов, которое необходимо разослать, чтобы вероятность не выполнить план (как минимум 100 клиентов должны продлить подписку) была около 5%. "
   ]
  },
  {
   "cell_type": "code",
   "execution_count": 75,
   "id": "2801c319",
   "metadata": {},
   "outputs": [
    {
     "name": "stdout",
     "output_type": "stream",
     "text": [
      "Необходимое минимальное количество промокодов: 1161\n"
     ]
    }
   ],
   "source": [
    "n= 1000 \n",
    "p = 0.1  # вероятность продления подписки\n",
    "k = 100  # требуемое число продлений\n",
    "target_p = 0.95  # требуемая вероятность успеха (5% - неудача из условия)\n",
    "\n",
    "# 1- st.binom.cdf(k - 1, n, p) дает вероятность того, что число успехов будет 100 или больше\n",
    "\n",
    "while 1- st.binom.cdf(k - 1, n, p) < target_p:\n",
    "    n += 1\n",
    "\n",
    "print(f'Необходимое минимальное количество промокодов: {n}')\n",
    "\n"
   ]
  },
  {
   "cell_type": "code",
   "execution_count": 76,
   "id": "4ef2e0cc",
   "metadata": {},
   "outputs": [
    {
     "data": {
      "image/png": "[encoded data removed]",
      "text/plain": [
       "<Figure size 720x432 with 1 Axes>"
      ]
     },
     "metadata": {
      "needs_background": "light"
     },
     "output_type": "display_data"
    }
   ],
   "source": [
    "# график\n",
    "n_values = np.arange(1000, 1500)  # диапазон значений n\n",
    "\n",
    "\n",
    "probabilities = []\n",
    "\n",
    "for n in n_values:\n",
    "    prob = 1 - st.binom.cdf(k - 1, n, p)\n",
    "    probabilities.append(prob)\n",
    "                                  \n",
    "plt.figure(figsize=(10, 6))\n",
    "plt.plot(n_values, probabilities, label='Вероятность успеха')\n",
    "plt.axhline(y=target_p,color='red', linestyle='--', label=f'Целевая вероятность {target_p}')\n",
    "\n",
    "# Настройки графика\n",
    "plt.title('Зависимость вероятности успеха от количества промокодов (n)')\n",
    "plt.xlabel('Количество промокодов (n)')\n",
    "plt.ylabel('Вероятность успеха')\n",
    "plt.legend()\n",
    "plt.grid(True)\n",
    "plt.show()"
   ]
  },
  {
   "cell_type": "markdown",
   "id": "7f3c5ec2",
   "metadata": {},
   "source": [
    "***Вывод:***"
   ]
  },
  {
   "cell_type": "markdown",
   "id": "7e9ec5d9",
   "metadata": {},
   "source": [
    "Для выполнения поставленной задачи (чтобы как минимум 100 клиентов продлили подписку на следующий месяц, а вероятность неудачи выполнения плана составляла 5%) отделу маркетинга необходимо разослать не меньше 1161 промокодов. Распределение вероятностей успеха можно увидет на графике."
   ]
  },
  {
   "cell_type": "code",
   "execution_count": null,
   "id": "61ccb2a3",
   "metadata": {},
   "outputs": [],
   "source": []
  },
  {
   "cell_type": "markdown",
   "id": "2489c2b3",
   "metadata": {},
   "source": [
    "##### Определение вероятности открытия  уведомлений"
   ]
  },
  {
   "cell_type": "markdown",
   "id": "f86b014b",
   "metadata": {},
   "source": [
    "Отдел маркетинга рассылает push-уведомления, которые пользователи могут открыть или не открыть. Известно, что уведомления открывают около 40% клиентов. Отдел планирунт разослать 1 миллион уведомлений.  \n",
    "Нужно оценить вероятность, что уведомление откроют не более 399,5 тысяч пользователей."
   ]
  },
  {
   "cell_type": "code",
   "execution_count": 77,
   "id": "049100e7",
   "metadata": {},
   "outputs": [
    {
     "name": "stdout",
     "output_type": "stream",
     "text": [
      "Вероятность того, что уведомление откроют не более 399,5 тысяч пользователей равна 15.37 %\n"
     ]
    }
   ],
   "source": [
    "n = 1000000\n",
    "p = 0.4\n",
    "\n",
    "# зададим мат.ожидание и ст.отклонение нормального распределения равными\n",
    "# мат.ожиданию и ст.отклонению биномиального распределения\n",
    "mu = n * p\n",
    "sigma = sqrt(n * p * (1 - p))\n",
    "\n",
    "# задаём нормальное распределение\n",
    "distr = st.norm(mu, sigma) \n",
    "\n",
    "# считаем вероятность хвоста слева от 399,5 тысяч\n",
    "result = distr.cdf(399500)\n",
    "print('Вероятность того, что уведомление откроют не более 399,5 тысяч пользователей равна', round(result*100,2),'%')"
   ]
  },
  {
   "cell_type": "code",
   "execution_count": 78,
   "id": "bcb004a1",
   "metadata": {},
   "outputs": [
    {
     "data": {
      "image/png": "[encoded data removed]",
      "text/plain": [
       "<Figure size 432x288 with 1 Axes>"
      ]
     },
     "metadata": {
      "needs_background": "light"
     },
     "output_type": "display_data"
    }
   ],
   "source": [
    "mu = n * p\n",
    "sigma = np.sqrt(n * p * (1 - p))\n",
    "\n",
    "# Задаем нормальное распределение\n",
    "x = np.linspace(mu - 4*sigma, mu + 4*sigma, 1000)\n",
    "distr = st.norm(mu, sigma)\n",
    "pdf = distr.pdf(x)\n",
    "\n",
    "# Строим график нормального распределения\n",
    "plt.plot(x, pdf)\n",
    "\n",
    "# Закрашиваем область до 399500 (слева от 399500)\n",
    "x_fill = np.linspace(mu - 4*sigma, 399500, 1000)\n",
    "plt.fill_between(x_fill, distr.pdf(x_fill), color='red', alpha=0.5)\n",
    "\n",
    "# Добавляем метки на оси и легенду\n",
    "plt.axvline(399500, color='red', linestyle='--')\n",
    "plt.title ('График нормального распределения')\n",
    "plt.xlabel('Количество пользователей')\n",
    "plt.ylabel('Плотность вероятности');"
   ]
  },
  {
   "cell_type": "markdown",
   "id": "89354e8e",
   "metadata": {},
   "source": [
    "***Вывод:***"
   ]
  },
  {
   "cell_type": "markdown",
   "id": "4b8824c6",
   "metadata": {},
   "source": [
    "Если отдел маркетинга разошлёт 1 000 000 уведомлений, с условием, что открывают их около 40% пользователей, то вероятность того, что уведомление откроют не более 399,5 тысяч пользователей равна 15.37 %"
   ]
  },
  {
   "cell_type": "code",
   "execution_count": null,
   "id": "7d5bcd12",
   "metadata": {},
   "outputs": [],
   "source": []
  },
  {
   "cell_type": "markdown",
   "id": "acb8c05f",
   "metadata": {},
   "source": [
    "# ***Общий вывод по проекту:***"
   ]
  },
  {
   "cell_type": "markdown",
   "id": "7e68c267",
   "metadata": {},
   "source": [
    "Для проекта был проведён анализ данных сервиса по аренде самокатов и проверены требуемые гипотезы.\n",
    "\n",
    "1. В начале была изучена общая информация о датафреймах, произведена проверка на отсутствующие значения и дубликаты, проверены типы данных.  \n",
    "* В первом датафрейме *users* представлены данные о пользователях: их идентификационном номере, имени, возрасте, городе и типе подписки. В датафрейме 1565 строк и 5 столбцов, ни в одном столбце нет пропущенных значений. В датефрейме был найден 31 явный дубликат.\n",
    "\n",
    "* Во втром датафрейме *rides* представлена информация о поездках: идентификационный номер пользователя, расстояние, длительность поездок и их даты. В датефрейме 18068 строк, 4 столбца. Ни в одном из столбцов нет пропущенных значений. Явных дубликатов нет.\n",
    "\n",
    "* В третьем датафрейме *subscriptions* содержится информация о подписке: есть ли она у пользователя или нет, сколько стоит подписка, сколько стоит минута поездки с подпиской и без, и сколько стоит начало поезки с подпиской и без. В датафрейме 2 строки и 4 столбца. Пропусков и явных дубликатов в датафрейме нет.\n",
    "\n",
    "2. Была проведена предобработка - работа с ошибками, пропусками и дубликатами (явными и неявными) в данных.\n",
    "\n",
    "* В датафрейме users были удалены явные дубликаты в столбце 'user_id' (31 дубликат). В результате, в датафрейме осталось 1534 строки;\n",
    "* В датафрейме rides были проведены следующие изменения:\n",
    " - столбец 'date' приведён к правильному формату;\n",
    " - добавлен новый столбец 'month', содержащий в себе порядковый номер месяца совершения поездки;\n",
    " - значения в столбце 'distance' были округлены до двух знаков после запятой;\n",
    " - значения в столбце 'duration' были округлены до двух знаков после запятой;\n",
    "* В датафрейме subscriptions предобработка данных не потребовалась.\n",
    "\n",
    "3. Был произведён исследовальский анализ данных, в результате которого удалось устаовить, что:\n",
    "* Наибольшей популярностью сервис пользуется в Пятигорске, Екатеринбурге и Ростове-на-Дону, а менее всего он популярен в Омске, Тюмени и Москве. В основном, на первых позициях списка расположены южные города, где сезон проката самокатов дольше. Исключение совставляет город Екатеринбург, находящийся на втором месте. Это можно связать с тем, что Екатеринбург - довольно крупный город (второй из представленных после Москвы по численности населения), и самокат там является достаточно популярным видом транспорта благодаря своей доступности, удобству и скорости передвижения.\n",
    "\n",
    "* Больше половины пользователей (54,4%) пользуюся сервисом без платной подписки. Платную подписку используют 45,6% пользователей.\n",
    "\n",
    "* Услугами сервиса пользуются люди от 12 до 43 лет, а средний возраст пользователя составляет 25 лет. Этот же возраст является и модой, и медианой. В целом можно сказать, что сервис проката самокатов более популярен у молодых людей - две трети пользователей не старше 28 лет.\n",
    "\n",
    "* Минимальное расстояние одной поездки составляет менее 1 метра, максимальное - чуть больше 7 километров (7211 метров). В среднем пользователи за одну поездку проезжали около 3 километров (3070 метров). На графике присутствуют два пика, что может означать, что существуют две группы пользователей которые используют приложение по-разному. Эти две группы стоит рассматривать отдельно и применять к ним разные маркетинговые техники. С аномально маленькие расстояния должны стать вопросом для более серьёзного исследования. \n",
    "\n",
    "* Продолжительность поездок находится в пределах от 1 минуты до 41 минуты. Среднее и медианное значения приктически совпадают и составляют около 18 минут. Две трети пользователей (75%) использовали самокат в пределах 22 минут, что вполне соотносится с тем, что две трети поездок находились в пределах 3776 метров. Стоит обратить внимание на выделяющиеся значения в районе 1-2 минут - таких коротких поездок оказалось 95.Все короткие поездки были совершены за время 0,5 минут, а максимальное зафиксированное расстояние составило 7211 метров. Проехать 7 километров за пол секунды невозможно, да и само время поездки в пол секунды тоже вызывает вопросы. Скорее всего, речь идёт об техническом сбое программы на самокатах (неправильная фиксация времени) или же об ошибке при выгрузке данных. На этот вопрос компании стоит обратить дополнительное внимание. Эти значения, как и маленькие расстояния, требуют более подробного исследования. Стоит также обратить внимание, что данная проблема характерна для пользователей без подписки (все аномально короткие поездки были совершены ими). Компании стоит отдельно рассмотреть эту группу пользователй и выяснить причины таких коротких поездок (проблема в програмном обеспечении или в чём-то другом)  \n",
    "\n",
    "В целом, можно сказать то, что пользователи с платной подпиской совершили практически в 2 раза меньше поездок, чем пользователи без подписки, однако среднее время и среднее расстояние одной поездки у них больше.\n",
    "\n",
    "4. Далее имеющиеся данные был обединены в один общий датафрейм и на его основе созданы два новых датафрейма: С информацией о пользователях с платной подпиской и пользователях без подписки.  \n",
    "На основании новых датафреймов были построены графики для сравнения времени и расстояния поездок у пользователей с платной подпиской и без подписки.  \n",
    "\n",
    "На основании проделанной работы были сделаны следующие выводы:\n",
    "* Поездок без подписки было совершено почти в два раза больше, чем с подписками (11568 и 6500 соответственно).\n",
    "\n",
    "* Среднее расстояние, которое проезжали пользователи без подписки меньше,чем у пользователей с подпиской (3045 и 3115 метров), однако пользователи без подписки совершали более длительные поездки (максимальное расстояние - 7211 метров), у пользователей с подпиской максимальное расстояние составляет 5699 метров. Пользователи без подписок совершали много очень коротких поездок (до 1 метра), тогда как минимальное значение с подпиской - 244 метра. \n",
    "\n",
    "* В среднем пользователи с платной подпиской проводили в поездке больше времени, чем пользователи без подписки (18,54 и 17,39 минут соответственно). Пользователи без подписки совершили много коротких поездок (что соответствует маленьким расстояниям). Пользователи с платной подпиской наоборот, совершали более длительные поездки (самая долгая длилась около 40 минут), а самая длинная у пользователей без подписки - 35 минут).\n",
    "\n",
    "По полученным данным можно сказать, что пользователи с платной подпиской совершали более длинные и долгие поездки, чем пользователи без подписки. Также при разделении пользователей на две группы( с платной подпиской и без) помогло выяснить, что проблема коротких поо времни и расстоянию поездок характерна для группы пользователей без подписки. \n",
    "\n",
    "5. Далее был произведён подсчёт помесячной выручки, которую принёс каждый пользователь. Это было выполнено путем создания нового датафрейма с агрегированными данными о поездках и расчёте выручки на его основе.  \n",
    "Суммарная выручка составила 3 877 893 рубля.  \n",
    "\n",
    "\n",
    "6. Далее мы приступили к проверке гипотез. Необходимо было проверить 3 гипотезы:\n",
    "* пользователи с подпиской тратят больше времени на поездки, чем пользователи без;\n",
    "* среднее расстояние, которое проезжают за одну поездку пользователи с подпиской не превышает 3130 метров;\n",
    "* помесячная выручка от пользователей с подпиской по месяцам будет выше, чем выручка от пользователей без подписки.  \n",
    "\n",
    "После проверки гипотез только в одном случае нулевая гипотеза не была отвергнута; в двух других - по результатам теста нулевая гипотеза была отвергнута в пользу альтернативной.  \n",
    "\n",
    "* При проверки первой гипотезы о том, что пользователи с платной подпиской в среднем совершают более длительные по времени поездки, после проведения теста мы можем отвергнуть нулевую гипотезу, и предположить, что пользователи с подпиской действительно тратят больше времени на поездки чем те, у кого подписки нет. Это нам подтверждает и метод describe(), применённый к анализирумым столбцам: среднее время поздки пользователей с платной подпиской составляет 18,54 минуты, а у пользователей без подписки - 17,з9 минут.\n",
    "* При проверке гипотезы о том, что пользователи с платной подпиской в среднем проезжают меньше заданного оптимального расстояния, по результатам теста нам не удалось отвергнуть нулевую гипотезу, и можно предположить, что среднее расстояние за одну поезку у пользователей с подпиской действительно не превышает оптимальное расстояние в 3130 метров. Подтверждение можно получить, и использовав метод describe(): среднее расстояние, которое проезжали пользователи с платной подпиской составляет 3115,44 метра, что меньше данного в услолвии оптимального значения (3130 метров).\n",
    "* При проверке третьей гипотезы о том, что помесячная выручка от пользователей с платной подпиской больше, чем от пользователей без подписки, результаты теста показали, что мы можем отвергнуть нулевую гипотезу, и предположить, что помесячная выручка от пользователей с подпиской действительно выше, чем от пользователей без подписки.\n",
    "\n",
    "7. Следующее задание заключалось в поиске количества промокодов, необходимого для того, чтобы с вероятностью успеха в 95% хотя бы 100 пользователей продлили подписку на следующий месяц.  \n",
    "* Выяснилось, что для достижения этой цели отделу маркетинга необходимо разослать не меньше 1161 промокодов.  \n",
    "\n",
    "Следующим пунктом нужно было найти вероятность того, что полученные уведомления откроют не больше 399,5 тысяч клиентов, если отдел маркетинга разошлёт 1000000 уведомлений, а открывают уведомления около 40% клиентов.  \n",
    "* Найденная вероятность оказалось равна 15,37%.  \n",
    "\n",
    "\n",
    "В целом можно сказать, что пользователи с платной подпиской более выгодные клиенты для данного сервиса: они совершают более длительные и длинные поездки, и, несмотря на то, что поездок они совершили почти в 2 раза меньше - помесячная выручка от пользователей с подпиской оказалась выше, чем от пользователей без подписки.  \n",
    "Также компании стоит обратить внимание на очень короткие поездки (около 1 минуты) и поездки на маленькие расстояния (менее 1 метра) у пользователей без подписки, и разобраться, откуда могли взяться такие цифры. Для этого поьребуется более подробный анализ данных."
   ]
  }
 ],
 "metadata": {
  "ExecuteTimeLog": [
   {
    "duration": 1287,
    "start_time": "2024-10-01T23:06:22.976Z"
   },
   {
    "duration": 294,
    "start_time": "2024-10-01T23:06:26.664Z"
   },
   {
    "duration": 66,
    "start_time": "2024-10-01T23:15:13.536Z"
   },
   {
    "duration": 89,
    "start_time": "2024-10-01T23:17:16.108Z"
   },
   {
    "duration": 172,
    "start_time": "2024-10-01T23:17:47.795Z"
   },
   {
    "duration": 87,
    "start_time": "2024-10-01T23:18:00.757Z"
   },
   {
    "duration": 84,
    "start_time": "2024-10-01T23:18:28.916Z"
   },
   {
    "duration": 89,
    "start_time": "2024-10-01T23:18:42.252Z"
   },
   {
    "duration": 84,
    "start_time": "2024-10-01T23:19:21.397Z"
   },
   {
    "duration": 81,
    "start_time": "2024-10-01T23:21:57.067Z"
   },
   {
    "duration": 91,
    "start_time": "2024-10-01T23:22:06.658Z"
   },
   {
    "duration": 33,
    "start_time": "2024-10-01T23:23:49.785Z"
   },
   {
    "duration": 44,
    "start_time": "2024-10-01T23:24:47.226Z"
   },
   {
    "duration": 11,
    "start_time": "2024-10-01T23:25:52.625Z"
   },
   {
    "duration": 11,
    "start_time": "2024-10-01T23:29:21.128Z"
   },
   {
    "duration": 10,
    "start_time": "2024-10-01T23:31:48.390Z"
   },
   {
    "duration": 6,
    "start_time": "2024-10-01T23:39:06.635Z"
   },
   {
    "duration": 12,
    "start_time": "2024-10-01T23:42:03.434Z"
   },
   {
    "duration": 256,
    "start_time": "2024-10-01T23:45:11.889Z"
   },
   {
    "duration": 217,
    "start_time": "2024-10-01T23:45:17.017Z"
   },
   {
    "duration": 131,
    "start_time": "2024-10-01T23:46:32.570Z"
   },
   {
    "duration": 167,
    "start_time": "2024-10-01T23:46:48.346Z"
   },
   {
    "duration": 167,
    "start_time": "2024-10-01T23:46:55.864Z"
   },
   {
    "duration": 162,
    "start_time": "2024-10-01T23:48:49.016Z"
   },
   {
    "duration": 296,
    "start_time": "2024-10-01T23:49:51.432Z"
   },
   {
    "duration": 226,
    "start_time": "2024-10-01T23:50:39.159Z"
   },
   {
    "duration": 260,
    "start_time": "2024-10-01T23:51:00.454Z"
   },
   {
    "duration": 262,
    "start_time": "2024-10-01T23:52:32.781Z"
   },
   {
    "duration": 128,
    "start_time": "2024-10-01T23:53:02.509Z"
   },
   {
    "duration": 281,
    "start_time": "2024-10-01T23:54:13.886Z"
   },
   {
    "duration": 205,
    "start_time": "2024-10-01T23:54:29.044Z"
   },
   {
    "duration": 262,
    "start_time": "2024-10-01T23:54:43.885Z"
   },
   {
    "duration": 250,
    "start_time": "2024-10-01T23:54:55.444Z"
   },
   {
    "duration": 268,
    "start_time": "2024-10-01T23:55:19.069Z"
   },
   {
    "duration": 296,
    "start_time": "2024-10-01T23:55:52.724Z"
   },
   {
    "duration": 5078,
    "start_time": "2024-10-01T23:56:12.868Z"
   },
   {
    "duration": 11,
    "start_time": "2024-10-01T23:59:05.092Z"
   },
   {
    "duration": 257,
    "start_time": "2024-10-01T23:59:26.888Z"
   },
   {
    "duration": 407,
    "start_time": "2024-10-02T00:00:21.770Z"
   },
   {
    "duration": 311,
    "start_time": "2024-10-02T00:00:45.683Z"
   },
   {
    "duration": 280,
    "start_time": "2024-10-02T00:01:03.267Z"
   },
   {
    "duration": 174,
    "start_time": "2024-10-02T00:01:12.642Z"
   },
   {
    "duration": 393,
    "start_time": "2024-10-02T00:02:37.954Z"
   },
   {
    "duration": 259,
    "start_time": "2024-10-02T00:02:43.993Z"
   },
   {
    "duration": 314,
    "start_time": "2024-10-02T00:03:07.529Z"
   },
   {
    "duration": 271,
    "start_time": "2024-10-02T00:03:21.442Z"
   },
   {
    "duration": 286,
    "start_time": "2024-10-02T00:03:42.340Z"
   },
   {
    "duration": 262,
    "start_time": "2024-10-02T00:03:48.826Z"
   },
   {
    "duration": 7,
    "start_time": "2024-10-02T00:38:57.253Z"
   },
   {
    "duration": 1398,
    "start_time": "2024-10-02T15:20:10.740Z"
   },
   {
    "duration": 463,
    "start_time": "2024-10-02T15:20:15.247Z"
   },
   {
    "duration": 12,
    "start_time": "2024-10-02T15:20:18.758Z"
   },
   {
    "duration": 11,
    "start_time": "2024-10-02T15:20:21.607Z"
   },
   {
    "duration": 10,
    "start_time": "2024-10-02T15:20:22.366Z"
   },
   {
    "duration": 14,
    "start_time": "2024-10-02T15:20:24.150Z"
   },
   {
    "duration": 200,
    "start_time": "2024-10-02T15:20:25.262Z"
   },
   {
    "duration": 6,
    "start_time": "2024-10-02T15:20:27.005Z"
   },
   {
    "duration": 321,
    "start_time": "2024-10-02T15:20:31.846Z"
   },
   {
    "duration": 284,
    "start_time": "2024-10-02T15:20:32.606Z"
   },
   {
    "duration": 2,
    "start_time": "2024-10-02T15:20:33.748Z"
   },
   {
    "duration": 8,
    "start_time": "2024-10-02T15:25:32.183Z"
   },
   {
    "duration": 492,
    "start_time": "2024-10-02T15:26:12.647Z"
   },
   {
    "duration": 411,
    "start_time": "2024-10-02T15:27:57.593Z"
   },
   {
    "duration": 258,
    "start_time": "2024-10-02T15:28:23.377Z"
   },
   {
    "duration": 84,
    "start_time": "2024-10-02T15:29:05.480Z"
   },
   {
    "duration": 209,
    "start_time": "2024-10-02T15:29:14.122Z"
   },
   {
    "duration": 229,
    "start_time": "2024-10-02T15:29:27.220Z"
   },
   {
    "duration": 12,
    "start_time": "2024-10-02T15:30:20.856Z"
   },
   {
    "duration": 6,
    "start_time": "2024-10-02T15:43:09.941Z"
   },
   {
    "duration": 7,
    "start_time": "2024-10-02T15:44:02.444Z"
   },
   {
    "duration": 5,
    "start_time": "2024-10-02T15:47:16.738Z"
   },
   {
    "duration": 17,
    "start_time": "2024-10-02T15:47:59.848Z"
   },
   {
    "duration": 9,
    "start_time": "2024-10-02T15:49:39.794Z"
   },
   {
    "duration": 10,
    "start_time": "2024-10-02T15:50:24.003Z"
   },
   {
    "duration": 14,
    "start_time": "2024-10-02T15:50:36.306Z"
   },
   {
    "duration": 12,
    "start_time": "2024-10-02T15:50:50.905Z"
   },
   {
    "duration": 1170,
    "start_time": "2024-10-02T15:53:19.593Z"
   },
   {
    "duration": 90,
    "start_time": "2024-10-02T15:53:20.765Z"
   },
   {
    "duration": 11,
    "start_time": "2024-10-02T15:53:20.857Z"
   },
   {
    "duration": 28,
    "start_time": "2024-10-02T15:53:20.870Z"
   },
   {
    "duration": 13,
    "start_time": "2024-10-02T15:53:21.008Z"
   },
   {
    "duration": 12,
    "start_time": "2024-10-02T15:53:21.224Z"
   },
   {
    "duration": 198,
    "start_time": "2024-10-02T15:53:21.400Z"
   },
   {
    "duration": 5,
    "start_time": "2024-10-02T15:53:21.600Z"
   },
   {
    "duration": 282,
    "start_time": "2024-10-02T15:53:22.016Z"
   },
   {
    "duration": 338,
    "start_time": "2024-10-02T15:53:22.301Z"
   },
   {
    "duration": 2,
    "start_time": "2024-10-02T15:53:22.642Z"
   },
   {
    "duration": 8,
    "start_time": "2024-10-02T15:53:23.609Z"
   },
   {
    "duration": 5,
    "start_time": "2024-10-02T15:53:24.465Z"
   },
   {
    "duration": 6,
    "start_time": "2024-10-02T15:53:25.392Z"
   },
   {
    "duration": 10,
    "start_time": "2024-10-02T15:53:27.896Z"
   },
   {
    "duration": 127,
    "start_time": "2024-10-02T15:53:46.288Z"
   },
   {
    "duration": 12,
    "start_time": "2024-10-02T15:53:54.303Z"
   },
   {
    "duration": 14,
    "start_time": "2024-10-02T15:54:11.897Z"
   },
   {
    "duration": 10,
    "start_time": "2024-10-02T15:56:13.426Z"
   },
   {
    "duration": 6,
    "start_time": "2024-10-02T15:56:28.951Z"
   },
   {
    "duration": 12,
    "start_time": "2024-10-02T15:56:29.766Z"
   },
   {
    "duration": 6,
    "start_time": "2024-10-02T15:57:40.766Z"
   },
   {
    "duration": 4,
    "start_time": "2024-10-02T16:01:12.667Z"
   },
   {
    "duration": 1115,
    "start_time": "2024-10-02T16:01:20.404Z"
   },
   {
    "duration": 95,
    "start_time": "2024-10-02T16:01:23.627Z"
   },
   {
    "duration": 12,
    "start_time": "2024-10-02T16:01:24.489Z"
   },
   {
    "duration": 12,
    "start_time": "2024-10-02T16:01:24.970Z"
   },
   {
    "duration": 10,
    "start_time": "2024-10-02T16:01:25.204Z"
   },
   {
    "duration": 13,
    "start_time": "2024-10-02T16:01:25.404Z"
   },
   {
    "duration": 198,
    "start_time": "2024-10-02T16:01:25.674Z"
   },
   {
    "duration": 6,
    "start_time": "2024-10-02T16:01:26.066Z"
   },
   {
    "duration": 290,
    "start_time": "2024-10-02T16:01:26.690Z"
   },
   {
    "duration": 313,
    "start_time": "2024-10-02T16:01:26.982Z"
   },
   {
    "duration": 2,
    "start_time": "2024-10-02T16:01:27.297Z"
   },
   {
    "duration": 8,
    "start_time": "2024-10-02T16:01:30.746Z"
   },
   {
    "duration": 5,
    "start_time": "2024-10-02T16:01:31.155Z"
   },
   {
    "duration": 5,
    "start_time": "2024-10-02T16:01:31.651Z"
   },
   {
    "duration": 5,
    "start_time": "2024-10-02T16:01:33.596Z"
   },
   {
    "duration": 11,
    "start_time": "2024-10-02T16:01:34.819Z"
   },
   {
    "duration": 6,
    "start_time": "2024-10-02T16:01:35.585Z"
   },
   {
    "duration": 9,
    "start_time": "2024-10-02T16:12:22.843Z"
   },
   {
    "duration": 17,
    "start_time": "2024-10-02T16:12:38.099Z"
   },
   {
    "duration": 1242,
    "start_time": "2024-10-02T16:14:06.919Z"
   },
   {
    "duration": 93,
    "start_time": "2024-10-02T16:14:08.163Z"
   },
   {
    "duration": 11,
    "start_time": "2024-10-02T16:14:08.258Z"
   },
   {
    "duration": 12,
    "start_time": "2024-10-02T16:14:08.271Z"
   },
   {
    "duration": 10,
    "start_time": "2024-10-02T16:14:08.352Z"
   },
   {
    "duration": 13,
    "start_time": "2024-10-02T16:14:08.544Z"
   },
   {
    "duration": 198,
    "start_time": "2024-10-02T16:14:08.752Z"
   },
   {
    "duration": 6,
    "start_time": "2024-10-02T16:14:09.113Z"
   },
   {
    "duration": 294,
    "start_time": "2024-10-02T16:14:10.151Z"
   },
   {
    "duration": 328,
    "start_time": "2024-10-02T16:14:10.560Z"
   },
   {
    "duration": 3,
    "start_time": "2024-10-02T16:14:11.399Z"
   },
   {
    "duration": 8,
    "start_time": "2024-10-02T16:14:13.704Z"
   },
   {
    "duration": 5,
    "start_time": "2024-10-02T16:14:14.712Z"
   },
   {
    "duration": 5,
    "start_time": "2024-10-02T16:14:16.033Z"
   },
   {
    "duration": 5,
    "start_time": "2024-10-02T16:14:17.939Z"
   },
   {
    "duration": 15,
    "start_time": "2024-10-02T16:14:18.536Z"
   },
   {
    "duration": 5,
    "start_time": "2024-10-02T16:14:21.034Z"
   },
   {
    "duration": 16,
    "start_time": "2024-10-02T16:14:23.951Z"
   },
   {
    "duration": 5,
    "start_time": "2024-10-02T16:15:51.801Z"
   },
   {
    "duration": 22,
    "start_time": "2024-10-02T16:15:56.944Z"
   },
   {
    "duration": 6,
    "start_time": "2024-10-02T17:01:55.365Z"
   },
   {
    "duration": 6,
    "start_time": "2024-10-02T17:02:25.051Z"
   },
   {
    "duration": 60,
    "start_time": "2024-10-02T17:06:41.937Z"
   },
   {
    "duration": 12,
    "start_time": "2024-10-02T17:06:50.441Z"
   },
   {
    "duration": 4,
    "start_time": "2024-10-02T17:11:22.560Z"
   },
   {
    "duration": 6,
    "start_time": "2024-10-02T17:31:45.216Z"
   },
   {
    "duration": 11,
    "start_time": "2024-10-02T17:32:25.607Z"
   },
   {
    "duration": 64,
    "start_time": "2024-10-02T19:53:03.860Z"
   },
   {
    "duration": 1391,
    "start_time": "2024-10-02T19:53:21.561Z"
   },
   {
    "duration": 308,
    "start_time": "2024-10-02T19:53:23.489Z"
   },
   {
    "duration": 12,
    "start_time": "2024-10-02T19:53:23.911Z"
   },
   {
    "duration": 12,
    "start_time": "2024-10-02T19:53:24.313Z"
   },
   {
    "duration": 10,
    "start_time": "2024-10-02T19:53:24.617Z"
   },
   {
    "duration": 11,
    "start_time": "2024-10-02T19:53:24.809Z"
   },
   {
    "duration": 237,
    "start_time": "2024-10-02T19:53:25.001Z"
   },
   {
    "duration": 16,
    "start_time": "2024-10-02T19:53:25.240Z"
   },
   {
    "duration": 342,
    "start_time": "2024-10-02T19:53:25.513Z"
   },
   {
    "duration": 301,
    "start_time": "2024-10-02T19:53:25.857Z"
   },
   {
    "duration": 2,
    "start_time": "2024-10-02T19:53:26.161Z"
   },
   {
    "duration": 11,
    "start_time": "2024-10-02T19:53:32.147Z"
   },
   {
    "duration": 4,
    "start_time": "2024-10-02T19:53:32.330Z"
   },
   {
    "duration": 6,
    "start_time": "2024-10-02T19:53:32.512Z"
   },
   {
    "duration": 6,
    "start_time": "2024-10-02T19:53:33.321Z"
   },
   {
    "duration": 12,
    "start_time": "2024-10-02T19:53:33.530Z"
   },
   {
    "duration": 6,
    "start_time": "2024-10-02T19:53:33.707Z"
   },
   {
    "duration": 5,
    "start_time": "2024-10-02T19:53:34.259Z"
   },
   {
    "duration": 10,
    "start_time": "2024-10-02T19:53:34.584Z"
   },
   {
    "duration": 4,
    "start_time": "2024-10-02T19:53:35.009Z"
   },
   {
    "duration": 5,
    "start_time": "2024-10-02T19:53:35.899Z"
   },
   {
    "duration": 7,
    "start_time": "2024-10-02T19:53:38.624Z"
   },
   {
    "duration": 107,
    "start_time": "2024-10-02T19:57:24.869Z"
   },
   {
    "duration": 993,
    "start_time": "2024-10-02T19:58:27.212Z"
   },
   {
    "duration": 2512,
    "start_time": "2024-10-02T19:58:47.444Z"
   },
   {
    "duration": 2452,
    "start_time": "2024-10-02T19:59:07.676Z"
   },
   {
    "duration": 5,
    "start_time": "2024-10-02T20:00:50.590Z"
   },
   {
    "duration": 1120,
    "start_time": "2024-10-02T20:01:10.637Z"
   },
   {
    "duration": 8,
    "start_time": "2024-10-02T20:01:24.421Z"
   },
   {
    "duration": 11,
    "start_time": "2024-10-02T20:09:18.106Z"
   },
   {
    "duration": 15,
    "start_time": "2024-10-02T20:09:45.930Z"
   },
   {
    "duration": 13,
    "start_time": "2024-10-02T20:10:03.018Z"
   },
   {
    "duration": 9,
    "start_time": "2024-10-02T20:10:29.170Z"
   },
   {
    "duration": 13,
    "start_time": "2024-10-02T20:10:41.433Z"
   },
   {
    "duration": 12,
    "start_time": "2024-10-02T20:10:58.674Z"
   },
   {
    "duration": 11,
    "start_time": "2024-10-02T20:11:21.258Z"
   },
   {
    "duration": 1250,
    "start_time": "2024-10-02T20:12:03.254Z"
   },
   {
    "duration": 89,
    "start_time": "2024-10-02T20:12:04.506Z"
   },
   {
    "duration": 11,
    "start_time": "2024-10-02T20:12:04.597Z"
   },
   {
    "duration": 26,
    "start_time": "2024-10-02T20:12:04.611Z"
   },
   {
    "duration": 17,
    "start_time": "2024-10-02T20:12:04.639Z"
   },
   {
    "duration": 12,
    "start_time": "2024-10-02T20:12:04.687Z"
   },
   {
    "duration": 225,
    "start_time": "2024-10-02T20:12:04.705Z"
   },
   {
    "duration": 5,
    "start_time": "2024-10-02T20:12:05.035Z"
   },
   {
    "duration": 297,
    "start_time": "2024-10-02T20:12:05.226Z"
   },
   {
    "duration": 312,
    "start_time": "2024-10-02T20:12:05.525Z"
   },
   {
    "duration": 2,
    "start_time": "2024-10-02T20:12:05.839Z"
   },
   {
    "duration": 7,
    "start_time": "2024-10-02T20:12:06.309Z"
   },
   {
    "duration": 4,
    "start_time": "2024-10-02T20:12:06.470Z"
   },
   {
    "duration": 62,
    "start_time": "2024-10-02T20:12:06.487Z"
   },
   {
    "duration": 5,
    "start_time": "2024-10-02T20:12:06.861Z"
   },
   {
    "duration": 11,
    "start_time": "2024-10-02T20:12:07.035Z"
   },
   {
    "duration": 7,
    "start_time": "2024-10-02T20:12:07.236Z"
   },
   {
    "duration": 5,
    "start_time": "2024-10-02T20:12:07.628Z"
   },
   {
    "duration": 9,
    "start_time": "2024-10-02T20:12:07.838Z"
   },
   {
    "duration": 5,
    "start_time": "2024-10-02T20:12:08.212Z"
   },
   {
    "duration": 5,
    "start_time": "2024-10-02T20:12:08.683Z"
   },
   {
    "duration": 7,
    "start_time": "2024-10-02T20:12:11.083Z"
   },
   {
    "duration": 12,
    "start_time": "2024-10-02T20:12:12.716Z"
   },
   {
    "duration": 1198,
    "start_time": "2024-10-02T20:12:39.272Z"
   },
   {
    "duration": 93,
    "start_time": "2024-10-02T20:12:40.472Z"
   },
   {
    "duration": 12,
    "start_time": "2024-10-02T20:12:40.567Z"
   },
   {
    "duration": 12,
    "start_time": "2024-10-02T20:12:40.844Z"
   },
   {
    "duration": 12,
    "start_time": "2024-10-02T20:12:41.027Z"
   },
   {
    "duration": 13,
    "start_time": "2024-10-02T20:12:41.198Z"
   },
   {
    "duration": 227,
    "start_time": "2024-10-02T20:12:41.353Z"
   },
   {
    "duration": 6,
    "start_time": "2024-10-02T20:12:41.582Z"
   },
   {
    "duration": 314,
    "start_time": "2024-10-02T20:12:41.851Z"
   },
   {
    "duration": 311,
    "start_time": "2024-10-02T20:12:42.167Z"
   },
   {
    "duration": 3,
    "start_time": "2024-10-02T20:12:42.481Z"
   },
   {
    "duration": 8,
    "start_time": "2024-10-02T20:12:42.917Z"
   },
   {
    "duration": 5,
    "start_time": "2024-10-02T20:12:43.107Z"
   },
   {
    "duration": 6,
    "start_time": "2024-10-02T20:12:43.300Z"
   },
   {
    "duration": 5,
    "start_time": "2024-10-02T20:12:44.211Z"
   },
   {
    "duration": 12,
    "start_time": "2024-10-02T20:12:44.427Z"
   },
   {
    "duration": 6,
    "start_time": "2024-10-02T20:12:44.612Z"
   },
   {
    "duration": 6,
    "start_time": "2024-10-02T20:12:44.979Z"
   },
   {
    "duration": 11,
    "start_time": "2024-10-02T20:12:45.171Z"
   },
   {
    "duration": 4,
    "start_time": "2024-10-02T20:12:45.588Z"
   },
   {
    "duration": 6,
    "start_time": "2024-10-02T20:12:46.460Z"
   },
   {
    "duration": 7,
    "start_time": "2024-10-02T20:12:49.405Z"
   },
   {
    "duration": 11,
    "start_time": "2024-10-02T20:13:01.460Z"
   },
   {
    "duration": 11,
    "start_time": "2024-10-02T20:13:14.150Z"
   },
   {
    "duration": 6,
    "start_time": "2024-10-02T20:14:40.819Z"
   },
   {
    "duration": 5,
    "start_time": "2024-10-02T20:14:58.003Z"
   },
   {
    "duration": 1129,
    "start_time": "2024-10-02T20:44:38.351Z"
   },
   {
    "duration": 4,
    "start_time": "2024-10-02T20:45:37.670Z"
   },
   {
    "duration": 184,
    "start_time": "2024-10-02T20:45:40.950Z"
   },
   {
    "duration": 4,
    "start_time": "2024-10-02T20:47:04.422Z"
   },
   {
    "duration": 163,
    "start_time": "2024-10-02T20:47:08.069Z"
   },
   {
    "duration": 175,
    "start_time": "2024-10-02T20:48:39.453Z"
   },
   {
    "duration": 6,
    "start_time": "2024-10-02T20:50:16.036Z"
   },
   {
    "duration": 14,
    "start_time": "2024-10-02T20:50:16.672Z"
   },
   {
    "duration": 3,
    "start_time": "2024-10-02T20:50:19.844Z"
   },
   {
    "duration": 4,
    "start_time": "2024-10-02T20:50:20.724Z"
   },
   {
    "duration": 4,
    "start_time": "2024-10-02T20:50:21.395Z"
   },
   {
    "duration": 160,
    "start_time": "2024-10-02T20:50:22.420Z"
   },
   {
    "duration": 6,
    "start_time": "2024-10-02T20:59:15.216Z"
   },
   {
    "duration": 9,
    "start_time": "2024-10-02T20:59:46.503Z"
   },
   {
    "duration": 5,
    "start_time": "2024-10-02T20:59:46.932Z"
   },
   {
    "duration": 5,
    "start_time": "2024-10-02T20:59:47.368Z"
   },
   {
    "duration": 4,
    "start_time": "2024-10-02T20:59:47.791Z"
   },
   {
    "duration": 9,
    "start_time": "2024-10-02T20:59:48.208Z"
   },
   {
    "duration": 5,
    "start_time": "2024-10-02T21:00:16.867Z"
   },
   {
    "duration": 8,
    "start_time": "2024-10-02T21:00:23.842Z"
   },
   {
    "duration": 11,
    "start_time": "2024-10-02T21:00:52.168Z"
   },
   {
    "duration": 5,
    "start_time": "2024-10-02T21:05:22.846Z"
   },
   {
    "duration": 11,
    "start_time": "2024-10-02T21:05:35.357Z"
   },
   {
    "duration": 6,
    "start_time": "2024-10-02T21:07:06.609Z"
   },
   {
    "duration": 10,
    "start_time": "2024-10-02T21:09:21.085Z"
   },
   {
    "duration": 5,
    "start_time": "2024-10-02T21:09:21.505Z"
   },
   {
    "duration": 9,
    "start_time": "2024-10-02T21:09:22.485Z"
   },
   {
    "duration": 4,
    "start_time": "2024-10-02T21:09:34.173Z"
   },
   {
    "duration": 9,
    "start_time": "2024-10-02T21:09:34.628Z"
   },
   {
    "duration": 5,
    "start_time": "2024-10-02T21:09:40.140Z"
   },
   {
    "duration": 10,
    "start_time": "2024-10-02T21:09:44.278Z"
   },
   {
    "duration": 11,
    "start_time": "2024-10-02T21:09:56.964Z"
   },
   {
    "duration": 4,
    "start_time": "2024-10-02T21:09:59.316Z"
   },
   {
    "duration": 10,
    "start_time": "2024-10-02T21:09:59.906Z"
   },
   {
    "duration": 1179,
    "start_time": "2024-10-02T21:10:17.025Z"
   },
   {
    "duration": 104,
    "start_time": "2024-10-02T21:10:18.206Z"
   },
   {
    "duration": 12,
    "start_time": "2024-10-02T21:10:18.311Z"
   },
   {
    "duration": 22,
    "start_time": "2024-10-02T21:10:18.326Z"
   },
   {
    "duration": 25,
    "start_time": "2024-10-02T21:10:18.350Z"
   },
   {
    "duration": 27,
    "start_time": "2024-10-02T21:10:18.377Z"
   },
   {
    "duration": 233,
    "start_time": "2024-10-02T21:10:18.406Z"
   },
   {
    "duration": 14,
    "start_time": "2024-10-02T21:10:18.641Z"
   },
   {
    "duration": 323,
    "start_time": "2024-10-02T21:10:18.865Z"
   },
   {
    "duration": 306,
    "start_time": "2024-10-02T21:10:19.190Z"
   },
   {
    "duration": 3,
    "start_time": "2024-10-02T21:10:19.498Z"
   },
   {
    "duration": 8,
    "start_time": "2024-10-02T21:10:19.845Z"
   },
   {
    "duration": 5,
    "start_time": "2024-10-02T21:10:19.992Z"
   },
   {
    "duration": 8,
    "start_time": "2024-10-02T21:10:20.160Z"
   },
   {
    "duration": 5,
    "start_time": "2024-10-02T21:10:20.648Z"
   },
   {
    "duration": 11,
    "start_time": "2024-10-02T21:10:20.800Z"
   },
   {
    "duration": 7,
    "start_time": "2024-10-02T21:10:20.966Z"
   },
   {
    "duration": 5,
    "start_time": "2024-10-02T21:10:21.293Z"
   },
   {
    "duration": 14,
    "start_time": "2024-10-02T21:10:21.457Z"
   },
   {
    "duration": 5,
    "start_time": "2024-10-02T21:10:21.800Z"
   },
   {
    "duration": 8,
    "start_time": "2024-10-02T21:10:22.161Z"
   },
   {
    "duration": 6,
    "start_time": "2024-10-02T21:10:23.512Z"
   },
   {
    "duration": 10,
    "start_time": "2024-10-02T21:10:23.696Z"
   },
   {
    "duration": 5,
    "start_time": "2024-10-02T21:10:23.868Z"
   },
   {
    "duration": 8,
    "start_time": "2024-10-02T21:10:24.040Z"
   },
   {
    "duration": 4,
    "start_time": "2024-10-02T21:10:29.289Z"
   },
   {
    "duration": 3,
    "start_time": "2024-10-02T21:10:30.210Z"
   },
   {
    "duration": 173,
    "start_time": "2024-10-02T21:10:36.303Z"
   },
   {
    "duration": 9,
    "start_time": "2024-10-02T21:11:48.621Z"
   },
   {
    "duration": 12,
    "start_time": "2024-10-02T21:12:01.139Z"
   },
   {
    "duration": 15,
    "start_time": "2024-10-02T21:13:34.352Z"
   },
   {
    "duration": 1154,
    "start_time": "2024-10-02T21:16:04.169Z"
   },
   {
    "duration": 103,
    "start_time": "2024-10-02T21:16:19.583Z"
   },
   {
    "duration": 98,
    "start_time": "2024-10-02T21:16:37.678Z"
   },
   {
    "duration": 180,
    "start_time": "2024-10-02T21:17:07.238Z"
   },
   {
    "duration": 100,
    "start_time": "2024-10-02T21:19:11.573Z"
   },
   {
    "duration": 103,
    "start_time": "2024-10-02T21:20:49.908Z"
   },
   {
    "duration": 11,
    "start_time": "2024-10-02T21:21:21.068Z"
   },
   {
    "duration": 12,
    "start_time": "2024-10-02T21:21:48.099Z"
   },
   {
    "duration": 209,
    "start_time": "2024-10-02T21:26:07.930Z"
   },
   {
    "duration": 157,
    "start_time": "2024-10-02T21:31:10.990Z"
   },
   {
    "duration": 3,
    "start_time": "2024-10-02T21:33:21.303Z"
   },
   {
    "duration": 13,
    "start_time": "2024-10-02T22:38:03.114Z"
   },
   {
    "duration": 234,
    "start_time": "2024-10-02T22:40:16.317Z"
   },
   {
    "duration": 1038,
    "start_time": "2024-10-02T22:40:34.085Z"
   },
   {
    "duration": 245,
    "start_time": "2024-10-02T22:41:15.052Z"
   },
   {
    "duration": 165,
    "start_time": "2024-10-02T22:41:50.594Z"
   },
   {
    "duration": 4,
    "start_time": "2024-10-02T22:43:01.075Z"
   },
   {
    "duration": 173,
    "start_time": "2024-10-02T22:43:02.466Z"
   },
   {
    "duration": 259,
    "start_time": "2024-10-02T22:43:09.066Z"
   },
   {
    "duration": 54,
    "start_time": "2024-10-02T22:43:55.347Z"
   },
   {
    "duration": 12,
    "start_time": "2024-10-02T22:44:03.682Z"
   },
   {
    "duration": 171,
    "start_time": "2024-10-02T22:46:31.752Z"
   },
   {
    "duration": 165,
    "start_time": "2024-10-02T22:46:44.978Z"
   },
   {
    "duration": 182,
    "start_time": "2024-10-02T22:48:20.241Z"
   },
   {
    "duration": 207,
    "start_time": "2024-10-02T22:49:13.715Z"
   },
   {
    "duration": 176,
    "start_time": "2024-10-02T22:49:26.625Z"
   },
   {
    "duration": 163,
    "start_time": "2024-10-02T22:50:21.424Z"
   },
   {
    "duration": 5,
    "start_time": "2024-10-02T22:51:33.527Z"
   },
   {
    "duration": 1148,
    "start_time": "2024-10-02T22:54:30.900Z"
   },
   {
    "duration": 92,
    "start_time": "2024-10-02T22:54:32.050Z"
   },
   {
    "duration": 12,
    "start_time": "2024-10-02T22:54:32.143Z"
   },
   {
    "duration": 21,
    "start_time": "2024-10-02T22:54:32.157Z"
   },
   {
    "duration": 13,
    "start_time": "2024-10-02T22:54:32.180Z"
   },
   {
    "duration": 22,
    "start_time": "2024-10-02T22:54:32.195Z"
   },
   {
    "duration": 216,
    "start_time": "2024-10-02T22:54:32.218Z"
   },
   {
    "duration": 5,
    "start_time": "2024-10-02T22:54:32.436Z"
   },
   {
    "duration": 295,
    "start_time": "2024-10-02T22:54:32.623Z"
   },
   {
    "duration": 312,
    "start_time": "2024-10-02T22:54:32.920Z"
   },
   {
    "duration": 3,
    "start_time": "2024-10-02T22:54:33.234Z"
   },
   {
    "duration": 8,
    "start_time": "2024-10-02T22:54:33.627Z"
   },
   {
    "duration": 5,
    "start_time": "2024-10-02T22:54:33.802Z"
   },
   {
    "duration": 6,
    "start_time": "2024-10-02T22:54:33.970Z"
   },
   {
    "duration": 5,
    "start_time": "2024-10-02T22:54:34.500Z"
   },
   {
    "duration": 12,
    "start_time": "2024-10-02T22:54:34.667Z"
   },
   {
    "duration": 6,
    "start_time": "2024-10-02T22:54:34.858Z"
   },
   {
    "duration": 6,
    "start_time": "2024-10-02T22:54:35.203Z"
   },
   {
    "duration": 11,
    "start_time": "2024-10-02T22:54:35.377Z"
   },
   {
    "duration": 6,
    "start_time": "2024-10-02T22:54:35.769Z"
   },
   {
    "duration": 6,
    "start_time": "2024-10-02T22:54:36.122Z"
   },
   {
    "duration": 6,
    "start_time": "2024-10-02T22:54:37.626Z"
   },
   {
    "duration": 10,
    "start_time": "2024-10-02T22:54:37.811Z"
   },
   {
    "duration": 5,
    "start_time": "2024-10-02T22:54:38.003Z"
   },
   {
    "duration": 11,
    "start_time": "2024-10-02T22:54:38.201Z"
   },
   {
    "duration": 4,
    "start_time": "2024-10-02T22:54:38.380Z"
   },
   {
    "duration": 4,
    "start_time": "2024-10-02T22:54:38.569Z"
   },
   {
    "duration": 163,
    "start_time": "2024-10-02T22:54:39.059Z"
   },
   {
    "duration": 11,
    "start_time": "2024-10-02T22:54:41.682Z"
   },
   {
    "duration": 10,
    "start_time": "2024-10-02T22:54:42.338Z"
   },
   {
    "duration": 150,
    "start_time": "2024-10-02T22:54:43.169Z"
   },
   {
    "duration": 10,
    "start_time": "2024-10-02T22:54:53.482Z"
   },
   {
    "duration": 6,
    "start_time": "2024-10-02T22:54:55.578Z"
   },
   {
    "duration": 1147,
    "start_time": "2024-10-02T22:55:03.841Z"
   },
   {
    "duration": 168,
    "start_time": "2024-10-02T22:55:21.297Z"
   },
   {
    "duration": 286,
    "start_time": "2024-10-02T22:55:41.628Z"
   },
   {
    "duration": 217,
    "start_time": "2024-10-02T22:55:51.811Z"
   },
   {
    "duration": 167,
    "start_time": "2024-10-02T22:55:58.707Z"
   },
   {
    "duration": 11,
    "start_time": "2024-10-02T22:56:42.569Z"
   },
   {
    "duration": 12,
    "start_time": "2024-10-02T22:57:07.177Z"
   },
   {
    "duration": 63,
    "start_time": "2024-10-02T22:57:37.307Z"
   },
   {
    "duration": 1050,
    "start_time": "2024-10-02T22:57:46.346Z"
   },
   {
    "duration": 5,
    "start_time": "2024-10-02T22:58:08.948Z"
   },
   {
    "duration": 15,
    "start_time": "2024-10-02T22:58:20.736Z"
   },
   {
    "duration": 8,
    "start_time": "2024-10-02T22:58:40.500Z"
   },
   {
    "duration": 9,
    "start_time": "2024-10-02T23:00:28.553Z"
   },
   {
    "duration": 194,
    "start_time": "2024-10-02T23:03:00.952Z"
   },
   {
    "duration": 213,
    "start_time": "2024-10-02T23:03:19.792Z"
   },
   {
    "duration": 1201,
    "start_time": "2024-10-02T23:03:42.147Z"
   },
   {
    "duration": 97,
    "start_time": "2024-10-02T23:03:43.350Z"
   },
   {
    "duration": 12,
    "start_time": "2024-10-02T23:03:43.504Z"
   },
   {
    "duration": 16,
    "start_time": "2024-10-02T23:03:43.723Z"
   },
   {
    "duration": 11,
    "start_time": "2024-10-02T23:03:43.903Z"
   },
   {
    "duration": 12,
    "start_time": "2024-10-02T23:03:44.090Z"
   },
   {
    "duration": 204,
    "start_time": "2024-10-02T23:03:44.272Z"
   },
   {
    "duration": 6,
    "start_time": "2024-10-02T23:03:44.478Z"
   },
   {
    "duration": 292,
    "start_time": "2024-10-02T23:03:44.778Z"
   },
   {
    "duration": 309,
    "start_time": "2024-10-02T23:03:45.073Z"
   },
   {
    "duration": 3,
    "start_time": "2024-10-02T23:03:45.384Z"
   },
   {
    "duration": 8,
    "start_time": "2024-10-02T23:03:45.825Z"
   },
   {
    "duration": 5,
    "start_time": "2024-10-02T23:03:46.004Z"
   },
   {
    "duration": 6,
    "start_time": "2024-10-02T23:03:46.182Z"
   },
   {
    "duration": 9,
    "start_time": "2024-10-02T23:03:46.703Z"
   },
   {
    "duration": 12,
    "start_time": "2024-10-02T23:03:46.936Z"
   },
   {
    "duration": 5,
    "start_time": "2024-10-02T23:03:47.035Z"
   },
   {
    "duration": 6,
    "start_time": "2024-10-02T23:03:47.395Z"
   },
   {
    "duration": 11,
    "start_time": "2024-10-02T23:03:47.585Z"
   },
   {
    "duration": 6,
    "start_time": "2024-10-02T23:03:47.944Z"
   },
   {
    "duration": 5,
    "start_time": "2024-10-02T23:03:48.306Z"
   },
   {
    "duration": 6,
    "start_time": "2024-10-02T23:03:49.556Z"
   },
   {
    "duration": 9,
    "start_time": "2024-10-02T23:03:49.736Z"
   },
   {
    "duration": 5,
    "start_time": "2024-10-02T23:03:49.914Z"
   },
   {
    "duration": 10,
    "start_time": "2024-10-02T23:03:50.105Z"
   },
   {
    "duration": 3,
    "start_time": "2024-10-02T23:03:50.307Z"
   },
   {
    "duration": 4,
    "start_time": "2024-10-02T23:03:50.498Z"
   },
   {
    "duration": 164,
    "start_time": "2024-10-02T23:03:50.664Z"
   },
   {
    "duration": 11,
    "start_time": "2024-10-02T23:03:51.665Z"
   },
   {
    "duration": 10,
    "start_time": "2024-10-02T23:03:51.851Z"
   },
   {
    "duration": 153,
    "start_time": "2024-10-02T23:03:52.041Z"
   },
   {
    "duration": 13,
    "start_time": "2024-10-02T23:03:54.179Z"
   },
   {
    "duration": 217,
    "start_time": "2024-10-02T23:03:55.714Z"
   },
   {
    "duration": 207,
    "start_time": "2024-10-02T23:04:11.628Z"
   },
   {
    "duration": 242,
    "start_time": "2024-10-02T23:04:22.386Z"
   },
   {
    "duration": 160,
    "start_time": "2024-10-02T23:04:30.450Z"
   },
   {
    "duration": 160,
    "start_time": "2024-10-02T23:04:38.890Z"
   },
   {
    "duration": 193,
    "start_time": "2024-10-02T23:14:34.765Z"
   },
   {
    "duration": 2,
    "start_time": "2024-10-02T23:19:04.196Z"
   },
   {
    "duration": 13,
    "start_time": "2024-10-02T23:22:15.763Z"
   },
   {
    "duration": 185,
    "start_time": "2024-10-02T23:28:50.920Z"
   },
   {
    "duration": 303,
    "start_time": "2024-10-02T23:29:32.552Z"
   },
   {
    "duration": 279,
    "start_time": "2024-10-02T23:31:18.688Z"
   },
   {
    "duration": 317,
    "start_time": "2024-10-02T23:32:09.151Z"
   },
   {
    "duration": 10,
    "start_time": "2024-10-02T23:32:46.262Z"
   },
   {
    "duration": 2,
    "start_time": "2024-10-02T23:40:15.819Z"
   },
   {
    "duration": 13,
    "start_time": "2024-10-02T23:41:43.913Z"
   },
   {
    "duration": 400,
    "start_time": "2024-10-02T23:42:04.489Z"
   },
   {
    "duration": 247,
    "start_time": "2024-10-02T23:43:02.665Z"
   },
   {
    "duration": 187,
    "start_time": "2024-10-02T23:43:12.291Z"
   },
   {
    "duration": 221,
    "start_time": "2024-10-02T23:43:19.960Z"
   },
   {
    "duration": 226,
    "start_time": "2024-10-02T23:43:27.362Z"
   },
   {
    "duration": 223,
    "start_time": "2024-10-02T23:43:31.706Z"
   },
   {
    "duration": 218,
    "start_time": "2024-10-02T23:43:37.832Z"
   },
   {
    "duration": 205,
    "start_time": "2024-10-02T23:44:24.833Z"
   },
   {
    "duration": 333,
    "start_time": "2024-10-02T23:46:50.409Z"
   },
   {
    "duration": 11,
    "start_time": "2024-10-02T23:53:09.533Z"
   },
   {
    "duration": 5,
    "start_time": "2024-10-02T23:53:30.118Z"
   },
   {
    "duration": 7,
    "start_time": "2024-10-02T23:56:56.492Z"
   },
   {
    "duration": 1451,
    "start_time": "2024-10-03T12:05:30.475Z"
   },
   {
    "duration": 328,
    "start_time": "2024-10-03T12:05:34.138Z"
   },
   {
    "duration": 15,
    "start_time": "2024-10-03T12:05:34.468Z"
   },
   {
    "duration": 13,
    "start_time": "2024-10-03T12:05:34.485Z"
   },
   {
    "duration": 15,
    "start_time": "2024-10-03T12:05:34.624Z"
   },
   {
    "duration": 13,
    "start_time": "2024-10-03T12:05:34.778Z"
   },
   {
    "duration": 220,
    "start_time": "2024-10-03T12:05:34.932Z"
   },
   {
    "duration": 13,
    "start_time": "2024-10-03T12:05:35.155Z"
   },
   {
    "duration": 319,
    "start_time": "2024-10-03T12:05:35.422Z"
   },
   {
    "duration": 339,
    "start_time": "2024-10-03T12:05:35.746Z"
   },
   {
    "duration": 2,
    "start_time": "2024-10-03T12:05:36.087Z"
   },
   {
    "duration": 8,
    "start_time": "2024-10-03T12:05:36.357Z"
   },
   {
    "duration": 6,
    "start_time": "2024-10-03T12:05:36.525Z"
   },
   {
    "duration": 7,
    "start_time": "2024-10-03T12:05:36.683Z"
   },
   {
    "duration": 5,
    "start_time": "2024-10-03T12:05:37.170Z"
   },
   {
    "duration": 12,
    "start_time": "2024-10-03T12:05:37.324Z"
   },
   {
    "duration": 6,
    "start_time": "2024-10-03T12:06:18.278Z"
   },
   {
    "duration": 1292,
    "start_time": "2024-10-03T12:06:25.562Z"
   },
   {
    "duration": 102,
    "start_time": "2024-10-03T12:06:26.864Z"
   },
   {
    "duration": 11,
    "start_time": "2024-10-03T12:06:26.968Z"
   },
   {
    "duration": 23,
    "start_time": "2024-10-03T12:06:26.981Z"
   },
   {
    "duration": 32,
    "start_time": "2024-10-03T12:06:27.006Z"
   },
   {
    "duration": 34,
    "start_time": "2024-10-03T12:06:27.040Z"
   },
   {
    "duration": 213,
    "start_time": "2024-10-03T12:06:27.076Z"
   },
   {
    "duration": 5,
    "start_time": "2024-10-03T12:06:27.291Z"
   },
   {
    "duration": 312,
    "start_time": "2024-10-03T12:06:27.601Z"
   },
   {
    "duration": 324,
    "start_time": "2024-10-03T12:06:27.915Z"
   },
   {
    "duration": 5,
    "start_time": "2024-10-03T12:06:28.241Z"
   },
   {
    "duration": 12,
    "start_time": "2024-10-03T12:06:28.452Z"
   },
   {
    "duration": 6,
    "start_time": "2024-10-03T12:06:28.627Z"
   },
   {
    "duration": 6,
    "start_time": "2024-10-03T12:06:28.795Z"
   },
   {
    "duration": 7,
    "start_time": "2024-10-03T12:06:29.601Z"
   },
   {
    "duration": 24,
    "start_time": "2024-10-03T12:06:29.833Z"
   },
   {
    "duration": 6,
    "start_time": "2024-10-03T12:06:30.064Z"
   },
   {
    "duration": 7,
    "start_time": "2024-10-03T12:06:31.157Z"
   },
   {
    "duration": 9,
    "start_time": "2024-10-03T12:06:31.369Z"
   },
   {
    "duration": 4,
    "start_time": "2024-10-03T12:06:31.729Z"
   },
   {
    "duration": 6,
    "start_time": "2024-10-03T12:06:32.211Z"
   },
   {
    "duration": 11,
    "start_time": "2024-10-03T12:06:33.955Z"
   },
   {
    "duration": 10,
    "start_time": "2024-10-03T12:06:33.972Z"
   },
   {
    "duration": 5,
    "start_time": "2024-10-03T12:06:34.184Z"
   },
   {
    "duration": 14,
    "start_time": "2024-10-03T12:06:34.369Z"
   },
   {
    "duration": 4,
    "start_time": "2024-10-03T12:06:34.587Z"
   },
   {
    "duration": 6,
    "start_time": "2024-10-03T12:06:34.757Z"
   },
   {
    "duration": 167,
    "start_time": "2024-10-03T12:06:35.102Z"
   },
   {
    "duration": 10,
    "start_time": "2024-10-03T12:06:36.422Z"
   },
   {
    "duration": 27,
    "start_time": "2024-10-03T12:06:36.745Z"
   },
   {
    "duration": 159,
    "start_time": "2024-10-03T12:06:36.977Z"
   },
   {
    "duration": 11,
    "start_time": "2024-10-03T12:06:41.024Z"
   },
   {
    "duration": 228,
    "start_time": "2024-10-03T12:06:41.345Z"
   },
   {
    "duration": 8,
    "start_time": "2024-10-03T12:06:42.218Z"
   },
   {
    "duration": 14,
    "start_time": "2024-10-03T12:06:45.348Z"
   },
   {
    "duration": 419,
    "start_time": "2024-10-03T12:06:48.087Z"
   },
   {
    "duration": 9,
    "start_time": "2024-10-03T12:06:54.601Z"
   },
   {
    "duration": 228,
    "start_time": "2024-10-03T12:07:12.584Z"
   },
   {
    "duration": 7,
    "start_time": "2024-10-03T12:07:12.815Z"
   },
   {
    "duration": 14,
    "start_time": "2024-10-03T13:01:57.481Z"
   },
   {
    "duration": 28,
    "start_time": "2024-10-03T13:02:08.488Z"
   },
   {
    "duration": 23,
    "start_time": "2024-10-03T13:04:23.672Z"
   },
   {
    "duration": 20,
    "start_time": "2024-10-03T13:04:25.949Z"
   },
   {
    "duration": 14,
    "start_time": "2024-10-03T13:06:43.701Z"
   },
   {
    "duration": 5,
    "start_time": "2024-10-03T13:09:05.156Z"
   },
   {
    "duration": 7,
    "start_time": "2024-10-03T13:09:58.724Z"
   },
   {
    "duration": 6,
    "start_time": "2024-10-03T13:12:40.885Z"
   },
   {
    "duration": 5,
    "start_time": "2024-10-03T13:13:18.931Z"
   },
   {
    "duration": 23,
    "start_time": "2024-10-03T13:14:06.562Z"
   },
   {
    "duration": 1252,
    "start_time": "2024-10-03T17:12:39.266Z"
   },
   {
    "duration": 312,
    "start_time": "2024-10-03T17:12:40.561Z"
   },
   {
    "duration": 12,
    "start_time": "2024-10-03T17:12:40.973Z"
   },
   {
    "duration": 12,
    "start_time": "2024-10-03T17:12:41.144Z"
   },
   {
    "duration": 10,
    "start_time": "2024-10-03T17:12:41.320Z"
   },
   {
    "duration": 11,
    "start_time": "2024-10-03T17:12:41.499Z"
   },
   {
    "duration": 185,
    "start_time": "2024-10-03T17:12:41.649Z"
   },
   {
    "duration": 7,
    "start_time": "2024-10-03T17:12:41.836Z"
   },
   {
    "duration": 266,
    "start_time": "2024-10-03T17:12:42.137Z"
   },
   {
    "duration": 271,
    "start_time": "2024-10-03T17:12:42.405Z"
   },
   {
    "duration": 2,
    "start_time": "2024-10-03T17:12:42.678Z"
   },
   {
    "duration": 7,
    "start_time": "2024-10-03T17:12:43.123Z"
   },
   {
    "duration": 4,
    "start_time": "2024-10-03T17:12:43.441Z"
   },
   {
    "duration": 5,
    "start_time": "2024-10-03T17:12:43.792Z"
   },
   {
    "duration": 5,
    "start_time": "2024-10-03T17:12:44.363Z"
   },
   {
    "duration": 14,
    "start_time": "2024-10-03T17:12:44.539Z"
   },
   {
    "duration": 6,
    "start_time": "2024-10-03T17:12:44.696Z"
   },
   {
    "duration": 6,
    "start_time": "2024-10-03T17:12:45.041Z"
   },
   {
    "duration": 9,
    "start_time": "2024-10-03T17:12:45.222Z"
   },
   {
    "duration": 4,
    "start_time": "2024-10-03T17:12:45.556Z"
   },
   {
    "duration": 5,
    "start_time": "2024-10-03T17:12:45.887Z"
   },
   {
    "duration": 5,
    "start_time": "2024-10-03T17:12:47.251Z"
   },
   {
    "duration": 9,
    "start_time": "2024-10-03T17:12:47.400Z"
   },
   {
    "duration": 5,
    "start_time": "2024-10-03T17:12:47.571Z"
   },
   {
    "duration": 10,
    "start_time": "2024-10-03T17:12:47.744Z"
   },
   {
    "duration": 4,
    "start_time": "2024-10-03T17:12:47.912Z"
   },
   {
    "duration": 3,
    "start_time": "2024-10-03T17:12:48.089Z"
   },
   {
    "duration": 146,
    "start_time": "2024-10-03T17:12:48.257Z"
   },
   {
    "duration": 9,
    "start_time": "2024-10-03T17:12:49.124Z"
   },
   {
    "duration": 13,
    "start_time": "2024-10-03T17:12:49.304Z"
   },
   {
    "duration": 144,
    "start_time": "2024-10-03T17:12:49.483Z"
   },
   {
    "duration": 9,
    "start_time": "2024-10-03T17:12:50.322Z"
   },
   {
    "duration": 170,
    "start_time": "2024-10-03T17:12:50.504Z"
   },
   {
    "duration": 7,
    "start_time": "2024-10-03T17:12:50.905Z"
   },
   {
    "duration": 8,
    "start_time": "2024-10-03T17:12:52.472Z"
   },
   {
    "duration": 336,
    "start_time": "2024-10-03T17:12:52.902Z"
   },
   {
    "duration": 8,
    "start_time": "2024-10-03T17:12:53.865Z"
   },
   {
    "duration": 203,
    "start_time": "2024-10-03T17:12:54.042Z"
   },
   {
    "duration": 6,
    "start_time": "2024-10-03T17:12:54.247Z"
   },
   {
    "duration": 13,
    "start_time": "2024-10-03T17:12:55.385Z"
   },
   {
    "duration": 21,
    "start_time": "2024-10-03T17:12:55.576Z"
   },
   {
    "duration": 13,
    "start_time": "2024-10-03T17:12:55.778Z"
   },
   {
    "duration": 5,
    "start_time": "2024-10-03T17:12:55.985Z"
   },
   {
    "duration": 13,
    "start_time": "2024-10-03T17:12:56.210Z"
   },
   {
    "duration": 9,
    "start_time": "2024-10-03T17:16:27.463Z"
   },
   {
    "duration": 28,
    "start_time": "2024-10-03T17:16:42.993Z"
   },
   {
    "duration": 20,
    "start_time": "2024-10-03T17:19:56.847Z"
   },
   {
    "duration": 3,
    "start_time": "2024-10-03T17:21:46.918Z"
   },
   {
    "duration": 3,
    "start_time": "2024-10-03T17:22:55.249Z"
   },
   {
    "duration": 199,
    "start_time": "2024-10-03T17:35:04.769Z"
   },
   {
    "duration": 9,
    "start_time": "2024-10-03T17:35:50.546Z"
   },
   {
    "duration": 265,
    "start_time": "2024-10-03T17:36:26.533Z"
   },
   {
    "duration": 224,
    "start_time": "2024-10-03T17:37:01.690Z"
   },
   {
    "duration": 206,
    "start_time": "2024-10-03T17:38:19.314Z"
   },
   {
    "duration": 282,
    "start_time": "2024-10-03T17:38:28.288Z"
   },
   {
    "duration": 197,
    "start_time": "2024-10-03T17:38:55.701Z"
   },
   {
    "duration": 196,
    "start_time": "2024-10-03T17:39:27.360Z"
   },
   {
    "duration": 11,
    "start_time": "2024-10-03T17:43:43.183Z"
   },
   {
    "duration": 358,
    "start_time": "2024-10-03T17:44:08.377Z"
   },
   {
    "duration": 2,
    "start_time": "2024-10-03T17:45:04.422Z"
   },
   {
    "duration": 10,
    "start_time": "2024-10-03T17:46:26.892Z"
   },
   {
    "duration": 263,
    "start_time": "2024-10-03T17:47:03.589Z"
   },
   {
    "duration": 268,
    "start_time": "2024-10-03T17:47:31.083Z"
   },
   {
    "duration": 12,
    "start_time": "2024-10-03T17:57:46.785Z"
   },
   {
    "duration": 274,
    "start_time": "2024-10-03T17:57:53.166Z"
   },
   {
    "duration": 2,
    "start_time": "2024-10-03T17:58:57.115Z"
   },
   {
    "duration": 322,
    "start_time": "2024-10-03T18:02:11.310Z"
   },
   {
    "duration": 337,
    "start_time": "2024-10-03T18:03:23.845Z"
   },
   {
    "duration": 303,
    "start_time": "2024-10-03T18:06:39.078Z"
   },
   {
    "duration": 335,
    "start_time": "2024-10-03T18:07:13.436Z"
   },
   {
    "duration": 285,
    "start_time": "2024-10-03T18:08:43.711Z"
   },
   {
    "duration": 297,
    "start_time": "2024-10-03T18:08:50.378Z"
   },
   {
    "duration": 292,
    "start_time": "2024-10-03T18:08:58.994Z"
   },
   {
    "duration": 414,
    "start_time": "2024-10-03T18:09:04.787Z"
   },
   {
    "duration": 293,
    "start_time": "2024-10-03T18:09:18.267Z"
   },
   {
    "duration": 285,
    "start_time": "2024-10-03T18:09:24.425Z"
   },
   {
    "duration": 276,
    "start_time": "2024-10-03T18:11:04.028Z"
   },
   {
    "duration": 292,
    "start_time": "2024-10-03T18:12:27.522Z"
   },
   {
    "duration": 384,
    "start_time": "2024-10-03T18:13:41.025Z"
   },
   {
    "duration": 262,
    "start_time": "2024-10-03T18:14:33.740Z"
   },
   {
    "duration": 309,
    "start_time": "2024-10-03T18:16:50.520Z"
   },
   {
    "duration": 285,
    "start_time": "2024-10-03T18:16:58.911Z"
   },
   {
    "duration": 266,
    "start_time": "2024-10-03T18:17:03.983Z"
   },
   {
    "duration": 293,
    "start_time": "2024-10-03T18:17:24.246Z"
   },
   {
    "duration": 381,
    "start_time": "2024-10-03T18:17:32.095Z"
   },
   {
    "duration": 473,
    "start_time": "2024-10-03T18:51:45.900Z"
   },
   {
    "duration": 449,
    "start_time": "2024-10-03T18:51:58.758Z"
   },
   {
    "duration": 317,
    "start_time": "2024-10-03T19:07:49.755Z"
   },
   {
    "duration": 109,
    "start_time": "2024-10-03T19:23:24.601Z"
   },
   {
    "duration": 26,
    "start_time": "2024-10-03T19:28:36.805Z"
   },
   {
    "duration": 26,
    "start_time": "2024-10-03T19:28:58.707Z"
   },
   {
    "duration": 14,
    "start_time": "2024-10-03T19:32:29.234Z"
   },
   {
    "duration": 10,
    "start_time": "2024-10-03T19:33:22.970Z"
   },
   {
    "duration": 43,
    "start_time": "2024-10-03T19:33:34.971Z"
   },
   {
    "duration": 31,
    "start_time": "2024-10-03T19:34:53.561Z"
   },
   {
    "duration": 74,
    "start_time": "2024-10-03T19:35:44.712Z"
   },
   {
    "duration": 45,
    "start_time": "2024-10-03T19:35:50.745Z"
   },
   {
    "duration": 51,
    "start_time": "2024-10-03T19:36:09.416Z"
   },
   {
    "duration": 51,
    "start_time": "2024-10-03T19:37:29.200Z"
   },
   {
    "duration": 51,
    "start_time": "2024-10-03T19:40:30.518Z"
   },
   {
    "duration": 5,
    "start_time": "2024-10-03T20:03:17.300Z"
   },
   {
    "duration": 6,
    "start_time": "2024-10-03T20:08:31.687Z"
   },
   {
    "duration": 20,
    "start_time": "2024-10-03T20:08:46.668Z"
   },
   {
    "duration": 1028,
    "start_time": "2024-10-03T20:10:48.179Z"
   },
   {
    "duration": 5,
    "start_time": "2024-10-03T20:11:13.451Z"
   },
   {
    "duration": 28,
    "start_time": "2024-10-03T20:12:33.579Z"
   },
   {
    "duration": 27,
    "start_time": "2024-10-03T20:13:30.348Z"
   },
   {
    "duration": 20,
    "start_time": "2024-10-03T20:13:39.750Z"
   },
   {
    "duration": 4,
    "start_time": "2024-10-03T20:18:19.120Z"
   },
   {
    "duration": 25,
    "start_time": "2024-10-03T20:18:54.793Z"
   },
   {
    "duration": 350,
    "start_time": "2024-10-03T20:25:21.892Z"
   },
   {
    "duration": 1154,
    "start_time": "2024-10-03T20:27:19.546Z"
   },
   {
    "duration": 3,
    "start_time": "2024-10-03T20:27:21.233Z"
   },
   {
    "duration": 88,
    "start_time": "2024-10-03T20:27:21.626Z"
   },
   {
    "duration": 13,
    "start_time": "2024-10-03T20:27:21.761Z"
   },
   {
    "duration": 10,
    "start_time": "2024-10-03T20:27:21.932Z"
   },
   {
    "duration": 11,
    "start_time": "2024-10-03T20:27:22.098Z"
   },
   {
    "duration": 12,
    "start_time": "2024-10-03T20:27:22.255Z"
   },
   {
    "duration": 201,
    "start_time": "2024-10-03T20:27:22.419Z"
   },
   {
    "duration": 5,
    "start_time": "2024-10-03T20:27:22.621Z"
   },
   {
    "duration": 278,
    "start_time": "2024-10-03T20:27:22.918Z"
   },
   {
    "duration": 260,
    "start_time": "2024-10-03T20:27:23.198Z"
   },
   {
    "duration": 2,
    "start_time": "2024-10-03T20:27:23.461Z"
   },
   {
    "duration": 7,
    "start_time": "2024-10-03T20:27:23.925Z"
   },
   {
    "duration": 4,
    "start_time": "2024-10-03T20:27:24.106Z"
   },
   {
    "duration": 5,
    "start_time": "2024-10-03T20:27:24.250Z"
   },
   {
    "duration": 6,
    "start_time": "2024-10-03T20:27:24.801Z"
   },
   {
    "duration": 10,
    "start_time": "2024-10-03T20:27:24.963Z"
   },
   {
    "duration": 6,
    "start_time": "2024-10-03T20:27:25.138Z"
   },
   {
    "duration": 5,
    "start_time": "2024-10-03T20:27:25.493Z"
   },
   {
    "duration": 12,
    "start_time": "2024-10-03T20:27:25.666Z"
   },
   {
    "duration": 4,
    "start_time": "2024-10-03T20:27:26.017Z"
   },
   {
    "duration": 5,
    "start_time": "2024-10-03T20:27:26.378Z"
   },
   {
    "duration": 6,
    "start_time": "2024-10-03T20:27:27.788Z"
   },
   {
    "duration": 9,
    "start_time": "2024-10-03T20:27:27.953Z"
   },
   {
    "duration": 4,
    "start_time": "2024-10-03T20:27:28.148Z"
   },
   {
    "duration": 10,
    "start_time": "2024-10-03T20:27:28.306Z"
   },
   {
    "duration": 3,
    "start_time": "2024-10-03T20:27:28.490Z"
   },
   {
    "duration": 3,
    "start_time": "2024-10-03T20:27:28.666Z"
   },
   {
    "duration": 160,
    "start_time": "2024-10-03T20:27:28.826Z"
   },
   {
    "duration": 10,
    "start_time": "2024-10-03T20:27:29.735Z"
   },
   {
    "duration": 16,
    "start_time": "2024-10-03T20:27:29.915Z"
   },
   {
    "duration": 140,
    "start_time": "2024-10-03T20:27:30.091Z"
   },
   {
    "duration": 10,
    "start_time": "2024-10-03T20:27:30.994Z"
   },
   {
    "duration": 161,
    "start_time": "2024-10-03T20:27:31.177Z"
   },
   {
    "duration": 7,
    "start_time": "2024-10-03T20:27:31.369Z"
   },
   {
    "duration": 8,
    "start_time": "2024-10-03T20:27:32.273Z"
   },
   {
    "duration": 351,
    "start_time": "2024-10-03T20:27:32.442Z"
   },
   {
    "duration": 9,
    "start_time": "2024-10-03T20:27:33.361Z"
   },
   {
    "duration": 192,
    "start_time": "2024-10-03T20:27:33.526Z"
   },
   {
    "duration": 6,
    "start_time": "2024-10-03T20:27:33.737Z"
   },
   {
    "duration": 15,
    "start_time": "2024-10-03T20:27:34.889Z"
   },
   {
    "duration": 18,
    "start_time": "2024-10-03T20:27:35.242Z"
   },
   {
    "duration": 13,
    "start_time": "2024-10-03T20:27:35.553Z"
   },
   {
    "duration": 4,
    "start_time": "2024-10-03T20:27:35.761Z"
   },
   {
    "duration": 14,
    "start_time": "2024-10-03T20:27:35.946Z"
   },
   {
    "duration": 21,
    "start_time": "2024-10-03T20:27:37.153Z"
   },
   {
    "duration": 19,
    "start_time": "2024-10-03T20:27:37.530Z"
   },
   {
    "duration": 3,
    "start_time": "2024-10-03T20:27:37.760Z"
   },
   {
    "duration": 9,
    "start_time": "2024-10-03T20:27:39.169Z"
   },
   {
    "duration": 272,
    "start_time": "2024-10-03T20:27:39.337Z"
   },
   {
    "duration": 8,
    "start_time": "2024-10-03T20:27:39.611Z"
   },
   {
    "duration": 289,
    "start_time": "2024-10-03T20:27:39.737Z"
   },
   {
    "duration": 9,
    "start_time": "2024-10-03T20:27:40.344Z"
   },
   {
    "duration": 239,
    "start_time": "2024-10-03T20:27:40.610Z"
   },
   {
    "duration": 8,
    "start_time": "2024-10-03T20:27:40.851Z"
   },
   {
    "duration": 253,
    "start_time": "2024-10-03T20:27:41.062Z"
   },
   {
    "duration": 524,
    "start_time": "2024-10-03T20:27:42.355Z"
   },
   {
    "duration": 291,
    "start_time": "2024-10-03T20:27:42.880Z"
   },
   {
    "duration": 6,
    "start_time": "2024-10-03T20:27:46.280Z"
   },
   {
    "duration": 47,
    "start_time": "2024-10-03T20:27:48.409Z"
   },
   {
    "duration": 53,
    "start_time": "2024-10-03T20:28:26.522Z"
   },
   {
    "duration": 6,
    "start_time": "2024-10-03T20:28:57.266Z"
   },
   {
    "duration": 18,
    "start_time": "2024-10-03T20:29:01.545Z"
   },
   {
    "duration": 4,
    "start_time": "2024-10-03T20:29:09.530Z"
   },
   {
    "duration": 48,
    "start_time": "2024-10-03T20:29:39.497Z"
   },
   {
    "duration": 4,
    "start_time": "2024-10-03T20:31:18.600Z"
   },
   {
    "duration": 4,
    "start_time": "2024-10-03T20:31:28.845Z"
   },
   {
    "duration": 7,
    "start_time": "2024-10-03T22:34:46.006Z"
   },
   {
    "duration": 6,
    "start_time": "2024-10-03T22:35:36.501Z"
   },
   {
    "duration": 97,
    "start_time": "2024-10-03T22:57:00.862Z"
   },
   {
    "duration": 6,
    "start_time": "2024-10-03T22:57:12.523Z"
   },
   {
    "duration": 20,
    "start_time": "2024-10-03T23:08:54.977Z"
   },
   {
    "duration": 6,
    "start_time": "2024-10-03T23:11:08.791Z"
   },
   {
    "duration": 9,
    "start_time": "2024-10-03T23:11:12.099Z"
   },
   {
    "duration": 8,
    "start_time": "2024-10-03T23:12:13.519Z"
   },
   {
    "duration": 8,
    "start_time": "2024-10-03T23:17:47.099Z"
   },
   {
    "duration": 18,
    "start_time": "2024-10-04T00:33:11.005Z"
   },
   {
    "duration": 3,
    "start_time": "2024-10-04T00:52:24.427Z"
   },
   {
    "duration": 318,
    "start_time": "2024-10-04T00:52:35.610Z"
   },
   {
    "duration": 1400,
    "start_time": "2024-10-04T12:34:24.841Z"
   },
   {
    "duration": 339,
    "start_time": "2024-10-04T12:34:26.641Z"
   },
   {
    "duration": 17,
    "start_time": "2024-10-04T12:34:26.983Z"
   },
   {
    "duration": 13,
    "start_time": "2024-10-04T12:34:27.061Z"
   },
   {
    "duration": 11,
    "start_time": "2024-10-04T12:34:27.215Z"
   },
   {
    "duration": 12,
    "start_time": "2024-10-04T12:34:27.393Z"
   },
   {
    "duration": 214,
    "start_time": "2024-10-04T12:34:27.536Z"
   },
   {
    "duration": 6,
    "start_time": "2024-10-04T12:34:27.753Z"
   },
   {
    "duration": 283,
    "start_time": "2024-10-04T12:34:28.048Z"
   },
   {
    "duration": 337,
    "start_time": "2024-10-04T12:34:28.333Z"
   },
   {
    "duration": 2,
    "start_time": "2024-10-04T12:34:28.673Z"
   },
   {
    "duration": 8,
    "start_time": "2024-10-04T12:34:29.043Z"
   },
   {
    "duration": 7,
    "start_time": "2024-10-04T12:34:29.209Z"
   },
   {
    "duration": 5,
    "start_time": "2024-10-04T12:34:29.367Z"
   },
   {
    "duration": 5,
    "start_time": "2024-10-04T12:34:29.865Z"
   },
   {
    "duration": 11,
    "start_time": "2024-10-04T12:34:30.015Z"
   },
   {
    "duration": 6,
    "start_time": "2024-10-04T12:34:30.175Z"
   },
   {
    "duration": 6,
    "start_time": "2024-10-04T12:34:30.519Z"
   },
   {
    "duration": 11,
    "start_time": "2024-10-04T12:34:30.695Z"
   },
   {
    "duration": 5,
    "start_time": "2024-10-04T12:34:31.024Z"
   },
   {
    "duration": 5,
    "start_time": "2024-10-04T12:34:31.344Z"
   },
   {
    "duration": 5,
    "start_time": "2024-10-04T12:34:32.897Z"
   },
   {
    "duration": 10,
    "start_time": "2024-10-04T12:34:33.056Z"
   },
   {
    "duration": 5,
    "start_time": "2024-10-04T12:34:33.224Z"
   },
   {
    "duration": 10,
    "start_time": "2024-10-04T12:34:33.393Z"
   },
   {
    "duration": 5,
    "start_time": "2024-10-04T12:34:33.568Z"
   },
   {
    "duration": 3,
    "start_time": "2024-10-04T12:34:33.737Z"
   },
   {
    "duration": 153,
    "start_time": "2024-10-04T12:34:33.921Z"
   },
   {
    "duration": 10,
    "start_time": "2024-10-04T12:34:34.801Z"
   },
   {
    "duration": 12,
    "start_time": "2024-10-04T12:34:34.967Z"
   },
   {
    "duration": 152,
    "start_time": "2024-10-04T12:34:35.153Z"
   },
   {
    "duration": 11,
    "start_time": "2024-10-04T12:34:36.017Z"
   },
   {
    "duration": 196,
    "start_time": "2024-10-04T12:34:36.202Z"
   },
   {
    "duration": 9,
    "start_time": "2024-10-04T12:34:36.400Z"
   },
   {
    "duration": 10,
    "start_time": "2024-10-04T12:34:37.282Z"
   },
   {
    "duration": 393,
    "start_time": "2024-10-04T12:34:37.443Z"
   },
   {
    "duration": 10,
    "start_time": "2024-10-04T12:34:38.344Z"
   },
   {
    "duration": 281,
    "start_time": "2024-10-04T12:34:38.515Z"
   },
   {
    "duration": 7,
    "start_time": "2024-10-04T12:34:38.799Z"
   },
   {
    "duration": 15,
    "start_time": "2024-10-04T12:34:39.769Z"
   },
   {
    "duration": 31,
    "start_time": "2024-10-04T12:34:39.953Z"
   },
   {
    "duration": 21,
    "start_time": "2024-10-04T12:34:40.128Z"
   },
   {
    "duration": 5,
    "start_time": "2024-10-04T12:34:40.321Z"
   },
   {
    "duration": 16,
    "start_time": "2024-10-04T12:34:40.496Z"
   },
   {
    "duration": 21,
    "start_time": "2024-10-04T12:34:41.621Z"
   },
   {
    "duration": 22,
    "start_time": "2024-10-04T12:34:41.994Z"
   },
   {
    "duration": 5,
    "start_time": "2024-10-04T12:34:42.169Z"
   },
   {
    "duration": 8,
    "start_time": "2024-10-04T12:34:43.141Z"
   },
   {
    "duration": 299,
    "start_time": "2024-10-04T12:34:43.336Z"
   },
   {
    "duration": 14,
    "start_time": "2024-10-04T12:34:43.637Z"
   },
   {
    "duration": 283,
    "start_time": "2024-10-04T12:34:43.704Z"
   },
   {
    "duration": 12,
    "start_time": "2024-10-04T12:34:44.282Z"
   },
   {
    "duration": 285,
    "start_time": "2024-10-04T12:34:44.456Z"
   },
   {
    "duration": 10,
    "start_time": "2024-10-04T12:34:44.745Z"
   },
   {
    "duration": 289,
    "start_time": "2024-10-04T12:34:44.840Z"
   },
   {
    "duration": 616,
    "start_time": "2024-10-04T12:34:45.424Z"
   },
   {
    "duration": 336,
    "start_time": "2024-10-04T12:34:46.046Z"
   },
   {
    "duration": 4,
    "start_time": "2024-10-04T12:34:46.801Z"
   },
   {
    "duration": 51,
    "start_time": "2024-10-04T12:34:46.996Z"
   },
   {
    "duration": 6,
    "start_time": "2024-10-04T12:34:47.786Z"
   },
   {
    "duration": 29,
    "start_time": "2024-10-04T12:34:47.978Z"
   },
   {
    "duration": 4,
    "start_time": "2024-10-04T12:34:48.177Z"
   },
   {
    "duration": 6,
    "start_time": "2024-10-04T12:34:49.864Z"
   },
   {
    "duration": 6,
    "start_time": "2024-10-04T12:34:51.265Z"
   },
   {
    "duration": 8,
    "start_time": "2024-10-04T12:34:55.181Z"
   },
   {
    "duration": 8,
    "start_time": "2024-10-04T13:22:15.394Z"
   },
   {
    "duration": 6,
    "start_time": "2024-10-04T13:22:51.849Z"
   },
   {
    "duration": 114,
    "start_time": "2024-10-04T17:00:46.312Z"
   },
   {
    "duration": 243,
    "start_time": "2024-10-04T17:02:38.522Z"
   },
   {
    "duration": 6,
    "start_time": "2024-10-04T17:14:52.370Z"
   },
   {
    "duration": 1148,
    "start_time": "2024-10-04T17:19:43.483Z"
   },
   {
    "duration": 94,
    "start_time": "2024-10-04T17:19:45.930Z"
   },
   {
    "duration": 13,
    "start_time": "2024-10-04T17:19:46.132Z"
   },
   {
    "duration": 11,
    "start_time": "2024-10-04T17:19:46.322Z"
   },
   {
    "duration": 10,
    "start_time": "2024-10-04T17:19:46.489Z"
   },
   {
    "duration": 12,
    "start_time": "2024-10-04T17:19:46.649Z"
   },
   {
    "duration": 199,
    "start_time": "2024-10-04T17:19:46.809Z"
   },
   {
    "duration": 6,
    "start_time": "2024-10-04T17:19:47.011Z"
   },
   {
    "duration": 310,
    "start_time": "2024-10-04T17:19:47.297Z"
   },
   {
    "duration": 344,
    "start_time": "2024-10-04T17:19:47.609Z"
   },
   {
    "duration": 2,
    "start_time": "2024-10-04T17:19:47.955Z"
   },
   {
    "duration": 8,
    "start_time": "2024-10-04T17:19:48.282Z"
   },
   {
    "duration": 5,
    "start_time": "2024-10-04T17:19:48.458Z"
   },
   {
    "duration": 7,
    "start_time": "2024-10-04T17:19:48.628Z"
   },
   {
    "duration": 6,
    "start_time": "2024-10-04T17:19:49.130Z"
   },
   {
    "duration": 11,
    "start_time": "2024-10-04T17:19:49.305Z"
   },
   {
    "duration": 7,
    "start_time": "2024-10-04T17:19:49.480Z"
   },
   {
    "duration": 5,
    "start_time": "2024-10-04T17:19:49.816Z"
   },
   {
    "duration": 9,
    "start_time": "2024-10-04T17:19:49.994Z"
   },
   {
    "duration": 4,
    "start_time": "2024-10-04T17:19:50.331Z"
   },
   {
    "duration": 6,
    "start_time": "2024-10-04T17:19:50.666Z"
   },
   {
    "duration": 6,
    "start_time": "2024-10-04T17:19:52.579Z"
   },
   {
    "duration": 10,
    "start_time": "2024-10-04T17:19:52.587Z"
   },
   {
    "duration": 6,
    "start_time": "2024-10-04T17:19:52.599Z"
   },
   {
    "duration": 18,
    "start_time": "2024-10-04T17:19:52.609Z"
   },
   {
    "duration": 3,
    "start_time": "2024-10-04T17:19:52.784Z"
   },
   {
    "duration": 4,
    "start_time": "2024-10-04T17:19:52.963Z"
   },
   {
    "duration": 167,
    "start_time": "2024-10-04T17:19:53.144Z"
   },
   {
    "duration": 11,
    "start_time": "2024-10-04T17:19:54.026Z"
   },
   {
    "duration": 10,
    "start_time": "2024-10-04T17:19:54.195Z"
   },
   {
    "duration": 156,
    "start_time": "2024-10-04T17:19:54.377Z"
   },
   {
    "duration": 12,
    "start_time": "2024-10-04T17:19:55.265Z"
   },
   {
    "duration": 197,
    "start_time": "2024-10-04T17:19:55.442Z"
   },
   {
    "duration": 8,
    "start_time": "2024-10-04T17:19:55.645Z"
   },
   {
    "duration": 10,
    "start_time": "2024-10-04T17:19:56.506Z"
   },
   {
    "duration": 384,
    "start_time": "2024-10-04T17:19:56.674Z"
   },
   {
    "duration": 9,
    "start_time": "2024-10-04T17:19:57.575Z"
   },
   {
    "duration": 209,
    "start_time": "2024-10-04T17:19:57.729Z"
   },
   {
    "duration": 12,
    "start_time": "2024-10-04T17:19:57.940Z"
   },
   {
    "duration": 16,
    "start_time": "2024-10-04T17:19:59.018Z"
   },
   {
    "duration": 21,
    "start_time": "2024-10-04T17:19:59.201Z"
   },
   {
    "duration": 15,
    "start_time": "2024-10-04T17:19:59.369Z"
   },
   {
    "duration": 5,
    "start_time": "2024-10-04T17:19:59.552Z"
   },
   {
    "duration": 14,
    "start_time": "2024-10-04T17:19:59.738Z"
   },
   {
    "duration": 22,
    "start_time": "2024-10-04T17:20:00.833Z"
   },
   {
    "duration": 23,
    "start_time": "2024-10-04T17:20:01.224Z"
   },
   {
    "duration": 4,
    "start_time": "2024-10-04T17:20:01.418Z"
   },
   {
    "duration": 10,
    "start_time": "2024-10-04T17:20:02.449Z"
   },
   {
    "duration": 287,
    "start_time": "2024-10-04T17:20:02.651Z"
   },
   {
    "duration": 8,
    "start_time": "2024-10-04T17:20:02.946Z"
   },
   {
    "duration": 277,
    "start_time": "2024-10-04T17:20:03.050Z"
   },
   {
    "duration": 8,
    "start_time": "2024-10-04T17:20:03.600Z"
   },
   {
    "duration": 299,
    "start_time": "2024-10-04T17:20:03.806Z"
   },
   {
    "duration": 9,
    "start_time": "2024-10-04T17:20:04.107Z"
   },
   {
    "duration": 295,
    "start_time": "2024-10-04T17:20:04.170Z"
   },
   {
    "duration": 593,
    "start_time": "2024-10-04T17:20:04.745Z"
   },
   {
    "duration": 315,
    "start_time": "2024-10-04T17:20:05.340Z"
   },
   {
    "duration": 4,
    "start_time": "2024-10-04T17:20:06.081Z"
   },
   {
    "duration": 53,
    "start_time": "2024-10-04T17:20:06.283Z"
   },
   {
    "duration": 5,
    "start_time": "2024-10-04T17:20:07.051Z"
   },
   {
    "duration": 20,
    "start_time": "2024-10-04T17:20:07.242Z"
   },
   {
    "duration": 4,
    "start_time": "2024-10-04T17:20:07.417Z"
   },
   {
    "duration": 6,
    "start_time": "2024-10-04T17:20:09.137Z"
   },
   {
    "duration": 5,
    "start_time": "2024-10-04T17:20:10.697Z"
   },
   {
    "duration": 9,
    "start_time": "2024-10-04T17:20:11.898Z"
   },
   {
    "duration": 4,
    "start_time": "2024-10-04T17:20:23.861Z"
   },
   {
    "duration": 1242,
    "start_time": "2024-10-04T17:21:22.288Z"
   },
   {
    "duration": 1213,
    "start_time": "2024-10-04T17:22:58.610Z"
   },
   {
    "duration": 29,
    "start_time": "2024-10-04T17:23:06.137Z"
   },
   {
    "duration": 6,
    "start_time": "2024-10-04T17:25:17.521Z"
   },
   {
    "duration": 26,
    "start_time": "2024-10-04T17:25:17.575Z"
   },
   {
    "duration": 5,
    "start_time": "2024-10-04T17:25:29.389Z"
   },
   {
    "duration": 5,
    "start_time": "2024-10-04T17:26:10.249Z"
   },
   {
    "duration": 4,
    "start_time": "2024-10-04T17:26:21.176Z"
   },
   {
    "duration": 3,
    "start_time": "2024-10-04T17:26:26.368Z"
   },
   {
    "duration": 5,
    "start_time": "2024-10-04T17:26:32.375Z"
   },
   {
    "duration": 51,
    "start_time": "2024-10-04T17:26:43.728Z"
   },
   {
    "duration": 27,
    "start_time": "2024-10-04T17:27:02.815Z"
   },
   {
    "duration": 25,
    "start_time": "2024-10-04T17:27:33.626Z"
   },
   {
    "duration": 384,
    "start_time": "2024-10-04T17:35:19.053Z"
   },
   {
    "duration": 101,
    "start_time": "2024-10-04T17:42:28.730Z"
   },
   {
    "duration": 284,
    "start_time": "2024-10-04T17:43:06.720Z"
   },
   {
    "duration": 12,
    "start_time": "2024-10-04T17:44:36.279Z"
   },
   {
    "duration": 15,
    "start_time": "2024-10-04T17:45:20.905Z"
   },
   {
    "duration": 11,
    "start_time": "2024-10-04T17:45:23.399Z"
   },
   {
    "duration": 369,
    "start_time": "2024-10-04T17:45:49.942Z"
   },
   {
    "duration": 413,
    "start_time": "2024-10-04T17:46:59.364Z"
   },
   {
    "duration": 256,
    "start_time": "2024-10-04T17:47:22.575Z"
   },
   {
    "duration": 218,
    "start_time": "2024-10-04T17:47:43.073Z"
   },
   {
    "duration": 389,
    "start_time": "2024-10-04T17:48:01.982Z"
   },
   {
    "duration": 315,
    "start_time": "2024-10-04T17:50:20.742Z"
   },
   {
    "duration": 385,
    "start_time": "2024-10-04T17:50:32.710Z"
   },
   {
    "duration": 397,
    "start_time": "2024-10-04T17:51:09.067Z"
   },
   {
    "duration": 28,
    "start_time": "2024-10-04T17:53:12.964Z"
   },
   {
    "duration": 454,
    "start_time": "2024-10-04T17:53:12.995Z"
   },
   {
    "duration": 28,
    "start_time": "2024-10-04T17:53:17.740Z"
   },
   {
    "duration": 340,
    "start_time": "2024-10-04T17:53:25.508Z"
   },
   {
    "duration": 1208,
    "start_time": "2024-10-04T17:53:45.524Z"
   },
   {
    "duration": 95,
    "start_time": "2024-10-04T17:53:47.580Z"
   },
   {
    "duration": 12,
    "start_time": "2024-10-04T17:53:47.800Z"
   },
   {
    "duration": 11,
    "start_time": "2024-10-04T17:53:47.970Z"
   },
   {
    "duration": 11,
    "start_time": "2024-10-04T17:53:48.140Z"
   },
   {
    "duration": 11,
    "start_time": "2024-10-04T17:53:48.298Z"
   },
   {
    "duration": 243,
    "start_time": "2024-10-04T17:53:48.443Z"
   },
   {
    "duration": 6,
    "start_time": "2024-10-04T17:53:48.689Z"
   },
   {
    "duration": 286,
    "start_time": "2024-10-04T17:53:48.955Z"
   },
   {
    "duration": 317,
    "start_time": "2024-10-04T17:53:49.246Z"
   },
   {
    "duration": 2,
    "start_time": "2024-10-04T17:53:49.565Z"
   },
   {
    "duration": 8,
    "start_time": "2024-10-04T17:53:49.964Z"
   },
   {
    "duration": 4,
    "start_time": "2024-10-04T17:53:50.139Z"
   },
   {
    "duration": 5,
    "start_time": "2024-10-04T17:53:50.308Z"
   },
   {
    "duration": 5,
    "start_time": "2024-10-04T17:53:50.827Z"
   },
   {
    "duration": 12,
    "start_time": "2024-10-04T17:53:51.003Z"
   },
   {
    "duration": 7,
    "start_time": "2024-10-04T17:53:51.124Z"
   },
   {
    "duration": 6,
    "start_time": "2024-10-04T17:53:51.461Z"
   },
   {
    "duration": 10,
    "start_time": "2024-10-04T17:53:51.625Z"
   },
   {
    "duration": 4,
    "start_time": "2024-10-04T17:53:51.942Z"
   },
   {
    "duration": 5,
    "start_time": "2024-10-04T17:53:52.825Z"
   },
   {
    "duration": 6,
    "start_time": "2024-10-04T17:53:53.900Z"
   },
   {
    "duration": 10,
    "start_time": "2024-10-04T17:53:53.970Z"
   },
   {
    "duration": 4,
    "start_time": "2024-10-04T17:53:54.139Z"
   },
   {
    "duration": 10,
    "start_time": "2024-10-04T17:53:54.298Z"
   },
   {
    "duration": 5,
    "start_time": "2024-10-04T17:53:54.474Z"
   },
   {
    "duration": 4,
    "start_time": "2024-10-04T17:53:54.627Z"
   },
   {
    "duration": 169,
    "start_time": "2024-10-04T17:53:54.802Z"
   },
   {
    "duration": 10,
    "start_time": "2024-10-04T17:53:55.651Z"
   },
   {
    "duration": 10,
    "start_time": "2024-10-04T17:53:55.852Z"
   },
   {
    "duration": 153,
    "start_time": "2024-10-04T17:53:56.019Z"
   },
   {
    "duration": 10,
    "start_time": "2024-10-04T17:53:56.907Z"
   },
   {
    "duration": 185,
    "start_time": "2024-10-04T17:53:57.116Z"
   },
   {
    "duration": 8,
    "start_time": "2024-10-04T17:53:57.303Z"
   },
   {
    "duration": 9,
    "start_time": "2024-10-04T17:53:58.187Z"
   },
   {
    "duration": 422,
    "start_time": "2024-10-04T17:53:58.355Z"
   },
   {
    "duration": 9,
    "start_time": "2024-10-04T17:53:59.290Z"
   },
   {
    "duration": 213,
    "start_time": "2024-10-04T17:53:59.537Z"
   },
   {
    "duration": 7,
    "start_time": "2024-10-04T17:53:59.752Z"
   },
   {
    "duration": 16,
    "start_time": "2024-10-04T17:54:00.786Z"
   },
   {
    "duration": 21,
    "start_time": "2024-10-04T17:54:00.963Z"
   },
   {
    "duration": 14,
    "start_time": "2024-10-04T17:54:01.138Z"
   },
   {
    "duration": 4,
    "start_time": "2024-10-04T17:54:01.342Z"
   },
   {
    "duration": 15,
    "start_time": "2024-10-04T17:54:01.507Z"
   },
   {
    "duration": 23,
    "start_time": "2024-10-04T17:54:02.623Z"
   },
   {
    "duration": 21,
    "start_time": "2024-10-04T17:54:03.076Z"
   },
   {
    "duration": 4,
    "start_time": "2024-10-04T17:54:03.260Z"
   },
   {
    "duration": 9,
    "start_time": "2024-10-04T17:54:04.251Z"
   },
   {
    "duration": 306,
    "start_time": "2024-10-04T17:54:04.435Z"
   },
   {
    "duration": 9,
    "start_time": "2024-10-04T17:54:04.745Z"
   },
   {
    "duration": 284,
    "start_time": "2024-10-04T17:54:04.818Z"
   },
   {
    "duration": 9,
    "start_time": "2024-10-04T17:54:05.373Z"
   },
   {
    "duration": 276,
    "start_time": "2024-10-04T17:54:05.562Z"
   },
   {
    "duration": 8,
    "start_time": "2024-10-04T17:54:05.845Z"
   },
   {
    "duration": 326,
    "start_time": "2024-10-04T17:54:05.953Z"
   },
   {
    "duration": 612,
    "start_time": "2024-10-04T17:54:06.483Z"
   },
   {
    "duration": 313,
    "start_time": "2024-10-04T17:54:07.097Z"
   },
   {
    "duration": 4,
    "start_time": "2024-10-04T17:54:07.786Z"
   },
   {
    "duration": 60,
    "start_time": "2024-10-04T17:54:07.971Z"
   },
   {
    "duration": 6,
    "start_time": "2024-10-04T17:54:08.736Z"
   },
   {
    "duration": 19,
    "start_time": "2024-10-04T17:54:08.907Z"
   },
   {
    "duration": 4,
    "start_time": "2024-10-04T17:54:09.089Z"
   },
   {
    "duration": 6,
    "start_time": "2024-10-04T17:54:10.090Z"
   },
   {
    "duration": 5,
    "start_time": "2024-10-04T17:54:11.112Z"
   },
   {
    "duration": 8,
    "start_time": "2024-10-04T17:54:12.058Z"
   },
   {
    "duration": 28,
    "start_time": "2024-10-04T17:54:14.460Z"
   },
   {
    "duration": 365,
    "start_time": "2024-10-04T17:54:16.038Z"
   },
   {
    "duration": 27,
    "start_time": "2024-10-04T17:54:48.765Z"
   },
   {
    "duration": 1288,
    "start_time": "2024-10-04T19:44:23.934Z"
   },
   {
    "duration": 324,
    "start_time": "2024-10-04T19:44:25.224Z"
   },
   {
    "duration": 12,
    "start_time": "2024-10-04T19:44:26.110Z"
   },
   {
    "duration": 11,
    "start_time": "2024-10-04T19:44:26.340Z"
   },
   {
    "duration": 10,
    "start_time": "2024-10-04T19:44:26.565Z"
   },
   {
    "duration": 15,
    "start_time": "2024-10-04T19:44:26.660Z"
   },
   {
    "duration": 213,
    "start_time": "2024-10-04T19:44:26.715Z"
   },
   {
    "duration": 6,
    "start_time": "2024-10-04T19:44:26.930Z"
   },
   {
    "duration": 297,
    "start_time": "2024-10-04T19:44:27.073Z"
   },
   {
    "duration": 269,
    "start_time": "2024-10-04T19:44:27.372Z"
   },
   {
    "duration": 2,
    "start_time": "2024-10-04T19:44:27.644Z"
   },
   {
    "duration": 8,
    "start_time": "2024-10-04T19:44:27.866Z"
   },
   {
    "duration": 5,
    "start_time": "2024-10-04T19:44:28.028Z"
   },
   {
    "duration": 5,
    "start_time": "2024-10-04T19:44:28.181Z"
   },
   {
    "duration": 6,
    "start_time": "2024-10-04T19:44:28.659Z"
   },
   {
    "duration": 10,
    "start_time": "2024-10-04T19:44:28.813Z"
   },
   {
    "duration": 5,
    "start_time": "2024-10-04T19:44:28.972Z"
   },
   {
    "duration": 5,
    "start_time": "2024-10-04T19:44:29.316Z"
   },
   {
    "duration": 9,
    "start_time": "2024-10-04T19:44:29.472Z"
   },
   {
    "duration": 4,
    "start_time": "2024-10-04T19:44:29.797Z"
   },
   {
    "duration": 5,
    "start_time": "2024-10-04T19:44:30.140Z"
   },
   {
    "duration": 6,
    "start_time": "2024-10-04T19:44:31.468Z"
   },
   {
    "duration": 10,
    "start_time": "2024-10-04T19:44:31.639Z"
   },
   {
    "duration": 4,
    "start_time": "2024-10-04T19:44:31.812Z"
   },
   {
    "duration": 9,
    "start_time": "2024-10-04T19:44:31.980Z"
   },
   {
    "duration": 4,
    "start_time": "2024-10-04T19:44:32.140Z"
   },
   {
    "duration": 3,
    "start_time": "2024-10-04T19:44:32.308Z"
   },
   {
    "duration": 143,
    "start_time": "2024-10-04T19:44:32.476Z"
   },
   {
    "duration": 10,
    "start_time": "2024-10-04T19:44:33.323Z"
   },
   {
    "duration": 9,
    "start_time": "2024-10-04T19:44:33.508Z"
   },
   {
    "duration": 148,
    "start_time": "2024-10-04T19:44:33.669Z"
   },
   {
    "duration": 13,
    "start_time": "2024-10-04T19:44:34.544Z"
   },
   {
    "duration": 171,
    "start_time": "2024-10-04T19:44:34.716Z"
   },
   {
    "duration": 8,
    "start_time": "2024-10-04T19:44:34.889Z"
   },
   {
    "duration": 8,
    "start_time": "2024-10-04T19:44:35.565Z"
   },
   {
    "duration": 344,
    "start_time": "2024-10-04T19:44:35.735Z"
   },
   {
    "duration": 8,
    "start_time": "2024-10-04T19:44:36.630Z"
   },
   {
    "duration": 194,
    "start_time": "2024-10-04T19:44:36.812Z"
   },
   {
    "duration": 6,
    "start_time": "2024-10-04T19:44:37.007Z"
   },
   {
    "duration": 15,
    "start_time": "2024-10-04T19:44:38.051Z"
   },
   {
    "duration": 18,
    "start_time": "2024-10-04T19:44:38.236Z"
   },
   {
    "duration": 12,
    "start_time": "2024-10-04T19:44:38.412Z"
   },
   {
    "duration": 5,
    "start_time": "2024-10-04T19:44:38.596Z"
   },
   {
    "duration": 13,
    "start_time": "2024-10-04T19:44:38.772Z"
   },
   {
    "duration": 28,
    "start_time": "2024-10-04T19:44:39.868Z"
   },
   {
    "duration": 19,
    "start_time": "2024-10-04T19:44:40.244Z"
   },
   {
    "duration": 4,
    "start_time": "2024-10-04T19:44:40.420Z"
   },
   {
    "duration": 12,
    "start_time": "2024-10-04T19:44:41.365Z"
   },
   {
    "duration": 286,
    "start_time": "2024-10-04T19:44:41.548Z"
   },
   {
    "duration": 10,
    "start_time": "2024-10-04T19:44:41.837Z"
   },
   {
    "duration": 268,
    "start_time": "2024-10-04T19:44:41.944Z"
   },
   {
    "duration": 8,
    "start_time": "2024-10-04T19:44:42.487Z"
   },
   {
    "duration": 256,
    "start_time": "2024-10-04T19:44:42.668Z"
   },
   {
    "duration": 10,
    "start_time": "2024-10-04T19:44:42.926Z"
   },
   {
    "duration": 274,
    "start_time": "2024-10-04T19:44:43.036Z"
   },
   {
    "duration": 575,
    "start_time": "2024-10-04T19:44:43.605Z"
   },
   {
    "duration": 282,
    "start_time": "2024-10-04T19:44:44.182Z"
   },
   {
    "duration": 4,
    "start_time": "2024-10-04T19:44:44.933Z"
   },
   {
    "duration": 49,
    "start_time": "2024-10-04T19:44:45.125Z"
   },
   {
    "duration": 6,
    "start_time": "2024-10-04T19:44:45.869Z"
   },
   {
    "duration": 18,
    "start_time": "2024-10-04T19:44:46.060Z"
   },
   {
    "duration": 4,
    "start_time": "2024-10-04T19:44:46.253Z"
   },
   {
    "duration": 5,
    "start_time": "2024-10-04T19:44:47.172Z"
   },
   {
    "duration": 4,
    "start_time": "2024-10-04T19:44:48.132Z"
   },
   {
    "duration": 10,
    "start_time": "2024-10-04T19:44:49.100Z"
   },
   {
    "duration": 28,
    "start_time": "2024-10-04T19:44:50.805Z"
   },
   {
    "duration": 411,
    "start_time": "2024-10-04T19:44:50.835Z"
   },
   {
    "duration": 12,
    "start_time": "2024-10-04T21:56:52.704Z"
   },
   {
    "duration": 6,
    "start_time": "2024-10-04T22:03:29.331Z"
   },
   {
    "duration": 11,
    "start_time": "2024-10-04T22:08:05.758Z"
   },
   {
    "duration": 11,
    "start_time": "2024-10-04T22:13:41.516Z"
   },
   {
    "duration": 10,
    "start_time": "2024-10-04T22:13:42.356Z"
   },
   {
    "duration": 5,
    "start_time": "2024-10-04T22:22:24.972Z"
   },
   {
    "duration": 5,
    "start_time": "2024-10-04T22:22:38.951Z"
   },
   {
    "duration": 7,
    "start_time": "2024-10-04T22:23:33.850Z"
   },
   {
    "duration": 4,
    "start_time": "2024-10-04T22:28:01.102Z"
   },
   {
    "duration": 290,
    "start_time": "2024-10-04T22:29:11.612Z"
   },
   {
    "duration": 9,
    "start_time": "2024-10-04T23:12:51.752Z"
   },
   {
    "duration": 476,
    "start_time": "2024-10-04T23:22:53.656Z"
   },
   {
    "duration": 418,
    "start_time": "2024-10-04T23:44:42.933Z"
   },
   {
    "duration": 3,
    "start_time": "2024-10-05T00:02:31.656Z"
   },
   {
    "duration": 18,
    "start_time": "2024-10-05T00:06:18.962Z"
   },
   {
    "duration": 13,
    "start_time": "2024-10-05T00:07:11.811Z"
   },
   {
    "duration": 7,
    "start_time": "2024-10-05T00:07:20.292Z"
   },
   {
    "duration": 10,
    "start_time": "2024-10-05T00:11:18.017Z"
   },
   {
    "duration": 10,
    "start_time": "2024-10-05T00:15:45.841Z"
   },
   {
    "duration": 10,
    "start_time": "2024-10-05T00:16:03.799Z"
   },
   {
    "duration": 12,
    "start_time": "2024-10-05T00:16:32.861Z"
   },
   {
    "duration": 7,
    "start_time": "2024-10-05T00:17:25.647Z"
   },
   {
    "duration": 9,
    "start_time": "2024-10-05T00:17:33.305Z"
   },
   {
    "duration": 9,
    "start_time": "2024-10-05T00:17:57.421Z"
   },
   {
    "duration": 1346,
    "start_time": "2024-10-05T13:31:49.642Z"
   },
   {
    "duration": 3,
    "start_time": "2024-10-05T13:31:52.036Z"
   },
   {
    "duration": 296,
    "start_time": "2024-10-05T13:31:52.769Z"
   },
   {
    "duration": 11,
    "start_time": "2024-10-05T13:31:53.067Z"
   },
   {
    "duration": 12,
    "start_time": "2024-10-05T13:31:53.121Z"
   },
   {
    "duration": 11,
    "start_time": "2024-10-05T13:31:53.250Z"
   },
   {
    "duration": 11,
    "start_time": "2024-10-05T13:31:53.474Z"
   },
   {
    "duration": 226,
    "start_time": "2024-10-05T13:31:54.206Z"
   },
   {
    "duration": 7,
    "start_time": "2024-10-05T13:31:54.953Z"
   },
   {
    "duration": 316,
    "start_time": "2024-10-05T13:31:55.625Z"
   },
   {
    "duration": 1107,
    "start_time": "2024-10-05T13:32:10.051Z"
   },
   {
    "duration": 3,
    "start_time": "2024-10-05T13:32:12.698Z"
   },
   {
    "duration": 1111,
    "start_time": "2024-10-05T13:32:26.111Z"
   },
   {
    "duration": 93,
    "start_time": "2024-10-05T13:32:27.531Z"
   },
   {
    "duration": 11,
    "start_time": "2024-10-05T13:32:28.219Z"
   },
   {
    "duration": 10,
    "start_time": "2024-10-05T13:32:28.453Z"
   },
   {
    "duration": 10,
    "start_time": "2024-10-05T13:32:28.673Z"
   },
   {
    "duration": 11,
    "start_time": "2024-10-05T13:32:28.857Z"
   },
   {
    "duration": 199,
    "start_time": "2024-10-05T13:32:29.045Z"
   },
   {
    "duration": 5,
    "start_time": "2024-10-05T13:32:29.246Z"
   },
   {
    "duration": 343,
    "start_time": "2024-10-05T13:32:29.531Z"
   },
   {
    "duration": 290,
    "start_time": "2024-10-05T13:32:29.876Z"
   },
   {
    "duration": 3,
    "start_time": "2024-10-05T13:32:30.168Z"
   },
   {
    "duration": 8,
    "start_time": "2024-10-05T13:32:30.865Z"
   },
   {
    "duration": 4,
    "start_time": "2024-10-05T13:32:31.050Z"
   },
   {
    "duration": 11,
    "start_time": "2024-10-05T13:32:31.202Z"
   },
   {
    "duration": 4,
    "start_time": "2024-10-05T13:32:31.690Z"
   },
   {
    "duration": 10,
    "start_time": "2024-10-05T13:32:31.859Z"
   },
   {
    "duration": 5,
    "start_time": "2024-10-05T13:32:32.025Z"
   },
   {
    "duration": 6,
    "start_time": "2024-10-05T13:32:32.721Z"
   },
   {
    "duration": 12,
    "start_time": "2024-10-05T13:32:32.894Z"
   },
   {
    "duration": 5,
    "start_time": "2024-10-05T13:32:33.195Z"
   },
   {
    "duration": 5,
    "start_time": "2024-10-05T13:32:33.540Z"
   },
   {
    "duration": 6,
    "start_time": "2024-10-05T13:32:34.915Z"
   },
   {
    "duration": 15,
    "start_time": "2024-10-05T13:32:35.104Z"
   },
   {
    "duration": 5,
    "start_time": "2024-10-05T13:32:35.265Z"
   },
   {
    "duration": 10,
    "start_time": "2024-10-05T13:32:35.442Z"
   },
   {
    "duration": 5,
    "start_time": "2024-10-05T13:32:35.610Z"
   },
   {
    "duration": 4,
    "start_time": "2024-10-05T13:32:35.777Z"
   },
   {
    "duration": 184,
    "start_time": "2024-10-05T13:32:35.954Z"
   },
   {
    "duration": 18,
    "start_time": "2024-10-05T13:32:36.802Z"
   },
   {
    "duration": 9,
    "start_time": "2024-10-05T13:32:36.990Z"
   },
   {
    "duration": 167,
    "start_time": "2024-10-05T13:32:37.154Z"
   },
   {
    "duration": 13,
    "start_time": "2024-10-05T13:32:38.036Z"
   },
   {
    "duration": 213,
    "start_time": "2024-10-05T13:32:38.203Z"
   },
   {
    "duration": 9,
    "start_time": "2024-10-05T13:32:38.421Z"
   },
   {
    "duration": 8,
    "start_time": "2024-10-05T13:32:39.235Z"
   },
   {
    "duration": 389,
    "start_time": "2024-10-05T13:32:39.427Z"
   },
   {
    "duration": 8,
    "start_time": "2024-10-05T13:32:40.329Z"
   },
   {
    "duration": 210,
    "start_time": "2024-10-05T13:32:40.521Z"
   },
   {
    "duration": 6,
    "start_time": "2024-10-05T13:32:40.733Z"
   },
   {
    "duration": 14,
    "start_time": "2024-10-05T13:32:42.318Z"
   },
   {
    "duration": 22,
    "start_time": "2024-10-05T13:32:42.500Z"
   },
   {
    "duration": 13,
    "start_time": "2024-10-05T13:32:42.674Z"
   },
   {
    "duration": 5,
    "start_time": "2024-10-05T13:32:43.075Z"
   },
   {
    "duration": 21,
    "start_time": "2024-10-05T13:32:43.267Z"
   },
   {
    "duration": 21,
    "start_time": "2024-10-05T13:32:44.424Z"
   },
   {
    "duration": 21,
    "start_time": "2024-10-05T13:32:44.839Z"
   },
   {
    "duration": 4,
    "start_time": "2024-10-05T13:32:44.992Z"
   },
   {
    "duration": 9,
    "start_time": "2024-10-05T13:32:45.960Z"
   },
   {
    "duration": 317,
    "start_time": "2024-10-05T13:32:46.114Z"
   },
   {
    "duration": 11,
    "start_time": "2024-10-05T13:32:46.435Z"
   },
   {
    "duration": 314,
    "start_time": "2024-10-05T13:32:46.474Z"
   },
   {
    "duration": 8,
    "start_time": "2024-10-05T13:32:47.014Z"
   },
   {
    "duration": 281,
    "start_time": "2024-10-05T13:32:47.212Z"
   },
   {
    "duration": 23,
    "start_time": "2024-10-05T13:32:47.495Z"
   },
   {
    "duration": 294,
    "start_time": "2024-10-05T13:32:47.597Z"
   },
   {
    "duration": 605,
    "start_time": "2024-10-05T13:32:48.156Z"
   },
   {
    "duration": 372,
    "start_time": "2024-10-05T13:32:48.763Z"
   },
   {
    "duration": 4,
    "start_time": "2024-10-05T13:32:49.500Z"
   },
   {
    "duration": 52,
    "start_time": "2024-10-05T13:32:49.675Z"
   },
   {
    "duration": 11,
    "start_time": "2024-10-05T13:32:50.041Z"
   },
   {
    "duration": 11,
    "start_time": "2024-10-05T13:32:50.209Z"
   },
   {
    "duration": 16,
    "start_time": "2024-10-05T13:32:50.392Z"
   },
   {
    "duration": 6,
    "start_time": "2024-10-05T13:32:51.201Z"
   },
   {
    "duration": 23,
    "start_time": "2024-10-05T13:32:51.402Z"
   },
   {
    "duration": 4,
    "start_time": "2024-10-05T13:32:52.354Z"
   },
   {
    "duration": 5,
    "start_time": "2024-10-05T13:32:56.228Z"
   },
   {
    "duration": 5,
    "start_time": "2024-10-05T13:32:57.186Z"
   },
   {
    "duration": 7,
    "start_time": "2024-10-05T13:32:58.098Z"
   },
   {
    "duration": 5,
    "start_time": "2024-10-05T13:46:40.662Z"
   },
   {
    "duration": 6,
    "start_time": "2024-10-05T13:46:56.059Z"
   },
   {
    "duration": 5,
    "start_time": "2024-10-05T13:47:05.859Z"
   },
   {
    "duration": 4,
    "start_time": "2024-10-05T13:47:14.509Z"
   },
   {
    "duration": 4,
    "start_time": "2024-10-05T13:47:21.917Z"
   },
   {
    "duration": 5,
    "start_time": "2024-10-05T13:47:30.381Z"
   },
   {
    "duration": 60,
    "start_time": "2024-10-05T13:57:42.359Z"
   },
   {
    "duration": 54,
    "start_time": "2024-10-05T13:57:51.534Z"
   },
   {
    "duration": 57,
    "start_time": "2024-10-05T13:58:27.455Z"
   },
   {
    "duration": 95,
    "start_time": "2024-10-05T13:58:59.022Z"
   },
   {
    "duration": 5,
    "start_time": "2024-10-05T13:59:09.829Z"
   },
   {
    "duration": 12,
    "start_time": "2024-10-05T13:59:13.952Z"
   },
   {
    "duration": 5,
    "start_time": "2024-10-05T14:00:21.151Z"
   },
   {
    "duration": 4,
    "start_time": "2024-10-05T14:01:23.678Z"
   },
   {
    "duration": 5,
    "start_time": "2024-10-05T14:01:24.471Z"
   },
   {
    "duration": 22,
    "start_time": "2024-10-05T14:11:28.881Z"
   },
   {
    "duration": 35,
    "start_time": "2024-10-05T14:11:46.489Z"
   },
   {
    "duration": 23,
    "start_time": "2024-10-05T14:12:29.409Z"
   },
   {
    "duration": 2,
    "start_time": "2024-10-05T14:14:17.297Z"
   },
   {
    "duration": 11,
    "start_time": "2024-10-05T16:13:22.754Z"
   },
   {
    "duration": 3,
    "start_time": "2024-10-05T16:13:58.585Z"
   },
   {
    "duration": 7,
    "start_time": "2024-10-05T16:14:06.493Z"
   },
   {
    "duration": 267,
    "start_time": "2024-10-05T16:18:23.202Z"
   },
   {
    "duration": 5,
    "start_time": "2024-10-05T16:21:20.487Z"
   },
   {
    "duration": 5,
    "start_time": "2024-10-05T16:21:28.120Z"
   },
   {
    "duration": 6,
    "start_time": "2024-10-05T16:21:36.459Z"
   },
   {
    "duration": 306,
    "start_time": "2024-10-05T16:29:27.157Z"
   },
   {
    "duration": 315,
    "start_time": "2024-10-05T16:34:04.296Z"
   },
   {
    "duration": 297,
    "start_time": "2024-10-05T16:34:16.482Z"
   },
   {
    "duration": 237,
    "start_time": "2024-10-05T16:36:06.819Z"
   },
   {
    "duration": 279,
    "start_time": "2024-10-05T16:36:41.816Z"
   },
   {
    "duration": 119,
    "start_time": "2024-10-05T16:37:21.561Z"
   },
   {
    "duration": 194,
    "start_time": "2024-10-05T16:37:46.064Z"
   },
   {
    "duration": 302,
    "start_time": "2024-10-05T16:39:15.312Z"
   },
   {
    "duration": 269,
    "start_time": "2024-10-05T16:39:56.319Z"
   },
   {
    "duration": 56,
    "start_time": "2024-10-05T16:42:46.855Z"
   },
   {
    "duration": 55,
    "start_time": "2024-10-05T16:43:00.880Z"
   },
   {
    "duration": 7,
    "start_time": "2024-10-05T16:44:04.461Z"
   },
   {
    "duration": 1244,
    "start_time": "2024-10-05T19:15:36.225Z"
   },
   {
    "duration": 313,
    "start_time": "2024-10-05T19:15:39.219Z"
   },
   {
    "duration": 10,
    "start_time": "2024-10-05T19:15:40.146Z"
   },
   {
    "duration": 10,
    "start_time": "2024-10-05T19:15:40.367Z"
   },
   {
    "duration": 9,
    "start_time": "2024-10-05T19:15:40.559Z"
   },
   {
    "duration": 11,
    "start_time": "2024-10-05T19:15:40.744Z"
   },
   {
    "duration": 191,
    "start_time": "2024-10-05T19:15:40.946Z"
   },
   {
    "duration": 5,
    "start_time": "2024-10-05T19:15:41.139Z"
   },
   {
    "duration": 241,
    "start_time": "2024-10-05T19:15:41.447Z"
   },
   {
    "duration": 241,
    "start_time": "2024-10-05T19:15:41.691Z"
   },
   {
    "duration": 2,
    "start_time": "2024-10-05T19:15:41.933Z"
   },
   {
    "duration": 6,
    "start_time": "2024-10-05T19:15:43.151Z"
   },
   {
    "duration": 4,
    "start_time": "2024-10-05T19:15:43.623Z"
   },
   {
    "duration": 9,
    "start_time": "2024-10-05T19:15:43.807Z"
   },
   {
    "duration": 6,
    "start_time": "2024-10-05T19:15:44.527Z"
   },
   {
    "duration": 9,
    "start_time": "2024-10-05T19:15:44.687Z"
   },
   {
    "duration": 5,
    "start_time": "2024-10-05T19:15:44.863Z"
   },
   {
    "duration": 5,
    "start_time": "2024-10-05T19:15:45.535Z"
   },
   {
    "duration": 9,
    "start_time": "2024-10-05T19:15:45.696Z"
   },
   {
    "duration": 4,
    "start_time": "2024-10-05T19:15:46.035Z"
   },
   {
    "duration": 4,
    "start_time": "2024-10-05T19:15:46.368Z"
   },
   {
    "duration": 5,
    "start_time": "2024-10-05T19:15:51.671Z"
   },
   {
    "duration": 8,
    "start_time": "2024-10-05T19:15:51.876Z"
   },
   {
    "duration": 4,
    "start_time": "2024-10-05T19:15:52.090Z"
   },
   {
    "duration": 9,
    "start_time": "2024-10-05T19:15:52.247Z"
   },
   {
    "duration": 3,
    "start_time": "2024-10-05T19:15:52.418Z"
   },
   {
    "duration": 3,
    "start_time": "2024-10-05T19:15:52.591Z"
   },
   {
    "duration": 137,
    "start_time": "2024-10-05T19:15:52.751Z"
   },
   {
    "duration": 9,
    "start_time": "2024-10-05T19:16:00.087Z"
   },
   {
    "duration": 15,
    "start_time": "2024-10-05T19:16:00.305Z"
   },
   {
    "duration": 140,
    "start_time": "2024-10-05T19:16:00.506Z"
   },
   {
    "duration": 9,
    "start_time": "2024-10-05T19:16:01.551Z"
   },
   {
    "duration": 162,
    "start_time": "2024-10-05T19:16:01.705Z"
   },
   {
    "duration": 7,
    "start_time": "2024-10-05T19:16:01.879Z"
   },
   {
    "duration": 7,
    "start_time": "2024-10-05T19:16:03.418Z"
   },
   {
    "duration": 309,
    "start_time": "2024-10-05T19:16:08.920Z"
   },
   {
    "duration": 7,
    "start_time": "2024-10-05T19:16:12.340Z"
   },
   {
    "duration": 210,
    "start_time": "2024-10-05T19:16:13.017Z"
   },
   {
    "duration": 7,
    "start_time": "2024-10-05T19:16:13.230Z"
   },
   {
    "duration": 13,
    "start_time": "2024-10-05T19:16:21.818Z"
   },
   {
    "duration": 18,
    "start_time": "2024-10-05T19:16:21.968Z"
   },
   {
    "duration": 12,
    "start_time": "2024-10-05T19:16:22.136Z"
   },
   {
    "duration": 4,
    "start_time": "2024-10-05T19:16:22.289Z"
   },
   {
    "duration": 11,
    "start_time": "2024-10-05T19:16:22.448Z"
   },
   {
    "duration": 20,
    "start_time": "2024-10-05T19:16:27.144Z"
   },
   {
    "duration": 17,
    "start_time": "2024-10-05T19:16:27.759Z"
   },
   {
    "duration": 3,
    "start_time": "2024-10-05T19:16:27.941Z"
   },
   {
    "duration": 7,
    "start_time": "2024-10-05T19:16:28.742Z"
   },
   {
    "duration": 229,
    "start_time": "2024-10-05T19:16:28.917Z"
   },
   {
    "duration": 7,
    "start_time": "2024-10-05T19:16:29.148Z"
   },
   {
    "duration": 238,
    "start_time": "2024-10-05T19:16:29.261Z"
   },
   {
    "duration": 8,
    "start_time": "2024-10-05T19:16:29.720Z"
   },
   {
    "duration": 255,
    "start_time": "2024-10-05T19:16:29.872Z"
   },
   {
    "duration": 8,
    "start_time": "2024-10-05T19:16:30.129Z"
   },
   {
    "duration": 256,
    "start_time": "2024-10-05T19:16:30.184Z"
   },
   {
    "duration": 474,
    "start_time": "2024-10-05T19:16:30.687Z"
   },
   {
    "duration": 327,
    "start_time": "2024-10-05T19:16:31.163Z"
   },
   {
    "duration": 4,
    "start_time": "2024-10-05T19:16:31.878Z"
   },
   {
    "duration": 44,
    "start_time": "2024-10-05T19:16:32.047Z"
   },
   {
    "duration": 9,
    "start_time": "2024-10-05T19:16:32.382Z"
   },
   {
    "duration": 6,
    "start_time": "2024-10-05T19:16:32.565Z"
   },
   {
    "duration": 8,
    "start_time": "2024-10-05T19:16:32.736Z"
   },
   {
    "duration": 5,
    "start_time": "2024-10-05T19:16:33.297Z"
   },
   {
    "duration": 17,
    "start_time": "2024-10-05T19:16:33.432Z"
   },
   {
    "duration": 5,
    "start_time": "2024-10-05T19:16:33.607Z"
   },
   {
    "duration": 6,
    "start_time": "2024-10-05T19:16:35.192Z"
   },
   {
    "duration": 4,
    "start_time": "2024-10-05T19:16:36.064Z"
   },
   {
    "duration": 8,
    "start_time": "2024-10-05T19:16:36.944Z"
   },
   {
    "duration": 27,
    "start_time": "2024-10-05T19:16:39.098Z"
   },
   {
    "duration": 344,
    "start_time": "2024-10-05T19:16:39.291Z"
   },
   {
    "duration": 5,
    "start_time": "2024-10-05T19:16:40.346Z"
   },
   {
    "duration": 273,
    "start_time": "2024-10-05T19:16:40.578Z"
   },
   {
    "duration": 51,
    "start_time": "2024-10-06T11:10:46.094Z"
   },
   {
    "duration": 1226,
    "start_time": "2024-10-06T11:10:57.879Z"
   },
   {
    "duration": 359,
    "start_time": "2024-10-06T11:10:59.107Z"
   },
   {
    "duration": 12,
    "start_time": "2024-10-06T11:10:59.467Z"
   },
   {
    "duration": 14,
    "start_time": "2024-10-06T11:10:59.481Z"
   },
   {
    "duration": 10,
    "start_time": "2024-10-06T11:10:59.497Z"
   },
   {
    "duration": 14,
    "start_time": "2024-10-06T11:10:59.509Z"
   },
   {
    "duration": 195,
    "start_time": "2024-10-06T11:10:59.587Z"
   },
   {
    "duration": 6,
    "start_time": "2024-10-06T11:10:59.784Z"
   },
   {
    "duration": 281,
    "start_time": "2024-10-06T11:11:00.113Z"
   },
   {
    "duration": 286,
    "start_time": "2024-10-06T11:11:00.396Z"
   },
   {
    "duration": 2,
    "start_time": "2024-10-06T11:11:00.685Z"
   },
   {
    "duration": 8,
    "start_time": "2024-10-06T11:11:01.768Z"
   },
   {
    "duration": 4,
    "start_time": "2024-10-06T11:11:01.953Z"
   },
   {
    "duration": 5,
    "start_time": "2024-10-06T11:11:02.137Z"
   },
   {
    "duration": 5,
    "start_time": "2024-10-06T11:11:02.857Z"
   },
   {
    "duration": 11,
    "start_time": "2024-10-06T11:11:03.045Z"
   },
   {
    "duration": 6,
    "start_time": "2024-10-06T11:11:03.233Z"
   },
   {
    "duration": 5,
    "start_time": "2024-10-06T11:11:04.263Z"
   },
   {
    "duration": 10,
    "start_time": "2024-10-06T11:11:04.433Z"
   },
   {
    "duration": 3,
    "start_time": "2024-10-06T11:11:04.785Z"
   },
   {
    "duration": 5,
    "start_time": "2024-10-06T11:11:05.105Z"
   },
   {
    "duration": 6,
    "start_time": "2024-10-06T11:11:06.529Z"
   },
   {
    "duration": 9,
    "start_time": "2024-10-06T11:11:06.697Z"
   },
   {
    "duration": 4,
    "start_time": "2024-10-06T11:11:06.881Z"
   },
   {
    "duration": 9,
    "start_time": "2024-10-06T11:11:07.053Z"
   },
   {
    "duration": 4,
    "start_time": "2024-10-06T11:11:07.356Z"
   },
   {
    "duration": 4,
    "start_time": "2024-10-06T11:11:07.508Z"
   },
   {
    "duration": 153,
    "start_time": "2024-10-06T11:11:07.673Z"
   },
   {
    "duration": 10,
    "start_time": "2024-10-06T11:11:08.737Z"
   },
   {
    "duration": 10,
    "start_time": "2024-10-06T11:11:08.922Z"
   },
   {
    "duration": 139,
    "start_time": "2024-10-06T11:11:09.090Z"
   },
   {
    "duration": 9,
    "start_time": "2024-10-06T11:11:09.969Z"
   },
   {
    "duration": 171,
    "start_time": "2024-10-06T11:11:10.146Z"
   },
   {
    "duration": 8,
    "start_time": "2024-10-06T11:11:10.321Z"
   },
   {
    "duration": 9,
    "start_time": "2024-10-06T11:11:11.552Z"
   },
   {
    "duration": 344,
    "start_time": "2024-10-06T11:11:11.749Z"
   },
   {
    "duration": 9,
    "start_time": "2024-10-06T11:11:13.009Z"
   },
   {
    "duration": 198,
    "start_time": "2024-10-06T11:11:13.201Z"
   },
   {
    "duration": 6,
    "start_time": "2024-10-06T11:11:13.402Z"
   },
   {
    "duration": 6,
    "start_time": "2024-10-06T11:11:46.769Z"
   },
   {
    "duration": 15,
    "start_time": "2024-10-06T11:11:48.664Z"
   },
   {
    "duration": 21,
    "start_time": "2024-10-06T11:11:48.997Z"
   },
   {
    "duration": 14,
    "start_time": "2024-10-06T11:11:49.227Z"
   },
   {
    "duration": 4,
    "start_time": "2024-10-06T11:11:49.386Z"
   },
   {
    "duration": 15,
    "start_time": "2024-10-06T11:11:49.792Z"
   },
   {
    "duration": 19,
    "start_time": "2024-10-06T11:11:51.113Z"
   },
   {
    "duration": 18,
    "start_time": "2024-10-06T11:11:51.685Z"
   },
   {
    "duration": 3,
    "start_time": "2024-10-06T11:11:51.938Z"
   },
   {
    "duration": 8,
    "start_time": "2024-10-06T11:11:52.880Z"
   },
   {
    "duration": 273,
    "start_time": "2024-10-06T11:11:53.057Z"
   },
   {
    "duration": 8,
    "start_time": "2024-10-06T11:11:53.332Z"
   },
   {
    "duration": 263,
    "start_time": "2024-10-06T11:11:53.426Z"
   },
   {
    "duration": 7,
    "start_time": "2024-10-06T11:11:53.985Z"
   },
   {
    "duration": 258,
    "start_time": "2024-10-06T11:11:54.169Z"
   },
   {
    "duration": 7,
    "start_time": "2024-10-06T11:11:54.429Z"
   },
   {
    "duration": 268,
    "start_time": "2024-10-06T11:11:54.553Z"
   },
   {
    "duration": 544,
    "start_time": "2024-10-06T11:11:55.104Z"
   },
   {
    "duration": 0,
    "start_time": "2024-10-06T11:11:55.650Z"
   },
   {
    "duration": 66,
    "start_time": "2024-10-06T11:12:29.779Z"
   },
   {
    "duration": 64,
    "start_time": "2024-10-06T11:12:50.233Z"
   },
   {
    "duration": 67,
    "start_time": "2024-10-06T11:14:18.976Z"
   },
   {
    "duration": 471,
    "start_time": "2024-10-06T11:15:35.336Z"
   },
   {
    "duration": 656,
    "start_time": "2024-10-06T11:17:43.032Z"
   },
   {
    "duration": 636,
    "start_time": "2024-10-06T11:18:17.136Z"
   },
   {
    "duration": 734,
    "start_time": "2024-10-06T11:18:39.311Z"
   },
   {
    "duration": 614,
    "start_time": "2024-10-06T11:20:07.639Z"
   },
   {
    "duration": 303,
    "start_time": "2024-10-06T11:54:38.784Z"
   },
   {
    "duration": 443,
    "start_time": "2024-10-06T11:56:36.031Z"
   },
   {
    "duration": 361,
    "start_time": "2024-10-06T12:51:24.879Z"
   },
   {
    "duration": 270,
    "start_time": "2024-10-06T12:51:37.407Z"
   },
   {
    "duration": 264,
    "start_time": "2024-10-06T12:52:25.925Z"
   },
   {
    "duration": 61,
    "start_time": "2024-10-06T12:58:22.339Z"
   },
   {
    "duration": 5,
    "start_time": "2024-10-06T12:58:37.620Z"
   },
   {
    "duration": 18,
    "start_time": "2024-10-06T13:00:26.699Z"
   },
   {
    "duration": 7,
    "start_time": "2024-10-06T13:02:16.290Z"
   },
   {
    "duration": 24,
    "start_time": "2024-10-06T13:02:27.841Z"
   },
   {
    "duration": 13,
    "start_time": "2024-10-06T13:04:27.050Z"
   },
   {
    "duration": 21,
    "start_time": "2024-10-06T13:06:05.433Z"
   },
   {
    "duration": 18,
    "start_time": "2024-10-06T13:06:40.808Z"
   },
   {
    "duration": 11,
    "start_time": "2024-10-06T13:07:29.336Z"
   },
   {
    "duration": 30,
    "start_time": "2024-10-06T13:07:39.898Z"
   },
   {
    "duration": 7,
    "start_time": "2024-10-06T13:08:28.816Z"
   },
   {
    "duration": 7,
    "start_time": "2024-10-06T13:09:28.008Z"
   },
   {
    "duration": 7,
    "start_time": "2024-10-06T13:10:09.437Z"
   },
   {
    "duration": 9,
    "start_time": "2024-10-06T13:11:00.247Z"
   },
   {
    "duration": 9,
    "start_time": "2024-10-06T13:11:03.877Z"
   },
   {
    "duration": 10,
    "start_time": "2024-10-06T13:11:12.672Z"
   },
   {
    "duration": 272,
    "start_time": "2024-10-06T13:12:39.487Z"
   },
   {
    "duration": 277,
    "start_time": "2024-10-06T13:12:42.838Z"
   },
   {
    "duration": 9,
    "start_time": "2024-10-06T13:17:17.723Z"
   },
   {
    "duration": 184,
    "start_time": "2024-10-06T13:17:33.916Z"
   },
   {
    "duration": 215,
    "start_time": "2024-10-06T13:17:56.794Z"
   },
   {
    "duration": 11,
    "start_time": "2024-10-06T13:18:55.269Z"
   },
   {
    "duration": 261,
    "start_time": "2024-10-06T13:19:05.618Z"
   },
   {
    "duration": 1092,
    "start_time": "2024-10-06T13:20:34.902Z"
   },
   {
    "duration": 90,
    "start_time": "2024-10-06T13:20:35.996Z"
   },
   {
    "duration": 11,
    "start_time": "2024-10-06T13:20:36.129Z"
   },
   {
    "duration": 12,
    "start_time": "2024-10-06T13:20:36.371Z"
   },
   {
    "duration": 10,
    "start_time": "2024-10-06T13:20:36.577Z"
   },
   {
    "duration": 11,
    "start_time": "2024-10-06T13:20:36.956Z"
   },
   {
    "duration": 195,
    "start_time": "2024-10-06T13:20:37.609Z"
   },
   {
    "duration": 15,
    "start_time": "2024-10-06T13:20:37.806Z"
   },
   {
    "duration": 281,
    "start_time": "2024-10-06T13:20:38.130Z"
   },
   {
    "duration": 278,
    "start_time": "2024-10-06T13:20:38.413Z"
   },
   {
    "duration": 2,
    "start_time": "2024-10-06T13:20:38.693Z"
   },
   {
    "duration": 8,
    "start_time": "2024-10-06T13:20:39.628Z"
   },
   {
    "duration": 4,
    "start_time": "2024-10-06T13:20:39.810Z"
   },
   {
    "duration": 5,
    "start_time": "2024-10-06T13:20:39.970Z"
   },
   {
    "duration": 6,
    "start_time": "2024-10-06T13:20:40.637Z"
   },
   {
    "duration": 11,
    "start_time": "2024-10-06T13:20:40.802Z"
   },
   {
    "duration": 6,
    "start_time": "2024-10-06T13:20:40.962Z"
   },
   {
    "duration": 6,
    "start_time": "2024-10-06T13:20:41.657Z"
   },
   {
    "duration": 10,
    "start_time": "2024-10-06T13:20:41.833Z"
   },
   {
    "duration": 5,
    "start_time": "2024-10-06T13:20:42.187Z"
   },
   {
    "duration": 6,
    "start_time": "2024-10-06T13:20:42.509Z"
   },
   {
    "duration": 6,
    "start_time": "2024-10-06T13:20:43.873Z"
   },
   {
    "duration": 10,
    "start_time": "2024-10-06T13:20:44.051Z"
   },
   {
    "duration": 4,
    "start_time": "2024-10-06T13:20:44.212Z"
   },
   {
    "duration": 10,
    "start_time": "2024-10-06T13:20:44.386Z"
   },
   {
    "duration": 4,
    "start_time": "2024-10-06T13:20:44.561Z"
   },
   {
    "duration": 4,
    "start_time": "2024-10-06T13:20:44.733Z"
   },
   {
    "duration": 149,
    "start_time": "2024-10-06T13:20:44.898Z"
   },
   {
    "duration": 10,
    "start_time": "2024-10-06T13:20:46.195Z"
   },
   {
    "duration": 10,
    "start_time": "2024-10-06T13:20:46.395Z"
   },
   {
    "duration": 147,
    "start_time": "2024-10-06T13:20:46.810Z"
   },
   {
    "duration": 3,
    "start_time": "2024-10-06T13:28:59.536Z"
   },
   {
    "duration": 1104,
    "start_time": "2024-10-06T13:29:07.405Z"
   },
   {
    "duration": 89,
    "start_time": "2024-10-06T13:29:08.936Z"
   },
   {
    "duration": 11,
    "start_time": "2024-10-06T13:29:09.108Z"
   },
   {
    "duration": 12,
    "start_time": "2024-10-06T13:29:09.277Z"
   },
   {
    "duration": 11,
    "start_time": "2024-10-06T13:29:09.435Z"
   },
   {
    "duration": 12,
    "start_time": "2024-10-06T13:29:09.573Z"
   },
   {
    "duration": 184,
    "start_time": "2024-10-06T13:29:09.862Z"
   },
   {
    "duration": 5,
    "start_time": "2024-10-06T13:29:10.051Z"
   },
   {
    "duration": 267,
    "start_time": "2024-10-06T13:29:10.442Z"
   },
   {
    "duration": 275,
    "start_time": "2024-10-06T13:29:10.711Z"
   },
   {
    "duration": 3,
    "start_time": "2024-10-06T13:29:10.987Z"
   },
   {
    "duration": 6,
    "start_time": "2024-10-06T13:29:11.753Z"
   },
   {
    "duration": 4,
    "start_time": "2024-10-06T13:29:11.927Z"
   },
   {
    "duration": 5,
    "start_time": "2024-10-06T13:29:12.070Z"
   },
   {
    "duration": 5,
    "start_time": "2024-10-06T13:29:12.713Z"
   },
   {
    "duration": 11,
    "start_time": "2024-10-06T13:29:12.862Z"
   },
   {
    "duration": 5,
    "start_time": "2024-10-06T13:29:13.016Z"
   },
   {
    "duration": 5,
    "start_time": "2024-10-06T13:29:13.669Z"
   },
   {
    "duration": 9,
    "start_time": "2024-10-06T13:29:13.818Z"
   },
   {
    "duration": 4,
    "start_time": "2024-10-06T13:29:14.125Z"
   },
   {
    "duration": 4,
    "start_time": "2024-10-06T13:29:14.472Z"
   },
   {
    "duration": 6,
    "start_time": "2024-10-06T13:29:16.032Z"
   },
   {
    "duration": 10,
    "start_time": "2024-10-06T13:29:16.184Z"
   },
   {
    "duration": 4,
    "start_time": "2024-10-06T13:29:16.342Z"
   },
   {
    "duration": 9,
    "start_time": "2024-10-06T13:29:16.520Z"
   },
   {
    "duration": 3,
    "start_time": "2024-10-06T13:29:16.686Z"
   },
   {
    "duration": 4,
    "start_time": "2024-10-06T13:29:16.871Z"
   },
   {
    "duration": 145,
    "start_time": "2024-10-06T13:29:17.029Z"
   },
   {
    "duration": 9,
    "start_time": "2024-10-06T13:29:18.261Z"
   },
   {
    "duration": 9,
    "start_time": "2024-10-06T13:29:18.415Z"
   },
   {
    "duration": 139,
    "start_time": "2024-10-06T13:29:18.580Z"
   },
   {
    "duration": 9,
    "start_time": "2024-10-06T13:29:20.000Z"
   },
   {
    "duration": 171,
    "start_time": "2024-10-06T13:29:20.201Z"
   },
   {
    "duration": 7,
    "start_time": "2024-10-06T13:29:20.373Z"
   },
   {
    "duration": 8,
    "start_time": "2024-10-06T13:29:22.167Z"
   },
   {
    "duration": 345,
    "start_time": "2024-10-06T13:29:22.335Z"
   },
   {
    "duration": 297,
    "start_time": "2024-10-06T13:29:22.682Z"
   },
   {
    "duration": 265,
    "start_time": "2024-10-06T13:29:22.981Z"
   },
   {
    "duration": 8,
    "start_time": "2024-10-06T13:29:25.339Z"
   },
   {
    "duration": 197,
    "start_time": "2024-10-06T13:29:25.626Z"
   },
   {
    "duration": 7,
    "start_time": "2024-10-06T13:29:26.058Z"
   },
   {
    "duration": 228,
    "start_time": "2024-10-06T13:29:27.569Z"
   },
   {
    "duration": 157,
    "start_time": "2024-10-06T13:29:29.878Z"
   },
   {
    "duration": 173,
    "start_time": "2024-10-06T13:30:31.127Z"
   },
   {
    "duration": 8,
    "start_time": "2024-10-06T13:31:16.292Z"
   },
   {
    "duration": 58,
    "start_time": "2024-10-06T13:31:42.803Z"
   },
   {
    "duration": 10,
    "start_time": "2024-10-06T13:31:47.295Z"
   },
   {
    "duration": 105,
    "start_time": "2024-10-06T13:32:14.062Z"
   },
   {
    "duration": 9,
    "start_time": "2024-10-06T13:32:32.356Z"
   },
   {
    "duration": 11,
    "start_time": "2024-10-06T13:33:00.358Z"
   },
   {
    "duration": 20,
    "start_time": "2024-10-06T13:33:06.700Z"
   },
   {
    "duration": 169,
    "start_time": "2024-10-06T13:33:37.325Z"
   },
   {
    "duration": 8,
    "start_time": "2024-10-06T13:33:40.628Z"
   },
   {
    "duration": 27,
    "start_time": "2024-10-06T13:33:55.244Z"
   },
   {
    "duration": 8,
    "start_time": "2024-10-06T13:34:08.636Z"
   },
   {
    "duration": 5,
    "start_time": "2024-10-06T13:35:20.436Z"
   },
   {
    "duration": 7,
    "start_time": "2024-10-06T13:35:24.158Z"
   },
   {
    "duration": 52,
    "start_time": "2024-10-06T13:36:41.442Z"
   },
   {
    "duration": 6,
    "start_time": "2024-10-06T13:36:50.372Z"
   },
   {
    "duration": 4,
    "start_time": "2024-10-06T13:37:15.944Z"
   },
   {
    "duration": 5,
    "start_time": "2024-10-06T13:38:15.701Z"
   },
   {
    "duration": 158,
    "start_time": "2024-10-06T13:39:09.400Z"
   },
   {
    "duration": 5,
    "start_time": "2024-10-06T13:43:26.464Z"
   },
   {
    "duration": 22,
    "start_time": "2024-10-06T13:43:47.369Z"
   },
   {
    "duration": 9,
    "start_time": "2024-10-06T13:44:03.936Z"
   },
   {
    "duration": 9,
    "start_time": "2024-10-06T13:44:36.010Z"
   },
   {
    "duration": 9,
    "start_time": "2024-10-06T13:44:55.705Z"
   },
   {
    "duration": 390,
    "start_time": "2024-10-06T13:47:02.033Z"
   },
   {
    "duration": 6,
    "start_time": "2024-10-06T13:54:49.957Z"
   },
   {
    "duration": 13,
    "start_time": "2024-10-06T13:55:17.085Z"
   },
   {
    "duration": 272,
    "start_time": "2024-10-06T13:55:24.854Z"
   },
   {
    "duration": 250,
    "start_time": "2024-10-06T13:56:40.823Z"
   },
   {
    "duration": 12,
    "start_time": "2024-10-06T14:31:31.401Z"
   },
   {
    "duration": 11,
    "start_time": "2024-10-06T14:31:52.533Z"
   },
   {
    "duration": 150,
    "start_time": "2024-10-06T16:31:35.934Z"
   },
   {
    "duration": 155,
    "start_time": "2024-10-06T16:31:36.450Z"
   },
   {
    "duration": 10,
    "start_time": "2024-10-06T16:36:38.562Z"
   },
   {
    "duration": 12,
    "start_time": "2024-10-06T16:41:07.202Z"
   },
   {
    "duration": 9,
    "start_time": "2024-10-06T16:41:53.069Z"
   },
   {
    "duration": 1059,
    "start_time": "2024-10-06T16:42:05.623Z"
   },
   {
    "duration": 91,
    "start_time": "2024-10-06T16:42:06.684Z"
   },
   {
    "duration": 12,
    "start_time": "2024-10-06T16:42:07.114Z"
   },
   {
    "duration": 11,
    "start_time": "2024-10-06T16:42:07.348Z"
   },
   {
    "duration": 9,
    "start_time": "2024-10-06T16:42:07.545Z"
   },
   {
    "duration": 11,
    "start_time": "2024-10-06T16:42:07.697Z"
   },
   {
    "duration": 3,
    "start_time": "2024-10-06T16:42:08.696Z"
   },
   {
    "duration": 7,
    "start_time": "2024-10-06T16:42:09.831Z"
   },
   {
    "duration": 4,
    "start_time": "2024-10-06T16:42:10.033Z"
   },
   {
    "duration": 5,
    "start_time": "2024-10-06T16:42:10.150Z"
   },
   {
    "duration": 5,
    "start_time": "2024-10-06T16:42:11.353Z"
   },
   {
    "duration": 11,
    "start_time": "2024-10-06T16:42:11.485Z"
   },
   {
    "duration": 5,
    "start_time": "2024-10-06T16:42:11.664Z"
   },
   {
    "duration": 5,
    "start_time": "2024-10-06T16:42:12.461Z"
   },
   {
    "duration": 10,
    "start_time": "2024-10-06T16:42:12.629Z"
   },
   {
    "duration": 4,
    "start_time": "2024-10-06T16:42:12.771Z"
   },
   {
    "duration": 4,
    "start_time": "2024-10-06T16:42:13.107Z"
   },
   {
    "duration": 5,
    "start_time": "2024-10-06T16:42:14.473Z"
   },
   {
    "duration": 9,
    "start_time": "2024-10-06T16:42:14.642Z"
   },
   {
    "duration": 4,
    "start_time": "2024-10-06T16:42:14.818Z"
   },
   {
    "duration": 9,
    "start_time": "2024-10-06T16:42:14.994Z"
   },
   {
    "duration": 4,
    "start_time": "2024-10-06T16:42:15.162Z"
   },
   {
    "duration": 4,
    "start_time": "2024-10-06T16:42:15.331Z"
   },
   {
    "duration": 155,
    "start_time": "2024-10-06T16:42:15.498Z"
   },
   {
    "duration": 9,
    "start_time": "2024-10-06T16:42:16.743Z"
   },
   {
    "duration": 9,
    "start_time": "2024-10-06T16:42:16.931Z"
   },
   {
    "duration": 139,
    "start_time": "2024-10-06T16:42:17.090Z"
   },
   {
    "duration": 10,
    "start_time": "2024-10-06T16:42:17.946Z"
   },
   {
    "duration": 175,
    "start_time": "2024-10-06T16:42:18.107Z"
   },
   {
    "duration": 7,
    "start_time": "2024-10-06T16:42:18.283Z"
   },
   {
    "duration": 8,
    "start_time": "2024-10-06T16:42:19.480Z"
   },
   {
    "duration": 268,
    "start_time": "2024-10-06T16:42:19.643Z"
   },
   {
    "duration": 269,
    "start_time": "2024-10-06T16:42:19.921Z"
   },
   {
    "duration": 266,
    "start_time": "2024-10-06T16:42:20.192Z"
   },
   {
    "duration": 8,
    "start_time": "2024-10-06T16:42:21.030Z"
   },
   {
    "duration": 299,
    "start_time": "2024-10-06T16:42:21.203Z"
   },
   {
    "duration": 200,
    "start_time": "2024-10-06T16:42:21.503Z"
   },
   {
    "duration": 5,
    "start_time": "2024-10-06T16:42:21.734Z"
   },
   {
    "duration": 11,
    "start_time": "2024-10-06T16:42:21.906Z"
   },
   {
    "duration": 142,
    "start_time": "2024-10-06T16:42:22.251Z"
   },
   {
    "duration": 150,
    "start_time": "2024-10-06T16:42:22.434Z"
   },
   {
    "duration": 5,
    "start_time": "2024-10-06T16:42:22.778Z"
   },
   {
    "duration": 8,
    "start_time": "2024-10-06T16:42:22.946Z"
   },
   {
    "duration": 10,
    "start_time": "2024-10-06T16:42:23.123Z"
   },
   {
    "duration": 17,
    "start_time": "2024-10-06T16:42:25.395Z"
   },
   {
    "duration": 21,
    "start_time": "2024-10-06T16:42:25.564Z"
   },
   {
    "duration": 14,
    "start_time": "2024-10-06T16:42:25.597Z"
   },
   {
    "duration": 5,
    "start_time": "2024-10-06T16:42:26.186Z"
   },
   {
    "duration": 13,
    "start_time": "2024-10-06T16:42:26.718Z"
   },
   {
    "duration": 21,
    "start_time": "2024-10-06T16:42:27.981Z"
   },
   {
    "duration": 25,
    "start_time": "2024-10-06T16:42:28.333Z"
   },
   {
    "duration": 4,
    "start_time": "2024-10-06T16:42:28.514Z"
   },
   {
    "duration": 9,
    "start_time": "2024-10-06T16:42:31.057Z"
   },
   {
    "duration": 258,
    "start_time": "2024-10-06T16:42:31.284Z"
   },
   {
    "duration": 8,
    "start_time": "2024-10-06T16:42:31.544Z"
   },
   {
    "duration": 246,
    "start_time": "2024-10-06T16:42:31.695Z"
   },
   {
    "duration": 8,
    "start_time": "2024-10-06T16:42:32.248Z"
   },
   {
    "duration": 260,
    "start_time": "2024-10-06T16:42:32.432Z"
   },
   {
    "duration": 8,
    "start_time": "2024-10-06T16:42:33.013Z"
   },
   {
    "duration": 404,
    "start_time": "2024-10-06T16:42:33.023Z"
   },
   {
    "duration": 618,
    "start_time": "2024-10-06T16:42:33.428Z"
   },
   {
    "duration": 508,
    "start_time": "2024-10-06T16:42:34.048Z"
   },
   {
    "duration": 4,
    "start_time": "2024-10-06T16:42:34.954Z"
   },
   {
    "duration": 49,
    "start_time": "2024-10-06T16:42:35.205Z"
   },
   {
    "duration": 11,
    "start_time": "2024-10-06T16:42:35.538Z"
   },
   {
    "duration": 7,
    "start_time": "2024-10-06T16:42:35.715Z"
   },
   {
    "duration": 10,
    "start_time": "2024-10-06T16:42:35.898Z"
   },
   {
    "duration": 5,
    "start_time": "2024-10-06T16:42:36.450Z"
   },
   {
    "duration": 17,
    "start_time": "2024-10-06T16:42:36.644Z"
   },
   {
    "duration": 4,
    "start_time": "2024-10-06T16:42:37.051Z"
   },
   {
    "duration": 5,
    "start_time": "2024-10-06T16:42:38.947Z"
   },
   {
    "duration": 6,
    "start_time": "2024-10-06T16:42:42.147Z"
   },
   {
    "duration": 6,
    "start_time": "2024-10-06T16:43:13.425Z"
   },
   {
    "duration": 9,
    "start_time": "2024-10-06T16:43:19.046Z"
   },
   {
    "duration": 34,
    "start_time": "2024-10-06T16:43:22.578Z"
   },
   {
    "duration": 378,
    "start_time": "2024-10-06T16:43:22.753Z"
   },
   {
    "duration": 5,
    "start_time": "2024-10-06T16:43:23.841Z"
   },
   {
    "duration": 284,
    "start_time": "2024-10-06T16:43:24.017Z"
   },
   {
    "duration": 7,
    "start_time": "2024-10-06T16:49:33.419Z"
   },
   {
    "duration": 5,
    "start_time": "2024-10-06T16:50:21.974Z"
   },
   {
    "duration": 4,
    "start_time": "2024-10-06T16:50:23.483Z"
   },
   {
    "duration": 5,
    "start_time": "2024-10-06T16:51:19.224Z"
   },
   {
    "duration": 4,
    "start_time": "2024-10-06T16:51:19.911Z"
   },
   {
    "duration": 56,
    "start_time": "2024-10-06T17:08:15.996Z"
   },
   {
    "duration": 96,
    "start_time": "2024-10-06T17:08:21.207Z"
   },
   {
    "duration": 5,
    "start_time": "2024-10-06T17:08:30.005Z"
   },
   {
    "duration": 11,
    "start_time": "2024-10-06T17:09:06.957Z"
   },
   {
    "duration": 11,
    "start_time": "2024-10-06T17:09:51.510Z"
   },
   {
    "duration": 9,
    "start_time": "2024-10-06T17:10:05.377Z"
   },
   {
    "duration": 12,
    "start_time": "2024-10-06T17:10:32.968Z"
   },
   {
    "duration": 13,
    "start_time": "2024-10-06T17:11:31.862Z"
   },
   {
    "duration": 6,
    "start_time": "2024-10-06T17:11:41.726Z"
   },
   {
    "duration": 7,
    "start_time": "2024-10-06T17:11:53.534Z"
   },
   {
    "duration": 8,
    "start_time": "2024-10-06T17:14:40.860Z"
   },
   {
    "duration": 12,
    "start_time": "2024-10-06T17:14:46.916Z"
   },
   {
    "duration": 14,
    "start_time": "2024-10-06T17:16:27.758Z"
   },
   {
    "duration": 3,
    "start_time": "2024-10-06T17:17:11.778Z"
   },
   {
    "duration": 12,
    "start_time": "2024-10-06T17:17:19.499Z"
   },
   {
    "duration": 10,
    "start_time": "2024-10-06T17:17:49.171Z"
   },
   {
    "duration": 66,
    "start_time": "2024-10-06T17:18:01.859Z"
   },
   {
    "duration": 23,
    "start_time": "2024-10-06T17:19:27.613Z"
   },
   {
    "duration": 18,
    "start_time": "2024-10-06T17:21:25.948Z"
   },
   {
    "duration": 18,
    "start_time": "2024-10-06T17:23:54.242Z"
   },
   {
    "duration": 18,
    "start_time": "2024-10-06T17:24:03.363Z"
   },
   {
    "duration": 17,
    "start_time": "2024-10-06T17:24:11.330Z"
   },
   {
    "duration": 16,
    "start_time": "2024-10-06T17:25:29.192Z"
   },
   {
    "duration": 5,
    "start_time": "2024-10-06T17:46:13.648Z"
   },
   {
    "duration": 21,
    "start_time": "2024-10-06T17:46:33.481Z"
   },
   {
    "duration": 23,
    "start_time": "2024-10-06T17:57:05.389Z"
   },
   {
    "duration": 23,
    "start_time": "2024-10-06T17:57:46.460Z"
   },
   {
    "duration": 28,
    "start_time": "2024-10-06T18:05:37.681Z"
   }
  ],
  "kernelspec": {
   "display_name": "Python [conda env:base] *",
   "language": "python",
   "name": "conda-base-py"
  },
  "language_info": {
   "codemirror_mode": {
    "name": "ipython",
    "version": 3
   },
   "file_extension": ".py",
   "mimetype": "text/x-python",
   "name": "python",
   "nbconvert_exporter": "python",
   "pygments_lexer": "ipython3",
   "version": "3.12.4"
  },
  "toc": {
   "base_numbering": 1,
   "nav_menu": {},
   "number_sections": true,
   "sideBar": true,
   "skip_h1_title": true,
   "title_cell": "Table of Contents",
   "title_sidebar": "Contents",
   "toc_cell": false,
   "toc_position": {},
   "toc_section_display": true,
   "toc_window_display": false
  }
 },
 "nbformat": 4,
 "nbformat_minor": 5
}
