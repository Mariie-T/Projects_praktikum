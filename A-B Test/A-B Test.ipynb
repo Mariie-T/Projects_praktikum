{
 "cells": [
  {
   "cell_type": "markdown",
   "metadata": {},
   "source": [
    "# Проект Принятие решений в бизнесе"
   ]
  },
  {
   "cell_type": "markdown",
   "metadata": {},
   "source": [
    "Как аналитикам крупного интернет-магазина нам была поставлена задача приоритизировать гипотезы, провести А/В тестирование и проанализировать полученные результаты.\n",
    "\n",
    "-----------\n",
    "**Цель исследования**\n",
    "\n",
    "Необходимо попределить наиболее перспективные гипотезы для улучшения показателей интернет-магазина, провести А/В тестирование и проанализировать полученные результаты.\n",
    "\n",
    "-------------\n",
    "**Исходные данные**  \n",
    "\n",
    "Данные представлены в 3х датафреймах (hypothesis, orders, visitors) за период с 1 вгуста 2019 года по 31 августа 2019 года. \n",
    "\n",
    "-----\n",
    "**Задачи исследования** \n",
    "\n",
    "Задание состоит из 2х чавстей: в первой части необходимо провести приоритизацию гипотез с иссчледованием метод к ICE и RICE, чтобы определить те гипотезы котрые имеют наибольший потенциал для магазина.  \n",
    "\n",
    "Во второй части необходимо провести А/В тест для проверки гипотез и проанализировать полученные результаты.  \n",
    "\n",
    "\n",
    "**Часть 1. Приоритизация гипотез**\n",
    "\n",
    "* [1. Анализ датафрейма, изучение предоставленых данных и поиск в них проблемных мест](#Загрузка-данных-и-подготовка-их-к-анализу) \n",
    "* [2. Приоритизация гипотез с помощью параметров ICE](#Приоритизация-гипотез-с-помощью-параметров-ICE)\n",
    "* [3. Приоритизация гипотез с помощью параметров RICE](#Приоритизация-гипотез-с-помощью-параметров-RICE)\n",
    "\n",
    "\n",
    "**Часть 2. Анализ А/В - теста**\n",
    "\n",
    "* [1. Анализ датафрейма, изучение предоставленых данных и поиск в них проблемных мест](#Загрузка-данных-для-теста-и-подготовка-их-к-анализу) \n",
    "* [2. Загрузка данных датафрейма orders](#Загрузка-данных-датафрейма-orders)\n",
    "* [3. Загрузка данных датафрейма visitors](#Загрузка-данных-датафрейма-visitors)\n",
    "* [4. Проверка корректности распределения посетителей на группы А и В](#Проверка-корректности-распределения-посетителей-на-группы-А-и-В)\n",
    "* [5. График кумулятивной выручки по группам](#График-кумулятивной-выручки-по-группам)\n",
    "* [6. График кумулятивного среднего чека по группам](#График-кумулятивного-среднего-чека-по-группам)\n",
    "* [7. График относительного изменения кумулятивного среднего чека группы В к группе А](#График-относительного-изменения-кумулятивного-среднего-чека-группы-В-к-группе-А)\n",
    "* [8. График кумулятивного среднего количества заказов на посетителя по группам](#График-кумулятивного-среднего-количества-заказов-на-посетителя-по-группам)\n",
    "* [9. График относительного изменения кумулятивного среднего количества заказов на посетителя группы В к группе А ](#График-относительного-изменения-кумулятивного-среднего-количества-заказов-на-посетителя-группы-В-к-группе-А)\n",
    "* [10. Точечный график количества заказов по пользователям](#Точечный-график-количества-заказов-по-пользователям)\n",
    "* [11.95 и 99 перцентили количества заказов на пользователя](#95-и-99-перцентили-количества-заказов-на-пользователя)\n",
    "* [12. Точечный график стоимости заказа](#Точечный-график-стоимости-заказа)\n",
    "* [13. 95 и 99 перцентили стоимости заказов](#95-и-99-перцентили-стоимости-заказов)\n",
    "* [14. Статистическая значимость различий в среднем количестве заказов на посетителя между группами по сырым данным](#Статистическая-значимость-различий-в-среднем-количестве-заказов-на-посетителя-между-группами-по-сырым-данным)\n",
    "* [15. Статистическая значимость различий в среднем чеке заказа между группами по сырым данным](#Статистическая-значимость-различий-в-среднем-чеке-заказа-между-группами-по-сырым-данным)\n",
    "* [16. Статистическая значимость различий в среднем количестве заказов на посетителя между группами по очищенным данным](#Статистическая-значимость-различий-в-среднем-количестве-заказов-на-посетителя-между-группами-по-очищенным-данным)\n",
    "* [17.Статистическая значимость различий в среднем чеке заказа между группами по очищенным данным](#Статистическая-значимость-различий-в-среднем-чеке-заказа-между-группами-по-очищенным-данным)\n",
    "* [Вывод](#Вывод)"
   ]
  },
  {
   "cell_type": "markdown",
   "metadata": {},
   "source": [
    "# Часть 1 Приоритизация гипотез"
   ]
  },
  {
   "cell_type": "markdown",
   "metadata": {},
   "source": [
    "### Загрузка данных и подготовка их к анализу"
   ]
  },
  {
   "cell_type": "code",
   "execution_count": 1,
   "metadata": {},
   "outputs": [],
   "source": [
    "import pandas as pd\n",
    "import datetime as dt\n",
    "import scipy.stats as stats\n",
    "import numpy as np\n",
    "import matplotlib.pyplot as plt"
   ]
  },
  {
   "cell_type": "markdown",
   "metadata": {},
   "source": [
    "#### Загрузка данных"
   ]
  },
  {
   "cell_type": "code",
   "execution_count": 2,
   "metadata": {},
   "outputs": [
    {
     "data": {
      "text/html": [
       "<div>\n",
       "<style scoped>\n",
       "    .dataframe tbody tr th:only-of-type {\n",
       "        vertical-align: middle;\n",
       "    }\n",
       "\n",
       "    .dataframe tbody tr th {\n",
       "        vertical-align: top;\n",
       "    }\n",
       "\n",
       "    .dataframe thead th {\n",
       "        text-align: right;\n",
       "    }\n",
       "</style>\n",
       "<table border=\"1\" class=\"dataframe\">\n",
       "  <thead>\n",
       "    <tr style=\"text-align: right;\">\n",
       "      <th></th>\n",
       "      <th>Hypothesis</th>\n",
       "      <th>Reach</th>\n",
       "      <th>Impact</th>\n",
       "      <th>Confidence</th>\n",
       "      <th>Efforts</th>\n",
       "    </tr>\n",
       "  </thead>\n",
       "  <tbody>\n",
       "    <tr>\n",
       "      <th>0</th>\n",
       "      <td>Добавить два новых канала привлечения трафика,...</td>\n",
       "      <td>3</td>\n",
       "      <td>10</td>\n",
       "      <td>8</td>\n",
       "      <td>6</td>\n",
       "    </tr>\n",
       "    <tr>\n",
       "      <th>1</th>\n",
       "      <td>Запустить собственную службу доставки, что сок...</td>\n",
       "      <td>2</td>\n",
       "      <td>5</td>\n",
       "      <td>4</td>\n",
       "      <td>10</td>\n",
       "    </tr>\n",
       "    <tr>\n",
       "      <th>2</th>\n",
       "      <td>Добавить блоки рекомендаций товаров на сайт ин...</td>\n",
       "      <td>8</td>\n",
       "      <td>3</td>\n",
       "      <td>7</td>\n",
       "      <td>3</td>\n",
       "    </tr>\n",
       "    <tr>\n",
       "      <th>3</th>\n",
       "      <td>Изменить структура категорий, что увеличит кон...</td>\n",
       "      <td>8</td>\n",
       "      <td>3</td>\n",
       "      <td>3</td>\n",
       "      <td>8</td>\n",
       "    </tr>\n",
       "    <tr>\n",
       "      <th>4</th>\n",
       "      <td>Изменить цвет фона главной страницы, чтобы уве...</td>\n",
       "      <td>3</td>\n",
       "      <td>1</td>\n",
       "      <td>1</td>\n",
       "      <td>1</td>\n",
       "    </tr>\n",
       "    <tr>\n",
       "      <th>5</th>\n",
       "      <td>Добавить страницу отзывов клиентов о магазине,...</td>\n",
       "      <td>3</td>\n",
       "      <td>2</td>\n",
       "      <td>2</td>\n",
       "      <td>3</td>\n",
       "    </tr>\n",
       "    <tr>\n",
       "      <th>6</th>\n",
       "      <td>Показать на главной странице баннеры с актуаль...</td>\n",
       "      <td>5</td>\n",
       "      <td>3</td>\n",
       "      <td>8</td>\n",
       "      <td>3</td>\n",
       "    </tr>\n",
       "    <tr>\n",
       "      <th>7</th>\n",
       "      <td>Добавить форму подписки на все основные страни...</td>\n",
       "      <td>10</td>\n",
       "      <td>7</td>\n",
       "      <td>8</td>\n",
       "      <td>5</td>\n",
       "    </tr>\n",
       "    <tr>\n",
       "      <th>8</th>\n",
       "      <td>Запустить акцию, дающую скидку на товар в день...</td>\n",
       "      <td>1</td>\n",
       "      <td>9</td>\n",
       "      <td>9</td>\n",
       "      <td>5</td>\n",
       "    </tr>\n",
       "  </tbody>\n",
       "</table>\n",
       "</div>"
      ],
      "text/plain": [
       "                                          Hypothesis  Reach  Impact  \\\n",
       "0  Добавить два новых канала привлечения трафика,...      3      10   \n",
       "1  Запустить собственную службу доставки, что сок...      2       5   \n",
       "2  Добавить блоки рекомендаций товаров на сайт ин...      8       3   \n",
       "3  Изменить структура категорий, что увеличит кон...      8       3   \n",
       "4  Изменить цвет фона главной страницы, чтобы уве...      3       1   \n",
       "5  Добавить страницу отзывов клиентов о магазине,...      3       2   \n",
       "6  Показать на главной странице баннеры с актуаль...      5       3   \n",
       "7  Добавить форму подписки на все основные страни...     10       7   \n",
       "8  Запустить акцию, дающую скидку на товар в день...      1       9   \n",
       "\n",
       "   Confidence  Efforts  \n",
       "0           8        6  \n",
       "1           4       10  \n",
       "2           7        3  \n",
       "3           3        8  \n",
       "4           1        1  \n",
       "5           2        3  \n",
       "6           8        3  \n",
       "7           8        5  \n",
       "8           9        5  "
      ]
     },
     "metadata": {},
     "output_type": "display_data"
    }
   ],
   "source": [
    "hypothesis = pd.read_csv('/datasets/hypothesis.csv')\n",
    "display(hypothesis)"
   ]
  },
  {
   "cell_type": "code",
   "execution_count": 3,
   "metadata": {},
   "outputs": [
    {
     "name": "stdout",
     "output_type": "stream",
     "text": [
      "<class 'pandas.core.frame.DataFrame'>\n",
      "RangeIndex: 9 entries, 0 to 8\n",
      "Data columns (total 5 columns):\n",
      " #   Column      Non-Null Count  Dtype \n",
      "---  ------      --------------  ----- \n",
      " 0   Hypothesis  9 non-null      object\n",
      " 1   Reach       9 non-null      int64 \n",
      " 2   Impact      9 non-null      int64 \n",
      " 3   Confidence  9 non-null      int64 \n",
      " 4   Efforts     9 non-null      int64 \n",
      "dtypes: int64(4), object(1)\n",
      "memory usage: 488.0+ bytes\n"
     ]
    }
   ],
   "source": [
    "hypothesis.info()"
   ]
  },
  {
   "cell_type": "code",
   "execution_count": 4,
   "metadata": {},
   "outputs": [
    {
     "data": {
      "text/plain": [
       "0"
      ]
     },
     "execution_count": 4,
     "metadata": {},
     "output_type": "execute_result"
    }
   ],
   "source": [
    "hypothesis.duplicated().sum()"
   ]
  },
  {
   "cell_type": "markdown",
   "metadata": {},
   "source": [
    "Пропусков в датафрейме нет. Данные в столбцах правильного типа, названия столбцов соответствуют змеиному регистру. Явных дубликатов нет."
   ]
  },
  {
   "cell_type": "markdown",
   "metadata": {},
   "source": [
    "### Приоритизация гипотез"
   ]
  },
  {
   "cell_type": "markdown",
   "metadata": {},
   "source": [
    "#### Приоритизация гипотез с помощью параметров ICE"
   ]
  },
  {
   "cell_type": "code",
   "execution_count": 5,
   "metadata": {},
   "outputs": [],
   "source": [
    "pd.options.display.max_colwidth = 400"
   ]
  },
  {
   "cell_type": "code",
   "execution_count": 6,
   "metadata": {},
   "outputs": [
    {
     "data": {
      "text/html": [
       "<div>\n",
       "<style scoped>\n",
       "    .dataframe tbody tr th:only-of-type {\n",
       "        vertical-align: middle;\n",
       "    }\n",
       "\n",
       "    .dataframe tbody tr th {\n",
       "        vertical-align: top;\n",
       "    }\n",
       "\n",
       "    .dataframe thead th {\n",
       "        text-align: right;\n",
       "    }\n",
       "</style>\n",
       "<table border=\"1\" class=\"dataframe\">\n",
       "  <thead>\n",
       "    <tr style=\"text-align: right;\">\n",
       "      <th></th>\n",
       "      <th>Hypothesis</th>\n",
       "      <th>Reach</th>\n",
       "      <th>Impact</th>\n",
       "      <th>Confidence</th>\n",
       "      <th>Efforts</th>\n",
       "      <th>ICE</th>\n",
       "    </tr>\n",
       "  </thead>\n",
       "  <tbody>\n",
       "    <tr>\n",
       "      <th>8</th>\n",
       "      <td>Запустить акцию, дающую скидку на товар в день рождения</td>\n",
       "      <td>1</td>\n",
       "      <td>9</td>\n",
       "      <td>9</td>\n",
       "      <td>5</td>\n",
       "      <td>16.200000</td>\n",
       "    </tr>\n",
       "    <tr>\n",
       "      <th>0</th>\n",
       "      <td>Добавить два новых канала привлечения трафика, что позволит привлекать на 30% больше пользователей</td>\n",
       "      <td>3</td>\n",
       "      <td>10</td>\n",
       "      <td>8</td>\n",
       "      <td>6</td>\n",
       "      <td>13.333333</td>\n",
       "    </tr>\n",
       "    <tr>\n",
       "      <th>7</th>\n",
       "      <td>Добавить форму подписки на все основные страницы, чтобы собрать базу клиентов для email-рассылок</td>\n",
       "      <td>10</td>\n",
       "      <td>7</td>\n",
       "      <td>8</td>\n",
       "      <td>5</td>\n",
       "      <td>11.200000</td>\n",
       "    </tr>\n",
       "    <tr>\n",
       "      <th>6</th>\n",
       "      <td>Показать на главной странице баннеры с актуальными акциями и распродажами, чтобы увеличить конверсию</td>\n",
       "      <td>5</td>\n",
       "      <td>3</td>\n",
       "      <td>8</td>\n",
       "      <td>3</td>\n",
       "      <td>8.000000</td>\n",
       "    </tr>\n",
       "    <tr>\n",
       "      <th>2</th>\n",
       "      <td>Добавить блоки рекомендаций товаров на сайт интернет магазина, чтобы повысить конверсию и средний чек заказа</td>\n",
       "      <td>8</td>\n",
       "      <td>3</td>\n",
       "      <td>7</td>\n",
       "      <td>3</td>\n",
       "      <td>7.000000</td>\n",
       "    </tr>\n",
       "    <tr>\n",
       "      <th>1</th>\n",
       "      <td>Запустить собственную службу доставки, что сократит срок доставки заказов</td>\n",
       "      <td>2</td>\n",
       "      <td>5</td>\n",
       "      <td>4</td>\n",
       "      <td>10</td>\n",
       "      <td>2.000000</td>\n",
       "    </tr>\n",
       "    <tr>\n",
       "      <th>5</th>\n",
       "      <td>Добавить страницу отзывов клиентов о магазине, что позволит увеличить количество заказов</td>\n",
       "      <td>3</td>\n",
       "      <td>2</td>\n",
       "      <td>2</td>\n",
       "      <td>3</td>\n",
       "      <td>1.333333</td>\n",
       "    </tr>\n",
       "    <tr>\n",
       "      <th>3</th>\n",
       "      <td>Изменить структура категорий, что увеличит конверсию, т.к. пользователи быстрее найдут нужный товар</td>\n",
       "      <td>8</td>\n",
       "      <td>3</td>\n",
       "      <td>3</td>\n",
       "      <td>8</td>\n",
       "      <td>1.125000</td>\n",
       "    </tr>\n",
       "    <tr>\n",
       "      <th>4</th>\n",
       "      <td>Изменить цвет фона главной страницы, чтобы увеличить вовлеченность пользователей</td>\n",
       "      <td>3</td>\n",
       "      <td>1</td>\n",
       "      <td>1</td>\n",
       "      <td>1</td>\n",
       "      <td>1.000000</td>\n",
       "    </tr>\n",
       "  </tbody>\n",
       "</table>\n",
       "</div>"
      ],
      "text/plain": [
       "                                                                                                     Hypothesis  \\\n",
       "8                                                       Запустить акцию, дающую скидку на товар в день рождения   \n",
       "0            Добавить два новых канала привлечения трафика, что позволит привлекать на 30% больше пользователей   \n",
       "7              Добавить форму подписки на все основные страницы, чтобы собрать базу клиентов для email-рассылок   \n",
       "6          Показать на главной странице баннеры с актуальными акциями и распродажами, чтобы увеличить конверсию   \n",
       "2  Добавить блоки рекомендаций товаров на сайт интернет магазина, чтобы повысить конверсию и средний чек заказа   \n",
       "1                                     Запустить собственную службу доставки, что сократит срок доставки заказов   \n",
       "5                      Добавить страницу отзывов клиентов о магазине, что позволит увеличить количество заказов   \n",
       "3           Изменить структура категорий, что увеличит конверсию, т.к. пользователи быстрее найдут нужный товар   \n",
       "4                              Изменить цвет фона главной страницы, чтобы увеличить вовлеченность пользователей   \n",
       "\n",
       "   Reach  Impact  Confidence  Efforts        ICE  \n",
       "8      1       9           9        5  16.200000  \n",
       "0      3      10           8        6  13.333333  \n",
       "7     10       7           8        5  11.200000  \n",
       "6      5       3           8        3   8.000000  \n",
       "2      8       3           7        3   7.000000  \n",
       "1      2       5           4       10   2.000000  \n",
       "5      3       2           2        3   1.333333  \n",
       "3      8       3           3        8   1.125000  \n",
       "4      3       1           1        1   1.000000  "
      ]
     },
     "metadata": {},
     "output_type": "display_data"
    }
   ],
   "source": [
    "hypothesis['ICE'] = hypothesis['Impact'] * hypothesis['Confidence'] / hypothesis['Efforts']\n",
    "display(hypothesis.sort_values(by='ICE', ascending = False))"
   ]
  },
  {
   "cell_type": "markdown",
   "metadata": {},
   "source": [
    "#### Приоритизация гипотез с помощью параметров RICE"
   ]
  },
  {
   "cell_type": "code",
   "execution_count": 7,
   "metadata": {},
   "outputs": [
    {
     "data": {
      "text/html": [
       "<div>\n",
       "<style scoped>\n",
       "    .dataframe tbody tr th:only-of-type {\n",
       "        vertical-align: middle;\n",
       "    }\n",
       "\n",
       "    .dataframe tbody tr th {\n",
       "        vertical-align: top;\n",
       "    }\n",
       "\n",
       "    .dataframe thead th {\n",
       "        text-align: right;\n",
       "    }\n",
       "</style>\n",
       "<table border=\"1\" class=\"dataframe\">\n",
       "  <thead>\n",
       "    <tr style=\"text-align: right;\">\n",
       "      <th></th>\n",
       "      <th>Hypothesis</th>\n",
       "      <th>Reach</th>\n",
       "      <th>Impact</th>\n",
       "      <th>Confidence</th>\n",
       "      <th>Efforts</th>\n",
       "      <th>ICE</th>\n",
       "      <th>RICE</th>\n",
       "    </tr>\n",
       "  </thead>\n",
       "  <tbody>\n",
       "    <tr>\n",
       "      <th>7</th>\n",
       "      <td>Добавить форму подписки на все основные страницы, чтобы собрать базу клиентов для email-рассылок</td>\n",
       "      <td>10</td>\n",
       "      <td>7</td>\n",
       "      <td>8</td>\n",
       "      <td>5</td>\n",
       "      <td>11.200000</td>\n",
       "      <td>112.0</td>\n",
       "    </tr>\n",
       "    <tr>\n",
       "      <th>2</th>\n",
       "      <td>Добавить блоки рекомендаций товаров на сайт интернет магазина, чтобы повысить конверсию и средний чек заказа</td>\n",
       "      <td>8</td>\n",
       "      <td>3</td>\n",
       "      <td>7</td>\n",
       "      <td>3</td>\n",
       "      <td>7.000000</td>\n",
       "      <td>56.0</td>\n",
       "    </tr>\n",
       "    <tr>\n",
       "      <th>0</th>\n",
       "      <td>Добавить два новых канала привлечения трафика, что позволит привлекать на 30% больше пользователей</td>\n",
       "      <td>3</td>\n",
       "      <td>10</td>\n",
       "      <td>8</td>\n",
       "      <td>6</td>\n",
       "      <td>13.333333</td>\n",
       "      <td>40.0</td>\n",
       "    </tr>\n",
       "    <tr>\n",
       "      <th>6</th>\n",
       "      <td>Показать на главной странице баннеры с актуальными акциями и распродажами, чтобы увеличить конверсию</td>\n",
       "      <td>5</td>\n",
       "      <td>3</td>\n",
       "      <td>8</td>\n",
       "      <td>3</td>\n",
       "      <td>8.000000</td>\n",
       "      <td>40.0</td>\n",
       "    </tr>\n",
       "    <tr>\n",
       "      <th>8</th>\n",
       "      <td>Запустить акцию, дающую скидку на товар в день рождения</td>\n",
       "      <td>1</td>\n",
       "      <td>9</td>\n",
       "      <td>9</td>\n",
       "      <td>5</td>\n",
       "      <td>16.200000</td>\n",
       "      <td>16.2</td>\n",
       "    </tr>\n",
       "    <tr>\n",
       "      <th>3</th>\n",
       "      <td>Изменить структура категорий, что увеличит конверсию, т.к. пользователи быстрее найдут нужный товар</td>\n",
       "      <td>8</td>\n",
       "      <td>3</td>\n",
       "      <td>3</td>\n",
       "      <td>8</td>\n",
       "      <td>1.125000</td>\n",
       "      <td>9.0</td>\n",
       "    </tr>\n",
       "    <tr>\n",
       "      <th>1</th>\n",
       "      <td>Запустить собственную службу доставки, что сократит срок доставки заказов</td>\n",
       "      <td>2</td>\n",
       "      <td>5</td>\n",
       "      <td>4</td>\n",
       "      <td>10</td>\n",
       "      <td>2.000000</td>\n",
       "      <td>4.0</td>\n",
       "    </tr>\n",
       "    <tr>\n",
       "      <th>5</th>\n",
       "      <td>Добавить страницу отзывов клиентов о магазине, что позволит увеличить количество заказов</td>\n",
       "      <td>3</td>\n",
       "      <td>2</td>\n",
       "      <td>2</td>\n",
       "      <td>3</td>\n",
       "      <td>1.333333</td>\n",
       "      <td>4.0</td>\n",
       "    </tr>\n",
       "    <tr>\n",
       "      <th>4</th>\n",
       "      <td>Изменить цвет фона главной страницы, чтобы увеличить вовлеченность пользователей</td>\n",
       "      <td>3</td>\n",
       "      <td>1</td>\n",
       "      <td>1</td>\n",
       "      <td>1</td>\n",
       "      <td>1.000000</td>\n",
       "      <td>3.0</td>\n",
       "    </tr>\n",
       "  </tbody>\n",
       "</table>\n",
       "</div>"
      ],
      "text/plain": [
       "                                                                                                     Hypothesis  \\\n",
       "7              Добавить форму подписки на все основные страницы, чтобы собрать базу клиентов для email-рассылок   \n",
       "2  Добавить блоки рекомендаций товаров на сайт интернет магазина, чтобы повысить конверсию и средний чек заказа   \n",
       "0            Добавить два новых канала привлечения трафика, что позволит привлекать на 30% больше пользователей   \n",
       "6          Показать на главной странице баннеры с актуальными акциями и распродажами, чтобы увеличить конверсию   \n",
       "8                                                       Запустить акцию, дающую скидку на товар в день рождения   \n",
       "3           Изменить структура категорий, что увеличит конверсию, т.к. пользователи быстрее найдут нужный товар   \n",
       "1                                     Запустить собственную службу доставки, что сократит срок доставки заказов   \n",
       "5                      Добавить страницу отзывов клиентов о магазине, что позволит увеличить количество заказов   \n",
       "4                              Изменить цвет фона главной страницы, чтобы увеличить вовлеченность пользователей   \n",
       "\n",
       "   Reach  Impact  Confidence  Efforts        ICE   RICE  \n",
       "7     10       7           8        5  11.200000  112.0  \n",
       "2      8       3           7        3   7.000000   56.0  \n",
       "0      3      10           8        6  13.333333   40.0  \n",
       "6      5       3           8        3   8.000000   40.0  \n",
       "8      1       9           9        5  16.200000   16.2  \n",
       "3      8       3           3        8   1.125000    9.0  \n",
       "1      2       5           4       10   2.000000    4.0  \n",
       "5      3       2           2        3   1.333333    4.0  \n",
       "4      3       1           1        1   1.000000    3.0  "
      ]
     },
     "metadata": {},
     "output_type": "display_data"
    }
   ],
   "source": [
    "hypothesis['RICE'] = hypothesis['Reach'] * hypothesis['Impact'] *hypothesis['Confidence'] / hypothesis['Efforts']\n",
    "display(hypothesis.sort_values(by='RICE', ascending=False))"
   ]
  },
  {
   "cell_type": "markdown",
   "metadata": {},
   "source": [
    "Практически все гипотезы поменялись местами, и только 4 гипотеза при использовании обоих методов осталась на последнем месте. Изменения произошли из-за добавления дополнительного параметра Reach. Гипотезы с большим охватом подгимаются выше в списке, так как их реализация может принести более существенные изменения. При использовании метода RICE на первом месте оказалась гипотеза под номером 7 - у неё параметр Reach равен 10, и это самое большое значение из представленных.\n",
    "\n",
    "Параметр Reach важен при приоритизации гипотез, так как важно понимать, какое количество пользователей затронут изменения. Поэтому оценку лучше проводить именно методом RICE."
   ]
  },
  {
   "cell_type": "markdown",
   "metadata": {},
   "source": [
    "# ***Вывод:***"
   ]
  },
  {
   "cell_type": "markdown",
   "metadata": {},
   "source": [
    "Так как параметр Reach важен при приоритизации гипотез, оценку лучше проводить именно методом RICE. Исходя из этого, можно сказать, что самрй приоритетной будет гипотеза номер 7. Далее следуют гипотезы номер 2 и 0. А менее всего приоритетна гипотеза под номером 4 (это результат был получен при исследовании гипотез двумя методами)."
   ]
  },
  {
   "cell_type": "markdown",
   "metadata": {},
   "source": [
    "# Часть 2 Анализ А/В - теста"
   ]
  },
  {
   "cell_type": "markdown",
   "metadata": {},
   "source": [
    "### Загрузка данных для теста и подготовка их к анализу"
   ]
  },
  {
   "cell_type": "markdown",
   "metadata": {},
   "source": [
    "#### Загрузка данных датафрейма orders"
   ]
  },
  {
   "cell_type": "code",
   "execution_count": 8,
   "metadata": {},
   "outputs": [
    {
     "data": {
      "text/html": [
       "<div>\n",
       "<style scoped>\n",
       "    .dataframe tbody tr th:only-of-type {\n",
       "        vertical-align: middle;\n",
       "    }\n",
       "\n",
       "    .dataframe tbody tr th {\n",
       "        vertical-align: top;\n",
       "    }\n",
       "\n",
       "    .dataframe thead th {\n",
       "        text-align: right;\n",
       "    }\n",
       "</style>\n",
       "<table border=\"1\" class=\"dataframe\">\n",
       "  <thead>\n",
       "    <tr style=\"text-align: right;\">\n",
       "      <th></th>\n",
       "      <th>transactionId</th>\n",
       "      <th>visitorId</th>\n",
       "      <th>date</th>\n",
       "      <th>revenue</th>\n",
       "      <th>group</th>\n",
       "    </tr>\n",
       "  </thead>\n",
       "  <tbody>\n",
       "    <tr>\n",
       "      <th>0</th>\n",
       "      <td>3667963787</td>\n",
       "      <td>3312258926</td>\n",
       "      <td>2019-08-15</td>\n",
       "      <td>1650</td>\n",
       "      <td>B</td>\n",
       "    </tr>\n",
       "    <tr>\n",
       "      <th>1</th>\n",
       "      <td>2804400009</td>\n",
       "      <td>3642806036</td>\n",
       "      <td>2019-08-15</td>\n",
       "      <td>730</td>\n",
       "      <td>B</td>\n",
       "    </tr>\n",
       "    <tr>\n",
       "      <th>2</th>\n",
       "      <td>2961555356</td>\n",
       "      <td>4069496402</td>\n",
       "      <td>2019-08-15</td>\n",
       "      <td>400</td>\n",
       "      <td>A</td>\n",
       "    </tr>\n",
       "    <tr>\n",
       "      <th>3</th>\n",
       "      <td>3797467345</td>\n",
       "      <td>1196621759</td>\n",
       "      <td>2019-08-15</td>\n",
       "      <td>9759</td>\n",
       "      <td>B</td>\n",
       "    </tr>\n",
       "    <tr>\n",
       "      <th>4</th>\n",
       "      <td>2282983706</td>\n",
       "      <td>2322279887</td>\n",
       "      <td>2019-08-15</td>\n",
       "      <td>2308</td>\n",
       "      <td>B</td>\n",
       "    </tr>\n",
       "  </tbody>\n",
       "</table>\n",
       "</div>"
      ],
      "text/plain": [
       "   transactionId   visitorId        date  revenue group\n",
       "0     3667963787  3312258926  2019-08-15     1650     B\n",
       "1     2804400009  3642806036  2019-08-15      730     B\n",
       "2     2961555356  4069496402  2019-08-15      400     A\n",
       "3     3797467345  1196621759  2019-08-15     9759     B\n",
       "4     2282983706  2322279887  2019-08-15     2308     B"
      ]
     },
     "metadata": {},
     "output_type": "display_data"
    }
   ],
   "source": [
    "orders = pd.read_csv('/datasets/orders.csv')\n",
    "display(orders.head())"
   ]
  },
  {
   "cell_type": "code",
   "execution_count": 9,
   "metadata": {},
   "outputs": [
    {
     "name": "stdout",
     "output_type": "stream",
     "text": [
      "<class 'pandas.core.frame.DataFrame'>\n",
      "RangeIndex: 1197 entries, 0 to 1196\n",
      "Data columns (total 5 columns):\n",
      " #   Column         Non-Null Count  Dtype \n",
      "---  ------         --------------  ----- \n",
      " 0   transactionId  1197 non-null   int64 \n",
      " 1   visitorId      1197 non-null   int64 \n",
      " 2   date           1197 non-null   object\n",
      " 3   revenue        1197 non-null   int64 \n",
      " 4   group          1197 non-null   object\n",
      "dtypes: int64(3), object(2)\n",
      "memory usage: 46.9+ KB\n"
     ]
    }
   ],
   "source": [
    "orders.info()"
   ]
  },
  {
   "cell_type": "markdown",
   "metadata": {},
   "source": [
    "Пропусков в датафрейме нет, но столбец 'date' с неправильным типом данных."
   ]
  },
  {
   "cell_type": "code",
   "execution_count": 10,
   "metadata": {},
   "outputs": [],
   "source": [
    "orders['date'] = orders['date'].map(lambda x: dt.datetime.strptime(x, '%Y-%m-%d'))"
   ]
  },
  {
   "cell_type": "code",
   "execution_count": 11,
   "metadata": {},
   "outputs": [
    {
     "name": "stdout",
     "output_type": "stream",
     "text": [
      "<class 'pandas.core.frame.DataFrame'>\n",
      "RangeIndex: 1197 entries, 0 to 1196\n",
      "Data columns (total 5 columns):\n",
      " #   Column         Non-Null Count  Dtype         \n",
      "---  ------         --------------  -----         \n",
      " 0   transactionId  1197 non-null   int64         \n",
      " 1   visitorId      1197 non-null   int64         \n",
      " 2   date           1197 non-null   datetime64[ns]\n",
      " 3   revenue        1197 non-null   int64         \n",
      " 4   group          1197 non-null   object        \n",
      "dtypes: datetime64[ns](1), int64(3), object(1)\n",
      "memory usage: 46.9+ KB\n"
     ]
    }
   ],
   "source": [
    "orders.info()"
   ]
  },
  {
   "cell_type": "code",
   "execution_count": 12,
   "metadata": {},
   "outputs": [
    {
     "data": {
      "text/plain": [
       "0"
      ]
     },
     "execution_count": 12,
     "metadata": {},
     "output_type": "execute_result"
    }
   ],
   "source": [
    "orders.duplicated().sum()"
   ]
  },
  {
   "cell_type": "code",
   "execution_count": 13,
   "metadata": {},
   "outputs": [
    {
     "name": "stdout",
     "output_type": "stream",
     "text": [
      "Диапазон дат с 2019-08-01 00:00:00 по 2019-08-31 00:00:00\n"
     ]
    }
   ],
   "source": [
    "min_date = orders['date'].min()\n",
    "max_date = orders['date'].max()\n",
    "print('Диапазон дат с {} по {}'.format(min_date, max_date))"
   ]
  },
  {
   "cell_type": "markdown",
   "metadata": {},
   "source": [
    "Пропусков в датафрейме нет. Данные в столбцах приведены к правильному типу, названия столбцов соответствуют змеиному регистру. Явных дубликатов нет. Данные представлены с 1 августа 2019 года по 31 августа 2019 года."
   ]
  },
  {
   "cell_type": "markdown",
   "metadata": {},
   "source": [
    "#### Загрузка данных датафрейма visitors"
   ]
  },
  {
   "cell_type": "code",
   "execution_count": 14,
   "metadata": {},
   "outputs": [
    {
     "data": {
      "text/html": [
       "<div>\n",
       "<style scoped>\n",
       "    .dataframe tbody tr th:only-of-type {\n",
       "        vertical-align: middle;\n",
       "    }\n",
       "\n",
       "    .dataframe tbody tr th {\n",
       "        vertical-align: top;\n",
       "    }\n",
       "\n",
       "    .dataframe thead th {\n",
       "        text-align: right;\n",
       "    }\n",
       "</style>\n",
       "<table border=\"1\" class=\"dataframe\">\n",
       "  <thead>\n",
       "    <tr style=\"text-align: right;\">\n",
       "      <th></th>\n",
       "      <th>date</th>\n",
       "      <th>group</th>\n",
       "      <th>visitors</th>\n",
       "    </tr>\n",
       "  </thead>\n",
       "  <tbody>\n",
       "    <tr>\n",
       "      <th>0</th>\n",
       "      <td>2019-08-01</td>\n",
       "      <td>A</td>\n",
       "      <td>719</td>\n",
       "    </tr>\n",
       "    <tr>\n",
       "      <th>1</th>\n",
       "      <td>2019-08-02</td>\n",
       "      <td>A</td>\n",
       "      <td>619</td>\n",
       "    </tr>\n",
       "    <tr>\n",
       "      <th>2</th>\n",
       "      <td>2019-08-03</td>\n",
       "      <td>A</td>\n",
       "      <td>507</td>\n",
       "    </tr>\n",
       "    <tr>\n",
       "      <th>3</th>\n",
       "      <td>2019-08-04</td>\n",
       "      <td>A</td>\n",
       "      <td>717</td>\n",
       "    </tr>\n",
       "    <tr>\n",
       "      <th>4</th>\n",
       "      <td>2019-08-05</td>\n",
       "      <td>A</td>\n",
       "      <td>756</td>\n",
       "    </tr>\n",
       "  </tbody>\n",
       "</table>\n",
       "</div>"
      ],
      "text/plain": [
       "         date group  visitors\n",
       "0  2019-08-01     A       719\n",
       "1  2019-08-02     A       619\n",
       "2  2019-08-03     A       507\n",
       "3  2019-08-04     A       717\n",
       "4  2019-08-05     A       756"
      ]
     },
     "metadata": {},
     "output_type": "display_data"
    }
   ],
   "source": [
    "visitors = pd.read_csv('/datasets/visitors.csv')\n",
    "display(visitors.head())"
   ]
  },
  {
   "cell_type": "code",
   "execution_count": 15,
   "metadata": {},
   "outputs": [
    {
     "name": "stdout",
     "output_type": "stream",
     "text": [
      "<class 'pandas.core.frame.DataFrame'>\n",
      "RangeIndex: 62 entries, 0 to 61\n",
      "Data columns (total 3 columns):\n",
      " #   Column    Non-Null Count  Dtype \n",
      "---  ------    --------------  ----- \n",
      " 0   date      62 non-null     object\n",
      " 1   group     62 non-null     object\n",
      " 2   visitors  62 non-null     int64 \n",
      "dtypes: int64(1), object(2)\n",
      "memory usage: 1.6+ KB\n"
     ]
    }
   ],
   "source": [
    "visitors.info()"
   ]
  },
  {
   "cell_type": "markdown",
   "metadata": {},
   "source": [
    "Пропусков в датафрейме нет, но столбец date с неправильным типом данных."
   ]
  },
  {
   "cell_type": "code",
   "execution_count": 16,
   "metadata": {},
   "outputs": [],
   "source": [
    "visitors['date'] = visitors['date'].map(lambda x: dt.datetime.strptime(x, '%Y-%m-%d'))"
   ]
  },
  {
   "cell_type": "code",
   "execution_count": 17,
   "metadata": {},
   "outputs": [
    {
     "name": "stdout",
     "output_type": "stream",
     "text": [
      "<class 'pandas.core.frame.DataFrame'>\n",
      "RangeIndex: 62 entries, 0 to 61\n",
      "Data columns (total 3 columns):\n",
      " #   Column    Non-Null Count  Dtype         \n",
      "---  ------    --------------  -----         \n",
      " 0   date      62 non-null     datetime64[ns]\n",
      " 1   group     62 non-null     object        \n",
      " 2   visitors  62 non-null     int64         \n",
      "dtypes: datetime64[ns](1), int64(1), object(1)\n",
      "memory usage: 1.6+ KB\n"
     ]
    }
   ],
   "source": [
    "visitors.info()"
   ]
  },
  {
   "cell_type": "code",
   "execution_count": 18,
   "metadata": {},
   "outputs": [
    {
     "data": {
      "text/plain": [
       "0"
      ]
     },
     "execution_count": 18,
     "metadata": {},
     "output_type": "execute_result"
    }
   ],
   "source": [
    "visitors.duplicated().sum()"
   ]
  },
  {
   "cell_type": "code",
   "execution_count": 19,
   "metadata": {},
   "outputs": [
    {
     "name": "stdout",
     "output_type": "stream",
     "text": [
      "Диапазон дат с 2019-08-01 00:00:00 по 2019-08-31 00:00:00\n"
     ]
    }
   ],
   "source": [
    "min_date = visitors['date'].min()\n",
    "max_date = visitors['date'].max()\n",
    "print('Диапазон дат с {} по {}'.format(min_date, max_date))"
   ]
  },
  {
   "cell_type": "markdown",
   "metadata": {},
   "source": [
    "Пропусков в датафрейме нет. Данные в столбцах правильного типа, названия столбцов соответствуют змеиному регистру. Явных дубликатов нет. Данные представлены с 1 августа 2019 по 31 августа 2019 года."
   ]
  },
  {
   "cell_type": "markdown",
   "metadata": {},
   "source": [
    " #### Проверка корректности распределения посетителей на группы А и В"
   ]
  },
  {
   "cell_type": "markdown",
   "metadata": {},
   "source": [
    "Можно проверить равномерность распределения пользователей, чтобы убедиться, что группы имеют похожие размеры. "
   ]
  },
  {
   "cell_type": "code",
   "execution_count": 20,
   "metadata": {},
   "outputs": [
    {
     "data": {
      "text/plain": [
       "group\n",
       "A    18736\n",
       "B    18916\n",
       "Name: visitors, dtype: int64"
      ]
     },
     "metadata": {},
     "output_type": "display_data"
    }
   ],
   "source": [
    "# Количество посетителей в группах А и В\n",
    "visitors_per_group = visitors.groupby('group')['visitors'].sum()\n",
    "display(visitors_per_group)"
   ]
  },
  {
   "cell_type": "markdown",
   "metadata": {},
   "source": [
    "Можно видеть, что в группах А и В примерно одинаковое количество посетителей, группы распределены равномерно"
   ]
  },
  {
   "cell_type": "code",
   "execution_count": 21,
   "metadata": {},
   "outputs": [
    {
     "data": {
      "text/html": [
       "<div>\n",
       "<style scoped>\n",
       "    .dataframe tbody tr th:only-of-type {\n",
       "        vertical-align: middle;\n",
       "    }\n",
       "\n",
       "    .dataframe tbody tr th {\n",
       "        vertical-align: top;\n",
       "    }\n",
       "\n",
       "    .dataframe thead th {\n",
       "        text-align: right;\n",
       "    }\n",
       "</style>\n",
       "<table border=\"1\" class=\"dataframe\">\n",
       "  <thead>\n",
       "    <tr style=\"text-align: right;\">\n",
       "      <th></th>\n",
       "      <th>transactionId</th>\n",
       "      <th>visitorId</th>\n",
       "      <th>conversion</th>\n",
       "    </tr>\n",
       "    <tr>\n",
       "      <th>group</th>\n",
       "      <th></th>\n",
       "      <th></th>\n",
       "      <th></th>\n",
       "    </tr>\n",
       "  </thead>\n",
       "  <tbody>\n",
       "    <tr>\n",
       "      <th>A</th>\n",
       "      <td>557</td>\n",
       "      <td>503</td>\n",
       "      <td>1.107356</td>\n",
       "    </tr>\n",
       "    <tr>\n",
       "      <th>B</th>\n",
       "      <td>640</td>\n",
       "      <td>586</td>\n",
       "      <td>1.092150</td>\n",
       "    </tr>\n",
       "  </tbody>\n",
       "</table>\n",
       "</div>"
      ],
      "text/plain": [
       "       transactionId  visitorId  conversion\n",
       "group                                      \n",
       "A                557        503    1.107356\n",
       "B                640        586    1.092150"
      ]
     },
     "metadata": {},
     "output_type": "display_data"
    }
   ],
   "source": [
    "#Конверсия в группах А и В. Если группы распределы равномерно, конверсии должны быть близки по значению. \n",
    "conversion = orders.groupby('group').agg({'transactionId': 'count', 'visitorId': 'nunique'})\n",
    "conversion['conversion'] = conversion['transactionId'] / conversion['visitorId']\n",
    "display(conversion)"
   ]
  },
  {
   "cell_type": "markdown",
   "metadata": {},
   "source": [
    "Конверсия для обеих групп имеет близкие по величине значения. Можно считать, что группы А и В распределены равномерно."
   ]
  },
  {
   "cell_type": "code",
   "execution_count": 22,
   "metadata": {},
   "outputs": [
    {
     "name": "stdout",
     "output_type": "stream",
     "text": [
      "p-value = 0.729\n"
     ]
    }
   ],
   "source": [
    "#Если значение p-value будет больше заданного уровня значимости (5%), можно говорить о равномерном распределении групп.\n",
    "groupA = orders[orders['group']=='A']['revenue']\n",
    "groupB = orders[orders['group'] == 'B']['revenue']\n",
    "print(\"p-value = {0:.3f}\".format(stats.mannwhitneyu(groupA, groupB)[1]))"
   ]
  },
  {
   "cell_type": "markdown",
   "metadata": {},
   "source": [
    "Зачение p-value выше уровня значимоста в 5%, что говорит об отсутствии статистически важных различий."
   ]
  },
  {
   "cell_type": "markdown",
   "metadata": {},
   "source": [
    "На основании проведенной проверки можно сказать, что выборка корректно распределена на группы А и В."
   ]
  },
  {
   "cell_type": "markdown",
   "metadata": {},
   "source": [
    "Проверим необходимый размер выборки. Для этого воспользуемся специальным калькулятором.\n",
    "Для расчёта необходимо вычислить текущую конверсию и минимальный эффект, который мы хотим обнаружить."
   ]
  },
  {
   "cell_type": "code",
   "execution_count": 23,
   "metadata": {},
   "outputs": [
    {
     "name": "stdout",
     "output_type": "stream",
     "text": [
      "0.03\n",
      "12.13%\n"
     ]
    }
   ],
   "source": [
    "conversion_1 = len(orders[orders['group']=='A'])/visitors[visitors['group']=='A']['visitors'].sum()\n",
    "print(round(conversion_1,2))\n",
    "conversion_2 = len(orders[orders['group']=='B'])/visitors[visitors['group']=='B']['visitors'].sum()\n",
    "diff = (1 - conversion_1/conversion_2)\n",
    "form_diff = f\"{round (diff*100,2)}%\"\n",
    "print(form_diff)"
   ]
  },
  {
   "cell_type": "markdown",
   "metadata": {},
   "source": [
    "Добавив эти данные в калькулятор, получаем, что оптимальный размер выборки для проведения теста должен составлять 35 588 посетителей."
   ]
  },
  {
   "cell_type": "markdown",
   "metadata": {},
   "source": [
    "Проверим, не попали ли некоторые пользователи в обе группы сразу:"
   ]
  },
  {
   "cell_type": "code",
   "execution_count": 24,
   "metadata": {
    "scrolled": true
   },
   "outputs": [
    {
     "name": "stdout",
     "output_type": "stream",
     "text": [
      "Найдено 58 пользователей, попавших в обе группы:\n",
      "{3957174400, 3984495233, 2780786433, 1294878855, 1648269707, 1614305549, 4120364173, 232979603, 199603092, 4266935830, 2712142231, 2587333274, 2716752286, 3891541246, 1668030113, 2654030115, 3234906277, 1230306981, 1404934699, 3803269165, 2949041841, 237748145, 457167155, 2927087541, 1738359350, 3062433592, 3656415546, 818047933, 393266494, 963407295, 471551937, 2579882178, 3202540741, 2686716486, 1333886533, 2044997962, 3941795274, 1801183820, 2378935119, 4256040402, 4069496402, 3766097110, 8300375, 351125977, 1602967004, 276558944, 2038680547, 3951559397, 3963646447, 4186807279, 3717692402, 1959144690, 2458001652, 2600415354, 2954449915, 1316129916, 477780734, 3972127743}\n"
     ]
    }
   ],
   "source": [
    "# Получим списки пользователей для каждой группы\n",
    "users_a = orders[orders['group'] == 'A']['visitorId']\n",
    "users_b = orders[orders['group'] == 'B']['visitorId']\n",
    "\n",
    "# Найдем пересечение пользователей в обеих группах\n",
    "duplicate_users = set(users_a).intersection(set(users_b))\n",
    "\n",
    "# Выведем результаты\n",
    "if len(duplicate_users) > 0:\n",
    "    print(f\"Найдено {len(duplicate_users)} пользователей, попавших в обе группы:\")\n",
    "    print(duplicate_users)\n",
    "else:\n",
    "    print(\"Пересечений пользователей между группами не найдено.\")\n"
   ]
  },
  {
   "cell_type": "markdown",
   "metadata": {},
   "source": [
    "Было обнаружено, что 58 пользователей попали в обе группы. Это нарушант условия проведения теста, поэтому необходимо пешить, что в этой ситуации делать.  \n",
    "Оптимальный размер выборки мы вычислили ранее (35 855). У нас выборка из 37 652 посетителей(18 736 в группе А и 18 916 в группе В). Значит, мы можем исключить 58 повторяющихся пользователей из выборки без вреда для качества теста."
   ]
  },
  {
   "cell_type": "code",
   "execution_count": 25,
   "metadata": {},
   "outputs": [],
   "source": [
    "# Исключаем пересекающихся пользователей из данных\n",
    "orders = orders[~orders['visitorId'].isin(duplicate_users)]"
   ]
  },
  {
   "cell_type": "markdown",
   "metadata": {},
   "source": [
    "#### График кумулятивной выручки по группам"
   ]
  },
  {
   "cell_type": "code",
   "execution_count": 26,
   "metadata": {},
   "outputs": [],
   "source": [
    "#Создаём массив уникальных пар значений дат и групп теста\n",
    "datesGroups = orders[['date', 'group']].drop_duplicates()"
   ]
  },
  {
   "cell_type": "code",
   "execution_count": 27,
   "metadata": {},
   "outputs": [],
   "source": [
    "#Соберём агрегированные кумулятивные по дням данные о заказах \n",
    "ordersAggregated = datesGroups.apply(lambda x: orders[np.logical_and(orders['date'] <= x['date'], orders['group']==x['group'])].agg({'date' :'max', 'group':'max', 'transactionId': 'nunique', 'visitorId':'nunique', 'revenue': 'sum'}), axis = 1).sort_values(by=['date', 'group']) "
   ]
  },
  {
   "cell_type": "code",
   "execution_count": 28,
   "metadata": {},
   "outputs": [],
   "source": [
    "#Получим агрегированные кумулятивные по дням данные о посетителях интернет-магазина\n",
    "visitorsAggregated = datesGroups.apply(lambda x: visitors[np.logical_and(visitors['date'] <= x['date'], visitors['group']==x['group'])].agg({'date' :'max', 'group':'max', 'visitors': 'sum'}), axis = 1).sort_values(by=['date', 'group']) "
   ]
  },
  {
   "cell_type": "code",
   "execution_count": 29,
   "metadata": {},
   "outputs": [
    {
     "data": {
      "text/html": [
       "<div>\n",
       "<style scoped>\n",
       "    .dataframe tbody tr th:only-of-type {\n",
       "        vertical-align: middle;\n",
       "    }\n",
       "\n",
       "    .dataframe tbody tr th {\n",
       "        vertical-align: top;\n",
       "    }\n",
       "\n",
       "    .dataframe thead th {\n",
       "        text-align: right;\n",
       "    }\n",
       "</style>\n",
       "<table border=\"1\" class=\"dataframe\">\n",
       "  <thead>\n",
       "    <tr style=\"text-align: right;\">\n",
       "      <th></th>\n",
       "      <th>date</th>\n",
       "      <th>group</th>\n",
       "      <th>orders</th>\n",
       "      <th>buyers</th>\n",
       "      <th>revenue</th>\n",
       "      <th>visitors</th>\n",
       "    </tr>\n",
       "  </thead>\n",
       "  <tbody>\n",
       "    <tr>\n",
       "      <th>0</th>\n",
       "      <td>2019-08-01</td>\n",
       "      <td>A</td>\n",
       "      <td>23</td>\n",
       "      <td>19</td>\n",
       "      <td>142779</td>\n",
       "      <td>719</td>\n",
       "    </tr>\n",
       "    <tr>\n",
       "      <th>1</th>\n",
       "      <td>2019-08-01</td>\n",
       "      <td>B</td>\n",
       "      <td>17</td>\n",
       "      <td>17</td>\n",
       "      <td>59758</td>\n",
       "      <td>713</td>\n",
       "    </tr>\n",
       "    <tr>\n",
       "      <th>2</th>\n",
       "      <td>2019-08-02</td>\n",
       "      <td>A</td>\n",
       "      <td>42</td>\n",
       "      <td>36</td>\n",
       "      <td>234381</td>\n",
       "      <td>1338</td>\n",
       "    </tr>\n",
       "    <tr>\n",
       "      <th>3</th>\n",
       "      <td>2019-08-02</td>\n",
       "      <td>B</td>\n",
       "      <td>40</td>\n",
       "      <td>39</td>\n",
       "      <td>221801</td>\n",
       "      <td>1294</td>\n",
       "    </tr>\n",
       "    <tr>\n",
       "      <th>4</th>\n",
       "      <td>2019-08-03</td>\n",
       "      <td>A</td>\n",
       "      <td>66</td>\n",
       "      <td>60</td>\n",
       "      <td>346854</td>\n",
       "      <td>1845</td>\n",
       "    </tr>\n",
       "  </tbody>\n",
       "</table>\n",
       "</div>"
      ],
      "text/plain": [
       "        date group  orders  buyers  revenue  visitors\n",
       "0 2019-08-01     A      23      19   142779       719\n",
       "1 2019-08-01     B      17      17    59758       713\n",
       "2 2019-08-02     A      42      36   234381      1338\n",
       "3 2019-08-02     B      40      39   221801      1294\n",
       "4 2019-08-03     A      66      60   346854      1845"
      ]
     },
     "metadata": {},
     "output_type": "display_data"
    }
   ],
   "source": [
    "#Объединяем кумулятивные данные в одной таблице и присваиваем её столбцам понятные названия\n",
    "cumulativeData = ordersAggregated.merge(visitorsAggregated, left_on=['date', 'group'], right_on=['date','group'])\n",
    "cumulativeData.columns = ['date', 'group', 'orders', 'buyers', 'revenue', 'visitors']\n",
    "display(cumulativeData.head())"
   ]
  },
  {
   "cell_type": "code",
   "execution_count": 30,
   "metadata": {},
   "outputs": [],
   "source": [
    "#Датафрейм с кумулятивным количеством заказов и кумулятивной выручкой по дням в группе А и группе В\n",
    "cumulativeRevenueA = cumulativeData[cumulativeData['group']=='A'][['date', 'revenue', 'orders']]\n",
    "cumulativeRevenueB = cumulativeData[cumulativeData['group']=='B'][['date', 'revenue', 'orders']]"
   ]
  },
  {
   "cell_type": "code",
   "execution_count": 31,
   "metadata": {},
   "outputs": [
    {
     "data": {
      "image/png": "[encoded data removed]",
      "text/plain": [
       "<Figure size 864x360 with 1 Axes>"
      ]
     },
     "metadata": {
      "needs_background": "light"
     },
     "output_type": "display_data"
    }
   ],
   "source": [
    "#Строим график кумулятивной выручки по группам\n",
    "plt.figure(figsize=(12,5))\n",
    "plt.plot(cumulativeRevenueA['date'], cumulativeRevenueA['revenue'], label='A')\n",
    "plt.plot(cumulativeRevenueB['date'], cumulativeRevenueB['revenue'], label='B')\n",
    "plt.title ('График кумулятивной выручки по группам')\n",
    "plt.xlabel('Дата')\n",
    "plt.ylabel('Кумулятивная выручка')\n",
    "plt.ticklabel_format(style='plain', axis = 'y')\n",
    "#plt.ticklabel_format(style='plain', axis='y')\n",
    "plt.grid(True)\n",
    "plt.legend();"
   ]
  },
  {
   "cell_type": "markdown",
   "metadata": {},
   "source": [
    "Выручка почти равномерно увеличивается в течение всего теста. В начале теста выручки были примерно равны. Затем, сегмент В стал превышать мегмент А, но 13 августа выручки снова примерно стравнялись. После этого группа В снова вырвалась вперёд и дальше уже лидировала на протяжении всего теста. Это может сигнализировать о всплесках числа заказов, либо о появлении очень дорогих заказов в выборке."
   ]
  },
  {
   "cell_type": "markdown",
   "metadata": {},
   "source": [
    "#### График кумулятивного среднего чека по группам"
   ]
  },
  {
   "cell_type": "code",
   "execution_count": 32,
   "metadata": {},
   "outputs": [
    {
     "data": {
      "image/png": "[encoded data removed]",
      "text/plain": [
       "<Figure size 864x360 with 1 Axes>"
      ]
     },
     "metadata": {
      "needs_background": "light"
     },
     "output_type": "display_data"
    }
   ],
   "source": [
    "#Строим график среднего чека по группам\n",
    "plt.figure(figsize=(12,5))\n",
    "plt.plot(cumulativeRevenueA['date'], cumulativeRevenueA['revenue']/cumulativeRevenueA['orders'], label='A')\n",
    "plt.plot(cumulativeRevenueB['date'], cumulativeRevenueB['revenue']/cumulativeRevenueB['orders'], label = 'B')\n",
    "plt.title('Кумулятивный средний чек по группам')\n",
    "plt.xlabel('Дата')\n",
    "plt.ylabel('Кумулятивный средний чек')\n",
    "plt.grid(True)\n",
    "plt.legend();"
   ]
  },
  {
   "cell_type": "markdown",
   "metadata": {},
   "source": [
    "Кумулятивное значение среднего чека по сегментам колеблется: в начале теста А превышает В, затем они меняюся местами. Затем в середине теста А снова превышает В, но примерно в середине теста происходит резкий скачок значений в группе В. Это признак аномалий или крупных заказов, которые могли оказать влияние на кумулятивное значение среднего чека."
   ]
  },
  {
   "cell_type": "markdown",
   "metadata": {},
   "source": [
    "#### График относительного изменения кумулятивного среднего чека группы В к группе А"
   ]
  },
  {
   "cell_type": "code",
   "execution_count": 33,
   "metadata": {},
   "outputs": [
    {
     "data": {
      "image/png": "[encoded data removed]",
      "text/plain": [
       "<Figure size 864x360 with 1 Axes>"
      ]
     },
     "metadata": {
      "needs_background": "light"
     },
     "output_type": "display_data"
    }
   ],
   "source": [
    "#Строим график относительного изменения кумулятивного среднего чека группы В к группе А \n",
    "plt.figure(figsize=(12,5))\n",
    "#Собираем данные в одном датафрейме\n",
    "mergedCumulativeRevenue= cumulativeRevenueA.merge(cumulativeRevenueB, left_on='date', right_on = 'date', how = 'left', suffixes=['A', 'B'])\n",
    "plt.plot(mergedCumulativeRevenue['date'], (mergedCumulativeRevenue['revenueB']/mergedCumulativeRevenue['ordersB'])/(mergedCumulativeRevenue['revenueA']/mergedCumulativeRevenue['ordersA'])-1)\n",
    "plt.axhline(y=0, color = 'black', linestyle = '--')\n",
    "plt.title('Относительное изменение кумулятивного среднего чека группы В к группе А')\n",
    "plt.xlabel('Дата')\n",
    "plt.ylabel('Относительное изменение')\n",
    "plt.grid(True);"
   ]
  },
  {
   "cell_type": "markdown",
   "metadata": {},
   "source": [
    "Средний чек группы В был в основнов выше, чем в группе А, но результаты сильно колебались. В нескольких точках результаты теста значительно и резко менялись. Это может казывать на то, что в эти даты были совершены аномально крупные заказы. После скачка значения стремятся к стабилизации и находятся на положительном уровне, что говорит о некотором преимущесте группы В над А."
   ]
  },
  {
   "cell_type": "markdown",
   "metadata": {},
   "source": [
    "#### График кумулятивного среднего количества заказов на посетителя по группам"
   ]
  },
  {
   "cell_type": "code",
   "execution_count": 34,
   "metadata": {},
   "outputs": [],
   "source": [
    "#Считаем среднее количество заказов на посетителя\n",
    "cumulativeData['conversion'] = cumulativeData['orders'] / cumulativeData['visitors']\n",
    "\n",
    "#Отделяем данные по группе A\n",
    "cumulativeDataA = cumulativeData[cumulativeData['group']=='A']\n",
    "\n",
    "#Отделяем данные по группе В\n",
    "cumulativeDataB = cumulativeData[cumulativeData['group']=='B']"
   ]
  },
  {
   "cell_type": "code",
   "execution_count": 35,
   "metadata": {},
   "outputs": [
    {
     "data": {
      "image/png": "[encoded data removed]",
      "text/plain": [
       "<Figure size 864x360 with 1 Axes>"
      ]
     },
     "metadata": {
      "needs_background": "light"
     },
     "output_type": "display_data"
    }
   ],
   "source": [
    "#Строим график\n",
    "plt.figure(figsize=(12,5))\n",
    "plt.plot(cumulativeDataA['date'], cumulativeDataA['conversion'], label = 'A')\n",
    "plt.plot(cumulativeDataB['date'], cumulativeDataB['conversion'], label='B')\n",
    "plt.title('Кумулятивное среднее количества заказов на посетителя по группам')\n",
    "plt.xlabel('Дата')\n",
    "plt.ylabel('Кумулятивное среднее')\n",
    "plt.grid(True)\n",
    "plt.legend();"
   ]
  },
  {
   "cell_type": "markdown",
   "metadata": {},
   "source": [
    "В начале теста были колебания по сегментам: сначала один превышал другой, затем наоборот. Но, примерно через неделю ситуация выровнялась, и сегмент В стал значительно опережать сегмент А. Группа В стабильно показывает более высокую конверсию, что может говорить о том, что изменения, предложенные для группы В, принесли положительный эффект."
   ]
  },
  {
   "cell_type": "markdown",
   "metadata": {},
   "source": [
    "#### График относительного изменения кумулятивного среднего количества заказов на посетителя группы В к группе А"
   ]
  },
  {
   "cell_type": "code",
   "execution_count": 36,
   "metadata": {},
   "outputs": [],
   "source": [
    "mergedCumulativeConversions = cumulativeDataA[['date', 'conversion']].merge(cumulativeDataB[['date','conversion']], left_on = 'date', right_on = 'date', how='left', suffixes=['A', 'B'])\n"
   ]
  },
  {
   "cell_type": "code",
   "execution_count": 37,
   "metadata": {},
   "outputs": [
    {
     "data": {
      "image/png": "[encoded data removed]",
      "text/plain": [
       "<Figure size 864x360 with 1 Axes>"
      ]
     },
     "metadata": {
      "needs_background": "light"
     },
     "output_type": "display_data"
    }
   ],
   "source": [
    "plt.figure(figsize=(12,5))\n",
    "plt.plot(mergedCumulativeConversions['date'], mergedCumulativeConversions['conversionB']/mergedCumulativeConversions['conversionA']-1)\n",
    "plt.title ('Относительный прирост кумулятивного среднего количества заказов на посетителя группы В относительно группы А')\n",
    "plt.xlabel('Дата')\n",
    "plt.grid(True)\n",
    "plt.axhline(y=0, color='black', linestyle = '--')\n",
    "plt.axhline(y= 0.1, color = 'grey', linestyle = '--');"
   ]
  },
  {
   "cell_type": "markdown",
   "metadata": {},
   "source": [
    "Примерно через неделю после начала теста группа В начинает лидировать: среднее количество заказов на посетителя группы В растёт, превышая среднее количество заказов группы А. Максимальная разница составляла 20%, затем начала постепенно снижаться до 10%, но затем снова начался рост, и сейчас разница составляет около 14%. "
   ]
  },
  {
   "cell_type": "markdown",
   "metadata": {},
   "source": [
    "#### Точечный график количества заказов по пользователям"
   ]
  },
  {
   "cell_type": "code",
   "execution_count": 38,
   "metadata": {},
   "outputs": [],
   "source": [
    "ordersByUsers = orders.groupby('visitorId')['transactionId'].nunique().reset_index()\n",
    "ordersByUsers.columns = ['visitorId', 'orders']"
   ]
  },
  {
   "cell_type": "code",
   "execution_count": 39,
   "metadata": {},
   "outputs": [
    {
     "data": {
      "image/png": "[encoded data removed]",
      "text/plain": [
       "<Figure size 864x360 with 1 Axes>"
      ]
     },
     "metadata": {
      "needs_background": "light"
     },
     "output_type": "display_data"
    }
   ],
   "source": [
    "plt.figure(figsize =(12,5))\n",
    "ordersByUsers['orders'].hist();"
   ]
  },
  {
   "cell_type": "code",
   "execution_count": 40,
   "metadata": {},
   "outputs": [
    {
     "data": {
      "image/png": "[encoded data removed]",
      "text/plain": [
       "<Figure size 864x360 with 1 Axes>"
      ]
     },
     "metadata": {
      "needs_background": "light"
     },
     "output_type": "display_data"
    }
   ],
   "source": [
    "plt.figure(figsize=(12,5))\n",
    "x_values = pd.Series(range(0,len(ordersByUsers)))\n",
    "plt.scatter(x_values, ordersByUsers['orders']);"
   ]
  },
  {
   "cell_type": "markdown",
   "metadata": {},
   "source": [
    "Большинство клиентов сделали один заказ. Тех, кто сделал 2 заказа уже значительно меньше. А тех, кто сделал больше 2 заказов - совсем мало. Для того, чтобы понять, какое количество заказов считать аномальным - нужно вычислить 95 и 99 перцентили."
   ]
  },
  {
   "cell_type": "markdown",
   "metadata": {},
   "source": [
    "#### 95 и 99 перцентили количества заказов на пользователя"
   ]
  },
  {
   "cell_type": "code",
   "execution_count": 41,
   "metadata": {},
   "outputs": [
    {
     "name": "stdout",
     "output_type": "stream",
     "text": [
      "[1. 2.]\n"
     ]
    }
   ],
   "source": [
    "print(np.percentile(ordersByUsers['orders'],[95, 99]))"
   ]
  },
  {
   "cell_type": "markdown",
   "metadata": {},
   "source": [
    "Не более 5% пользователей совершали 1 заказ, и не более 1% - 2 заказа. "
   ]
  },
  {
   "cell_type": "markdown",
   "metadata": {},
   "source": [
    "#### Точечный график стоимости заказа"
   ]
  },
  {
   "cell_type": "code",
   "execution_count": 42,
   "metadata": {},
   "outputs": [],
   "source": [
    "x_value = pd.Series(range(0, len(orders['revenue'])))"
   ]
  },
  {
   "cell_type": "code",
   "execution_count": 43,
   "metadata": {},
   "outputs": [
    {
     "data": {
      "image/png": "[encoded data removed]",
      "text/plain": [
       "<Figure size 864x360 with 1 Axes>"
      ]
     },
     "metadata": {
      "needs_background": "light"
     },
     "output_type": "display_data"
    }
   ],
   "source": [
    "plt.figure(figsize=(12,5))\n",
    "orders['revenue'].hist()\n",
    "plt.ticklabel_format(style='plain', axis='x');"
   ]
  },
  {
   "cell_type": "code",
   "execution_count": 44,
   "metadata": {},
   "outputs": [
    {
     "data": {
      "image/png": "[encoded data removed]",
      "text/plain": [
       "<Figure size 864x360 with 1 Axes>"
      ]
     },
     "metadata": {
      "needs_background": "light"
     },
     "output_type": "display_data"
    }
   ],
   "source": [
    "plt.figure(figsize=(12,5))\n",
    "plt.scatter(x_value, orders['revenue'])\n",
    "plt.title('Стоимость заказа')\n",
    "plt.ticklabel_format(style='plain', axis='y');"
   ]
  },
  {
   "cell_type": "markdown",
   "metadata": {},
   "source": [
    "Стоимость большинства заказов не превышает 100 000. Есть несколько крупных заказов - стоимостью больше 300 000 и 1 200 000."
   ]
  },
  {
   "cell_type": "code",
   "execution_count": 45,
   "metadata": {},
   "outputs": [],
   "source": [
    "filtered_orders = orders[orders['revenue']<100000]"
   ]
  },
  {
   "cell_type": "code",
   "execution_count": 46,
   "metadata": {},
   "outputs": [
    {
     "data": {
      "image/png": "[encoded data removed]",
      "text/plain": [
       "<Figure size 864x360 with 1 Axes>"
      ]
     },
     "metadata": {
      "needs_background": "light"
     },
     "output_type": "display_data"
    }
   ],
   "source": [
    "plt.figure(figsize=(12,5))\n",
    "filtered_orders['revenue'].hist()\n",
    "plt.ticklabel_format(style='plain', axis='x');"
   ]
  },
  {
   "cell_type": "code",
   "execution_count": 47,
   "metadata": {},
   "outputs": [
    {
     "data": {
      "image/png": "[encoded data removed]",
      "text/plain": [
       "<Figure size 864x360 with 1 Axes>"
      ]
     },
     "metadata": {
      "needs_background": "light"
     },
     "output_type": "display_data"
    }
   ],
   "source": [
    "plt.figure(figsize=(12,5))\n",
    "plt.scatter(range(len(filtered_orders)), filtered_orders['revenue'])\n",
    "plt.ticklabel_format(style='plain', axis='y')\n",
    "plt.title('Стоимость заказа');"
   ]
  },
  {
   "cell_type": "markdown",
   "metadata": {},
   "source": [
    "При более детальном рассмотрении видно, что основная масса заказов не дороже 20 000, но есть и более крупные заказы, дороже 40 000 и даже 80 000. "
   ]
  },
  {
   "cell_type": "markdown",
   "metadata": {},
   "source": [
    "#### 95 и 99 перцентили стоимости заказов"
   ]
  },
  {
   "cell_type": "code",
   "execution_count": 48,
   "metadata": {},
   "outputs": [
    {
     "name": "stdout",
     "output_type": "stream",
     "text": [
      "[26785. 53904.]\n"
     ]
    }
   ],
   "source": [
    "print(np.percentile(orders['revenue'], [95, 99]))"
   ]
  },
  {
   "cell_type": "markdown",
   "metadata": {},
   "source": [
    "Не более 5% заказов дороже 26 758 и не более 1% дороже 53 904. Возьмём стоимость 53 904 как границу для определения аномально дорогих заказов."
   ]
  },
  {
   "cell_type": "markdown",
   "metadata": {},
   "source": [
    "#### Статистическая значимость различий в среднем количестве заказов на посетителя между группами по сырым данным"
   ]
  },
  {
   "cell_type": "markdown",
   "metadata": {},
   "source": [
    "Для определения статистической значимости различий в среднем количестве заказов на посетителя между группами, сформулирем гипотезы.  \n",
    "\n",
    "Н0: Различий в среднем количестве заказов между группами нет;  \n",
    "Н1: Различия в среднем между группами есть.  \n",
    "\n",
    "Уровень значимости примем равным 0,05."
   ]
  },
  {
   "cell_type": "code",
   "execution_count": 49,
   "metadata": {},
   "outputs": [],
   "source": [
    "#Ежедневные значения посетителей группы А\n",
    "visitorsADaily = visitors[visitors['group']=='A'][['date', 'visitors']]\n",
    "visitorsADaily.columns = ['date', 'visitorsPerDateA']\n",
    "\n",
    "#Кумулятивные значения посещений группы А\n",
    "visitorsACummulative = visitorsADaily.apply(lambda x: visitorsADaily[visitorsADaily['date'] <= x['date']].agg({'date':'max', 'visitorsPerDateA': 'sum'}), axis = 1)\n",
    "visitorsACummulative.columns = ['date', 'visitorsCummulativeA'] "
   ]
  },
  {
   "cell_type": "code",
   "execution_count": 50,
   "metadata": {
    "scrolled": true
   },
   "outputs": [],
   "source": [
    "#Ежедневные значения посетителей группы В\n",
    "visitorsBDaily = visitors[visitors['group']=='B'][['date', 'visitors']]\n",
    "visitorsBDaily.columns = ['date', 'visitorsPerDateB']\n",
    "\n",
    "#Кумулятивные значения посещений группы В\n",
    "visitorsBCummulative = visitorsBDaily.apply(lambda x: visitorsBDaily[visitorsBDaily['date'] <= x['date']].agg({'date': 'max', 'visitorsPerDateB':'sum'}), axis=1)\n",
    "visitorsBCummulative.columns = ['date', 'visitorsCummulativeB'] "
   ]
  },
  {
   "cell_type": "code",
   "execution_count": 51,
   "metadata": {},
   "outputs": [],
   "source": [
    "#Ежедневные значения количества заказов и доходов группы А \n",
    "ordersADaily = orders[orders['group']=='A'][['date', 'transactionId', 'visitorId', 'revenue']].groupby('date', as_index=False).agg({'transactionId':pd.Series.nunique, 'revenue':'sum'})\n",
    "ordersADaily.columns =['date', 'ordersPerDateA', 'revenuePerDateA']\n",
    "\n",
    "#Кумулятивные значения количества заказов и доходов группы А\n",
    "ordersACummulative = ordersADaily.apply(lambda x: ordersADaily[ordersADaily['date'] <= x['date']].agg({'date':'max', 'ordersPerDateA':'sum', 'revenuePerDateA':'sum'}), axis=1,).sort_values(by=['date'])\n",
    "ordersACummulative.columns = ['date', 'ordersCummulativeA', 'revenueCummulativeA'] "
   ]
  },
  {
   "cell_type": "code",
   "execution_count": 52,
   "metadata": {},
   "outputs": [],
   "source": [
    "#Ежедневные значения количества заказов и доходов группы В\n",
    "ordersBDaily = orders[orders['group']=='B'][['date', 'transactionId', 'visitorId', 'revenue']].groupby('date', as_index=False).agg({'transactionId':pd.Series.nunique, 'revenue':'sum'})\n",
    "ordersBDaily.columns = ['date','ordersPerDateB', 'revenuePerDateB']\n",
    "\n",
    "#Кумулятивные значения количества заказов и доходов группы В\n",
    "ordersBCummulative = ordersBDaily.apply(lambda x: ordersBDaily[ordersBDaily['date'] <= x['date']].agg({'date':'max','ordersPerDateB':'sum', 'revenuePerDateB':'sum'}), axis=1,).sort_values(by=['date'])\n",
    "ordersBCummulative.columns = ['date', 'ordersCummulativeB', 'revenueCummulativeB'] "
   ]
  },
  {
   "cell_type": "code",
   "execution_count": 53,
   "metadata": {},
   "outputs": [],
   "source": [
    "#Объединяем данные в одну таблицу\n",
    "data = (ordersADaily.merge(ordersBDaily, left_on='date', right_on='date', how='left').merge(ordersACummulative, left_on='date', right_on='date', how='left').merge(ordersBCummulative, left_on='date', right_on='date', how='left').merge(visitorsADaily, left_on='date', right_on='date', how='left').merge(visitorsBDaily, left_on='date', right_on='date', how='left').merge(visitorsACummulative, left_on = 'date', right_on = 'date', how = 'left').merge(visitorsBCummulative, left_on='date', right_on='date', how='left'))"
   ]
  },
  {
   "cell_type": "code",
   "execution_count": 54,
   "metadata": {},
   "outputs": [],
   "source": [
    "#Количество уникальныз заказов пользователей группы А\n",
    "ordersByUsersA = (orders[orders['group']=='A'].groupby('visitorId', as_index=False).agg({'transactionId': pd.Series.nunique}))\n",
    "ordersByUsersA.columns = ['visitorId', 'orders']\n",
    "\n",
    "#Количество уникальных заказов пользователей группы В\n",
    "ordersByUsersB = (orders[orders['group']== 'B'].groupby('visitorId', as_index=False).agg({'transactionId': pd.Series.nunique}))\n",
    "ordersByUsersB.columns = ['visitorId', 'orders']"
   ]
  },
  {
   "cell_type": "code",
   "execution_count": 55,
   "metadata": {},
   "outputs": [
    {
     "name": "stdout",
     "output_type": "stream",
     "text": [
      "p-value = 0.011\n",
      "Относительное различие в среднем между группами = 0.160\n"
     ]
    }
   ],
   "source": [
    "pd.Series(0, index = np.arange(data['visitorsPerDateA'].sum() - len(ordersByUsersA['orders'])), name = 'orders')\n",
    "[ordersByUsersA['orders'], pd.Series(0, index=np.arange(data['visitorsPerDateA'].sum() - len(ordersByUsersA['orders'])), name = 'orders')]\n",
    "\n",
    "#Создадим переменные, где пользователям с заказами будет соотвествовать число заказов пользователя\n",
    "sampleA = pd.concat([ordersByUsersA['orders'], pd.Series(0, index = np.arange(data['visitorsPerDateA'].sum() - len(ordersByUsersA['orders'])), name = 'orders')], axis = 0)\n",
    "sampleB = pd.concat([ordersByUsersB['orders'], pd.Series(0, index = np.arange(data['visitorsPerDateB'].sum() - len(ordersByUsersB['orders'])), name = 'orders')], axis = 0)\n",
    "\n",
    "print(\"p-value = {0:.3f}\".format(stats.mannwhitneyu(sampleA,sampleB)[1]))\n",
    "print(\"Относительное различие в среднем между группами = {0:.3f}\".format(sampleB.mean()/sampleA.mean() - 1))"
   ]
  },
  {
   "cell_type": "markdown",
   "metadata": {},
   "source": [
    "Полученное значение p-value гораздо меньше заданного уровня статистической значимости, а значит, нулевую гипотезу можно отвергнуть и полагать, что в среднем количестве заказов мнжду группами есть статистически значимые различия.  \n",
    "\n",
    "Относительный прирост среднего в группе В к конверсии группы А равен 16%."
   ]
  },
  {
   "cell_type": "markdown",
   "metadata": {},
   "source": [
    "#### Статистическая значимость различий в среднем чеке заказа между группами  по сырым данным"
   ]
  },
  {
   "cell_type": "markdown",
   "metadata": {},
   "source": [
    "Для определения статистической значимости различий в среднем чеке заказа между группами, сформулирем гипотезы.  \n",
    "\n",
    "Н0: Различий в среднем чеке заказа между группами нет;  \n",
    "Н1: Различия в среднем чеке заказа между группами есть.  \n",
    "\n",
    "Уровень значимости примем равным 0,05."
   ]
  },
  {
   "cell_type": "code",
   "execution_count": 56,
   "metadata": {},
   "outputs": [
    {
     "name": "stdout",
     "output_type": "stream",
     "text": [
      "p-value = 0.829\n",
      "Относительное различие среднего чека между группамми = 0.287\n"
     ]
    }
   ],
   "source": [
    "print(\"p-value = {0:.3f}\".format(stats.mannwhitneyu(orders[orders['group']=='A']['revenue'], orders[orders['group']=='B']['revenue'])[1]))\n",
    "print(\"Относительное различие среднего чека между группамми = {0:.3f}\".format(orders[orders['group']=='B']['revenue'].mean()/orders[orders['group']=='A']['revenue'].mean() - 1))"
   ]
  },
  {
   "cell_type": "markdown",
   "metadata": {},
   "source": [
    "Полученное значение больше заданного уровня значимости, а значит, нулевую гипотезу мы отвергнуть не можем, и будем считать, что статистически значимых различий в среднем чеке между группами нет.   \n",
    "\n",
    "При этом наблюдаемое относительное различие среднего чека между группами составляет почти 29%. Однако, это значение статистически значимым, что может быть обусловлено высокой вариативностью данных."
   ]
  },
  {
   "cell_type": "markdown",
   "metadata": {},
   "source": [
    "#### Статистическая значимость различий в среднем количестве заказов на посетителя между группами по очищенным данным"
   ]
  },
  {
   "cell_type": "code",
   "execution_count": 57,
   "metadata": {},
   "outputs": [],
   "source": [
    "#Пользователи с числом заказов больше 2\n",
    "usersWithManyOrders = pd.concat([ordersByUsersA[ordersByUsersA['orders'] >2]['visitorId'], ordersByUsersB[ordersByUsersB['orders'] > 2]['visitorId'],], axis=0)"
   ]
  },
  {
   "cell_type": "code",
   "execution_count": 58,
   "metadata": {},
   "outputs": [],
   "source": [
    "#Пользователи, совершившие заказы дороже 53 904\n",
    "usersWithExpensiveOrders = orders[orders['revenue']> 53904]['visitorId']\n",
    "\n",
    "#Объединим данные в общей таблице\n",
    "abnormalUsers = (pd.concat([usersWithManyOrders, usersWithExpensiveOrders], axis=0).drop_duplicates().sort_values())"
   ]
  },
  {
   "cell_type": "code",
   "execution_count": 59,
   "metadata": {},
   "outputs": [],
   "source": [
    "#Очищенные данные о заказах группы А\n",
    "sampleAFiltered = pd.concat([ordersByUsersA[np.logical_not(ordersByUsersA['visitorId'].isin(abnormalUsers))]['orders'], pd.Series(0, index=np.arange(data['visitorsPerDateA'].sum() - len(ordersByUsersA['orders'])), name = 'orders',),], axis=0,)\n",
    "\n",
    "#Очищеннве данные о заказах группы В\n",
    "sampleBFiltered = pd.concat([ordersByUsersB[np.logical_not(ordersByUsersB['visitorId'].isin(abnormalUsers))]['orders'], pd.Series(0, index=np.arange(data['visitorsPerDateB'].sum() - len(ordersByUsersB['orders'])), name = 'orders',),], axis=0,)"
   ]
  },
  {
   "cell_type": "markdown",
   "metadata": {},
   "source": [
    "Для определения статистической значимости различий в среднем количестве заказов на посетителя между группами, сформулирем гипотезы.  \n",
    "\n",
    "Н0: Различий в среднем количестве заказов между группами нет;  \n",
    "Н1: Различия в среднем между группами есть.  \n",
    "\n",
    "Уровень значимости примем равным 0,05."
   ]
  },
  {
   "cell_type": "code",
   "execution_count": 60,
   "metadata": {},
   "outputs": [
    {
     "name": "stdout",
     "output_type": "stream",
     "text": [
      "p-value = 0.007\n",
      "Относительное различие в среднем между группами = 0.189\n"
     ]
    }
   ],
   "source": [
    "print(\"p-value = {0:.3f}\".format(stats.mannwhitneyu(sampleAFiltered, sampleBFiltered)[1]))\n",
    "print(\"Относительное различие в среднем между группами = {0:.3f}\".format(sampleBFiltered.mean()/sampleAFiltered.mean() - 1))"
   ]
  },
  {
   "cell_type": "markdown",
   "metadata": {},
   "source": [
    "Полученное значение p-value меньше заданного уровня значимости, а значит, мы можем отвергнуть нулевую гипотезу об отсутствии статистически значимых различий в среднем количестве заказов между группами. В данном случае есть основания считать, что статистически значимые различия между группами А и В существуют.  \n",
    "\n",
    "Относительный прирост среднего в группе В к конверсии группы А равен 18,9%"
   ]
  },
  {
   "cell_type": "markdown",
   "metadata": {},
   "source": [
    "#### Статистическая значимость различий в среднем чеке заказа между группами по очищенным данным"
   ]
  },
  {
   "cell_type": "markdown",
   "metadata": {},
   "source": [
    "Для определения статистической значимости различий в среднем чеке заказа между группами, сформулирем гипотезы.\n",
    "\n",
    "Н0: Различий в среднем чеке заказа между группами нет;  \n",
    "Н1: Различия в среднем чеке заказа между группами есть.\n",
    "\n",
    "Уровень значимости примем равным 0,05."
   ]
  },
  {
   "cell_type": "code",
   "execution_count": 61,
   "metadata": {},
   "outputs": [
    {
     "name": "stdout",
     "output_type": "stream",
     "text": [
      "p-value = 0.788\n",
      "Относительное различие в среденем чеке = -0.032\n"
     ]
    }
   ],
   "source": [
    "print('p-value = {0:.3f}'.format(stats.mannwhitneyu(orders[np.logical_and(orders['group']=='A', np.logical_not(orders['visitorId'].isin(abnormalUsers)),)]['revenue'],orders[np.logical_and(orders['group']=='B', np.logical_not(orders['visitorId'].isin(abnormalUsers)),)]['revenue'],)[1]))\n",
    "print('Относительное различие в среденем чеке = {0:.3f}'.format(orders[np.logical_and(orders['group']=='B', np.logical_not(orders['visitorId'].isin(abnormalUsers)),)]['revenue'].mean()/orders[np.logical_and(orders['group']=='A', np.logical_not(orders['visitorId'].isin(abnormalUsers)),)]['revenue'].mean() - 1))"
   ]
  },
  {
   "cell_type": "markdown",
   "metadata": {},
   "source": [
    "Наблюдаемое относительное различие среднего чека между группами составляет -3,2%.\n",
    "Однако, полученное значение p-value гораздо больше заданного уровня значимости, и значит мы не можем отвергнуть нулевую гипотезу об отсутствии различий между группами. Таким образом мы имеем основания считать, что различие не является статистически \n",
    "значимым, и что различий в среднем чеке заказа между группами не существует.  "
   ]
  },
  {
   "cell_type": "markdown",
   "metadata": {},
   "source": [
    "# Вывод "
   ]
  },
  {
   "cell_type": "markdown",
   "metadata": {},
   "source": [
    "На основании полученных результатов можно сделать вывод о том, что тест можно завершить. Различий в среднем чеке не выявлено, тестировать дальше не имеет смысла. Что касаемо конверсии, то по \"очищенным\" от аномальных заказов данных здесь был получен прирост в 18,9% (статистически значимые отличия). Про \"сырым\" данным отличия также являются статистически значимыми, здесь прирост составил 16%.\n",
    "\n",
    "Результаты указывают на то, что изменения в группе В имеют положительное влияние на конверсию. Прирост конверсии в 18,9% по очищенным данным - это достаточно существенное улучшение. \n",
    "\n",
    "Отсутствие значимых различий в среднем чеке указывает, что изменения в группе В не оказывают существенного влияния на сумму среднего чека. Небольшой отрицательный эффект при анализе \"очищенных\" от аномальных заказов данных (-3,2%) не является критическим, если есть улучшения по другим метрикам. Прирост в конверсии означает, что группа В приводит к большему числу заказов, что может компенсировать снижение среднего чека. При анализе \"сырых\" данных различия между средними чеками в группе составляли почти 29%, что было вызвано аномально большими заказами. \n",
    "\n",
    "По результатам можно принять решение о прекращении теста и зафиксировать победу группы В (стабильно более высокая конвенрсия по отношению к группе А, и практически равные значения среднего чека)."
   ]
  }
 ],
 "metadata": {
  "ExecuteTimeLog": [
   {
    "duration": 48,
    "start_time": "2024-12-15T01:51:10.440Z"
   },
   {
    "duration": 7,
    "start_time": "2024-12-15T01:51:29.252Z"
   },
   {
    "duration": 373,
    "start_time": "2024-12-15T01:52:07.553Z"
   },
   {
    "duration": 75,
    "start_time": "2024-12-15T01:52:08.687Z"
   },
   {
    "duration": 39,
    "start_time": "2024-12-15T01:53:19.651Z"
   },
   {
    "duration": 12,
    "start_time": "2024-12-15T01:54:35.789Z"
   },
   {
    "duration": 32,
    "start_time": "2024-12-15T01:58:09.879Z"
   },
   {
    "duration": 7,
    "start_time": "2024-12-15T02:00:43.194Z"
   },
   {
    "duration": 12,
    "start_time": "2024-12-15T02:04:39.404Z"
   },
   {
    "duration": 18,
    "start_time": "2024-12-15T02:07:06.601Z"
   },
   {
    "duration": 389,
    "start_time": "2024-12-15T19:50:52.974Z"
   },
   {
    "duration": 103,
    "start_time": "2024-12-15T19:50:55.845Z"
   },
   {
    "duration": 10,
    "start_time": "2024-12-15T19:50:56.743Z"
   },
   {
    "duration": 5,
    "start_time": "2024-12-15T19:50:57.599Z"
   },
   {
    "duration": 11,
    "start_time": "2024-12-15T19:50:59.726Z"
   },
   {
    "duration": 12,
    "start_time": "2024-12-15T19:51:00.644Z"
   },
   {
    "duration": 386,
    "start_time": "2024-12-15T19:58:25.179Z"
   },
   {
    "duration": 104,
    "start_time": "2024-12-15T20:00:15.360Z"
   },
   {
    "duration": 11,
    "start_time": "2024-12-15T20:00:27.079Z"
   },
   {
    "duration": 258,
    "start_time": "2024-12-15T20:06:03.119Z"
   },
   {
    "duration": 3,
    "start_time": "2024-12-15T20:06:24.614Z"
   },
   {
    "duration": 405,
    "start_time": "2024-12-15T20:06:37.833Z"
   },
   {
    "duration": 37,
    "start_time": "2024-12-15T20:06:39.108Z"
   },
   {
    "duration": 10,
    "start_time": "2024-12-15T20:06:39.773Z"
   },
   {
    "duration": 5,
    "start_time": "2024-12-15T20:06:40.029Z"
   },
   {
    "duration": 12,
    "start_time": "2024-12-15T20:06:42.269Z"
   },
   {
    "duration": 11,
    "start_time": "2024-12-15T20:06:43.607Z"
   },
   {
    "duration": 214,
    "start_time": "2024-12-15T20:06:47.123Z"
   },
   {
    "duration": 58,
    "start_time": "2024-12-15T20:06:47.736Z"
   },
   {
    "duration": 10,
    "start_time": "2024-12-15T20:06:48.466Z"
   },
   {
    "duration": 11,
    "start_time": "2024-12-15T20:06:49.895Z"
   },
   {
    "duration": 10,
    "start_time": "2024-12-15T20:07:13.693Z"
   },
   {
    "duration": 6,
    "start_time": "2024-12-15T20:07:48.544Z"
   },
   {
    "duration": 71,
    "start_time": "2024-12-15T20:15:18.339Z"
   },
   {
    "duration": 32,
    "start_time": "2024-12-15T20:15:31.217Z"
   },
   {
    "duration": 9,
    "start_time": "2024-12-15T20:15:44.504Z"
   },
   {
    "duration": 5,
    "start_time": "2024-12-15T20:16:53.867Z"
   },
   {
    "duration": 10,
    "start_time": "2024-12-15T20:17:04.137Z"
   },
   {
    "duration": 71,
    "start_time": "2024-12-15T20:17:32.842Z"
   },
   {
    "duration": 5,
    "start_time": "2024-12-15T20:17:42.961Z"
   },
   {
    "duration": 5,
    "start_time": "2024-12-15T20:22:38.229Z"
   },
   {
    "duration": 8,
    "start_time": "2024-12-15T20:34:44.596Z"
   },
   {
    "duration": 45,
    "start_time": "2024-12-15T20:42:30.834Z"
   },
   {
    "duration": 45,
    "start_time": "2024-12-15T20:45:21.529Z"
   },
   {
    "duration": 30,
    "start_time": "2024-12-15T20:45:32.678Z"
   },
   {
    "duration": 146,
    "start_time": "2024-12-15T20:48:07.824Z"
   },
   {
    "duration": 123,
    "start_time": "2024-12-15T20:49:46.104Z"
   },
   {
    "duration": 19,
    "start_time": "2024-12-15T21:14:04.845Z"
   },
   {
    "duration": 8,
    "start_time": "2024-12-15T21:14:13.903Z"
   },
   {
    "duration": 19,
    "start_time": "2024-12-15T21:14:30.030Z"
   },
   {
    "duration": 7,
    "start_time": "2024-12-15T21:14:43.755Z"
   },
   {
    "duration": 10,
    "start_time": "2024-12-15T21:15:07.130Z"
   },
   {
    "duration": 14,
    "start_time": "2024-12-15T21:15:18.775Z"
   },
   {
    "duration": 7,
    "start_time": "2024-12-15T21:20:03.454Z"
   },
   {
    "duration": 239,
    "start_time": "2024-12-15T21:22:25.618Z"
   },
   {
    "duration": 166,
    "start_time": "2024-12-15T21:22:45.348Z"
   },
   {
    "duration": 174,
    "start_time": "2024-12-15T21:25:46.999Z"
   },
   {
    "duration": 322,
    "start_time": "2024-12-15T21:26:52.068Z"
   },
   {
    "duration": 221,
    "start_time": "2024-12-15T21:27:06.563Z"
   },
   {
    "duration": 186,
    "start_time": "2024-12-15T21:27:16.302Z"
   },
   {
    "duration": 189,
    "start_time": "2024-12-15T21:27:27.490Z"
   },
   {
    "duration": 193,
    "start_time": "2024-12-15T21:27:34.416Z"
   },
   {
    "duration": 182,
    "start_time": "2024-12-15T21:27:47.914Z"
   },
   {
    "duration": 202,
    "start_time": "2024-12-15T21:27:56.924Z"
   },
   {
    "duration": 196,
    "start_time": "2024-12-15T21:28:03.986Z"
   },
   {
    "duration": 192,
    "start_time": "2024-12-15T23:37:37.027Z"
   },
   {
    "duration": 204,
    "start_time": "2024-12-15T23:38:59.307Z"
   },
   {
    "duration": 197,
    "start_time": "2024-12-15T23:39:22.275Z"
   },
   {
    "duration": 187,
    "start_time": "2024-12-15T23:46:39.538Z"
   },
   {
    "duration": 122,
    "start_time": "2024-12-15T23:46:46.450Z"
   },
   {
    "duration": 143,
    "start_time": "2024-12-15T23:47:25.775Z"
   },
   {
    "duration": 182,
    "start_time": "2024-12-15T23:57:43.366Z"
   },
   {
    "duration": 746,
    "start_time": "2024-12-16T00:08:37.776Z"
   },
   {
    "duration": 740,
    "start_time": "2024-12-16T00:09:48.406Z"
   },
   {
    "duration": 293,
    "start_time": "2024-12-16T00:09:56.958Z"
   },
   {
    "duration": 296,
    "start_time": "2024-12-16T00:12:04.763Z"
   },
   {
    "duration": 319,
    "start_time": "2024-12-16T00:12:15.949Z"
   },
   {
    "duration": 6,
    "start_time": "2024-12-16T00:45:03.493Z"
   },
   {
    "duration": 12,
    "start_time": "2024-12-16T00:48:34.773Z"
   },
   {
    "duration": 158,
    "start_time": "2024-12-16T00:48:43.308Z"
   },
   {
    "duration": 5,
    "start_time": "2024-12-16T00:48:56.964Z"
   },
   {
    "duration": 193,
    "start_time": "2024-12-16T00:48:59.589Z"
   },
   {
    "duration": 201,
    "start_time": "2024-12-16T00:49:57.531Z"
   },
   {
    "duration": 256,
    "start_time": "2024-12-16T00:50:14.585Z"
   },
   {
    "duration": 242,
    "start_time": "2024-12-16T00:50:26.797Z"
   },
   {
    "duration": 7,
    "start_time": "2024-12-16T01:01:37.849Z"
   },
   {
    "duration": 8,
    "start_time": "2024-12-16T01:07:00.381Z"
   },
   {
    "duration": 9,
    "start_time": "2024-12-16T01:07:16.214Z"
   },
   {
    "duration": 9,
    "start_time": "2024-12-16T01:07:17.735Z"
   },
   {
    "duration": 265,
    "start_time": "2024-12-16T01:07:30.474Z"
   },
   {
    "duration": 262,
    "start_time": "2024-12-16T01:07:42.586Z"
   },
   {
    "duration": 283,
    "start_time": "2024-12-16T01:09:53.217Z"
   },
   {
    "duration": 284,
    "start_time": "2024-12-16T01:11:05.035Z"
   },
   {
    "duration": 255,
    "start_time": "2024-12-16T01:15:06.484Z"
   },
   {
    "duration": 295,
    "start_time": "2024-12-16T01:17:26.098Z"
   },
   {
    "duration": 725,
    "start_time": "2024-12-16T01:27:40.368Z"
   },
   {
    "duration": 117,
    "start_time": "2024-12-16T01:28:44.752Z"
   },
   {
    "duration": 9,
    "start_time": "2024-12-16T01:30:48.981Z"
   },
   {
    "duration": 5,
    "start_time": "2024-12-16T01:36:09.466Z"
   },
   {
    "duration": 708,
    "start_time": "2024-12-16T01:36:11.499Z"
   },
   {
    "duration": 400,
    "start_time": "2024-12-16T01:36:30.731Z"
   },
   {
    "duration": 38,
    "start_time": "2024-12-16T01:36:31.810Z"
   },
   {
    "duration": 10,
    "start_time": "2024-12-16T01:36:32.120Z"
   },
   {
    "duration": 4,
    "start_time": "2024-12-16T01:36:32.825Z"
   },
   {
    "duration": 14,
    "start_time": "2024-12-16T01:36:33.853Z"
   },
   {
    "duration": 14,
    "start_time": "2024-12-16T01:36:34.234Z"
   },
   {
    "duration": 205,
    "start_time": "2024-12-16T01:36:35.310Z"
   },
   {
    "duration": 57,
    "start_time": "2024-12-16T01:36:35.679Z"
   },
   {
    "duration": 10,
    "start_time": "2024-12-16T01:36:35.855Z"
   },
   {
    "duration": 14,
    "start_time": "2024-12-16T01:36:36.216Z"
   },
   {
    "duration": 9,
    "start_time": "2024-12-16T01:36:36.406Z"
   },
   {
    "duration": 5,
    "start_time": "2024-12-16T01:36:36.591Z"
   },
   {
    "duration": 32,
    "start_time": "2024-12-16T01:36:37.156Z"
   },
   {
    "duration": 8,
    "start_time": "2024-12-16T01:36:37.316Z"
   },
   {
    "duration": 3,
    "start_time": "2024-12-16T01:36:37.703Z"
   },
   {
    "duration": 9,
    "start_time": "2024-12-16T01:36:37.886Z"
   },
   {
    "duration": 4,
    "start_time": "2024-12-16T01:36:38.085Z"
   },
   {
    "duration": 6,
    "start_time": "2024-12-16T01:36:38.617Z"
   },
   {
    "duration": 147,
    "start_time": "2024-12-16T01:36:38.828Z"
   },
   {
    "duration": 99,
    "start_time": "2024-12-16T01:36:39.049Z"
   },
   {
    "duration": 12,
    "start_time": "2024-12-16T01:36:39.228Z"
   },
   {
    "duration": 8,
    "start_time": "2024-12-16T01:36:39.420Z"
   },
   {
    "duration": 267,
    "start_time": "2024-12-16T01:36:39.614Z"
   },
   {
    "duration": 177,
    "start_time": "2024-12-16T01:36:40.207Z"
   },
   {
    "duration": 348,
    "start_time": "2024-12-16T01:36:40.808Z"
   },
   {
    "duration": 6,
    "start_time": "2024-12-16T01:36:41.370Z"
   },
   {
    "duration": 233,
    "start_time": "2024-12-16T01:36:41.565Z"
   },
   {
    "duration": 7,
    "start_time": "2024-12-16T01:36:42.361Z"
   },
   {
    "duration": 326,
    "start_time": "2024-12-16T01:36:42.503Z"
   },
   {
    "duration": 5,
    "start_time": "2024-12-16T01:36:43.130Z"
   },
   {
    "duration": 723,
    "start_time": "2024-12-16T01:36:43.341Z"
   },
   {
    "duration": 107,
    "start_time": "2024-12-16T01:38:01.517Z"
   },
   {
    "duration": 57,
    "start_time": "2024-12-19T18:13:48.335Z"
   },
   {
    "duration": 7,
    "start_time": "2024-12-19T18:14:01.907Z"
   },
   {
    "duration": 378,
    "start_time": "2024-12-19T18:14:23.983Z"
   },
   {
    "duration": 66,
    "start_time": "2024-12-19T18:14:29.428Z"
   },
   {
    "duration": 8,
    "start_time": "2024-12-19T18:14:30.232Z"
   },
   {
    "duration": 426,
    "start_time": "2024-12-19T18:14:38.899Z"
   },
   {
    "duration": 83,
    "start_time": "2024-12-19T18:14:40.255Z"
   },
   {
    "duration": 13,
    "start_time": "2024-12-19T18:14:40.980Z"
   },
   {
    "duration": 5,
    "start_time": "2024-12-19T18:14:41.327Z"
   },
   {
    "duration": 14,
    "start_time": "2024-12-19T18:14:42.561Z"
   },
   {
    "duration": 17,
    "start_time": "2024-12-19T18:14:42.934Z"
   },
   {
    "duration": 491,
    "start_time": "2024-12-19T18:14:44.278Z"
   },
   {
    "duration": 118,
    "start_time": "2024-12-19T18:14:44.771Z"
   },
   {
    "duration": 12,
    "start_time": "2024-12-19T18:14:44.891Z"
   },
   {
    "duration": 21,
    "start_time": "2024-12-19T18:14:45.125Z"
   },
   {
    "duration": 11,
    "start_time": "2024-12-19T18:14:45.291Z"
   },
   {
    "duration": 7,
    "start_time": "2024-12-19T18:14:45.473Z"
   },
   {
    "duration": 86,
    "start_time": "2024-12-19T18:14:45.991Z"
   },
   {
    "duration": 11,
    "start_time": "2024-12-19T18:14:46.167Z"
   },
   {
    "duration": 5,
    "start_time": "2024-12-19T18:14:46.542Z"
   },
   {
    "duration": 10,
    "start_time": "2024-12-19T18:14:46.698Z"
   },
   {
    "duration": 5,
    "start_time": "2024-12-19T18:14:46.880Z"
   },
   {
    "duration": 6,
    "start_time": "2024-12-19T18:14:47.422Z"
   },
   {
    "duration": 181,
    "start_time": "2024-12-19T18:14:47.586Z"
   },
   {
    "duration": 136,
    "start_time": "2024-12-19T18:14:47.772Z"
   },
   {
    "duration": 13,
    "start_time": "2024-12-19T18:14:47.953Z"
   },
   {
    "duration": 8,
    "start_time": "2024-12-19T18:14:48.144Z"
   },
   {
    "duration": 348,
    "start_time": "2024-12-19T18:14:48.337Z"
   },
   {
    "duration": 226,
    "start_time": "2024-12-19T18:14:48.880Z"
   },
   {
    "duration": 455,
    "start_time": "2024-12-19T18:14:49.438Z"
   },
   {
    "duration": 15,
    "start_time": "2024-12-19T18:14:50.027Z"
   },
   {
    "duration": 256,
    "start_time": "2024-12-19T18:14:50.217Z"
   },
   {
    "duration": 7,
    "start_time": "2024-12-19T18:14:50.784Z"
   },
   {
    "duration": 297,
    "start_time": "2024-12-19T18:14:50.968Z"
   },
   {
    "duration": 7,
    "start_time": "2024-12-19T18:14:51.529Z"
   },
   {
    "duration": 148,
    "start_time": "2024-12-19T18:14:51.717Z"
   },
   {
    "duration": 5,
    "start_time": "2024-12-19T18:14:53.957Z"
   },
   {
    "duration": 2469,
    "start_time": "2024-12-19T20:01:27.126Z"
   },
   {
    "duration": 4,
    "start_time": "2024-12-19T20:02:08.238Z"
   },
   {
    "duration": 121,
    "start_time": "2024-12-19T20:02:44.844Z"
   },
   {
    "duration": 135,
    "start_time": "2024-12-19T20:02:56.073Z"
   },
   {
    "duration": 145,
    "start_time": "2024-12-19T20:03:46.075Z"
   },
   {
    "duration": 145,
    "start_time": "2024-12-19T20:07:51.670Z"
   },
   {
    "duration": 151,
    "start_time": "2024-12-19T20:14:21.220Z"
   },
   {
    "duration": 105,
    "start_time": "2024-12-19T20:25:43.777Z"
   },
   {
    "duration": 5,
    "start_time": "2024-12-19T20:26:08.768Z"
   },
   {
    "duration": 148,
    "start_time": "2024-12-19T20:35:12.480Z"
   },
   {
    "duration": 131,
    "start_time": "2024-12-19T20:41:27.176Z"
   },
   {
    "duration": 210,
    "start_time": "2024-12-19T20:42:32.729Z"
   },
   {
    "duration": 183,
    "start_time": "2024-12-19T20:42:50.749Z"
   },
   {
    "duration": 154,
    "start_time": "2024-12-19T20:46:48.185Z"
   },
   {
    "duration": 151,
    "start_time": "2024-12-19T20:47:36.459Z"
   },
   {
    "duration": 152,
    "start_time": "2024-12-19T20:48:15.311Z"
   },
   {
    "duration": 13,
    "start_time": "2024-12-19T20:52:29.078Z"
   },
   {
    "duration": 5,
    "start_time": "2024-12-19T20:52:32.687Z"
   },
   {
    "duration": 177,
    "start_time": "2024-12-19T20:52:34.005Z"
   },
   {
    "duration": 9,
    "start_time": "2024-12-19T23:38:59.992Z"
   },
   {
    "duration": 48,
    "start_time": "2024-12-19T23:39:41.326Z"
   },
   {
    "duration": 1020,
    "start_time": "2024-12-19T23:44:29.042Z"
   },
   {
    "duration": 21,
    "start_time": "2024-12-19T23:46:17.698Z"
   },
   {
    "duration": 50,
    "start_time": "2024-12-19T23:47:33.980Z"
   },
   {
    "duration": 19,
    "start_time": "2024-12-20T00:19:39.055Z"
   },
   {
    "duration": 22,
    "start_time": "2024-12-20T00:20:46.074Z"
   },
   {
    "duration": 21,
    "start_time": "2024-12-20T00:25:07.344Z"
   },
   {
    "duration": 56,
    "start_time": "2024-12-20T00:26:44.041Z"
   },
   {
    "duration": 15,
    "start_time": "2024-12-20T00:37:15.285Z"
   },
   {
    "duration": 22,
    "start_time": "2024-12-20T00:37:38.124Z"
   },
   {
    "duration": 69,
    "start_time": "2024-12-20T00:38:16.674Z"
   },
   {
    "duration": 62,
    "start_time": "2024-12-20T00:39:33.772Z"
   },
   {
    "duration": 67,
    "start_time": "2024-12-20T00:39:43.605Z"
   },
   {
    "duration": 65,
    "start_time": "2024-12-20T00:42:54.842Z"
   },
   {
    "duration": 379,
    "start_time": "2024-12-20T11:45:07.112Z"
   },
   {
    "duration": 89,
    "start_time": "2024-12-20T11:45:08.830Z"
   },
   {
    "duration": 11,
    "start_time": "2024-12-20T11:45:09.197Z"
   },
   {
    "duration": 5,
    "start_time": "2024-12-20T11:45:09.427Z"
   },
   {
    "duration": 11,
    "start_time": "2024-12-20T11:45:10.101Z"
   },
   {
    "duration": 12,
    "start_time": "2024-12-20T11:45:10.422Z"
   },
   {
    "duration": 416,
    "start_time": "2024-12-20T11:45:11.409Z"
   },
   {
    "duration": 101,
    "start_time": "2024-12-20T11:45:11.827Z"
   },
   {
    "duration": 9,
    "start_time": "2024-12-20T11:45:11.935Z"
   },
   {
    "duration": 12,
    "start_time": "2024-12-20T11:45:12.295Z"
   },
   {
    "duration": 9,
    "start_time": "2024-12-20T11:45:12.481Z"
   },
   {
    "duration": 5,
    "start_time": "2024-12-20T11:45:12.639Z"
   },
   {
    "duration": 72,
    "start_time": "2024-12-20T11:45:13.163Z"
   },
   {
    "duration": 19,
    "start_time": "2024-12-20T11:45:13.345Z"
   },
   {
    "duration": 4,
    "start_time": "2024-12-20T11:45:13.687Z"
   },
   {
    "duration": 16,
    "start_time": "2024-12-20T11:45:13.872Z"
   },
   {
    "duration": 5,
    "start_time": "2024-12-20T11:45:14.044Z"
   },
   {
    "duration": 5,
    "start_time": "2024-12-20T11:45:14.608Z"
   },
   {
    "duration": 186,
    "start_time": "2024-12-20T11:45:14.794Z"
   },
   {
    "duration": 117,
    "start_time": "2024-12-20T11:45:14.989Z"
   },
   {
    "duration": 18,
    "start_time": "2024-12-20T11:45:15.151Z"
   },
   {
    "duration": 6,
    "start_time": "2024-12-20T11:45:15.329Z"
   },
   {
    "duration": 284,
    "start_time": "2024-12-20T11:45:15.542Z"
   },
   {
    "duration": 193,
    "start_time": "2024-12-20T11:45:16.081Z"
   },
   {
    "duration": 368,
    "start_time": "2024-12-20T11:45:16.627Z"
   },
   {
    "duration": 5,
    "start_time": "2024-12-20T11:45:17.184Z"
   },
   {
    "duration": 209,
    "start_time": "2024-12-20T11:45:17.385Z"
   },
   {
    "duration": 7,
    "start_time": "2024-12-20T11:45:17.919Z"
   },
   {
    "duration": 263,
    "start_time": "2024-12-20T11:45:18.106Z"
   },
   {
    "duration": 5,
    "start_time": "2024-12-20T11:45:18.984Z"
   },
   {
    "duration": 127,
    "start_time": "2024-12-20T11:45:18.991Z"
   },
   {
    "duration": 4,
    "start_time": "2024-12-20T11:45:19.600Z"
   },
   {
    "duration": 12,
    "start_time": "2024-12-20T11:45:20.152Z"
   },
   {
    "duration": 130,
    "start_time": "2024-12-20T11:45:20.354Z"
   },
   {
    "duration": 5,
    "start_time": "2024-12-20T11:45:20.744Z"
   },
   {
    "duration": 148,
    "start_time": "2024-12-20T11:45:20.928Z"
   },
   {
    "duration": 3,
    "start_time": "2024-12-20T11:45:21.513Z"
   },
   {
    "duration": 56,
    "start_time": "2024-12-20T11:45:22.117Z"
   },
   {
    "duration": 53,
    "start_time": "2024-12-20T11:45:22.342Z"
   },
   {
    "duration": 57,
    "start_time": "2024-12-20T11:45:22.561Z"
   },
   {
    "duration": 59,
    "start_time": "2024-12-20T11:45:22.812Z"
   },
   {
    "duration": 85,
    "start_time": "2024-12-20T12:17:54.904Z"
   },
   {
    "duration": 45,
    "start_time": "2024-12-20T12:18:24.230Z"
   },
   {
    "duration": 19,
    "start_time": "2024-12-20T12:18:27.204Z"
   },
   {
    "duration": 62,
    "start_time": "2024-12-20T12:24:46.351Z"
   },
   {
    "duration": 129,
    "start_time": "2024-12-20T12:25:09.269Z"
   },
   {
    "duration": 5,
    "start_time": "2024-12-20T12:29:11.525Z"
   },
   {
    "duration": 8,
    "start_time": "2024-12-20T12:32:52.243Z"
   },
   {
    "duration": 8,
    "start_time": "2024-12-20T12:33:06.641Z"
   },
   {
    "duration": 7,
    "start_time": "2024-12-20T12:33:16.342Z"
   },
   {
    "duration": 9,
    "start_time": "2024-12-20T12:59:54.324Z"
   },
   {
    "duration": 8,
    "start_time": "2024-12-20T13:00:05.622Z"
   },
   {
    "duration": 7,
    "start_time": "2024-12-20T13:00:19.801Z"
   },
   {
    "duration": 9,
    "start_time": "2024-12-20T13:04:02.263Z"
   },
   {
    "duration": 355,
    "start_time": "2024-12-20T13:05:14.486Z"
   },
   {
    "duration": 37,
    "start_time": "2024-12-20T13:05:15.381Z"
   },
   {
    "duration": 10,
    "start_time": "2024-12-20T13:05:15.661Z"
   },
   {
    "duration": 6,
    "start_time": "2024-12-20T13:05:15.872Z"
   },
   {
    "duration": 11,
    "start_time": "2024-12-20T13:05:16.623Z"
   },
   {
    "duration": 11,
    "start_time": "2024-12-20T13:05:16.987Z"
   },
   {
    "duration": 205,
    "start_time": "2024-12-20T13:05:18.082Z"
   },
   {
    "duration": 54,
    "start_time": "2024-12-20T13:05:18.469Z"
   },
   {
    "duration": 10,
    "start_time": "2024-12-20T13:05:18.660Z"
   },
   {
    "duration": 13,
    "start_time": "2024-12-20T13:05:19.022Z"
   },
   {
    "duration": 11,
    "start_time": "2024-12-20T13:05:19.220Z"
   },
   {
    "duration": 6,
    "start_time": "2024-12-20T13:05:19.413Z"
   },
   {
    "duration": 32,
    "start_time": "2024-12-20T13:05:19.988Z"
   },
   {
    "duration": 10,
    "start_time": "2024-12-20T13:05:20.183Z"
   },
   {
    "duration": 4,
    "start_time": "2024-12-20T13:05:20.569Z"
   },
   {
    "duration": 9,
    "start_time": "2024-12-20T13:05:20.765Z"
   },
   {
    "duration": 5,
    "start_time": "2024-12-20T13:05:20.954Z"
   },
   {
    "duration": 6,
    "start_time": "2024-12-20T13:05:21.550Z"
   },
   {
    "duration": 153,
    "start_time": "2024-12-20T13:05:21.726Z"
   },
   {
    "duration": 117,
    "start_time": "2024-12-20T13:05:21.945Z"
   },
   {
    "duration": 10,
    "start_time": "2024-12-20T13:05:22.120Z"
   },
   {
    "duration": 6,
    "start_time": "2024-12-20T13:05:22.315Z"
   },
   {
    "duration": 279,
    "start_time": "2024-12-20T13:05:22.505Z"
   },
   {
    "duration": 183,
    "start_time": "2024-12-20T13:05:23.093Z"
   },
   {
    "duration": 310,
    "start_time": "2024-12-20T13:05:23.675Z"
   },
   {
    "duration": 5,
    "start_time": "2024-12-20T13:05:24.273Z"
   },
   {
    "duration": 237,
    "start_time": "2024-12-20T13:05:24.479Z"
   },
   {
    "duration": 8,
    "start_time": "2024-12-20T13:05:25.085Z"
   },
   {
    "duration": 254,
    "start_time": "2024-12-20T13:05:25.290Z"
   },
   {
    "duration": 6,
    "start_time": "2024-12-20T13:05:25.894Z"
   },
   {
    "duration": 111,
    "start_time": "2024-12-20T13:05:26.126Z"
   },
   {
    "duration": 5,
    "start_time": "2024-12-20T13:05:26.920Z"
   },
   {
    "duration": 3,
    "start_time": "2024-12-20T13:05:27.525Z"
   },
   {
    "duration": 125,
    "start_time": "2024-12-20T13:05:27.725Z"
   },
   {
    "duration": 3,
    "start_time": "2024-12-20T13:05:28.132Z"
   },
   {
    "duration": 142,
    "start_time": "2024-12-20T13:05:28.332Z"
   },
   {
    "duration": 4,
    "start_time": "2024-12-20T13:05:28.944Z"
   },
   {
    "duration": 43,
    "start_time": "2024-12-20T13:05:29.736Z"
   },
   {
    "duration": 45,
    "start_time": "2024-12-20T13:05:29.979Z"
   },
   {
    "duration": 58,
    "start_time": "2024-12-20T13:05:30.696Z"
   },
   {
    "duration": 53,
    "start_time": "2024-12-20T13:05:31.274Z"
   },
   {
    "duration": 26,
    "start_time": "2024-12-20T13:05:31.878Z"
   },
   {
    "duration": 123,
    "start_time": "2024-12-20T13:05:33.576Z"
   },
   {
    "duration": 76,
    "start_time": "2024-12-20T13:05:35.275Z"
   },
   {
    "duration": 2,
    "start_time": "2024-12-20T13:08:45.059Z"
   },
   {
    "duration": 396,
    "start_time": "2024-12-20T13:08:50.844Z"
   },
   {
    "duration": 36,
    "start_time": "2024-12-20T13:08:51.928Z"
   },
   {
    "duration": 10,
    "start_time": "2024-12-20T13:08:52.178Z"
   },
   {
    "duration": 4,
    "start_time": "2024-12-20T13:08:52.262Z"
   },
   {
    "duration": 11,
    "start_time": "2024-12-20T13:08:52.940Z"
   },
   {
    "duration": 11,
    "start_time": "2024-12-20T13:08:53.274Z"
   },
   {
    "duration": 215,
    "start_time": "2024-12-20T13:08:54.297Z"
   },
   {
    "duration": 54,
    "start_time": "2024-12-20T13:08:54.640Z"
   },
   {
    "duration": 10,
    "start_time": "2024-12-20T13:08:54.808Z"
   },
   {
    "duration": 12,
    "start_time": "2024-12-20T13:08:55.150Z"
   },
   {
    "duration": 10,
    "start_time": "2024-12-20T13:08:55.333Z"
   },
   {
    "duration": 5,
    "start_time": "2024-12-20T13:08:55.512Z"
   },
   {
    "duration": 31,
    "start_time": "2024-12-20T13:08:56.063Z"
   },
   {
    "duration": 9,
    "start_time": "2024-12-20T13:08:56.244Z"
   },
   {
    "duration": 4,
    "start_time": "2024-12-20T13:08:56.587Z"
   },
   {
    "duration": 9,
    "start_time": "2024-12-20T13:08:56.775Z"
   },
   {
    "duration": 5,
    "start_time": "2024-12-20T13:08:56.964Z"
   },
   {
    "duration": 5,
    "start_time": "2024-12-20T13:08:57.508Z"
   },
   {
    "duration": 141,
    "start_time": "2024-12-20T13:08:57.682Z"
   },
   {
    "duration": 99,
    "start_time": "2024-12-20T13:08:57.864Z"
   },
   {
    "duration": 10,
    "start_time": "2024-12-20T13:08:58.044Z"
   },
   {
    "duration": 5,
    "start_time": "2024-12-20T13:08:58.230Z"
   },
   {
    "duration": 254,
    "start_time": "2024-12-20T13:08:58.420Z"
   },
   {
    "duration": 176,
    "start_time": "2024-12-20T13:08:58.973Z"
   },
   {
    "duration": 271,
    "start_time": "2024-12-20T13:08:59.507Z"
   },
   {
    "duration": 5,
    "start_time": "2024-12-20T13:09:00.080Z"
   },
   {
    "duration": 239,
    "start_time": "2024-12-20T13:09:00.270Z"
   },
   {
    "duration": 7,
    "start_time": "2024-12-20T13:09:00.812Z"
   },
   {
    "duration": 265,
    "start_time": "2024-12-20T13:09:00.992Z"
   },
   {
    "duration": 6,
    "start_time": "2024-12-20T13:09:01.574Z"
   },
   {
    "duration": 111,
    "start_time": "2024-12-20T13:09:01.759Z"
   },
   {
    "duration": 4,
    "start_time": "2024-12-20T13:09:02.488Z"
   },
   {
    "duration": 3,
    "start_time": "2024-12-20T13:09:03.051Z"
   },
   {
    "duration": 124,
    "start_time": "2024-12-20T13:09:03.242Z"
   },
   {
    "duration": 4,
    "start_time": "2024-12-20T13:09:03.612Z"
   },
   {
    "duration": 144,
    "start_time": "2024-12-20T13:09:03.797Z"
   },
   {
    "duration": 4,
    "start_time": "2024-12-20T13:09:04.367Z"
   },
   {
    "duration": 44,
    "start_time": "2024-12-20T13:09:04.971Z"
   },
   {
    "duration": 43,
    "start_time": "2024-12-20T13:09:05.138Z"
   },
   {
    "duration": 53,
    "start_time": "2024-12-20T13:09:05.320Z"
   },
   {
    "duration": 51,
    "start_time": "2024-12-20T13:09:05.514Z"
   },
   {
    "duration": 19,
    "start_time": "2024-12-20T13:09:05.722Z"
   },
   {
    "duration": 129,
    "start_time": "2024-12-20T13:09:05.976Z"
   },
   {
    "duration": 73,
    "start_time": "2024-12-20T13:09:06.237Z"
   },
   {
    "duration": 20,
    "start_time": "2024-12-20T13:12:07.919Z"
   },
   {
    "duration": 127,
    "start_time": "2024-12-20T13:12:10.004Z"
   },
   {
    "duration": 8,
    "start_time": "2024-12-20T13:12:11.341Z"
   },
   {
    "duration": 8,
    "start_time": "2024-12-20T13:14:12.464Z"
   },
   {
    "duration": 7,
    "start_time": "2024-12-20T13:21:13.125Z"
   },
   {
    "duration": 6,
    "start_time": "2024-12-20T13:21:49.355Z"
   },
   {
    "duration": 13,
    "start_time": "2024-12-20T13:27:34.594Z"
   },
   {
    "duration": 435,
    "start_time": "2024-12-20T13:28:42.902Z"
   },
   {
    "duration": 69,
    "start_time": "2024-12-20T13:28:50.587Z"
   },
   {
    "duration": 24,
    "start_time": "2024-12-20T13:32:15.813Z"
   },
   {
    "duration": 26,
    "start_time": "2024-12-20T13:32:33.187Z"
   },
   {
    "duration": 11,
    "start_time": "2024-12-20T13:52:57.193Z"
   },
   {
    "duration": 382,
    "start_time": "2024-12-20T20:09:43.525Z"
   },
   {
    "duration": 90,
    "start_time": "2024-12-20T20:09:44.619Z"
   },
   {
    "duration": 9,
    "start_time": "2024-12-20T20:09:44.797Z"
   },
   {
    "duration": 5,
    "start_time": "2024-12-20T20:09:44.974Z"
   },
   {
    "duration": 10,
    "start_time": "2024-12-20T20:09:45.624Z"
   },
   {
    "duration": 12,
    "start_time": "2024-12-20T20:09:45.956Z"
   },
   {
    "duration": 840,
    "start_time": "2024-12-20T20:09:47.002Z"
   },
   {
    "duration": 109,
    "start_time": "2024-12-20T20:09:47.844Z"
   },
   {
    "duration": 10,
    "start_time": "2024-12-20T20:09:47.954Z"
   },
   {
    "duration": 12,
    "start_time": "2024-12-20T20:09:47.966Z"
   },
   {
    "duration": 10,
    "start_time": "2024-12-20T20:09:48.093Z"
   },
   {
    "duration": 7,
    "start_time": "2024-12-20T20:09:48.280Z"
   },
   {
    "duration": 72,
    "start_time": "2024-12-20T20:09:48.855Z"
   },
   {
    "duration": 9,
    "start_time": "2024-12-20T20:09:49.035Z"
   },
   {
    "duration": 4,
    "start_time": "2024-12-20T20:09:49.420Z"
   },
   {
    "duration": 10,
    "start_time": "2024-12-20T20:09:49.600Z"
   },
   {
    "duration": 5,
    "start_time": "2024-12-20T20:09:49.782Z"
   },
   {
    "duration": 5,
    "start_time": "2024-12-20T20:09:50.328Z"
   },
   {
    "duration": 145,
    "start_time": "2024-12-20T20:09:50.511Z"
   },
   {
    "duration": 105,
    "start_time": "2024-12-20T20:09:50.695Z"
   },
   {
    "duration": 12,
    "start_time": "2024-12-20T20:09:50.877Z"
   },
   {
    "duration": 6,
    "start_time": "2024-12-20T20:09:51.064Z"
   },
   {
    "duration": 260,
    "start_time": "2024-12-20T20:09:51.239Z"
   },
   {
    "duration": 181,
    "start_time": "2024-12-20T20:09:51.811Z"
   },
   {
    "duration": 353,
    "start_time": "2024-12-20T20:09:52.818Z"
   },
   {
    "duration": 5,
    "start_time": "2024-12-20T20:09:55.067Z"
   },
   {
    "duration": 192,
    "start_time": "2024-12-20T20:09:55.281Z"
   },
   {
    "duration": 6,
    "start_time": "2024-12-20T20:09:55.858Z"
   },
   {
    "duration": 269,
    "start_time": "2024-12-20T20:09:56.077Z"
   },
   {
    "duration": 5,
    "start_time": "2024-12-20T20:09:56.628Z"
   },
   {
    "duration": 109,
    "start_time": "2024-12-20T20:09:56.815Z"
   },
   {
    "duration": 4,
    "start_time": "2024-12-20T20:09:57.608Z"
   },
   {
    "duration": 3,
    "start_time": "2024-12-20T20:09:58.847Z"
   },
   {
    "duration": 126,
    "start_time": "2024-12-20T20:10:00.002Z"
   },
   {
    "duration": 3,
    "start_time": "2024-12-20T20:10:00.408Z"
   },
   {
    "duration": 130,
    "start_time": "2024-12-20T20:10:00.593Z"
   },
   {
    "duration": 4,
    "start_time": "2024-12-20T20:10:01.158Z"
   },
   {
    "duration": 113,
    "start_time": "2024-12-20T20:10:01.921Z"
   },
   {
    "duration": 44,
    "start_time": "2024-12-20T20:10:02.116Z"
   },
   {
    "duration": 53,
    "start_time": "2024-12-20T20:10:02.311Z"
   },
   {
    "duration": 51,
    "start_time": "2024-12-20T20:10:02.492Z"
   },
   {
    "duration": 19,
    "start_time": "2024-12-20T20:10:02.676Z"
   },
   {
    "duration": 121,
    "start_time": "2024-12-20T20:10:02.853Z"
   },
   {
    "duration": 28,
    "start_time": "2024-12-20T20:10:03.075Z"
   },
   {
    "duration": 10,
    "start_time": "2024-12-20T20:10:04.029Z"
   },
   {
    "duration": 5,
    "start_time": "2024-12-20T20:13:48.456Z"
   },
   {
    "duration": 5,
    "start_time": "2024-12-20T20:13:49.001Z"
   },
   {
    "duration": 5,
    "start_time": "2024-12-20T20:20:11.885Z"
   },
   {
    "duration": 6,
    "start_time": "2024-12-20T20:24:04.503Z"
   },
   {
    "duration": 24,
    "start_time": "2024-12-20T20:28:41.765Z"
   },
   {
    "duration": 12,
    "start_time": "2024-12-20T20:54:36.789Z"
   },
   {
    "duration": 13,
    "start_time": "2024-12-20T20:55:17.410Z"
   },
   {
    "duration": 1473,
    "start_time": "2024-12-20T21:21:11.826Z"
   },
   {
    "duration": 6,
    "start_time": "2024-12-20T23:54:20.731Z"
   },
   {
    "duration": 9,
    "start_time": "2024-12-20T23:58:52.701Z"
   },
   {
    "duration": 10,
    "start_time": "2024-12-21T00:01:53.622Z"
   },
   {
    "duration": 9,
    "start_time": "2024-12-21T00:02:06.885Z"
   },
   {
    "duration": 10,
    "start_time": "2024-12-21T00:02:14.927Z"
   },
   {
    "duration": 91,
    "start_time": "2024-12-21T00:04:28.929Z"
   },
   {
    "duration": 1484,
    "start_time": "2024-12-21T00:04:52.389Z"
   },
   {
    "duration": 1755,
    "start_time": "2024-12-21T00:05:46.641Z"
   },
   {
    "duration": 8,
    "start_time": "2024-12-21T00:06:58.083Z"
   },
   {
    "duration": 11,
    "start_time": "2024-12-21T00:10:15.074Z"
   },
   {
    "duration": 12,
    "start_time": "2024-12-21T00:10:22.066Z"
   },
   {
    "duration": 15,
    "start_time": "2024-12-21T00:11:02.408Z"
   },
   {
    "duration": 13,
    "start_time": "2024-12-21T00:11:10.754Z"
   },
   {
    "duration": 13,
    "start_time": "2024-12-21T00:11:23.680Z"
   },
   {
    "duration": 15,
    "start_time": "2024-12-21T00:12:08.217Z"
   },
   {
    "duration": 13,
    "start_time": "2024-12-21T00:12:36.648Z"
   },
   {
    "duration": 8,
    "start_time": "2024-12-21T00:13:29.150Z"
   },
   {
    "duration": 389,
    "start_time": "2024-12-21T11:09:26.711Z"
   },
   {
    "duration": 80,
    "start_time": "2024-12-21T11:09:28.870Z"
   },
   {
    "duration": 11,
    "start_time": "2024-12-21T11:09:29.897Z"
   },
   {
    "duration": 5,
    "start_time": "2024-12-21T11:09:30.355Z"
   },
   {
    "duration": 12,
    "start_time": "2024-12-21T11:09:32.223Z"
   },
   {
    "duration": 13,
    "start_time": "2024-12-21T11:09:32.708Z"
   },
   {
    "duration": 878,
    "start_time": "2024-12-21T11:09:34.192Z"
   },
   {
    "duration": 108,
    "start_time": "2024-12-21T11:09:35.072Z"
   },
   {
    "duration": 10,
    "start_time": "2024-12-21T11:09:35.209Z"
   },
   {
    "duration": 13,
    "start_time": "2024-12-21T11:09:35.874Z"
   },
   {
    "duration": 12,
    "start_time": "2024-12-21T11:09:36.420Z"
   },
   {
    "duration": 6,
    "start_time": "2024-12-21T11:09:37.315Z"
   },
   {
    "duration": 83,
    "start_time": "2024-12-21T11:09:39.872Z"
   },
   {
    "duration": 10,
    "start_time": "2024-12-21T11:09:40.305Z"
   },
   {
    "duration": 4,
    "start_time": "2024-12-21T11:10:23.650Z"
   },
   {
    "duration": 4,
    "start_time": "2024-12-21T11:11:56.044Z"
   },
   {
    "duration": 4,
    "start_time": "2024-12-21T11:13:05.473Z"
   },
   {
    "duration": 7,
    "start_time": "2024-12-21T12:52:15.281Z"
   },
   {
    "duration": 10,
    "start_time": "2024-12-21T12:55:34.545Z"
   },
   {
    "duration": 104,
    "start_time": "2024-12-21T13:05:16.333Z"
   },
   {
    "duration": 434,
    "start_time": "2024-12-21T13:17:13.448Z"
   },
   {
    "duration": 39,
    "start_time": "2024-12-21T13:17:14.904Z"
   },
   {
    "duration": 11,
    "start_time": "2024-12-21T13:17:15.642Z"
   },
   {
    "duration": 5,
    "start_time": "2024-12-21T13:17:16.136Z"
   },
   {
    "duration": 68,
    "start_time": "2024-12-21T13:17:18.916Z"
   },
   {
    "duration": 12,
    "start_time": "2024-12-21T13:18:04.052Z"
   },
   {
    "duration": 13,
    "start_time": "2024-12-21T13:18:40.996Z"
   },
   {
    "duration": 672,
    "start_time": "2024-12-21T13:18:47.677Z"
   },
   {
    "duration": 107,
    "start_time": "2024-12-21T13:18:49.662Z"
   },
   {
    "duration": 10,
    "start_time": "2024-12-21T13:18:52.748Z"
   },
   {
    "duration": 14,
    "start_time": "2024-12-21T13:18:53.769Z"
   },
   {
    "duration": 12,
    "start_time": "2024-12-21T13:18:54.263Z"
   },
   {
    "duration": 7,
    "start_time": "2024-12-21T13:18:59.509Z"
   },
   {
    "duration": 4,
    "start_time": "2024-12-21T13:19:00.130Z"
   },
   {
    "duration": 32,
    "start_time": "2024-12-21T13:19:01.788Z"
   },
   {
    "duration": 10,
    "start_time": "2024-12-21T13:19:02.422Z"
   },
   {
    "duration": 4,
    "start_time": "2024-12-21T13:19:03.197Z"
   },
   {
    "duration": 11,
    "start_time": "2024-12-21T13:19:03.586Z"
   },
   {
    "duration": 5,
    "start_time": "2024-12-21T13:19:03.893Z"
   },
   {
    "duration": 5,
    "start_time": "2024-12-21T13:19:04.169Z"
   },
   {
    "duration": 6,
    "start_time": "2024-12-21T13:19:05.147Z"
   },
   {
    "duration": 12,
    "start_time": "2024-12-21T13:19:05.537Z"
   },
   {
    "duration": 9,
    "start_time": "2024-12-21T13:19:06.196Z"
   },
   {
    "duration": 6,
    "start_time": "2024-12-21T13:19:07.091Z"
   },
   {
    "duration": 178,
    "start_time": "2024-12-21T13:19:07.447Z"
   },
   {
    "duration": 121,
    "start_time": "2024-12-21T13:19:07.708Z"
   },
   {
    "duration": 14,
    "start_time": "2024-12-21T13:19:07.919Z"
   },
   {
    "duration": 6,
    "start_time": "2024-12-21T13:19:08.126Z"
   },
   {
    "duration": 307,
    "start_time": "2024-12-21T13:19:08.339Z"
   },
   {
    "duration": 213,
    "start_time": "2024-12-21T13:19:09.112Z"
   },
   {
    "duration": 287,
    "start_time": "2024-12-21T13:19:09.812Z"
   },
   {
    "duration": 6,
    "start_time": "2024-12-21T13:19:10.501Z"
   },
   {
    "duration": 235,
    "start_time": "2024-12-21T13:19:10.764Z"
   },
   {
    "duration": 8,
    "start_time": "2024-12-21T13:19:11.465Z"
   },
   {
    "duration": 291,
    "start_time": "2024-12-21T13:19:11.697Z"
   },
   {
    "duration": 7,
    "start_time": "2024-12-21T13:19:12.412Z"
   },
   {
    "duration": 125,
    "start_time": "2024-12-21T13:19:12.682Z"
   },
   {
    "duration": 5,
    "start_time": "2024-12-21T13:19:15.487Z"
   },
   {
    "duration": 3,
    "start_time": "2024-12-21T13:19:16.819Z"
   },
   {
    "duration": 147,
    "start_time": "2024-12-21T13:19:17.067Z"
   },
   {
    "duration": 3,
    "start_time": "2024-12-21T13:19:17.610Z"
   },
   {
    "duration": 148,
    "start_time": "2024-12-21T13:19:17.856Z"
   },
   {
    "duration": 4,
    "start_time": "2024-12-21T13:19:18.619Z"
   },
   {
    "duration": 51,
    "start_time": "2024-12-21T13:19:19.540Z"
   },
   {
    "duration": 49,
    "start_time": "2024-12-21T13:19:19.752Z"
   },
   {
    "duration": 62,
    "start_time": "2024-12-21T13:19:19.950Z"
   },
   {
    "duration": 67,
    "start_time": "2024-12-21T13:19:20.162Z"
   },
   {
    "duration": 55,
    "start_time": "2024-12-21T13:19:20.361Z"
   },
   {
    "duration": 146,
    "start_time": "2024-12-21T13:19:20.571Z"
   },
   {
    "duration": 36,
    "start_time": "2024-12-21T13:19:20.784Z"
   },
   {
    "duration": 12,
    "start_time": "2024-12-21T13:19:21.392Z"
   },
   {
    "duration": 6,
    "start_time": "2024-12-21T13:19:22.008Z"
   },
   {
    "duration": 6,
    "start_time": "2024-12-21T13:19:22.217Z"
   },
   {
    "duration": 8,
    "start_time": "2024-12-21T13:19:22.420Z"
   },
   {
    "duration": 26,
    "start_time": "2024-12-21T13:19:22.631Z"
   },
   {
    "duration": 16,
    "start_time": "2024-12-21T13:19:23.231Z"
   },
   {
    "duration": 3,
    "start_time": "2024-12-21T13:20:57.293Z"
   },
   {
    "duration": 43,
    "start_time": "2024-12-21T15:02:34.012Z"
   },
   {
    "duration": 292,
    "start_time": "2024-12-21T15:02:56.795Z"
   },
   {
    "duration": 129,
    "start_time": "2024-12-21T15:03:30.346Z"
   },
   {
    "duration": 122,
    "start_time": "2024-12-21T15:03:41.859Z"
   },
   {
    "duration": 134,
    "start_time": "2024-12-21T15:05:24.808Z"
   },
   {
    "duration": 155,
    "start_time": "2024-12-21T15:07:05.337Z"
   },
   {
    "duration": 172,
    "start_time": "2024-12-21T15:07:55.791Z"
   },
   {
    "duration": 165,
    "start_time": "2024-12-21T15:08:01.667Z"
   },
   {
    "duration": 192,
    "start_time": "2024-12-21T15:08:05.723Z"
   },
   {
    "duration": 125,
    "start_time": "2024-12-21T15:09:46.979Z"
   },
   {
    "duration": 435,
    "start_time": "2024-12-21T15:44:48.042Z"
   },
   {
    "duration": 40,
    "start_time": "2024-12-21T15:44:49.389Z"
   },
   {
    "duration": 12,
    "start_time": "2024-12-21T15:44:49.627Z"
   },
   {
    "duration": 5,
    "start_time": "2024-12-21T15:44:50.390Z"
   },
   {
    "duration": 13,
    "start_time": "2024-12-21T15:44:51.753Z"
   },
   {
    "duration": 13,
    "start_time": "2024-12-21T15:44:52.145Z"
   },
   {
    "duration": 701,
    "start_time": "2024-12-21T15:44:53.127Z"
   },
   {
    "duration": 107,
    "start_time": "2024-12-21T15:44:53.830Z"
   },
   {
    "duration": 10,
    "start_time": "2024-12-21T15:44:53.939Z"
   },
   {
    "duration": 13,
    "start_time": "2024-12-21T15:44:54.459Z"
   },
   {
    "duration": 19,
    "start_time": "2024-12-21T15:44:54.474Z"
   },
   {
    "duration": 14,
    "start_time": "2024-12-21T15:44:54.495Z"
   },
   {
    "duration": 4,
    "start_time": "2024-12-21T15:44:55.213Z"
   },
   {
    "duration": 32,
    "start_time": "2024-12-21T15:44:56.353Z"
   },
   {
    "duration": 11,
    "start_time": "2024-12-21T15:44:56.724Z"
   },
   {
    "duration": 5,
    "start_time": "2024-12-21T15:44:58.216Z"
   },
   {
    "duration": 11,
    "start_time": "2024-12-21T15:44:59.037Z"
   },
   {
    "duration": 6,
    "start_time": "2024-12-21T15:44:59.584Z"
   },
   {
    "duration": 4,
    "start_time": "2024-12-21T15:44:59.991Z"
   },
   {
    "duration": 6,
    "start_time": "2024-12-21T15:45:12.900Z"
   },
   {
    "duration": 12,
    "start_time": "2024-12-21T15:45:14.459Z"
   },
   {
    "duration": 9,
    "start_time": "2024-12-21T15:45:14.963Z"
   },
   {
    "duration": 9,
    "start_time": "2024-12-21T15:45:15.727Z"
   },
   {
    "duration": 169,
    "start_time": "2024-12-21T15:45:15.913Z"
   },
   {
    "duration": 124,
    "start_time": "2024-12-21T15:45:16.116Z"
   },
   {
    "duration": 12,
    "start_time": "2024-12-21T15:45:16.305Z"
   },
   {
    "duration": 7,
    "start_time": "2024-12-21T15:45:16.489Z"
   },
   {
    "duration": 310,
    "start_time": "2024-12-21T15:45:16.670Z"
   },
   {
    "duration": 206,
    "start_time": "2024-12-21T15:45:17.239Z"
   },
   {
    "duration": 309,
    "start_time": "2024-12-21T15:45:17.819Z"
   },
   {
    "duration": 5,
    "start_time": "2024-12-21T15:45:18.368Z"
   },
   {
    "duration": 233,
    "start_time": "2024-12-21T15:45:18.547Z"
   },
   {
    "duration": 8,
    "start_time": "2024-12-21T15:45:19.108Z"
   },
   {
    "duration": 303,
    "start_time": "2024-12-21T15:45:19.292Z"
   },
   {
    "duration": 5,
    "start_time": "2024-12-21T15:45:19.852Z"
   },
   {
    "duration": 129,
    "start_time": "2024-12-21T15:45:20.051Z"
   },
   {
    "duration": 124,
    "start_time": "2024-12-21T15:45:20.234Z"
   },
   {
    "duration": 4,
    "start_time": "2024-12-21T15:45:20.799Z"
   },
   {
    "duration": 3,
    "start_time": "2024-12-21T15:45:21.355Z"
   },
   {
    "duration": 143,
    "start_time": "2024-12-21T15:45:21.553Z"
   },
   {
    "duration": 140,
    "start_time": "2024-12-21T15:45:21.741Z"
   },
   {
    "duration": 4,
    "start_time": "2024-12-21T15:45:22.131Z"
   },
   {
    "duration": 203,
    "start_time": "2024-12-21T15:45:22.320Z"
   },
   {
    "duration": 158,
    "start_time": "2024-12-21T15:45:22.525Z"
   },
   {
    "duration": 4,
    "start_time": "2024-12-21T15:45:23.065Z"
   },
   {
    "duration": 52,
    "start_time": "2024-12-21T15:45:23.822Z"
   },
   {
    "duration": 51,
    "start_time": "2024-12-21T15:45:24.015Z"
   },
   {
    "duration": 64,
    "start_time": "2024-12-21T15:45:24.203Z"
   },
   {
    "duration": 65,
    "start_time": "2024-12-21T15:45:24.386Z"
   },
   {
    "duration": 21,
    "start_time": "2024-12-21T15:45:24.582Z"
   },
   {
    "duration": 159,
    "start_time": "2024-12-21T15:45:24.770Z"
   },
   {
    "duration": 32,
    "start_time": "2024-12-21T15:45:24.962Z"
   },
   {
    "duration": 12,
    "start_time": "2024-12-21T15:45:25.534Z"
   },
   {
    "duration": 5,
    "start_time": "2024-12-21T15:45:26.115Z"
   },
   {
    "duration": 5,
    "start_time": "2024-12-21T15:45:26.303Z"
   },
   {
    "duration": 8,
    "start_time": "2024-12-21T15:45:26.487Z"
   },
   {
    "duration": 28,
    "start_time": "2024-12-21T15:45:26.672Z"
   },
   {
    "duration": 14,
    "start_time": "2024-12-21T15:45:27.225Z"
   },
   {
    "duration": 405,
    "start_time": "2024-12-21T15:56:03.981Z"
   },
   {
    "duration": 89,
    "start_time": "2024-12-21T15:56:04.388Z"
   },
   {
    "duration": 11,
    "start_time": "2024-12-21T15:56:04.478Z"
   },
   {
    "duration": 24,
    "start_time": "2024-12-21T15:56:04.491Z"
   },
   {
    "duration": 25,
    "start_time": "2024-12-21T15:56:04.517Z"
   },
   {
    "duration": 15,
    "start_time": "2024-12-21T15:56:04.543Z"
   },
   {
    "duration": 1147,
    "start_time": "2024-12-21T15:56:04.559Z"
   },
   {
    "duration": 202,
    "start_time": "2024-12-21T15:56:05.708Z"
   },
   {
    "duration": 9,
    "start_time": "2024-12-21T15:56:05.912Z"
   },
   {
    "duration": 79,
    "start_time": "2024-12-21T15:56:05.924Z"
   },
   {
    "duration": 89,
    "start_time": "2024-12-21T15:56:06.004Z"
   },
   {
    "duration": 5,
    "start_time": "2024-12-21T15:56:06.095Z"
   },
   {
    "duration": 25,
    "start_time": "2024-12-21T15:56:06.101Z"
   },
   {
    "duration": 154,
    "start_time": "2024-12-21T15:56:06.127Z"
   },
   {
    "duration": 9,
    "start_time": "2024-12-21T15:56:06.283Z"
   },
   {
    "duration": 40,
    "start_time": "2024-12-21T15:56:06.293Z"
   },
   {
    "duration": 35,
    "start_time": "2024-12-21T15:56:06.334Z"
   },
   {
    "duration": 31,
    "start_time": "2024-12-21T15:56:06.370Z"
   },
   {
    "duration": 29,
    "start_time": "2024-12-21T15:56:06.403Z"
   },
   {
    "duration": 32,
    "start_time": "2024-12-21T15:56:06.434Z"
   },
   {
    "duration": 18,
    "start_time": "2024-12-21T15:56:06.468Z"
   },
   {
    "duration": 44,
    "start_time": "2024-12-21T15:56:06.488Z"
   },
   {
    "duration": 89,
    "start_time": "2024-12-21T15:56:06.533Z"
   },
   {
    "duration": 179,
    "start_time": "2024-12-21T15:56:06.624Z"
   },
   {
    "duration": 114,
    "start_time": "2024-12-21T15:56:06.804Z"
   },
   {
    "duration": 11,
    "start_time": "2024-12-21T15:56:06.920Z"
   },
   {
    "duration": 43,
    "start_time": "2024-12-21T15:56:06.932Z"
   },
   {
    "duration": 398,
    "start_time": "2024-12-21T15:56:06.979Z"
   },
   {
    "duration": 197,
    "start_time": "2024-12-21T15:56:07.379Z"
   },
   {
    "duration": 359,
    "start_time": "2024-12-21T15:56:07.577Z"
   },
   {
    "duration": 6,
    "start_time": "2024-12-21T15:56:07.938Z"
   },
   {
    "duration": 217,
    "start_time": "2024-12-21T15:56:07.946Z"
   },
   {
    "duration": 9,
    "start_time": "2024-12-21T15:56:08.165Z"
   },
   {
    "duration": 302,
    "start_time": "2024-12-21T15:56:08.186Z"
   },
   {
    "duration": 6,
    "start_time": "2024-12-21T15:56:08.490Z"
   },
   {
    "duration": 124,
    "start_time": "2024-12-21T15:56:08.498Z"
   },
   {
    "duration": 116,
    "start_time": "2024-12-21T15:56:08.624Z"
   },
   {
    "duration": 4,
    "start_time": "2024-12-21T15:56:08.742Z"
   },
   {
    "duration": 15,
    "start_time": "2024-12-21T15:56:08.747Z"
   },
   {
    "duration": 129,
    "start_time": "2024-12-21T15:56:08.764Z"
   },
   {
    "duration": 137,
    "start_time": "2024-12-21T15:56:08.895Z"
   },
   {
    "duration": 4,
    "start_time": "2024-12-21T15:56:09.034Z"
   },
   {
    "duration": 180,
    "start_time": "2024-12-21T15:56:09.039Z"
   },
   {
    "duration": 134,
    "start_time": "2024-12-21T15:56:09.221Z"
   },
   {
    "duration": 4,
    "start_time": "2024-12-21T15:56:09.357Z"
   },
   {
    "duration": 57,
    "start_time": "2024-12-21T15:56:09.362Z"
   },
   {
    "duration": 77,
    "start_time": "2024-12-21T15:56:09.421Z"
   },
   {
    "duration": 52,
    "start_time": "2024-12-21T15:56:09.500Z"
   },
   {
    "duration": 64,
    "start_time": "2024-12-21T15:56:09.554Z"
   },
   {
    "duration": 21,
    "start_time": "2024-12-21T15:56:09.620Z"
   },
   {
    "duration": 136,
    "start_time": "2024-12-21T15:56:09.642Z"
   },
   {
    "duration": 30,
    "start_time": "2024-12-21T15:56:09.780Z"
   },
   {
    "duration": 10,
    "start_time": "2024-12-21T15:56:09.811Z"
   },
   {
    "duration": 16,
    "start_time": "2024-12-21T15:56:09.822Z"
   },
   {
    "duration": 8,
    "start_time": "2024-12-21T15:56:09.839Z"
   },
   {
    "duration": 11,
    "start_time": "2024-12-21T15:56:09.848Z"
   },
   {
    "duration": 27,
    "start_time": "2024-12-21T15:56:09.860Z"
   },
   {
    "duration": 12,
    "start_time": "2024-12-21T15:56:09.888Z"
   },
   {
    "duration": 414,
    "start_time": "2024-12-21T15:56:55.678Z"
   },
   {
    "duration": 37,
    "start_time": "2024-12-21T15:56:56.093Z"
   },
   {
    "duration": 10,
    "start_time": "2024-12-21T15:56:56.131Z"
   },
   {
    "duration": 11,
    "start_time": "2024-12-21T15:56:56.143Z"
   },
   {
    "duration": 14,
    "start_time": "2024-12-21T15:56:56.156Z"
   },
   {
    "duration": 11,
    "start_time": "2024-12-21T15:56:56.171Z"
   },
   {
    "duration": 613,
    "start_time": "2024-12-21T15:56:56.183Z"
   },
   {
    "duration": 83,
    "start_time": "2024-12-21T15:56:56.798Z"
   },
   {
    "duration": 10,
    "start_time": "2024-12-21T15:56:56.882Z"
   },
   {
    "duration": 80,
    "start_time": "2024-12-21T15:56:56.894Z"
   },
   {
    "duration": 48,
    "start_time": "2024-12-21T15:56:56.976Z"
   },
   {
    "duration": 37,
    "start_time": "2024-12-21T15:56:57.025Z"
   },
   {
    "duration": 8,
    "start_time": "2024-12-21T15:56:57.063Z"
   },
   {
    "duration": 27,
    "start_time": "2024-12-21T15:56:57.072Z"
   },
   {
    "duration": 9,
    "start_time": "2024-12-21T15:56:57.100Z"
   },
   {
    "duration": 5,
    "start_time": "2024-12-21T15:56:57.110Z"
   },
   {
    "duration": 9,
    "start_time": "2024-12-21T15:56:57.116Z"
   },
   {
    "duration": 4,
    "start_time": "2024-12-21T15:56:57.127Z"
   },
   {
    "duration": 5,
    "start_time": "2024-12-21T15:56:57.132Z"
   },
   {
    "duration": 12,
    "start_time": "2024-12-21T15:56:57.138Z"
   },
   {
    "duration": 16,
    "start_time": "2024-12-21T15:56:57.151Z"
   },
   {
    "duration": 24,
    "start_time": "2024-12-21T15:56:57.169Z"
   },
   {
    "duration": 5,
    "start_time": "2024-12-21T15:56:57.195Z"
   },
   {
    "duration": 169,
    "start_time": "2024-12-21T15:56:57.201Z"
   },
   {
    "duration": 114,
    "start_time": "2024-12-21T15:56:57.372Z"
   },
   {
    "duration": 11,
    "start_time": "2024-12-21T15:56:57.488Z"
   },
   {
    "duration": 8,
    "start_time": "2024-12-21T15:56:57.500Z"
   },
   {
    "duration": 285,
    "start_time": "2024-12-21T15:56:57.512Z"
   },
   {
    "duration": 202,
    "start_time": "2024-12-21T15:56:57.799Z"
   },
   {
    "duration": 314,
    "start_time": "2024-12-21T15:56:58.002Z"
   },
   {
    "duration": 5,
    "start_time": "2024-12-21T15:56:58.318Z"
   },
   {
    "duration": 218,
    "start_time": "2024-12-21T15:56:58.324Z"
   },
   {
    "duration": 7,
    "start_time": "2024-12-21T15:56:58.544Z"
   },
   {
    "duration": 327,
    "start_time": "2024-12-21T15:56:58.553Z"
   },
   {
    "duration": 5,
    "start_time": "2024-12-21T15:56:58.887Z"
   },
   {
    "duration": 195,
    "start_time": "2024-12-21T15:56:58.893Z"
   },
   {
    "duration": 118,
    "start_time": "2024-12-21T15:56:59.090Z"
   },
   {
    "duration": 4,
    "start_time": "2024-12-21T15:56:59.210Z"
   },
   {
    "duration": 6,
    "start_time": "2024-12-21T15:56:59.215Z"
   },
   {
    "duration": 139,
    "start_time": "2024-12-21T15:56:59.222Z"
   },
   {
    "duration": 166,
    "start_time": "2024-12-21T15:56:59.363Z"
   },
   {
    "duration": 4,
    "start_time": "2024-12-21T15:56:59.530Z"
   },
   {
    "duration": 185,
    "start_time": "2024-12-21T15:56:59.535Z"
   },
   {
    "duration": 137,
    "start_time": "2024-12-21T15:56:59.721Z"
   },
   {
    "duration": 4,
    "start_time": "2024-12-21T15:56:59.859Z"
   },
   {
    "duration": 56,
    "start_time": "2024-12-21T15:56:59.864Z"
   },
   {
    "duration": 42,
    "start_time": "2024-12-21T15:56:59.922Z"
   },
   {
    "duration": 68,
    "start_time": "2024-12-21T15:56:59.966Z"
   },
   {
    "duration": 63,
    "start_time": "2024-12-21T15:57:00.035Z"
   },
   {
    "duration": 18,
    "start_time": "2024-12-21T15:57:00.099Z"
   },
   {
    "duration": 145,
    "start_time": "2024-12-21T15:57:00.119Z"
   },
   {
    "duration": 30,
    "start_time": "2024-12-21T15:57:00.265Z"
   },
   {
    "duration": 26,
    "start_time": "2024-12-21T15:57:00.296Z"
   },
   {
    "duration": 48,
    "start_time": "2024-12-21T15:57:00.323Z"
   },
   {
    "duration": 28,
    "start_time": "2024-12-21T15:57:00.373Z"
   },
   {
    "duration": 18,
    "start_time": "2024-12-21T15:57:00.403Z"
   },
   {
    "duration": 51,
    "start_time": "2024-12-21T15:57:00.423Z"
   },
   {
    "duration": 13,
    "start_time": "2024-12-21T15:57:00.475Z"
   },
   {
    "duration": 49,
    "start_time": "2024-12-21T17:49:30.509Z"
   },
   {
    "duration": 1236,
    "start_time": "2024-12-21T17:49:59.509Z"
   },
   {
    "duration": 3,
    "start_time": "2024-12-21T17:54:51.759Z"
   },
   {
    "duration": 63,
    "start_time": "2024-12-21T17:54:52.952Z"
   },
   {
    "duration": 1004,
    "start_time": "2024-12-21T17:55:04.526Z"
   },
   {
    "duration": 123,
    "start_time": "2024-12-21T17:55:07.021Z"
   },
   {
    "duration": 10,
    "start_time": "2024-12-21T17:55:07.506Z"
   },
   {
    "duration": 6,
    "start_time": "2024-12-21T17:55:07.969Z"
   },
   {
    "duration": 3,
    "start_time": "2024-12-21T17:55:11.642Z"
   },
   {
    "duration": 13,
    "start_time": "2024-12-21T17:55:12.201Z"
   },
   {
    "duration": 13,
    "start_time": "2024-12-21T17:55:20.640Z"
   },
   {
    "duration": 98,
    "start_time": "2024-12-21T17:55:30.282Z"
   },
   {
    "duration": 9,
    "start_time": "2024-12-21T17:55:34.040Z"
   },
   {
    "duration": 12,
    "start_time": "2024-12-21T17:55:34.989Z"
   },
   {
    "duration": 10,
    "start_time": "2024-12-21T17:55:35.401Z"
   },
   {
    "duration": 6,
    "start_time": "2024-12-21T17:55:35.953Z"
   },
   {
    "duration": 5,
    "start_time": "2024-12-21T17:55:36.422Z"
   },
   {
    "duration": 73,
    "start_time": "2024-12-21T17:55:47.600Z"
   },
   {
    "duration": 9,
    "start_time": "2024-12-21T17:55:52.299Z"
   },
   {
    "duration": 4,
    "start_time": "2024-12-21T17:55:53.348Z"
   },
   {
    "duration": 11,
    "start_time": "2024-12-21T17:55:53.926Z"
   },
   {
    "duration": 5,
    "start_time": "2024-12-21T17:55:57.283Z"
   },
   {
    "duration": 3,
    "start_time": "2024-12-21T17:55:57.764Z"
   },
   {
    "duration": 7,
    "start_time": "2024-12-21T17:55:59.955Z"
   },
   {
    "duration": 12,
    "start_time": "2024-12-21T17:56:00.799Z"
   },
   {
    "duration": 9,
    "start_time": "2024-12-21T17:56:01.349Z"
   },
   {
    "duration": 5,
    "start_time": "2024-12-21T17:56:02.939Z"
   },
   {
    "duration": 164,
    "start_time": "2024-12-21T17:56:03.170Z"
   },
   {
    "duration": 115,
    "start_time": "2024-12-21T17:56:03.336Z"
   },
   {
    "duration": 11,
    "start_time": "2024-12-21T17:56:03.453Z"
   },
   {
    "duration": 6,
    "start_time": "2024-12-21T17:56:03.584Z"
   },
   {
    "duration": 272,
    "start_time": "2024-12-21T17:56:03.745Z"
   },
   {
    "duration": 190,
    "start_time": "2024-12-21T17:56:04.387Z"
   },
   {
    "duration": 266,
    "start_time": "2024-12-21T17:56:05.050Z"
   },
   {
    "duration": 6,
    "start_time": "2024-12-21T17:56:05.702Z"
   },
   {
    "duration": 204,
    "start_time": "2024-12-21T17:56:05.863Z"
   },
   {
    "duration": 7,
    "start_time": "2024-12-21T17:56:06.536Z"
   },
   {
    "duration": 303,
    "start_time": "2024-12-21T17:56:06.710Z"
   },
   {
    "duration": 5,
    "start_time": "2024-12-21T17:56:07.391Z"
   },
   {
    "duration": 112,
    "start_time": "2024-12-21T17:56:07.561Z"
   },
   {
    "duration": 109,
    "start_time": "2024-12-21T17:56:07.730Z"
   },
   {
    "duration": 4,
    "start_time": "2024-12-21T17:56:08.256Z"
   },
   {
    "duration": 3,
    "start_time": "2024-12-21T17:56:08.967Z"
   },
   {
    "duration": 128,
    "start_time": "2024-12-21T17:56:09.128Z"
   },
   {
    "duration": 132,
    "start_time": "2024-12-21T17:56:09.309Z"
   },
   {
    "duration": 4,
    "start_time": "2024-12-21T17:56:09.651Z"
   },
   {
    "duration": 169,
    "start_time": "2024-12-21T17:56:09.832Z"
   },
   {
    "duration": 155,
    "start_time": "2024-12-21T17:56:10.003Z"
   },
   {
    "duration": 4,
    "start_time": "2024-12-21T17:56:10.527Z"
   },
   {
    "duration": 41,
    "start_time": "2024-12-21T17:56:11.592Z"
   },
   {
    "duration": 44,
    "start_time": "2024-12-21T17:56:11.774Z"
   },
   {
    "duration": 54,
    "start_time": "2024-12-21T17:56:11.949Z"
   },
   {
    "duration": 51,
    "start_time": "2024-12-21T17:56:12.125Z"
   },
   {
    "duration": 19,
    "start_time": "2024-12-21T17:56:12.305Z"
   },
   {
    "duration": 130,
    "start_time": "2024-12-21T17:56:12.481Z"
   },
   {
    "duration": 24,
    "start_time": "2024-12-21T17:56:12.666Z"
   },
   {
    "duration": 9,
    "start_time": "2024-12-21T17:56:13.557Z"
   },
   {
    "duration": 5,
    "start_time": "2024-12-21T17:56:14.273Z"
   },
   {
    "duration": 5,
    "start_time": "2024-12-21T17:56:14.458Z"
   },
   {
    "duration": 7,
    "start_time": "2024-12-21T17:56:14.642Z"
   },
   {
    "duration": 20,
    "start_time": "2024-12-21T17:56:14.822Z"
   },
   {
    "duration": 13,
    "start_time": "2024-12-21T17:56:15.563Z"
   },
   {
    "duration": 971,
    "start_time": "2024-12-21T17:57:24.807Z"
   },
   {
    "duration": 866,
    "start_time": "2024-12-21T17:57:51.758Z"
   },
   {
    "duration": 7,
    "start_time": "2024-12-21T17:58:02.487Z"
   },
   {
    "duration": 4,
    "start_time": "2024-12-21T18:36:24.211Z"
   },
   {
    "duration": 1062,
    "start_time": "2024-12-21T18:36:40.076Z"
   },
   {
    "duration": 80,
    "start_time": "2024-12-21T18:36:41.140Z"
   },
   {
    "duration": 10,
    "start_time": "2024-12-21T18:36:41.309Z"
   },
   {
    "duration": 5,
    "start_time": "2024-12-21T18:36:41.503Z"
   },
   {
    "duration": 2,
    "start_time": "2024-12-21T18:36:42.524Z"
   },
   {
    "duration": 11,
    "start_time": "2024-12-21T18:36:42.777Z"
   },
   {
    "duration": 12,
    "start_time": "2024-12-21T18:36:43.509Z"
   },
   {
    "duration": 52,
    "start_time": "2024-12-21T18:36:46.248Z"
   },
   {
    "duration": 9,
    "start_time": "2024-12-21T18:36:46.684Z"
   },
   {
    "duration": 11,
    "start_time": "2024-12-21T18:36:47.276Z"
   },
   {
    "duration": 10,
    "start_time": "2024-12-21T18:36:47.536Z"
   },
   {
    "duration": 6,
    "start_time": "2024-12-21T18:36:47.820Z"
   },
   {
    "duration": 3,
    "start_time": "2024-12-21T18:36:48.058Z"
   },
   {
    "duration": 30,
    "start_time": "2024-12-21T18:36:48.865Z"
   },
   {
    "duration": 9,
    "start_time": "2024-12-21T18:36:49.146Z"
   },
   {
    "duration": 4,
    "start_time": "2024-12-21T18:36:50.290Z"
   },
   {
    "duration": 9,
    "start_time": "2024-12-21T18:36:50.641Z"
   },
   {
    "duration": 5,
    "start_time": "2024-12-21T18:36:50.885Z"
   },
   {
    "duration": 4,
    "start_time": "2024-12-21T18:36:51.098Z"
   },
   {
    "duration": 6,
    "start_time": "2024-12-21T18:36:52.110Z"
   },
   {
    "duration": 10,
    "start_time": "2024-12-21T18:36:52.597Z"
   },
   {
    "duration": 9,
    "start_time": "2024-12-21T18:36:53.485Z"
   },
   {
    "duration": 8,
    "start_time": "2024-12-21T18:36:57.072Z"
   },
   {
    "duration": 4,
    "start_time": "2024-12-21T18:36:58.176Z"
   },
   {
    "duration": 6,
    "start_time": "2024-12-21T18:37:00.423Z"
   },
   {
    "duration": 158,
    "start_time": "2024-12-21T18:37:01.147Z"
   },
   {
    "duration": 117,
    "start_time": "2024-12-21T18:37:01.700Z"
   },
   {
    "duration": 11,
    "start_time": "2024-12-21T18:37:04.449Z"
   },
   {
    "duration": 7,
    "start_time": "2024-12-21T18:37:05.968Z"
   },
   {
    "duration": 283,
    "start_time": "2024-12-21T18:37:06.528Z"
   },
   {
    "duration": 197,
    "start_time": "2024-12-21T18:37:09.521Z"
   },
   {
    "duration": 312,
    "start_time": "2024-12-21T18:37:11.504Z"
   },
   {
    "duration": 6,
    "start_time": "2024-12-21T18:37:13.582Z"
   },
   {
    "duration": 200,
    "start_time": "2024-12-21T18:37:15.092Z"
   },
   {
    "duration": 7,
    "start_time": "2024-12-21T18:37:17.031Z"
   },
   {
    "duration": 278,
    "start_time": "2024-12-21T18:37:17.625Z"
   },
   {
    "duration": 5,
    "start_time": "2024-12-21T18:37:19.838Z"
   },
   {
    "duration": 137,
    "start_time": "2024-12-21T18:37:20.542Z"
   },
   {
    "duration": 126,
    "start_time": "2024-12-21T18:37:23.502Z"
   },
   {
    "duration": 4,
    "start_time": "2024-12-21T18:37:30.805Z"
   },
   {
    "duration": 3,
    "start_time": "2024-12-21T18:37:42.619Z"
   },
   {
    "duration": 120,
    "start_time": "2024-12-21T18:37:43.399Z"
   },
   {
    "duration": 124,
    "start_time": "2024-12-21T18:37:44.712Z"
   },
   {
    "duration": 3,
    "start_time": "2024-12-21T18:37:45.963Z"
   },
   {
    "duration": 178,
    "start_time": "2024-12-21T18:37:47.716Z"
   },
   {
    "duration": 124,
    "start_time": "2024-12-21T18:37:48.940Z"
   },
   {
    "duration": 4,
    "start_time": "2024-12-21T18:37:52.270Z"
   },
   {
    "duration": 44,
    "start_time": "2024-12-21T18:37:58.815Z"
   },
   {
    "duration": 44,
    "start_time": "2024-12-21T18:37:59.281Z"
   },
   {
    "duration": 56,
    "start_time": "2024-12-21T18:37:59.686Z"
   },
   {
    "duration": 54,
    "start_time": "2024-12-21T18:38:00.085Z"
   },
   {
    "duration": 21,
    "start_time": "2024-12-21T18:38:00.520Z"
   },
   {
    "duration": 112,
    "start_time": "2024-12-21T18:38:00.845Z"
   },
   {
    "duration": 25,
    "start_time": "2024-12-21T18:38:01.225Z"
   },
   {
    "duration": 9,
    "start_time": "2024-12-21T18:38:05.202Z"
   },
   {
    "duration": 5,
    "start_time": "2024-12-21T18:38:07.378Z"
   },
   {
    "duration": 5,
    "start_time": "2024-12-21T18:38:07.744Z"
   },
   {
    "duration": 8,
    "start_time": "2024-12-21T18:38:08.118Z"
   },
   {
    "duration": 21,
    "start_time": "2024-12-21T18:38:08.504Z"
   },
   {
    "duration": 13,
    "start_time": "2024-12-21T18:38:10.460Z"
   },
   {
    "duration": 1076,
    "start_time": "2024-12-21T19:38:39.669Z"
   },
   {
    "duration": 76,
    "start_time": "2024-12-21T19:38:40.746Z"
   },
   {
    "duration": 10,
    "start_time": "2024-12-21T19:38:40.823Z"
   },
   {
    "duration": 4,
    "start_time": "2024-12-21T19:38:40.905Z"
   },
   {
    "duration": 2,
    "start_time": "2024-12-21T19:38:41.630Z"
   },
   {
    "duration": 13,
    "start_time": "2024-12-21T19:38:41.788Z"
   },
   {
    "duration": 12,
    "start_time": "2024-12-21T19:38:42.303Z"
   },
   {
    "duration": 52,
    "start_time": "2024-12-21T19:38:44.091Z"
   },
   {
    "duration": 9,
    "start_time": "2024-12-21T19:38:44.451Z"
   },
   {
    "duration": 13,
    "start_time": "2024-12-21T19:38:44.826Z"
   },
   {
    "duration": 10,
    "start_time": "2024-12-21T19:38:45.018Z"
   },
   {
    "duration": 6,
    "start_time": "2024-12-21T19:38:45.227Z"
   },
   {
    "duration": 4,
    "start_time": "2024-12-21T19:38:45.412Z"
   },
   {
    "duration": 31,
    "start_time": "2024-12-21T19:38:46.510Z"
   },
   {
    "duration": 9,
    "start_time": "2024-12-21T19:38:46.769Z"
   },
   {
    "duration": 4,
    "start_time": "2024-12-21T19:38:47.212Z"
   },
   {
    "duration": 10,
    "start_time": "2024-12-21T19:38:47.463Z"
   },
   {
    "duration": 5,
    "start_time": "2024-12-21T19:38:47.701Z"
   },
   {
    "duration": 5,
    "start_time": "2024-12-21T19:38:47.927Z"
   },
   {
    "duration": 6,
    "start_time": "2024-12-21T19:38:49.498Z"
   },
   {
    "duration": 11,
    "start_time": "2024-12-21T19:38:53.091Z"
   },
   {
    "duration": 9,
    "start_time": "2024-12-21T19:38:54.861Z"
   },
   {
    "duration": 70,
    "start_time": "2024-12-21T19:38:57.293Z"
   },
   {
    "duration": 6,
    "start_time": "2024-12-21T19:39:19.803Z"
   },
   {
    "duration": 5,
    "start_time": "2024-12-21T19:39:36.016Z"
   },
   {
    "duration": 8,
    "start_time": "2024-12-21T19:50:52.224Z"
   },
   {
    "duration": 7,
    "start_time": "2024-12-21T19:51:11.207Z"
   },
   {
    "duration": 7,
    "start_time": "2024-12-21T19:51:19.448Z"
   },
   {
    "duration": 8,
    "start_time": "2024-12-21T19:51:31.850Z"
   },
   {
    "duration": 8,
    "start_time": "2024-12-21T19:52:06.927Z"
   },
   {
    "duration": 101,
    "start_time": "2024-12-21T19:52:15.576Z"
   },
   {
    "duration": 101,
    "start_time": "2024-12-21T19:52:23.555Z"
   },
   {
    "duration": 8,
    "start_time": "2024-12-21T20:23:37.596Z"
   },
   {
    "duration": 10,
    "start_time": "2024-12-21T20:24:59.066Z"
   },
   {
    "duration": 8,
    "start_time": "2024-12-21T20:25:18.602Z"
   },
   {
    "duration": 105,
    "start_time": "2024-12-21T20:27:30.033Z"
   },
   {
    "duration": 13,
    "start_time": "2024-12-21T20:39:55.460Z"
   },
   {
    "duration": 989,
    "start_time": "2024-12-21T20:45:50.130Z"
   },
   {
    "duration": 75,
    "start_time": "2024-12-21T20:45:52.196Z"
   },
   {
    "duration": 10,
    "start_time": "2024-12-21T20:45:52.779Z"
   },
   {
    "duration": 4,
    "start_time": "2024-12-21T20:45:53.121Z"
   },
   {
    "duration": 3,
    "start_time": "2024-12-21T20:45:54.634Z"
   },
   {
    "duration": 12,
    "start_time": "2024-12-21T20:45:54.893Z"
   },
   {
    "duration": 10,
    "start_time": "2024-12-21T20:45:55.602Z"
   },
   {
    "duration": 53,
    "start_time": "2024-12-21T20:45:57.936Z"
   },
   {
    "duration": 10,
    "start_time": "2024-12-21T20:45:58.318Z"
   },
   {
    "duration": 12,
    "start_time": "2024-12-21T20:45:58.706Z"
   },
   {
    "duration": 11,
    "start_time": "2024-12-21T20:45:58.898Z"
   },
   {
    "duration": 6,
    "start_time": "2024-12-21T20:45:59.079Z"
   },
   {
    "duration": 5,
    "start_time": "2024-12-21T20:45:59.266Z"
   },
   {
    "duration": 30,
    "start_time": "2024-12-21T20:45:59.821Z"
   },
   {
    "duration": 10,
    "start_time": "2024-12-21T20:46:00.004Z"
   },
   {
    "duration": 4,
    "start_time": "2024-12-21T20:46:00.356Z"
   },
   {
    "duration": 11,
    "start_time": "2024-12-21T20:46:00.536Z"
   },
   {
    "duration": 5,
    "start_time": "2024-12-21T20:46:00.715Z"
   },
   {
    "duration": 4,
    "start_time": "2024-12-21T20:46:00.899Z"
   },
   {
    "duration": 6,
    "start_time": "2024-12-21T20:46:01.636Z"
   },
   {
    "duration": 10,
    "start_time": "2024-12-21T20:46:02.021Z"
   },
   {
    "duration": 9,
    "start_time": "2024-12-21T20:46:02.376Z"
   },
   {
    "duration": 8,
    "start_time": "2024-12-21T20:46:04.364Z"
   },
   {
    "duration": 7,
    "start_time": "2024-12-21T20:46:05.024Z"
   },
   {
    "duration": 4,
    "start_time": "2024-12-21T20:46:05.446Z"
   },
   {
    "duration": 5,
    "start_time": "2024-12-21T20:46:06.028Z"
   },
   {
    "duration": 153,
    "start_time": "2024-12-21T20:46:06.214Z"
   },
   {
    "duration": 114,
    "start_time": "2024-12-21T20:46:06.404Z"
   },
   {
    "duration": 12,
    "start_time": "2024-12-21T20:46:06.584Z"
   },
   {
    "duration": 7,
    "start_time": "2024-12-21T20:46:06.770Z"
   },
   {
    "duration": 275,
    "start_time": "2024-12-21T20:46:06.951Z"
   },
   {
    "duration": 214,
    "start_time": "2024-12-21T20:46:07.706Z"
   },
   {
    "duration": 282,
    "start_time": "2024-12-21T20:46:08.438Z"
   },
   {
    "duration": 6,
    "start_time": "2024-12-21T20:46:09.390Z"
   },
   {
    "duration": 207,
    "start_time": "2024-12-21T20:46:09.594Z"
   },
   {
    "duration": 7,
    "start_time": "2024-12-21T20:46:10.390Z"
   },
   {
    "duration": 299,
    "start_time": "2024-12-21T20:46:10.576Z"
   },
   {
    "duration": 7,
    "start_time": "2024-12-21T20:46:11.334Z"
   },
   {
    "duration": 129,
    "start_time": "2024-12-21T20:46:11.523Z"
   },
   {
    "duration": 129,
    "start_time": "2024-12-21T20:46:11.718Z"
   },
   {
    "duration": 4,
    "start_time": "2024-12-21T20:46:12.274Z"
   },
   {
    "duration": 3,
    "start_time": "2024-12-21T20:46:13.028Z"
   },
   {
    "duration": 121,
    "start_time": "2024-12-21T20:46:13.212Z"
   },
   {
    "duration": 119,
    "start_time": "2024-12-21T20:46:13.399Z"
   },
   {
    "duration": 4,
    "start_time": "2024-12-21T20:46:13.758Z"
   },
   {
    "duration": 173,
    "start_time": "2024-12-21T20:46:13.947Z"
   },
   {
    "duration": 126,
    "start_time": "2024-12-21T20:46:14.195Z"
   },
   {
    "duration": 4,
    "start_time": "2024-12-21T20:46:14.720Z"
   },
   {
    "duration": 44,
    "start_time": "2024-12-21T20:46:15.843Z"
   },
   {
    "duration": 43,
    "start_time": "2024-12-21T20:46:16.036Z"
   },
   {
    "duration": 55,
    "start_time": "2024-12-21T20:46:16.224Z"
   },
   {
    "duration": 54,
    "start_time": "2024-12-21T20:46:16.415Z"
   },
   {
    "duration": 19,
    "start_time": "2024-12-21T20:46:16.600Z"
   },
   {
    "duration": 126,
    "start_time": "2024-12-21T20:46:16.798Z"
   },
   {
    "duration": 26,
    "start_time": "2024-12-21T20:46:16.989Z"
   },
   {
    "duration": 10,
    "start_time": "2024-12-21T20:46:18.102Z"
   },
   {
    "duration": 5,
    "start_time": "2024-12-21T20:46:18.858Z"
   },
   {
    "duration": 5,
    "start_time": "2024-12-21T20:46:19.044Z"
   },
   {
    "duration": 8,
    "start_time": "2024-12-21T20:46:19.239Z"
   },
   {
    "duration": 36,
    "start_time": "2024-12-21T20:46:19.608Z"
   },
   {
    "duration": 18,
    "start_time": "2024-12-21T20:46:20.565Z"
   },
   {
    "duration": 5,
    "start_time": "2024-12-21T20:49:44.697Z"
   },
   {
    "duration": 6,
    "start_time": "2024-12-21T20:49:45.412Z"
   },
   {
    "duration": 1027,
    "start_time": "2024-12-21T20:50:01.307Z"
   },
   {
    "duration": 76,
    "start_time": "2024-12-21T20:50:03.227Z"
   },
   {
    "duration": 11,
    "start_time": "2024-12-21T20:50:03.510Z"
   },
   {
    "duration": 6,
    "start_time": "2024-12-21T20:50:03.750Z"
   },
   {
    "duration": 2,
    "start_time": "2024-12-21T20:50:04.470Z"
   },
   {
    "duration": 14,
    "start_time": "2024-12-21T20:50:04.631Z"
   },
   {
    "duration": 11,
    "start_time": "2024-12-21T20:50:05.122Z"
   },
   {
    "duration": 52,
    "start_time": "2024-12-21T20:50:06.743Z"
   },
   {
    "duration": 9,
    "start_time": "2024-12-21T20:50:07.288Z"
   },
   {
    "duration": 13,
    "start_time": "2024-12-21T20:50:07.628Z"
   },
   {
    "duration": 10,
    "start_time": "2024-12-21T20:50:07.796Z"
   },
   {
    "duration": 8,
    "start_time": "2024-12-21T20:50:07.963Z"
   },
   {
    "duration": 5,
    "start_time": "2024-12-21T20:50:08.141Z"
   },
   {
    "duration": 33,
    "start_time": "2024-12-21T20:50:08.643Z"
   },
   {
    "duration": 9,
    "start_time": "2024-12-21T20:50:08.821Z"
   },
   {
    "duration": 4,
    "start_time": "2024-12-21T20:50:09.141Z"
   },
   {
    "duration": 11,
    "start_time": "2024-12-21T20:50:09.316Z"
   },
   {
    "duration": 5,
    "start_time": "2024-12-21T20:50:09.484Z"
   },
   {
    "duration": 5,
    "start_time": "2024-12-21T20:50:09.660Z"
   },
   {
    "duration": 8,
    "start_time": "2024-12-21T20:50:10.338Z"
   },
   {
    "duration": 13,
    "start_time": "2024-12-21T20:50:10.681Z"
   },
   {
    "duration": 10,
    "start_time": "2024-12-21T20:50:11.020Z"
   },
   {
    "duration": 10,
    "start_time": "2024-12-21T20:50:11.889Z"
   },
   {
    "duration": 7,
    "start_time": "2024-12-21T20:50:12.481Z"
   },
   {
    "duration": 4,
    "start_time": "2024-12-21T20:50:12.856Z"
   },
   {
    "duration": 5,
    "start_time": "2024-12-21T20:50:14.035Z"
   },
   {
    "duration": 153,
    "start_time": "2024-12-21T20:50:14.463Z"
   },
   {
    "duration": 117,
    "start_time": "2024-12-21T20:50:14.779Z"
   },
   {
    "duration": 13,
    "start_time": "2024-12-21T20:50:15.141Z"
   },
   {
    "duration": 9,
    "start_time": "2024-12-21T20:50:15.342Z"
   },
   {
    "duration": 293,
    "start_time": "2024-12-21T20:50:15.531Z"
   },
   {
    "duration": 200,
    "start_time": "2024-12-21T20:50:16.258Z"
   },
   {
    "duration": 320,
    "start_time": "2024-12-21T20:50:16.984Z"
   },
   {
    "duration": 8,
    "start_time": "2024-12-21T20:50:17.727Z"
   },
   {
    "duration": 236,
    "start_time": "2024-12-21T20:50:18.113Z"
   },
   {
    "duration": 8,
    "start_time": "2024-12-21T20:50:19.242Z"
   },
   {
    "duration": 270,
    "start_time": "2024-12-21T20:50:19.558Z"
   },
   {
    "duration": 6,
    "start_time": "2024-12-21T20:50:21.121Z"
   },
   {
    "duration": 132,
    "start_time": "2024-12-21T20:50:21.397Z"
   },
   {
    "duration": 137,
    "start_time": "2024-12-21T20:50:22.312Z"
   },
   {
    "duration": 4,
    "start_time": "2024-12-21T20:50:23.460Z"
   },
   {
    "duration": 2,
    "start_time": "2024-12-21T20:50:25.596Z"
   },
   {
    "duration": 124,
    "start_time": "2024-12-21T20:50:26.181Z"
   },
   {
    "duration": 126,
    "start_time": "2024-12-21T20:50:26.601Z"
   },
   {
    "duration": 107,
    "start_time": "2024-12-21T20:50:45.008Z"
   },
   {
    "duration": 1036,
    "start_time": "2024-12-21T20:51:04.094Z"
   },
   {
    "duration": 78,
    "start_time": "2024-12-21T20:51:06.024Z"
   },
   {
    "duration": 11,
    "start_time": "2024-12-21T20:51:06.211Z"
   },
   {
    "duration": 5,
    "start_time": "2024-12-21T20:51:06.474Z"
   },
   {
    "duration": 3,
    "start_time": "2024-12-21T20:51:07.164Z"
   },
   {
    "duration": 12,
    "start_time": "2024-12-21T20:51:07.325Z"
   },
   {
    "duration": 11,
    "start_time": "2024-12-21T20:51:07.827Z"
   },
   {
    "duration": 52,
    "start_time": "2024-12-21T20:51:09.473Z"
   },
   {
    "duration": 10,
    "start_time": "2024-12-21T20:51:09.815Z"
   },
   {
    "duration": 13,
    "start_time": "2024-12-21T20:51:10.150Z"
   },
   {
    "duration": 10,
    "start_time": "2024-12-21T20:51:10.309Z"
   },
   {
    "duration": 6,
    "start_time": "2024-12-21T20:51:10.475Z"
   },
   {
    "duration": 4,
    "start_time": "2024-12-21T20:51:10.640Z"
   },
   {
    "duration": 30,
    "start_time": "2024-12-21T20:51:11.156Z"
   },
   {
    "duration": 10,
    "start_time": "2024-12-21T20:51:11.326Z"
   },
   {
    "duration": 4,
    "start_time": "2024-12-21T20:51:11.664Z"
   },
   {
    "duration": 9,
    "start_time": "2024-12-21T20:51:11.837Z"
   },
   {
    "duration": 5,
    "start_time": "2024-12-21T20:51:12.011Z"
   },
   {
    "duration": 4,
    "start_time": "2024-12-21T20:51:12.185Z"
   },
   {
    "duration": 6,
    "start_time": "2024-12-21T20:51:12.874Z"
   },
   {
    "duration": 12,
    "start_time": "2024-12-21T20:51:13.226Z"
   },
   {
    "duration": 9,
    "start_time": "2024-12-21T20:51:13.590Z"
   },
   {
    "duration": 7,
    "start_time": "2024-12-21T20:51:14.595Z"
   },
   {
    "duration": 8,
    "start_time": "2024-12-21T20:51:15.693Z"
   },
   {
    "duration": 5,
    "start_time": "2024-12-21T20:51:16.053Z"
   },
   {
    "duration": 6,
    "start_time": "2024-12-21T20:51:16.924Z"
   },
   {
    "duration": 150,
    "start_time": "2024-12-21T20:51:17.108Z"
   },
   {
    "duration": 105,
    "start_time": "2024-12-21T20:51:17.279Z"
   },
   {
    "duration": 13,
    "start_time": "2024-12-21T20:51:17.454Z"
   },
   {
    "duration": 7,
    "start_time": "2024-12-21T20:51:17.630Z"
   },
   {
    "duration": 305,
    "start_time": "2024-12-21T20:51:17.800Z"
   },
   {
    "duration": 190,
    "start_time": "2024-12-21T20:51:18.506Z"
   },
   {
    "duration": 306,
    "start_time": "2024-12-21T20:51:19.293Z"
   },
   {
    "duration": 5,
    "start_time": "2024-12-21T20:51:20.051Z"
   },
   {
    "duration": 197,
    "start_time": "2024-12-21T20:51:20.256Z"
   },
   {
    "duration": 7,
    "start_time": "2024-12-21T20:51:24.969Z"
   },
   {
    "duration": 271,
    "start_time": "2024-12-21T20:51:25.328Z"
   },
   {
    "duration": 6,
    "start_time": "2024-12-21T20:51:27.688Z"
   },
   {
    "duration": 131,
    "start_time": "2024-12-21T20:51:28.304Z"
   },
   {
    "duration": 129,
    "start_time": "2024-12-21T20:51:29.402Z"
   },
   {
    "duration": 5,
    "start_time": "2024-12-21T20:51:33.620Z"
   },
   {
    "duration": 3,
    "start_time": "2024-12-21T20:51:35.714Z"
   },
   {
    "duration": 120,
    "start_time": "2024-12-21T20:51:36.192Z"
   },
   {
    "duration": 142,
    "start_time": "2024-12-21T20:51:37.929Z"
   },
   {
    "duration": 4,
    "start_time": "2024-12-21T20:51:39.303Z"
   },
   {
    "duration": 182,
    "start_time": "2024-12-21T20:51:39.832Z"
   },
   {
    "duration": 123,
    "start_time": "2024-12-21T20:51:40.849Z"
   },
   {
    "duration": 5,
    "start_time": "2024-12-21T20:51:45.541Z"
   },
   {
    "duration": 45,
    "start_time": "2024-12-21T20:51:51.241Z"
   },
   {
    "duration": 44,
    "start_time": "2024-12-21T20:51:51.706Z"
   },
   {
    "duration": 58,
    "start_time": "2024-12-21T20:51:52.066Z"
   },
   {
    "duration": 58,
    "start_time": "2024-12-21T20:51:56.416Z"
   },
   {
    "duration": 21,
    "start_time": "2024-12-21T20:51:56.875Z"
   },
   {
    "duration": 124,
    "start_time": "2024-12-21T20:51:57.361Z"
   },
   {
    "duration": 26,
    "start_time": "2024-12-21T20:51:57.812Z"
   },
   {
    "duration": 10,
    "start_time": "2024-12-21T20:52:08.383Z"
   },
   {
    "duration": 5,
    "start_time": "2024-12-21T20:52:15.942Z"
   },
   {
    "duration": 5,
    "start_time": "2024-12-21T20:52:16.526Z"
   },
   {
    "duration": 8,
    "start_time": "2024-12-21T20:52:17.145Z"
   },
   {
    "duration": 21,
    "start_time": "2024-12-21T20:52:19.165Z"
   },
   {
    "duration": 12,
    "start_time": "2024-12-21T20:52:28.558Z"
   },
   {
    "duration": 4,
    "start_time": "2024-12-21T20:59:20.909Z"
   },
   {
    "duration": 1056,
    "start_time": "2024-12-22T09:04:02.734Z"
   },
   {
    "duration": 89,
    "start_time": "2024-12-22T09:04:03.792Z"
   },
   {
    "duration": 9,
    "start_time": "2024-12-22T09:04:03.883Z"
   },
   {
    "duration": 63,
    "start_time": "2024-12-22T09:04:03.894Z"
   },
   {
    "duration": 31,
    "start_time": "2024-12-22T09:04:03.959Z"
   },
   {
    "duration": 87,
    "start_time": "2024-12-22T09:04:03.991Z"
   },
   {
    "duration": 49,
    "start_time": "2024-12-22T09:04:04.080Z"
   },
   {
    "duration": 103,
    "start_time": "2024-12-22T09:04:04.130Z"
   },
   {
    "duration": 24,
    "start_time": "2024-12-22T09:04:04.234Z"
   },
   {
    "duration": 69,
    "start_time": "2024-12-22T09:04:04.261Z"
   },
   {
    "duration": 60,
    "start_time": "2024-12-22T09:04:04.332Z"
   },
   {
    "duration": 68,
    "start_time": "2024-12-22T09:04:04.394Z"
   },
   {
    "duration": 72,
    "start_time": "2024-12-22T09:04:04.464Z"
   },
   {
    "duration": 40,
    "start_time": "2024-12-22T09:04:04.538Z"
   },
   {
    "duration": 23,
    "start_time": "2024-12-22T09:04:04.579Z"
   },
   {
    "duration": 28,
    "start_time": "2024-12-22T09:04:04.604Z"
   },
   {
    "duration": 36,
    "start_time": "2024-12-22T09:04:04.636Z"
   },
   {
    "duration": 70,
    "start_time": "2024-12-22T09:04:04.674Z"
   },
   {
    "duration": 34,
    "start_time": "2024-12-22T09:04:04.746Z"
   },
   {
    "duration": 57,
    "start_time": "2024-12-22T09:04:04.781Z"
   },
   {
    "duration": 38,
    "start_time": "2024-12-22T09:04:04.839Z"
   },
   {
    "duration": 58,
    "start_time": "2024-12-22T09:04:04.878Z"
   },
   {
    "duration": 189,
    "start_time": "2024-12-22T09:04:04.938Z"
   },
   {
    "duration": 22,
    "start_time": "2024-12-22T09:04:05.133Z"
   },
   {
    "duration": 36,
    "start_time": "2024-12-22T09:04:05.156Z"
   },
   {
    "duration": 60,
    "start_time": "2024-12-22T09:04:05.193Z"
   },
   {
    "duration": 223,
    "start_time": "2024-12-22T09:04:05.254Z"
   },
   {
    "duration": 125,
    "start_time": "2024-12-22T09:04:05.480Z"
   },
   {
    "duration": 22,
    "start_time": "2024-12-22T09:04:05.607Z"
   },
   {
    "duration": 59,
    "start_time": "2024-12-22T09:04:05.630Z"
   },
   {
    "duration": 363,
    "start_time": "2024-12-22T09:04:05.690Z"
   },
   {
    "duration": 215,
    "start_time": "2024-12-22T09:04:06.054Z"
   },
   {
    "duration": 275,
    "start_time": "2024-12-22T09:04:06.271Z"
   },
   {
    "duration": 6,
    "start_time": "2024-12-22T09:04:06.547Z"
   },
   {
    "duration": 233,
    "start_time": "2024-12-22T09:04:06.554Z"
   },
   {
    "duration": 7,
    "start_time": "2024-12-22T09:04:06.789Z"
   },
   {
    "duration": 315,
    "start_time": "2024-12-22T09:04:06.797Z"
   },
   {
    "duration": 16,
    "start_time": "2024-12-22T09:04:07.121Z"
   },
   {
    "duration": 161,
    "start_time": "2024-12-22T09:04:07.139Z"
   },
   {
    "duration": 135,
    "start_time": "2024-12-22T09:04:07.302Z"
   },
   {
    "duration": 4,
    "start_time": "2024-12-22T09:04:07.439Z"
   },
   {
    "duration": 31,
    "start_time": "2024-12-22T09:04:07.444Z"
   },
   {
    "duration": 165,
    "start_time": "2024-12-22T09:04:07.477Z"
   },
   {
    "duration": 134,
    "start_time": "2024-12-22T09:04:07.643Z"
   },
   {
    "duration": 4,
    "start_time": "2024-12-22T09:04:07.779Z"
   },
   {
    "duration": 240,
    "start_time": "2024-12-22T09:04:07.784Z"
   },
   {
    "duration": 134,
    "start_time": "2024-12-22T09:04:08.026Z"
   },
   {
    "duration": 4,
    "start_time": "2024-12-22T09:04:08.161Z"
   },
   {
    "duration": 62,
    "start_time": "2024-12-22T09:04:08.166Z"
   },
   {
    "duration": 63,
    "start_time": "2024-12-22T09:04:08.234Z"
   },
   {
    "duration": 91,
    "start_time": "2024-12-22T09:04:08.299Z"
   },
   {
    "duration": 56,
    "start_time": "2024-12-22T09:04:08.392Z"
   },
   {
    "duration": 18,
    "start_time": "2024-12-22T09:04:08.450Z"
   },
   {
    "duration": 139,
    "start_time": "2024-12-22T09:04:08.470Z"
   },
   {
    "duration": 33,
    "start_time": "2024-12-22T09:04:08.611Z"
   },
   {
    "duration": 40,
    "start_time": "2024-12-22T09:04:08.646Z"
   },
   {
    "duration": 19,
    "start_time": "2024-12-22T09:04:08.687Z"
   },
   {
    "duration": 27,
    "start_time": "2024-12-22T09:04:08.707Z"
   },
   {
    "duration": 29,
    "start_time": "2024-12-22T09:04:08.735Z"
   },
   {
    "duration": 38,
    "start_time": "2024-12-22T09:04:08.766Z"
   },
   {
    "duration": 13,
    "start_time": "2024-12-22T09:04:08.806Z"
   }
  ],
  "kernelspec": {
   "display_name": "Python 3 (ipykernel)",
   "language": "python",
   "name": "python3"
  },
  "language_info": {
   "codemirror_mode": {
    "name": "ipython",
    "version": 3
   },
   "file_extension": ".py",
   "mimetype": "text/x-python",
   "name": "python",
   "nbconvert_exporter": "python",
   "pygments_lexer": "ipython3",
   "version": "3.9.5"
  },
  "toc": {
   "base_numbering": 1,
   "nav_menu": {},
   "number_sections": true,
   "sideBar": true,
   "skip_h1_title": true,
   "title_cell": "Table of Contents",
   "title_sidebar": "Contents",
   "toc_cell": false,
   "toc_position": {},
   "toc_section_display": true,
   "toc_window_display": true
  }
 },
 "nbformat": 4,
 "nbformat_minor": 4
}
